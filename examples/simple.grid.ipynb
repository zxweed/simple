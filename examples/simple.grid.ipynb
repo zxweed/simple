{
 "cells": [
  {
   "cell_type": "markdown",
   "id": "97153b8e-bd4d-4d5b-aecb-f00350a8085c",
   "metadata": {},
   "source": [
    "## Grid backtest parameter search example"
   ]
  },
  {
   "cell_type": "code",
   "execution_count": 1,
   "id": "64c4a250",
   "metadata": {
    "ExecuteTime": {
     "end_time": "2022-09-13T12:59:11.478363Z",
     "start_time": "2022-09-13T12:59:10.223195Z"
    },
    "code_folding": [],
    "execution": {
     "iopub.execute_input": "2023-12-25T16:29:51.204787Z",
     "iopub.status.busy": "2023-12-25T16:29:51.204438Z",
     "iopub.status.idle": "2023-12-25T16:29:52.224267Z",
     "shell.execute_reply": "2023-12-25T16:29:52.223659Z",
     "shell.execute_reply.started": "2023-12-25T16:29:51.204770Z"
    },
    "tags": []
   },
   "outputs": [],
   "source": [
    "import pandas as pd\n",
    "import numpy as np\n",
    "from simple.chart import interactTable, chartProfit\n",
    "from simple.funcs import vwap\n",
    "from simple.geneopt import GridOpt\n",
    "from simple.pretty import pp\n",
    "from multiprocessing import current_process\n",
    "from simple.backtest import getProfitDict, npBacktestLimit\n",
    "import matplotlib.pyplot as plt\n",
    "\n",
    "pd.options.display.float_format = '{:,.2f}'.format"
   ]
  },
  {
   "cell_type": "code",
   "execution_count": 2,
   "id": "725efe1b",
   "metadata": {
    "ExecuteTime": {
     "end_time": "2022-09-13T12:59:11.597697Z",
     "start_time": "2022-09-13T12:59:11.480975Z"
    },
    "execution": {
     "iopub.execute_input": "2023-12-25T16:29:52.225581Z",
     "iopub.status.busy": "2023-12-25T16:29:52.225212Z",
     "iopub.status.idle": "2023-12-25T16:29:52.285202Z",
     "shell.execute_reply": "2023-12-25T16:29:52.284670Z",
     "shell.execute_reply.started": "2023-12-25T16:29:52.225569Z"
    },
    "tags": []
   },
   "outputs": [
    {
     "data": {
      "text/plain": [
       "889360"
      ]
     },
     "execution_count": 2,
     "metadata": {},
     "output_type": "execute_result"
    }
   ],
   "source": [
    "T = np.load('data/tick.npz')['BTCUSDT'].view(np.recarray)\n",
    "len(T)"
   ]
  },
  {
   "cell_type": "code",
   "execution_count": 3,
   "id": "cf628ec4-787a-47f6-8215-f27d361fcb43",
   "metadata": {
    "execution": {
     "iopub.execute_input": "2023-12-25T16:29:52.286188Z",
     "iopub.status.busy": "2023-12-25T16:29:52.285828Z",
     "iopub.status.idle": "2023-12-25T16:29:52.291026Z",
     "shell.execute_reply": "2023-12-25T16:29:52.290467Z",
     "shell.execute_reply.started": "2023-12-25T16:29:52.286176Z"
    },
    "tags": []
   },
   "outputs": [
    {
     "data": {
      "text/plain": [
       "rec.array([('2021-06-01T00:00:00.799000', 37265. ,  1.000e+00),\n",
       "           ('2021-06-01T00:00:00.832000', 37264.5, -1.000e+00),\n",
       "           ('2021-06-01T00:00:01.098000', 37264.5, -3.700e+02), ...,\n",
       "           ('2021-06-04T23:59:52.505000', 36849.5, -1.000e+02),\n",
       "           ('2021-06-04T23:59:52.505000', 36849.5, -2.824e+03),\n",
       "           ('2021-06-04T23:59:56.400000', 36840.5,  1.200e+02)],\n",
       "          dtype=[('DateTime', '<M8[us]'), ('Price', '<f8'), ('Size', '<f8')])"
      ]
     },
     "execution_count": 3,
     "metadata": {},
     "output_type": "execute_result"
    }
   ],
   "source": [
    "T"
   ]
  },
  {
   "cell_type": "code",
   "execution_count": 4,
   "id": "237bbc5b",
   "metadata": {
    "ExecuteTime": {
     "end_time": "2022-09-13T12:59:11.619612Z",
     "start_time": "2022-09-13T12:59:11.612246Z"
    },
    "code_folding": [],
    "execution": {
     "iopub.execute_input": "2023-12-25T16:29:52.292045Z",
     "iopub.status.busy": "2023-12-25T16:29:52.291772Z",
     "iopub.status.idle": "2023-12-25T16:29:52.296239Z",
     "shell.execute_reply": "2023-12-25T16:29:52.295689Z",
     "shell.execute_reply.started": "2023-12-25T16:29:52.292034Z"
    },
    "tags": []
   },
   "outputs": [],
   "source": [
    "def model(Period: int = (1000, 6000, 500), StdDev: float = (2, 3, 0.1)):\n",
    "    if Period == 0 or StdDev == 0: return {}\n",
    "    Tick = T.Price\n",
    "    Center = vwap(T, Period)\n",
    "    _std = pd.Series(Tick).rolling(Period).std().bfill().values\n",
    "    qA = Center + _std * StdDev\n",
    "    qB = Center - _std * StdDev\n",
    "\n",
    "    # returns profit metrics during grid search or timeseries data during plot\n",
    "    _trades = npBacktestLimit(T, qA, qB)\n",
    "    return getProfitDict(_trades) if current_process().daemon else {**locals(), **chartProfit(_trades)}"
   ]
  },
  {
   "cell_type": "code",
   "execution_count": 5,
   "id": "14af796c",
   "metadata": {
    "ExecuteTime": {
     "end_time": "2022-09-13T12:59:21.621743Z",
     "start_time": "2022-09-13T12:59:11.621656Z"
    },
    "execution": {
     "iopub.execute_input": "2023-12-25T16:29:52.297897Z",
     "iopub.status.busy": "2023-12-25T16:29:52.297561Z",
     "iopub.status.idle": "2023-12-25T16:29:55.538092Z",
     "shell.execute_reply": "2023-12-25T16:29:55.537464Z",
     "shell.execute_reply.started": "2023-12-25T16:29:52.297886Z"
    },
    "tags": []
   },
   "outputs": [
    {
     "data": {
      "application/vnd.jupyter.widget-view+json": {
       "model_id": "342fcba99d2c42d38590d04d0ae17267",
       "version_major": 2,
       "version_minor": 0
      },
      "text/plain": [
       "  0%|          | 0/110 [00:00<?, ?it/s]"
      ]
     },
     "metadata": {},
     "output_type": "display_data"
    },
    {
     "data": {
      "text/plain": [
       "6000"
      ]
     },
     "execution_count": 5,
     "metadata": {},
     "output_type": "execute_result"
    }
   ],
   "source": [
    "# Genetic optimizer\n",
    "G = GridOpt(model)\n",
    "G.fullSearch()"
   ]
  },
  {
   "cell_type": "code",
   "execution_count": 9,
   "id": "4b38a504-5a31-437f-aa38-3a67f16687c3",
   "metadata": {
    "ExecuteTime": {
     "end_time": "2022-09-13T12:59:21.648472Z",
     "start_time": "2022-09-13T12:59:21.624654Z"
    },
    "execution": {
     "iopub.execute_input": "2023-12-25T16:30:33.823732Z",
     "iopub.status.busy": "2023-12-25T16:30:33.823505Z",
     "iopub.status.idle": "2023-12-25T16:30:33.834122Z",
     "shell.execute_reply": "2023-12-25T16:30:33.833546Z",
     "shell.execute_reply.started": "2023-12-25T16:30:33.823719Z"
    },
    "tags": []
   },
   "outputs": [
    {
     "data": {
      "text/html": [
       "<div>\n",
       "<style scoped>\n",
       "    .dataframe tbody tr th:only-of-type {\n",
       "        vertical-align: middle;\n",
       "    }\n",
       "\n",
       "    .dataframe tbody tr th {\n",
       "        vertical-align: top;\n",
       "    }\n",
       "\n",
       "    .dataframe thead th {\n",
       "        text-align: right;\n",
       "    }\n",
       "</style>\n",
       "<table border=\"1\" class=\"dataframe\">\n",
       "  <thead>\n",
       "    <tr style=\"text-align: right;\">\n",
       "      <th></th>\n",
       "      <th>Period</th>\n",
       "      <th>StdDev</th>\n",
       "      <th>Profit</th>\n",
       "      <th>Count</th>\n",
       "      <th>PRatio</th>\n",
       "      <th>AvgMid</th>\n",
       "      <th>RawPnL</th>\n",
       "      <th>Fee</th>\n",
       "      <th>MidPnL</th>\n",
       "      <th>Sharpe</th>\n",
       "    </tr>\n",
       "  </thead>\n",
       "  <tbody>\n",
       "    <tr>\n",
       "      <th>89</th>\n",
       "      <td>5000</td>\n",
       "      <td>2.90</td>\n",
       "      <td>1,463.45</td>\n",
       "      <td>33</td>\n",
       "      <td>0.58</td>\n",
       "      <td>55.52</td>\n",
       "      <td>1,832.13</td>\n",
       "      <td>368.68</td>\n",
       "      <td>1,832.13</td>\n",
       "      <td>2.56</td>\n",
       "    </tr>\n",
       "    <tr>\n",
       "      <th>79</th>\n",
       "      <td>4500</td>\n",
       "      <td>2.90</td>\n",
       "      <td>779.54</td>\n",
       "      <td>35</td>\n",
       "      <td>0.57</td>\n",
       "      <td>33.53</td>\n",
       "      <td>1,173.43</td>\n",
       "      <td>393.89</td>\n",
       "      <td>1,173.43</td>\n",
       "      <td>1.26</td>\n",
       "    </tr>\n",
       "    <tr>\n",
       "      <th>97</th>\n",
       "      <td>5500</td>\n",
       "      <td>2.70</td>\n",
       "      <td>-403.35</td>\n",
       "      <td>43</td>\n",
       "      <td>0.51</td>\n",
       "      <td>1.79</td>\n",
       "      <td>77.04</td>\n",
       "      <td>480.39</td>\n",
       "      <td>77.04</td>\n",
       "      <td>-0.84</td>\n",
       "    </tr>\n",
       "    <tr>\n",
       "      <th>49</th>\n",
       "      <td>3000</td>\n",
       "      <td>2.90</td>\n",
       "      <td>-403.55</td>\n",
       "      <td>44</td>\n",
       "      <td>0.45</td>\n",
       "      <td>2.05</td>\n",
       "      <td>90.08</td>\n",
       "      <td>493.63</td>\n",
       "      <td>90.08</td>\n",
       "      <td>-0.75</td>\n",
       "    </tr>\n",
       "    <tr>\n",
       "      <th>88</th>\n",
       "      <td>5000</td>\n",
       "      <td>2.80</td>\n",
       "      <td>-659.96</td>\n",
       "      <td>37</td>\n",
       "      <td>0.51</td>\n",
       "      <td>-6.65</td>\n",
       "      <td>-245.92</td>\n",
       "      <td>414.03</td>\n",
       "      <td>-245.92</td>\n",
       "      <td>-1.29</td>\n",
       "    </tr>\n",
       "    <tr>\n",
       "      <th>...</th>\n",
       "      <td>...</td>\n",
       "      <td>...</td>\n",
       "      <td>...</td>\n",
       "      <td>...</td>\n",
       "      <td>...</td>\n",
       "      <td>...</td>\n",
       "      <td>...</td>\n",
       "      <td>...</td>\n",
       "      <td>...</td>\n",
       "      <td>...</td>\n",
       "    </tr>\n",
       "    <tr>\n",
       "      <th>30</th>\n",
       "      <td>2500</td>\n",
       "      <td>2.00</td>\n",
       "      <td>-11,374.76</td>\n",
       "      <td>188</td>\n",
       "      <td>0.50</td>\n",
       "      <td>-49.35</td>\n",
       "      <td>-9,277.87</td>\n",
       "      <td>2,096.89</td>\n",
       "      <td>-9,277.87</td>\n",
       "      <td>-48.09</td>\n",
       "    </tr>\n",
       "    <tr>\n",
       "      <th>3</th>\n",
       "      <td>1000</td>\n",
       "      <td>2.30</td>\n",
       "      <td>-11,563.57</td>\n",
       "      <td>336</td>\n",
       "      <td>0.51</td>\n",
       "      <td>-23.23</td>\n",
       "      <td>-7,805.64</td>\n",
       "      <td>3,757.93</td>\n",
       "      <td>-7,805.64</td>\n",
       "      <td>-72.18</td>\n",
       "    </tr>\n",
       "    <tr>\n",
       "      <th>2</th>\n",
       "      <td>1000</td>\n",
       "      <td>2.20</td>\n",
       "      <td>-12,075.71</td>\n",
       "      <td>390</td>\n",
       "      <td>0.51</td>\n",
       "      <td>-19.78</td>\n",
       "      <td>-7,715.43</td>\n",
       "      <td>4,360.27</td>\n",
       "      <td>-7,715.43</td>\n",
       "      <td>-80.44</td>\n",
       "    </tr>\n",
       "    <tr>\n",
       "      <th>1</th>\n",
       "      <td>1000</td>\n",
       "      <td>2.10</td>\n",
       "      <td>-13,249.97</td>\n",
       "      <td>435</td>\n",
       "      <td>0.51</td>\n",
       "      <td>-19.28</td>\n",
       "      <td>-8,388.62</td>\n",
       "      <td>4,861.35</td>\n",
       "      <td>-8,388.62</td>\n",
       "      <td>-93.18</td>\n",
       "    </tr>\n",
       "    <tr>\n",
       "      <th>0</th>\n",
       "      <td>1000</td>\n",
       "      <td>2.00</td>\n",
       "      <td>-16,035.24</td>\n",
       "      <td>469</td>\n",
       "      <td>0.51</td>\n",
       "      <td>-23.02</td>\n",
       "      <td>-10,796.45</td>\n",
       "      <td>5,238.79</td>\n",
       "      <td>-10,796.45</td>\n",
       "      <td>-117.23</td>\n",
       "    </tr>\n",
       "  </tbody>\n",
       "</table>\n",
       "<p>110 rows × 10 columns</p>\n",
       "</div>"
      ],
      "text/plain": [
       "    Period  StdDev     Profit  Count  PRatio  AvgMid     RawPnL      Fee  \\\n",
       "89    5000    2.90   1,463.45     33    0.58   55.52   1,832.13   368.68   \n",
       "79    4500    2.90     779.54     35    0.57   33.53   1,173.43   393.89   \n",
       "97    5500    2.70    -403.35     43    0.51    1.79      77.04   480.39   \n",
       "49    3000    2.90    -403.55     44    0.45    2.05      90.08   493.63   \n",
       "88    5000    2.80    -659.96     37    0.51   -6.65    -245.92   414.03   \n",
       "..     ...     ...        ...    ...     ...     ...        ...      ...   \n",
       "30    2500    2.00 -11,374.76    188    0.50  -49.35  -9,277.87 2,096.89   \n",
       "3     1000    2.30 -11,563.57    336    0.51  -23.23  -7,805.64 3,757.93   \n",
       "2     1000    2.20 -12,075.71    390    0.51  -19.78  -7,715.43 4,360.27   \n",
       "1     1000    2.10 -13,249.97    435    0.51  -19.28  -8,388.62 4,861.35   \n",
       "0     1000    2.00 -16,035.24    469    0.51  -23.02 -10,796.45 5,238.79   \n",
       "\n",
       "       MidPnL  Sharpe  \n",
       "89   1,832.13    2.56  \n",
       "79   1,173.43    1.26  \n",
       "97      77.04   -0.84  \n",
       "49      90.08   -0.75  \n",
       "88    -245.92   -1.29  \n",
       "..        ...     ...  \n",
       "30  -9,277.87  -48.09  \n",
       "3   -7,805.64  -72.18  \n",
       "2   -7,715.43  -80.44  \n",
       "1   -8,388.62  -93.18  \n",
       "0  -10,796.45 -117.23  \n",
       "\n",
       "[110 rows x 10 columns]"
      ]
     },
     "execution_count": 9,
     "metadata": {},
     "output_type": "execute_result"
    }
   ],
   "source": [
    "# Grid results\n",
    "P = pd.DataFrame(G.log, columns=G.log_columns).sort_values('Profit', ascending=False)\n",
    "P"
   ]
  },
  {
   "cell_type": "code",
   "execution_count": 11,
   "id": "d752fc35-6902-46c4-aa55-e83e5d38379e",
   "metadata": {
    "execution": {
     "iopub.execute_input": "2023-12-25T16:30:44.554190Z",
     "iopub.status.busy": "2023-12-25T16:30:44.553657Z",
     "iopub.status.idle": "2023-12-25T16:30:44.588750Z",
     "shell.execute_reply": "2023-12-25T16:30:44.588168Z",
     "shell.execute_reply.started": "2023-12-25T16:30:44.554176Z"
    },
    "tags": []
   },
   "outputs": [
    {
     "data": {
      "text/html": [
       "<style type=\"text/css\">\n",
       "#T_0dba1_row0_col0, #T_0dba1_row0_col1, #T_0dba1_row0_col2, #T_0dba1_row0_col3, #T_0dba1_row0_col4, #T_0dba1_row0_col5, #T_0dba1_row0_col6, #T_0dba1_row0_col7, #T_0dba1_row0_col8, #T_0dba1_row0_col9, #T_0dba1_row0_col10, #T_0dba1_row1_col0, #T_0dba1_row1_col1, #T_0dba1_row1_col2, #T_0dba1_row1_col3, #T_0dba1_row1_col4, #T_0dba1_row1_col5, #T_0dba1_row1_col6, #T_0dba1_row1_col7, #T_0dba1_row1_col8, #T_0dba1_row1_col9, #T_0dba1_row1_col10, #T_0dba1_row2_col0, #T_0dba1_row2_col1, #T_0dba1_row2_col2, #T_0dba1_row2_col3, #T_0dba1_row2_col4, #T_0dba1_row2_col5, #T_0dba1_row2_col6, #T_0dba1_row2_col7, #T_0dba1_row2_col8, #T_0dba1_row2_col9, #T_0dba1_row2_col10, #T_0dba1_row3_col0, #T_0dba1_row3_col1, #T_0dba1_row3_col2, #T_0dba1_row3_col3, #T_0dba1_row3_col4, #T_0dba1_row3_col5, #T_0dba1_row3_col6, #T_0dba1_row3_col7, #T_0dba1_row3_col8, #T_0dba1_row3_col9, #T_0dba1_row3_col10, #T_0dba1_row4_col0, #T_0dba1_row4_col1, #T_0dba1_row4_col2, #T_0dba1_row4_col3, #T_0dba1_row4_col4, #T_0dba1_row4_col5, #T_0dba1_row4_col6, #T_0dba1_row4_col7, #T_0dba1_row4_col8, #T_0dba1_row4_col9, #T_0dba1_row4_col10, #T_0dba1_row5_col0, #T_0dba1_row5_col1, #T_0dba1_row5_col2, #T_0dba1_row5_col3, #T_0dba1_row5_col4, #T_0dba1_row5_col5, #T_0dba1_row5_col6, #T_0dba1_row5_col7, #T_0dba1_row5_col8, #T_0dba1_row5_col9, #T_0dba1_row5_col10, #T_0dba1_row6_col0, #T_0dba1_row6_col1, #T_0dba1_row6_col2, #T_0dba1_row6_col3, #T_0dba1_row6_col4, #T_0dba1_row6_col5, #T_0dba1_row6_col6, #T_0dba1_row6_col8, #T_0dba1_row6_col10, #T_0dba1_row7_col0, #T_0dba1_row7_col1, #T_0dba1_row7_col2, #T_0dba1_row7_col3, #T_0dba1_row7_col5, #T_0dba1_row7_col6, #T_0dba1_row7_col7, #T_0dba1_row7_col8, #T_0dba1_row7_col10, #T_0dba1_row8_col0, #T_0dba1_row8_col1, #T_0dba1_row8_col2, #T_0dba1_row8_col3, #T_0dba1_row8_col4, #T_0dba1_row8_col5, #T_0dba1_row8_col6, #T_0dba1_row8_col9, #T_0dba1_row9_col0, #T_0dba1_row9_col1, #T_0dba1_row9_col2, #T_0dba1_row9_col3, #T_0dba1_row9_col5, #T_0dba1_row9_col6, #T_0dba1_row9_col10 {\n",
       "  background-color: #a50026;\n",
       "}\n",
       "#T_0dba1_row6_col7 {\n",
       "  background-color: #b50f26;\n",
       "}\n",
       "#T_0dba1_row6_col9 {\n",
       "  background-color: #c41e27;\n",
       "}\n",
       "#T_0dba1_row7_col4 {\n",
       "  background-color: #b91326;\n",
       "}\n",
       "#T_0dba1_row7_col9, #T_0dba1_row9_col4 {\n",
       "  background-color: #fecc7b;\n",
       "}\n",
       "#T_0dba1_row8_col7 {\n",
       "  background-color: #f88950;\n",
       "}\n",
       "#T_0dba1_row8_col8 {\n",
       "  background-color: #fb9d59;\n",
       "}\n",
       "#T_0dba1_row8_col10 {\n",
       "  background-color: #c62027;\n",
       "}\n",
       "#T_0dba1_row9_col7 {\n",
       "  background-color: #7ac665;\n",
       "}\n",
       "#T_0dba1_row9_col8 {\n",
       "  background-color: #006837;\n",
       "}\n",
       "#T_0dba1_row9_col9 {\n",
       "  background-color: #ca2427;\n",
       "}\n",
       "</style>\n",
       "<table id=\"T_0dba1\">\n",
       "  <thead>\n",
       "    <tr>\n",
       "      <th class=\"index_name level0\" >Period</th>\n",
       "      <th id=\"T_0dba1_level0_col0\" class=\"col_heading level0 col0\" >1000</th>\n",
       "      <th id=\"T_0dba1_level0_col1\" class=\"col_heading level0 col1\" >1500</th>\n",
       "      <th id=\"T_0dba1_level0_col2\" class=\"col_heading level0 col2\" >2000</th>\n",
       "      <th id=\"T_0dba1_level0_col3\" class=\"col_heading level0 col3\" >2500</th>\n",
       "      <th id=\"T_0dba1_level0_col4\" class=\"col_heading level0 col4\" >3000</th>\n",
       "      <th id=\"T_0dba1_level0_col5\" class=\"col_heading level0 col5\" >3500</th>\n",
       "      <th id=\"T_0dba1_level0_col6\" class=\"col_heading level0 col6\" >4000</th>\n",
       "      <th id=\"T_0dba1_level0_col7\" class=\"col_heading level0 col7\" >4500</th>\n",
       "      <th id=\"T_0dba1_level0_col8\" class=\"col_heading level0 col8\" >5000</th>\n",
       "      <th id=\"T_0dba1_level0_col9\" class=\"col_heading level0 col9\" >5500</th>\n",
       "      <th id=\"T_0dba1_level0_col10\" class=\"col_heading level0 col10\" >6000</th>\n",
       "    </tr>\n",
       "    <tr>\n",
       "      <th class=\"index_name level0\" >StdDev</th>\n",
       "      <th class=\"blank col0\" >&nbsp;</th>\n",
       "      <th class=\"blank col1\" >&nbsp;</th>\n",
       "      <th class=\"blank col2\" >&nbsp;</th>\n",
       "      <th class=\"blank col3\" >&nbsp;</th>\n",
       "      <th class=\"blank col4\" >&nbsp;</th>\n",
       "      <th class=\"blank col5\" >&nbsp;</th>\n",
       "      <th class=\"blank col6\" >&nbsp;</th>\n",
       "      <th class=\"blank col7\" >&nbsp;</th>\n",
       "      <th class=\"blank col8\" >&nbsp;</th>\n",
       "      <th class=\"blank col9\" >&nbsp;</th>\n",
       "      <th class=\"blank col10\" >&nbsp;</th>\n",
       "    </tr>\n",
       "  </thead>\n",
       "  <tbody>\n",
       "    <tr>\n",
       "      <th id=\"T_0dba1_level0_row0\" class=\"row_heading level0 row0\" >2.000000</th>\n",
       "      <td id=\"T_0dba1_row0_col0\" class=\"data row0 col0\" >-16,035.24</td>\n",
       "      <td id=\"T_0dba1_row0_col1\" class=\"data row0 col1\" >-10,026.08</td>\n",
       "      <td id=\"T_0dba1_row0_col2\" class=\"data row0 col2\" >-9,964.99</td>\n",
       "      <td id=\"T_0dba1_row0_col3\" class=\"data row0 col3\" >-11,374.76</td>\n",
       "      <td id=\"T_0dba1_row0_col4\" class=\"data row0 col4\" >-8,169.32</td>\n",
       "      <td id=\"T_0dba1_row0_col5\" class=\"data row0 col5\" >-9,119.81</td>\n",
       "      <td id=\"T_0dba1_row0_col6\" class=\"data row0 col6\" >-5,968.38</td>\n",
       "      <td id=\"T_0dba1_row0_col7\" class=\"data row0 col7\" >-4,970.58</td>\n",
       "      <td id=\"T_0dba1_row0_col8\" class=\"data row0 col8\" >-6,474.00</td>\n",
       "      <td id=\"T_0dba1_row0_col9\" class=\"data row0 col9\" >-5,949.31</td>\n",
       "      <td id=\"T_0dba1_row0_col10\" class=\"data row0 col10\" >-4,858.36</td>\n",
       "    </tr>\n",
       "    <tr>\n",
       "      <th id=\"T_0dba1_level0_row1\" class=\"row_heading level0 row1\" >2.100000</th>\n",
       "      <td id=\"T_0dba1_row1_col0\" class=\"data row1 col0\" >-13,249.97</td>\n",
       "      <td id=\"T_0dba1_row1_col1\" class=\"data row1 col1\" >-9,043.56</td>\n",
       "      <td id=\"T_0dba1_row1_col2\" class=\"data row1 col2\" >-9,247.49</td>\n",
       "      <td id=\"T_0dba1_row1_col3\" class=\"data row1 col3\" >-10,999.24</td>\n",
       "      <td id=\"T_0dba1_row1_col4\" class=\"data row1 col4\" >-8,835.66</td>\n",
       "      <td id=\"T_0dba1_row1_col5\" class=\"data row1 col5\" >-8,497.47</td>\n",
       "      <td id=\"T_0dba1_row1_col6\" class=\"data row1 col6\" >-6,904.29</td>\n",
       "      <td id=\"T_0dba1_row1_col7\" class=\"data row1 col7\" >-5,531.23</td>\n",
       "      <td id=\"T_0dba1_row1_col8\" class=\"data row1 col8\" >-5,602.73</td>\n",
       "      <td id=\"T_0dba1_row1_col9\" class=\"data row1 col9\" >-4,381.77</td>\n",
       "      <td id=\"T_0dba1_row1_col10\" class=\"data row1 col10\" >-3,569.13</td>\n",
       "    </tr>\n",
       "    <tr>\n",
       "      <th id=\"T_0dba1_level0_row2\" class=\"row_heading level0 row2\" >2.200000</th>\n",
       "      <td id=\"T_0dba1_row2_col0\" class=\"data row2 col0\" >-12,075.71</td>\n",
       "      <td id=\"T_0dba1_row2_col1\" class=\"data row2 col1\" >-8,902.31</td>\n",
       "      <td id=\"T_0dba1_row2_col2\" class=\"data row2 col2\" >-8,302.89</td>\n",
       "      <td id=\"T_0dba1_row2_col3\" class=\"data row2 col3\" >-9,172.52</td>\n",
       "      <td id=\"T_0dba1_row2_col4\" class=\"data row2 col4\" >-8,284.21</td>\n",
       "      <td id=\"T_0dba1_row2_col5\" class=\"data row2 col5\" >-7,484.04</td>\n",
       "      <td id=\"T_0dba1_row2_col6\" class=\"data row2 col6\" >-7,251.14</td>\n",
       "      <td id=\"T_0dba1_row2_col7\" class=\"data row2 col7\" >-6,422.10</td>\n",
       "      <td id=\"T_0dba1_row2_col8\" class=\"data row2 col8\" >-4,961.74</td>\n",
       "      <td id=\"T_0dba1_row2_col9\" class=\"data row2 col9\" >-3,389.61</td>\n",
       "      <td id=\"T_0dba1_row2_col10\" class=\"data row2 col10\" >-1,632.62</td>\n",
       "    </tr>\n",
       "    <tr>\n",
       "      <th id=\"T_0dba1_level0_row3\" class=\"row_heading level0 row3\" >2.300000</th>\n",
       "      <td id=\"T_0dba1_row3_col0\" class=\"data row3 col0\" >-11,563.57</td>\n",
       "      <td id=\"T_0dba1_row3_col1\" class=\"data row3 col1\" >-7,563.39</td>\n",
       "      <td id=\"T_0dba1_row3_col2\" class=\"data row3 col2\" >-6,370.13</td>\n",
       "      <td id=\"T_0dba1_row3_col3\" class=\"data row3 col3\" >-7,959.19</td>\n",
       "      <td id=\"T_0dba1_row3_col4\" class=\"data row3 col4\" >-7,166.81</td>\n",
       "      <td id=\"T_0dba1_row3_col5\" class=\"data row3 col5\" >-6,055.69</td>\n",
       "      <td id=\"T_0dba1_row3_col6\" class=\"data row3 col6\" >-5,864.59</td>\n",
       "      <td id=\"T_0dba1_row3_col7\" class=\"data row3 col7\" >-5,477.80</td>\n",
       "      <td id=\"T_0dba1_row3_col8\" class=\"data row3 col8\" >-5,021.52</td>\n",
       "      <td id=\"T_0dba1_row3_col9\" class=\"data row3 col9\" >-2,685.20</td>\n",
       "      <td id=\"T_0dba1_row3_col10\" class=\"data row3 col10\" >-1,813.59</td>\n",
       "    </tr>\n",
       "    <tr>\n",
       "      <th id=\"T_0dba1_level0_row4\" class=\"row_heading level0 row4\" >2.400000</th>\n",
       "      <td id=\"T_0dba1_row4_col0\" class=\"data row4 col0\" >-8,444.10</td>\n",
       "      <td id=\"T_0dba1_row4_col1\" class=\"data row4 col1\" >-8,737.95</td>\n",
       "      <td id=\"T_0dba1_row4_col2\" class=\"data row4 col2\" >-6,254.03</td>\n",
       "      <td id=\"T_0dba1_row4_col3\" class=\"data row4 col3\" >-6,702.36</td>\n",
       "      <td id=\"T_0dba1_row4_col4\" class=\"data row4 col4\" >-5,646.00</td>\n",
       "      <td id=\"T_0dba1_row4_col5\" class=\"data row4 col5\" >-3,850.01</td>\n",
       "      <td id=\"T_0dba1_row4_col6\" class=\"data row4 col6\" >-5,928.68</td>\n",
       "      <td id=\"T_0dba1_row4_col7\" class=\"data row4 col7\" >-6,496.76</td>\n",
       "      <td id=\"T_0dba1_row4_col8\" class=\"data row4 col8\" >-4,670.41</td>\n",
       "      <td id=\"T_0dba1_row4_col9\" class=\"data row4 col9\" >-2,909.78</td>\n",
       "      <td id=\"T_0dba1_row4_col10\" class=\"data row4 col10\" >-2,539.41</td>\n",
       "    </tr>\n",
       "    <tr>\n",
       "      <th id=\"T_0dba1_level0_row5\" class=\"row_heading level0 row5\" >2.500000</th>\n",
       "      <td id=\"T_0dba1_row5_col0\" class=\"data row5 col0\" >-10,067.41</td>\n",
       "      <td id=\"T_0dba1_row5_col1\" class=\"data row5 col1\" >-7,114.96</td>\n",
       "      <td id=\"T_0dba1_row5_col2\" class=\"data row5 col2\" >-2,198.63</td>\n",
       "      <td id=\"T_0dba1_row5_col3\" class=\"data row5 col3\" >-4,242.16</td>\n",
       "      <td id=\"T_0dba1_row5_col4\" class=\"data row5 col4\" >-4,644.06</td>\n",
       "      <td id=\"T_0dba1_row5_col5\" class=\"data row5 col5\" >-3,699.34</td>\n",
       "      <td id=\"T_0dba1_row5_col6\" class=\"data row5 col6\" >-5,944.88</td>\n",
       "      <td id=\"T_0dba1_row5_col7\" class=\"data row5 col7\" >-4,276.24</td>\n",
       "      <td id=\"T_0dba1_row5_col8\" class=\"data row5 col8\" >-3,559.51</td>\n",
       "      <td id=\"T_0dba1_row5_col9\" class=\"data row5 col9\" >-2,546.83</td>\n",
       "      <td id=\"T_0dba1_row5_col10\" class=\"data row5 col10\" >-2,787.87</td>\n",
       "    </tr>\n",
       "    <tr>\n",
       "      <th id=\"T_0dba1_level0_row6\" class=\"row_heading level0 row6\" >2.600000</th>\n",
       "      <td id=\"T_0dba1_row6_col0\" class=\"data row6 col0\" >-5,485.01</td>\n",
       "      <td id=\"T_0dba1_row6_col1\" class=\"data row6 col1\" >-6,234.69</td>\n",
       "      <td id=\"T_0dba1_row6_col2\" class=\"data row6 col2\" >-3,318.32</td>\n",
       "      <td id=\"T_0dba1_row6_col3\" class=\"data row6 col3\" >-4,467.47</td>\n",
       "      <td id=\"T_0dba1_row6_col4\" class=\"data row6 col4\" >-2,582.40</td>\n",
       "      <td id=\"T_0dba1_row6_col5\" class=\"data row6 col5\" >-2,110.17</td>\n",
       "      <td id=\"T_0dba1_row6_col6\" class=\"data row6 col6\" >-4,796.43</td>\n",
       "      <td id=\"T_0dba1_row6_col7\" class=\"data row6 col7\" >-1,368.91</td>\n",
       "      <td id=\"T_0dba1_row6_col8\" class=\"data row6 col8\" >-2,316.00</td>\n",
       "      <td id=\"T_0dba1_row6_col9\" class=\"data row6 col9\" >-1,269.69</td>\n",
       "      <td id=\"T_0dba1_row6_col10\" class=\"data row6 col10\" >-2,851.55</td>\n",
       "    </tr>\n",
       "    <tr>\n",
       "      <th id=\"T_0dba1_level0_row7\" class=\"row_heading level0 row7\" >2.700000</th>\n",
       "      <td id=\"T_0dba1_row7_col0\" class=\"data row7 col0\" >-6,229.40</td>\n",
       "      <td id=\"T_0dba1_row7_col1\" class=\"data row7 col1\" >-5,814.54</td>\n",
       "      <td id=\"T_0dba1_row7_col2\" class=\"data row7 col2\" >-3,426.63</td>\n",
       "      <td id=\"T_0dba1_row7_col3\" class=\"data row7 col3\" >-3,275.59</td>\n",
       "      <td id=\"T_0dba1_row7_col4\" class=\"data row7 col4\" >-1,341.67</td>\n",
       "      <td id=\"T_0dba1_row7_col5\" class=\"data row7 col5\" >-2,185.99</td>\n",
       "      <td id=\"T_0dba1_row7_col6\" class=\"data row7 col6\" >-4,923.45</td>\n",
       "      <td id=\"T_0dba1_row7_col7\" class=\"data row7 col7\" >-2,320.30</td>\n",
       "      <td id=\"T_0dba1_row7_col8\" class=\"data row7 col8\" >-1,889.89</td>\n",
       "      <td id=\"T_0dba1_row7_col9\" class=\"data row7 col9\" >-403.35</td>\n",
       "      <td id=\"T_0dba1_row7_col10\" class=\"data row7 col10\" >-3,860.50</td>\n",
       "    </tr>\n",
       "    <tr>\n",
       "      <th id=\"T_0dba1_level0_row8\" class=\"row_heading level0 row8\" >2.800000</th>\n",
       "      <td id=\"T_0dba1_row8_col0\" class=\"data row8 col0\" >-3,302.91</td>\n",
       "      <td id=\"T_0dba1_row8_col1\" class=\"data row8 col1\" >-7,038.47</td>\n",
       "      <td id=\"T_0dba1_row8_col2\" class=\"data row8 col2\" >-4,789.52</td>\n",
       "      <td id=\"T_0dba1_row8_col3\" class=\"data row8 col3\" >-4,280.60</td>\n",
       "      <td id=\"T_0dba1_row8_col4\" class=\"data row8 col4\" >-4,150.69</td>\n",
       "      <td id=\"T_0dba1_row8_col5\" class=\"data row8 col5\" >-1,858.98</td>\n",
       "      <td id=\"T_0dba1_row8_col6\" class=\"data row8 col6\" >-3,389.52</td>\n",
       "      <td id=\"T_0dba1_row8_col7\" class=\"data row8 col7\" >-748.08</td>\n",
       "      <td id=\"T_0dba1_row8_col8\" class=\"data row8 col8\" >-659.96</td>\n",
       "      <td id=\"T_0dba1_row8_col9\" class=\"data row8 col9\" >-2,046.26</td>\n",
       "      <td id=\"T_0dba1_row8_col10\" class=\"data row8 col10\" >-1,258.04</td>\n",
       "    </tr>\n",
       "    <tr>\n",
       "      <th id=\"T_0dba1_level0_row9\" class=\"row_heading level0 row9\" >2.900000</th>\n",
       "      <td id=\"T_0dba1_row9_col0\" class=\"data row9 col0\" >-3,246.47</td>\n",
       "      <td id=\"T_0dba1_row9_col1\" class=\"data row9 col1\" >-6,221.82</td>\n",
       "      <td id=\"T_0dba1_row9_col2\" class=\"data row9 col2\" >-4,498.77</td>\n",
       "      <td id=\"T_0dba1_row9_col3\" class=\"data row9 col3\" >-5,144.91</td>\n",
       "      <td id=\"T_0dba1_row9_col4\" class=\"data row9 col4\" >-403.55</td>\n",
       "      <td id=\"T_0dba1_row9_col5\" class=\"data row9 col5\" >-2,564.53</td>\n",
       "      <td id=\"T_0dba1_row9_col6\" class=\"data row9 col6\" >-3,332.89</td>\n",
       "      <td id=\"T_0dba1_row9_col7\" class=\"data row9 col7\" >779.54</td>\n",
       "      <td id=\"T_0dba1_row9_col8\" class=\"data row9 col8\" >1,463.45</td>\n",
       "      <td id=\"T_0dba1_row9_col9\" class=\"data row9 col9\" >-1,246.07</td>\n",
       "      <td id=\"T_0dba1_row9_col10\" class=\"data row9 col10\" >-1,900.66</td>\n",
       "    </tr>\n",
       "  </tbody>\n",
       "</table>\n"
      ],
      "text/plain": [
       "<pandas.io.formats.style.Styler at 0x7f353f97b700>"
      ]
     },
     "execution_count": 11,
     "metadata": {},
     "output_type": "execute_result"
    }
   ],
   "source": [
    "p = P.pivot(columns='Period', index='StdDev', values='Profit')\n",
    "pp(p)"
   ]
  },
  {
   "cell_type": "code",
   "execution_count": 12,
   "id": "032a3dab-0097-4046-8b82-6986e7d0df9d",
   "metadata": {
    "ExecuteTime": {
     "end_time": "2022-09-13T12:59:25.100306Z",
     "start_time": "2022-09-13T12:59:21.650447Z"
    },
    "execution": {
     "iopub.execute_input": "2023-12-25T16:30:54.378666Z",
     "iopub.status.busy": "2023-12-25T16:30:54.378467Z",
     "iopub.status.idle": "2023-12-25T16:30:56.035297Z",
     "shell.execute_reply": "2023-12-25T16:30:56.034731Z",
     "shell.execute_reply.started": "2023-12-25T16:30:54.378654Z"
    },
    "tags": []
   },
   "outputs": [
    {
     "data": {
      "application/vnd.jupyter.widget-view+json": {
       "model_id": "7aec6b4c075f4bbc9b995c1e672bc106",
       "version_major": 2,
       "version_minor": 0
      },
      "text/plain": [
       "VBox(children=(VBox(children=(HBox(children=(IntSlider(value=3500, description='Period', max=6000, min=1000, s…"
      ]
     },
     "metadata": {},
     "output_type": "display_data"
    }
   ],
   "source": [
    "# results browser\n",
    "interactTable(model, P, height=500)"
   ]
  }
 ],
 "metadata": {
  "kernelspec": {
   "display_name": "Python 3 (ipykernel)",
   "language": "python",
   "name": "python3"
  },
  "language_info": {
   "codemirror_mode": {
    "name": "ipython",
    "version": 3
   },
   "file_extension": ".py",
   "mimetype": "text/x-python",
   "name": "python",
   "nbconvert_exporter": "python",
   "pygments_lexer": "ipython3",
   "version": "3.9.18"
  },
  "widgets": {
   "application/vnd.jupyter.widget-state+json": {
    "state": {
     "0a51f668a2eb43c9a3daddb332baf9b3": {
      "model_module": "@jupyter-widgets/controls",
      "model_module_version": "1.5.0",
      "model_name": "SliderStyleModel",
      "state": {
       "description_width": ""
      }
     },
     "0b0fc7a3a3ab47a28da0f4edbe61c197": {
      "model_module": "@jupyter-widgets/base",
      "model_module_version": "1.2.0",
      "model_name": "LayoutModel",
      "state": {}
     },
     "273f49eb43ae4064b8773fdb8e1dca01": {
      "model_module": "@jupyter-widgets/base",
      "model_module_version": "1.2.0",
      "model_name": "LayoutModel",
      "state": {}
     },
     "2b8e03d444074e238a440f57eb104900": {
      "model_module": "@jupyter-widgets/controls",
      "model_module_version": "1.5.0",
      "model_name": "DescriptionStyleModel",
      "state": {
       "description_width": ""
      }
     },
     "2cf4e497110b4719b28c5fe6f801e1ab": {
      "model_module": "ipyslickgrid",
      "model_module_version": "0.0.3",
      "model_name": "QgridModel",
      "state": {
       "_columns": {
        "AvgProfit": {
         "cssClass": "number",
         "defaultSortAsc": false,
         "editable": true,
         "field": "AvgProfit",
         "id": "AvgProfit",
         "minWidth": 30,
         "name": "AvgProfit",
         "position": 6,
         "resizable": true,
         "sortable": true,
         "toolTip": "",
         "type": "number"
        },
        "Count": {
         "cssClass": "number",
         "defaultSortAsc": false,
         "editable": true,
         "field": "Count",
         "id": "Count",
         "minWidth": 30,
         "name": "Count",
         "position": 5,
         "resizable": true,
         "sortable": true,
         "toolTip": "",
         "type": "number"
        },
        "Fitness": {
         "cssClass": "number",
         "defaultSortAsc": false,
         "editable": true,
         "field": "Fitness",
         "id": "Fitness",
         "minWidth": 30,
         "name": "Fitness",
         "position": 4,
         "resizable": true,
         "sortable": true,
         "toolTip": "",
         "type": "number"
        },
        "Period": {
         "cssClass": "integer",
         "defaultSortAsc": false,
         "editable": true,
         "field": "Period",
         "id": "Period",
         "minWidth": 30,
         "name": "Period",
         "position": 2,
         "resizable": true,
         "sortable": true,
         "toolTip": "",
         "type": "integer"
        },
        "Sharpe": {
         "cssClass": "number",
         "defaultSortAsc": false,
         "editable": true,
         "field": "Sharpe",
         "id": "Sharpe",
         "minWidth": 30,
         "name": "Sharpe",
         "position": 7,
         "resizable": true,
         "sortable": true,
         "toolTip": "",
         "type": "number"
        },
        "StdDev": {
         "cssClass": "number",
         "defaultSortAsc": false,
         "editable": true,
         "field": "StdDev",
         "id": "StdDev",
         "minWidth": 30,
         "name": "StdDev",
         "position": 3,
         "resizable": true,
         "sortable": true,
         "toolTip": "",
         "type": "number"
        },
        "index": {
         "cssClass": "integer first-idx-col idx-col",
         "defaultSortAsc": false,
         "editable": true,
         "field": "index",
         "first_index": true,
         "id": "index",
         "index_display_text": "",
         "is_index": true,
         "level": 0,
         "minWidth": 30,
         "name": "",
         "position": 0,
         "resizable": true,
         "sortable": true,
         "toolTip": "",
         "type": "integer"
        },
        "qgrid_unfiltered_index": {
         "cssClass": "integer",
         "defaultSortAsc": false,
         "editable": true,
         "field": "qgrid_unfiltered_index",
         "id": "qgrid_unfiltered_index",
         "maxWidth": null,
         "minWidth": 30,
         "name": "qgrid_unfiltered_index",
         "position": 1,
         "resizable": true,
         "sortable": true,
         "toolTip": "",
         "type": "integer",
         "width": null
        }
       },
       "_df_json": "{\"schema\":{\"fields\":[{\"name\":\"index\",\"type\":\"integer\"},{\"name\":\"qgrid_unfiltered_index\",\"type\":\"integer\"},{\"name\":\"Period\",\"type\":\"integer\"},{\"name\":\"StdDev\",\"type\":\"number\"},{\"name\":\"Fitness\",\"type\":\"number\"},{\"name\":\"Count\",\"type\":\"number\"},{\"name\":\"AvgProfit\",\"type\":\"number\"},{\"name\":\"Sharpe\",\"type\":\"number\"}],\"primaryKey\":[\"index\"],\"pandas_version\":\"0.20.0\"},\"data\":[{\"index\":56,\"qgrid_unfiltered_index\":0,\"Period\":5031,\"StdDev\":1.01707,\"Fitness\":-14973.72762,\"Count\":188.0,\"AvgProfit\":-79.64749,\"Sharpe\":-62.61585},{\"index\":4,\"qgrid_unfiltered_index\":1,\"Period\":3377,\"StdDev\":1.65916,\"Fitness\":-14524.17641,\"Count\":190.0,\"AvgProfit\":-76.44303,\"Sharpe\":-58.60937},{\"index\":23,\"qgrid_unfiltered_index\":2,\"Period\":3652,\"StdDev\":2.01177,\"Fitness\":-11447.30733,\"Count\":144.0,\"AvgProfit\":-79.49519,\"Sharpe\":-40.70625},{\"index\":55,\"qgrid_unfiltered_index\":3,\"Period\":5385,\"StdDev\":2.02584,\"Fitness\":-8240.47561,\"Count\":99.0,\"AvgProfit\":-83.23713,\"Sharpe\":-25.59015},{\"index\":37,\"qgrid_unfiltered_index\":4,\"Period\":2981,\"StdDev\":2.42366,\"Fitness\":-8239.22551,\"Count\":115.0,\"AvgProfit\":-71.64544,\"Sharpe\":-26.73029},{\"index\":97,\"qgrid_unfiltered_index\":5,\"Period\":2441,\"StdDev\":2.92893,\"Fitness\":-7022.15237,\"Count\":39.0,\"AvgProfit\":-180.05519,\"Sharpe\":-16.11013},{\"index\":19,\"qgrid_unfiltered_index\":6,\"Period\":1132,\"StdDev\":2.82045,\"Fitness\":-6984.02429,\"Count\":101.0,\"AvgProfit\":-69.14876,\"Sharpe\":-23.43925},{\"index\":90,\"qgrid_unfiltered_index\":7,\"Period\":12842,\"StdDev\":1.20788,\"Fitness\":-6546.78648,\"Count\":70.0,\"AvgProfit\":-93.52552,\"Sharpe\":-17.89291},{\"index\":6,\"qgrid_unfiltered_index\":8,\"Period\":18392,\"StdDev\":1.00613,\"Fitness\":-5916.14013,\"Count\":50.0,\"AvgProfit\":-118.3228,\"Sharpe\":-15.30696},{\"index\":16,\"qgrid_unfiltered_index\":9,\"Period\":8788,\"StdDev\":1.98879,\"Fitness\":-5805.60253,\"Count\":67.0,\"AvgProfit\":-86.65078,\"Sharpe\":-15.72488},{\"index\":350,\"qgrid_unfiltered_index\":10,\"Period\":6086,\"StdDev\":2.39,\"Fitness\":-5793.66438,\"Count\":69.0,\"AvgProfit\":-83.96615,\"Sharpe\":-16.49279},{\"index\":22,\"qgrid_unfiltered_index\":11,\"Period\":8280,\"StdDev\":2.15525,\"Fitness\":-5258.56166,\"Count\":67.0,\"AvgProfit\":-78.48599,\"Sharpe\":-14.28889},{\"index\":240,\"qgrid_unfiltered_index\":12,\"Period\":6086,\"StdDev\":2.45648,\"Fitness\":-5076.81323,\"Count\":65.0,\"AvgProfit\":-78.10482,\"Sharpe\":-13.92778},{\"index\":17,\"qgrid_unfiltered_index\":13,\"Period\":5632,\"StdDev\":2.24447,\"Fitness\":-5069.82983,\"Count\":85.0,\"AvgProfit\":-59.64506,\"Sharpe\":-14.72175},{\"index\":50,\"qgrid_unfiltered_index\":14,\"Period\":14352,\"StdDev\":1.44767,\"Fitness\":-4875.87026,\"Count\":54.0,\"AvgProfit\":-90.29389,\"Sharpe\":-12.16644},{\"index\":258,\"qgrid_unfiltered_index\":15,\"Period\":6086,\"StdDev\":2.71583,\"Fitness\":-4039.30949,\"Count\":39.0,\"AvgProfit\":-103.57204,\"Sharpe\":-8.69369},{\"index\":21,\"qgrid_unfiltered_index\":16,\"Period\":9515,\"StdDev\":3.33126,\"Fitness\":-4023.45191,\"Count\":10.0,\"AvgProfit\":-402.34519,\"Sharpe\":-4.69932},{\"index\":210,\"qgrid_unfiltered_index\":17,\"Period\":8132,\"StdDev\":2.5363,\"Fitness\":-3187.38468,\"Count\":47.0,\"AvgProfit\":-67.8167,\"Sharpe\":-7.35978},{\"index\":51,\"qgrid_unfiltered_index\":18,\"Period\":17448,\"StdDev\":1.49384,\"Fitness\":-3168.24839,\"Count\":44.0,\"AvgProfit\":-72.00565,\"Sharpe\":-7.79702},{\"index\":57,\"qgrid_unfiltered_index\":19,\"Period\":10427,\"StdDev\":3.43778,\"Fitness\":-3149.47985,\"Count\":7.0,\"AvgProfit\":-449.92569,\"Sharpe\":-3.61549},{\"index\":7,\"qgrid_unfiltered_index\":20,\"Period\":1216,\"StdDev\":3.23643,\"Fitness\":-2885.60351,\"Count\":14.0,\"AvgProfit\":-206.11454,\"Sharpe\":-3.82422},{\"index\":85,\"qgrid_unfiltered_index\":21,\"Period\":20058,\"StdDev\":1.35871,\"Fitness\":-2565.52312,\"Count\":42.0,\"AvgProfit\":-61.08388,\"Sharpe\":-6.30126},{\"index\":42,\"qgrid_unfiltered_index\":22,\"Period\":19968,\"StdDev\":1.40618,\"Fitness\":-2156.42821,\"Count\":42.0,\"AvgProfit\":-51.34353,\"Sharpe\":-5.27583},{\"index\":249,\"qgrid_unfiltered_index\":23,\"Period\":8132,\"StdDev\":2.71583,\"Fitness\":-1951.70595,\"Count\":35.0,\"AvgProfit\":-55.76303,\"Sharpe\":-3.79253},{\"index\":3,\"qgrid_unfiltered_index\":24,\"Period\":16495,\"StdDev\":2.12342,\"Fitness\":-1322.30631,\"Count\":34.0,\"AvgProfit\":-38.89136,\"Sharpe\":-3.20942},{\"index\":58,\"qgrid_unfiltered_index\":25,\"Period\":5155,\"StdDev\":2.73558,\"Fitness\":-1055.3244,\"Count\":43.0,\"AvgProfit\":-24.54243,\"Sharpe\":-2.1382},{\"index\":278,\"qgrid_unfiltered_index\":26,\"Period\":17086,\"StdDev\":3.16407,\"Fitness\":-871.02019,\"Count\":4.0,\"AvgProfit\":-217.75505,\"Sharpe\":-1.20574},{\"index\":76,\"qgrid_unfiltered_index\":27,\"Period\":47740,\"StdDev\":2.31772,\"Fitness\":-716.82451,\"Count\":8.0,\"AvgProfit\":-89.60306,\"Sharpe\":-1.05701},{\"index\":30,\"qgrid_unfiltered_index\":28,\"Period\":11596,\"StdDev\":2.62466,\"Fitness\":-673.79973,\"Count\":28.0,\"AvgProfit\":-24.06428,\"Sharpe\":-1.20245},{\"index\":25,\"qgrid_unfiltered_index\":29,\"Period\":9182,\"StdDev\":2.81055,\"Fitness\":-574.52857,\"Count\":30.0,\"AvgProfit\":-19.15095,\"Sharpe\":-1.13895},{\"index\":26,\"qgrid_unfiltered_index\":30,\"Period\":44439,\"StdDev\":1.76798,\"Fitness\":-483.39076,\"Count\":13.0,\"AvgProfit\":-37.1839,\"Sharpe\":-0.61337},{\"index\":35,\"qgrid_unfiltered_index\":31,\"Period\":42860,\"StdDev\":2.03063,\"Fitness\":-476.0909,\"Count\":12.0,\"AvgProfit\":-39.67424,\"Sharpe\":-0.65109},{\"index\":38,\"qgrid_unfiltered_index\":32,\"Period\":12169,\"StdDev\":3.46509,\"Fitness\":-471.84687,\"Count\":3.0,\"AvgProfit\":-157.28229,\"Sharpe\":-0.47046},{\"index\":52,\"qgrid_unfiltered_index\":33,\"Period\":47733,\"StdDev\":1.38145,\"Fitness\":-465.5473,\"Count\":15.0,\"AvgProfit\":-31.03649,\"Sharpe\":-0.66964},{\"index\":60,\"qgrid_unfiltered_index\":34,\"Period\":23867,\"StdDev\":1.88563,\"Fitness\":-358.26093,\"Count\":28.0,\"AvgProfit\":-12.79503,\"Sharpe\":-0.88757},{\"index\":45,\"qgrid_unfiltered_index\":35,\"Period\":16474,\"StdDev\":3.52947,\"Fitness\":-258.47815,\"Count\":3.0,\"AvgProfit\":-86.15938,\"Sharpe\":-0.2377},{\"index\":2,\"qgrid_unfiltered_index\":36,\"Period\":17128,\"StdDev\":3.02986,\"Fitness\":-255.93865,\"Count\":8.0,\"AvgProfit\":-31.99233,\"Sharpe\":-0.43403},{\"index\":151,\"qgrid_unfiltered_index\":37,\"Period\":44977,\"StdDev\":2.71583,\"Fitness\":-203.08511,\"Count\":4.0,\"AvgProfit\":-50.77128,\"Sharpe\":-0.3732},{\"index\":29,\"qgrid_unfiltered_index\":38,\"Period\":13092,\"StdDev\":3.69619,\"Fitness\":-202.60743,\"Count\":3.0,\"AvgProfit\":-67.53581,\"Sharpe\":-0.20842},{\"index\":225,\"qgrid_unfiltered_index\":39,\"Period\":39068,\"StdDev\":2.5363,\"Fitness\":-90.89678,\"Count\":8.0,\"AvgProfit\":-11.3621,\"Sharpe\":-0.11508},{\"index\":67,\"qgrid_unfiltered_index\":40,\"Period\":46910,\"StdDev\":1.46304,\"Fitness\":-53.34263,\"Count\":15.0,\"AvgProfit\":-3.55618,\"Sharpe\":-0.07594},{\"index\":106,\"qgrid_unfiltered_index\":41,\"Period\":24353,\"StdDev\":3.69981,\"Fitness\":0.0,\"Count\":0.0,\"AvgProfit\":0.0,\"Sharpe\":0.0},{\"index\":136,\"qgrid_unfiltered_index\":42,\"Period\":0,\"StdDev\":2.35444,\"Fitness\":0.0,\"Count\":null,\"AvgProfit\":null,\"Sharpe\":null},{\"index\":71,\"qgrid_unfiltered_index\":43,\"Period\":39701,\"StdDev\":3.70414,\"Fitness\":0.0,\"Count\":0.0,\"AvgProfit\":0.0,\"Sharpe\":0.0},{\"index\":421,\"qgrid_unfiltered_index\":44,\"Period\":33277,\"StdDev\":0.0,\"Fitness\":0.0,\"Count\":null,\"AvgProfit\":null,\"Sharpe\":null},{\"index\":154,\"qgrid_unfiltered_index\":45,\"Period\":33610,\"StdDev\":3.67171,\"Fitness\":0.0,\"Count\":0.0,\"AvgProfit\":0.0,\"Sharpe\":0.0},{\"index\":196,\"qgrid_unfiltered_index\":46,\"Period\":0,\"StdDev\":3.50582,\"Fitness\":0.0,\"Count\":null,\"AvgProfit\":null,\"Sharpe\":null},{\"index\":211,\"qgrid_unfiltered_index\":47,\"Period\":24315,\"StdDev\":3.83662,\"Fitness\":0.0,\"Count\":0.0,\"AvgProfit\":0.0,\"Sharpe\":0.0},{\"index\":69,\"qgrid_unfiltered_index\":48,\"Period\":0,\"StdDev\":1.9379,\"Fitness\":0.0,\"Count\":null,\"AvgProfit\":null,\"Sharpe\":null},{\"index\":102,\"qgrid_unfiltered_index\":49,\"Period\":27401,\"StdDev\":3.69981,\"Fitness\":0.0,\"Count\":0.0,\"AvgProfit\":0.0,\"Sharpe\":0.0},{\"index\":95,\"qgrid_unfiltered_index\":50,\"Period\":32116,\"StdDev\":3.60459,\"Fitness\":0.0,\"Count\":0.0,\"AvgProfit\":0.0,\"Sharpe\":0.0},{\"index\":435,\"qgrid_unfiltered_index\":51,\"Period\":30261,\"StdDev\":0.0,\"Fitness\":0.0,\"Count\":null,\"AvgProfit\":null,\"Sharpe\":null},{\"index\":31,\"qgrid_unfiltered_index\":52,\"Period\":25293,\"StdDev\":3.70328,\"Fitness\":0.0,\"Count\":0.0,\"AvgProfit\":0.0,\"Sharpe\":0.0},{\"index\":5,\"qgrid_unfiltered_index\":53,\"Period\":0,\"StdDev\":3.62191,\"Fitness\":0.0,\"Count\":null,\"AvgProfit\":null,\"Sharpe\":null},{\"index\":248,\"qgrid_unfiltered_index\":54,\"Period\":30261,\"StdDev\":3.83662,\"Fitness\":0.0,\"Count\":0.0,\"AvgProfit\":0.0,\"Sharpe\":0.0},{\"index\":44,\"qgrid_unfiltered_index\":55,\"Period\":40006,\"StdDev\":3.91082,\"Fitness\":0.0,\"Count\":0.0,\"AvgProfit\":0.0,\"Sharpe\":0.0},{\"index\":13,\"qgrid_unfiltered_index\":56,\"Period\":38209,\"StdDev\":3.62972,\"Fitness\":0.0,\"Count\":0.0,\"AvgProfit\":0.0,\"Sharpe\":0.0},{\"index\":414,\"qgrid_unfiltered_index\":57,\"Period\":0,\"StdDev\":3.14477,\"Fitness\":0.0,\"Count\":null,\"AvgProfit\":null,\"Sharpe\":null},{\"index\":36,\"qgrid_unfiltered_index\":58,\"Period\":46170,\"StdDev\":1.49867,\"Fitness\":72.07165,\"Count\":15.0,\"AvgProfit\":4.80478,\"Sharpe\":0.10211},{\"index\":27,\"qgrid_unfiltered_index\":59,\"Period\":3245,\"StdDev\":3.40643,\"Fitness\":88.09889,\"Count\":2.0,\"AvgProfit\":44.04944,\"Sharpe\":0.51827},{\"index\":93,\"qgrid_unfiltered_index\":60,\"Period\":40707,\"StdDev\":2.73904,\"Fitness\":93.10192,\"Count\":4.0,\"AvgProfit\":23.27548,\"Sharpe\":0.17872},{\"index\":387,\"qgrid_unfiltered_index\":61,\"Period\":25527,\"StdDev\":1.80858,\"Fitness\":94.94613,\"Count\":28.0,\"AvgProfit\":3.39093,\"Sharpe\":0.21988},{\"index\":384,\"qgrid_unfiltered_index\":62,\"Period\":24353,\"StdDev\":1.98015,\"Fitness\":171.58297,\"Count\":26.0,\"AvgProfit\":6.59935,\"Sharpe\":0.3859},{\"index\":15,\"qgrid_unfiltered_index\":63,\"Period\":45418,\"StdDev\":1.20621,\"Fitness\":199.30493,\"Count\":19.0,\"AvgProfit\":10.48973,\"Sharpe\":0.30338},{\"index\":167,\"qgrid_unfiltered_index\":64,\"Period\":39729,\"StdDev\":3.09764,\"Fitness\":207.72751,\"Count\":1.0,\"AvgProfit\":207.72751,\"Sharpe\":0.0},{\"index\":81,\"qgrid_unfiltered_index\":65,\"Period\":42333,\"StdDev\":3.16148,\"Fitness\":210.89356,\"Count\":1.0,\"AvgProfit\":210.89356,\"Sharpe\":0.0},{\"index\":329,\"qgrid_unfiltered_index\":66,\"Period\":37132,\"StdDev\":3.21332,\"Fitness\":219.15108,\"Count\":1.0,\"AvgProfit\":219.15108,\"Sharpe\":0.0},{\"index\":99,\"qgrid_unfiltered_index\":67,\"Period\":26469,\"StdDev\":1.60184,\"Fitness\":225.35155,\"Count\":30.0,\"AvgProfit\":7.51172,\"Sharpe\":0.51166},{\"index\":124,\"qgrid_unfiltered_index\":68,\"Period\":39729,\"StdDev\":3.16407,\"Fitness\":235.64569,\"Count\":1.0,\"AvgProfit\":235.64569,\"Sharpe\":0.0},{\"index\":200,\"qgrid_unfiltered_index\":69,\"Period\":38882,\"StdDev\":2.39,\"Fitness\":277.87694,\"Count\":10.0,\"AvgProfit\":27.78769,\"Sharpe\":0.36155},{\"index\":221,\"qgrid_unfiltered_index\":70,\"Period\":38882,\"StdDev\":3.21332,\"Fitness\":287.08125,\"Count\":1.0,\"AvgProfit\":287.08125,\"Sharpe\":0.0},{\"index\":78,\"qgrid_unfiltered_index\":71,\"Period\":38004,\"StdDev\":3.26644,\"Fitness\":297.27841,\"Count\":1.0,\"AvgProfit\":297.27841,\"Sharpe\":0.0},{\"index\":74,\"qgrid_unfiltered_index\":72,\"Period\":40582,\"StdDev\":3.25359,\"Fitness\":302.78906,\"Count\":1.0,\"AvgProfit\":302.78906,\"Sharpe\":0.0},{\"index\":295,\"qgrid_unfiltered_index\":73,\"Period\":24724,\"StdDev\":1.98015,\"Fitness\":451.7313,\"Count\":26.0,\"AvgProfit\":17.37428,\"Sharpe\":1.01831},{\"index\":47,\"qgrid_unfiltered_index\":74,\"Period\":44082,\"StdDev\":1.16813,\"Fitness\":459.128,\"Count\":21.0,\"AvgProfit\":21.86324,\"Sharpe\":0.78732},{\"index\":207,\"qgrid_unfiltered_index\":75,\"Period\":24771,\"StdDev\":1.98015,\"Fitness\":466.13851,\"Count\":26.0,\"AvgProfit\":17.9284,\"Sharpe\":1.05215},{\"index\":63,\"qgrid_unfiltered_index\":76,\"Period\":1047,\"StdDev\":3.72422,\"Fitness\":468.10744,\"Count\":4.0,\"AvgProfit\":117.02686,\"Sharpe\":0.38045},{\"index\":103,\"qgrid_unfiltered_index\":77,\"Period\":47768,\"StdDev\":2.45648,\"Fitness\":480.48183,\"Count\":6.0,\"AvgProfit\":80.0803,\"Sharpe\":0.79114},{\"index\":166,\"qgrid_unfiltered_index\":78,\"Period\":23508,\"StdDev\":1.41288,\"Fitness\":483.04937,\"Count\":39.0,\"AvgProfit\":12.38588,\"Sharpe\":1.17105},{\"index\":68,\"qgrid_unfiltered_index\":79,\"Period\":25386,\"StdDev\":1.40631,\"Fitness\":544.64933,\"Count\":37.0,\"AvgProfit\":14.72025,\"Sharpe\":1.31463},{\"index\":59,\"qgrid_unfiltered_index\":80,\"Period\":48512,\"StdDev\":3.37329,\"Fitness\":590.50951,\"Count\":1.0,\"AvgProfit\":590.50951,\"Sharpe\":0.0},{\"index\":12,\"qgrid_unfiltered_index\":81,\"Period\":45653,\"StdDev\":2.87466,\"Fitness\":600.78517,\"Count\":4.0,\"AvgProfit\":150.19629,\"Sharpe\":1.16409},{\"index\":34,\"qgrid_unfiltered_index\":82,\"Period\":48754,\"StdDev\":3.50582,\"Fitness\":673.91672,\"Count\":1.0,\"AvgProfit\":673.91672,\"Sharpe\":0.0},{\"index\":315,\"qgrid_unfiltered_index\":83,\"Period\":24686,\"StdDev\":1.72028,\"Fitness\":746.34613,\"Count\":32.0,\"AvgProfit\":23.32332,\"Sharpe\":1.80725},{\"index\":88,\"qgrid_unfiltered_index\":84,\"Period\":49111,\"StdDev\":3.67171,\"Fitness\":781.36817,\"Count\":1.0,\"AvgProfit\":781.36817,\"Sharpe\":0.0},{\"index\":70,\"qgrid_unfiltered_index\":85,\"Period\":46468,\"StdDev\":3.59456,\"Fitness\":787.5862,\"Count\":1.0,\"AvgProfit\":787.5862,\"Sharpe\":0.0},{\"index\":91,\"qgrid_unfiltered_index\":86,\"Period\":45144,\"StdDev\":1.97846,\"Fitness\":787.58857,\"Count\":13.0,\"AvgProfit\":60.58374,\"Sharpe\":0.98829},{\"index\":283,\"qgrid_unfiltered_index\":87,\"Period\":26600,\"StdDev\":1.38805,\"Fitness\":809.33377,\"Count\":35.0,\"AvgProfit\":23.12382,\"Sharpe\":1.9361},{\"index\":98,\"qgrid_unfiltered_index\":88,\"Period\":37753,\"StdDev\":3.38327,\"Fitness\":810.15431,\"Count\":1.0,\"AvgProfit\":810.15431,\"Sharpe\":0.0},{\"index\":32,\"qgrid_unfiltered_index\":89,\"Period\":47768,\"StdDev\":3.69981,\"Fitness\":819.26931,\"Count\":1.0,\"AvgProfit\":819.26931,\"Sharpe\":0.0},{\"index\":197,\"qgrid_unfiltered_index\":90,\"Period\":48754,\"StdDev\":3.72422,\"Fitness\":820.4011,\"Count\":1.0,\"AvgProfit\":820.4011,\"Sharpe\":0.0},{\"index\":115,\"qgrid_unfiltered_index\":91,\"Period\":24315,\"StdDev\":1.38805,\"Fitness\":893.68617,\"Count\":39.0,\"AvgProfit\":22.91503,\"Sharpe\":2.17802},{\"index\":66,\"qgrid_unfiltered_index\":92,\"Period\":47812,\"StdDev\":2.9914,\"Fitness\":898.67704,\"Count\":4.0,\"AvgProfit\":224.66926,\"Sharpe\":1.7271},{\"index\":316,\"qgrid_unfiltered_index\":93,\"Period\":24686,\"StdDev\":2.71583,\"Fitness\":942.64496,\"Count\":8.0,\"AvgProfit\":117.83062,\"Sharpe\":1.22211},{\"index\":214,\"qgrid_unfiltered_index\":94,\"Period\":24771,\"StdDev\":1.48618,\"Fitness\":999.78654,\"Count\":37.0,\"AvgProfit\":27.02126,\"Sharpe\":2.3771},{\"index\":1,\"qgrid_unfiltered_index\":95,\"Period\":21179,\"StdDev\":1.79733,\"Fitness\":1018.76194,\"Count\":38.0,\"AvgProfit\":26.80952,\"Sharpe\":2.50479},{\"index\":53,\"qgrid_unfiltered_index\":96,\"Period\":43301,\"StdDev\":2.40544,\"Fitness\":1019.60063,\"Count\":10.0,\"AvgProfit\":101.96006,\"Sharpe\":1.36008},{\"index\":14,\"qgrid_unfiltered_index\":97,\"Period\":49863,\"StdDev\":2.57471,\"Fitness\":1021.03019,\"Count\":6.0,\"AvgProfit\":170.1717,\"Sharpe\":1.74738},{\"index\":94,\"qgrid_unfiltered_index\":98,\"Period\":8132,\"StdDev\":3.83662,\"Fitness\":1023.62692,\"Count\":1.0,\"AvgProfit\":1023.62692,\"Sharpe\":0.0},{\"index\":189,\"qgrid_unfiltered_index\":99,\"Period\":24686,\"StdDev\":1.38805,\"Fitness\":1085.84347,\"Count\":39.0,\"AvgProfit\":27.84214,\"Sharpe\":2.65982}]}",
       "_df_range": [
        0,
        100
       ],
       "_editable_rows": {},
       "_index_col_name": "qgrid_unfiltered_index",
       "_interval_columns": [],
       "_model_module_version": "0.0.3",
       "_multi_index": false,
       "_row_count": 247,
       "_row_styles": {},
       "_sort_ascending": true,
       "_sort_field": null,
       "_view_module_version": "0.0.3",
       "_viewport_range": [
        0,
        100
       ],
       "grid_options": {
        "autoEdit": false,
        "boldIndex": true,
        "defaultColumnWidth": 150,
        "editable": false,
        "enableColumnReorder": false,
        "enableTextSelectionOnCells": true,
        "explicitInitialization": true,
        "filterable": true,
        "forceFitColumns": true,
        "fullWidthRows": true,
        "highlightSelectedCell": false,
        "highlightSelectedRow": true,
        "maxVisibleRows": 15,
        "minVisibleRows": 8,
        "multiSelect": false,
        "rowHeight": 28,
        "sortable": true,
        "syncColumnCellResize": true
       },
       "id": "e22ebf92-21ca-4af6-a506-093fc5634ecf",
       "layout": "IPY_MODEL_521e1f0f7b1144119089cebe8388c272",
       "precision": 5,
       "show_toolbar": false
      }
     },
     "319fdce3d4324b8687de3ed81abe5149": {
      "model_module": "@jupyter-widgets/controls",
      "model_module_version": "1.5.0",
      "model_name": "SliderStyleModel",
      "state": {
       "description_width": ""
      }
     },
     "33405defc246487caea2a55ce4f94eb0": {
      "model_module": "@jupyter-widgets/base",
      "model_module_version": "1.2.0",
      "model_name": "LayoutModel",
      "state": {}
     },
     "45d1ad4116304f9ea9e15a57bfc84841": {
      "model_module": "@jupyter-widgets/base",
      "model_module_version": "1.2.0",
      "model_name": "LayoutModel",
      "state": {}
     },
     "4f2d6429b68e42029c9b8f10b7ec1108": {
      "model_module": "@jupyter-widgets/base",
      "model_module_version": "1.2.0",
      "model_name": "LayoutModel",
      "state": {}
     },
     "51b132dd21944eab8f65816111c37e44": {
      "model_module": "@jupyter-widgets/controls",
      "model_module_version": "1.5.0",
      "model_name": "VBoxModel",
      "state": {
       "_dom_classes": [
        "widget-interact"
       ],
       "children": [
        "IPY_MODEL_87627583ca2f4d54a910595bfeac4f9a",
        "IPY_MODEL_5c414a237c144535bc934f013924ae3d",
        "IPY_MODEL_766980fc285e4ff890d8a43a5412c889"
       ],
       "layout": "IPY_MODEL_4f2d6429b68e42029c9b8f10b7ec1108"
      }
     },
     "521e1f0f7b1144119089cebe8388c272": {
      "model_module": "@jupyter-widgets/base",
      "model_module_version": "1.2.0",
      "model_name": "LayoutModel",
      "state": {}
     },
     "556fdd786e814dd69607a0dc6768a652": {
      "model_module": "@jupyter-widgets/base",
      "model_module_version": "1.2.0",
      "model_name": "LayoutModel",
      "state": {}
     },
     "5b90ed44861f431e809ac04a7311eced": {
      "model_module": "@jupyter-widgets/controls",
      "model_module_version": "1.5.0",
      "model_name": "DescriptionStyleModel",
      "state": {
       "description_width": ""
      }
     },
     "5c414a237c144535bc934f013924ae3d": {
      "model_module": "@jupyter-widgets/controls",
      "model_module_version": "1.5.0",
      "model_name": "FloatSliderModel",
      "state": {
       "description": "StdDev",
       "layout": "IPY_MODEL_273f49eb43ae4064b8773fdb8e1dca01",
       "max": 4,
       "min": 1,
       "step": 0.1,
       "style": "IPY_MODEL_319fdce3d4324b8687de3ed81abe5149",
       "value": 2
      }
     },
     "5c6d98499631448bbff739f368dab80a": {
      "model_module": "@jupyter-widgets/controls",
      "model_module_version": "1.5.0",
      "model_name": "ProgressStyleModel",
      "state": {
       "description_width": ""
      }
     },
     "701e9d4f0ad34eb7a806c9eba4094d57": {
      "model_module": "@jupyter-widgets/controls",
      "model_module_version": "1.5.0",
      "model_name": "FloatProgressModel",
      "state": {
       "bar_style": "success",
       "layout": "IPY_MODEL_45d1ad4116304f9ea9e15a57bfc84841",
       "max": 5,
       "style": "IPY_MODEL_5c6d98499631448bbff739f368dab80a",
       "value": 5
      }
     },
     "766980fc285e4ff890d8a43a5412c889": {
      "model_module": "@jupyter-widgets/output",
      "model_module_version": "1.0.0",
      "model_name": "OutputModel",
      "state": {
       "layout": "IPY_MODEL_81ca729efd0f44f68af9c1ef8a57a063"
      }
     },
     "81ca729efd0f44f68af9c1ef8a57a063": {
      "model_module": "@jupyter-widgets/base",
      "model_module_version": "1.2.0",
      "model_name": "LayoutModel",
      "state": {}
     },
     "81f86e4a439c4bb69d2cbdfa469ccea3": {
      "model_module": "@jupyter-widgets/controls",
      "model_module_version": "1.5.0",
      "model_name": "VBoxModel",
      "state": {
       "children": [
        "IPY_MODEL_8ccec665f9c84028a54f7c3765331389",
        "IPY_MODEL_86e2b71091ad484db7f3e1fbb5135493"
       ],
       "layout": "IPY_MODEL_ec3f9e85bb9f4f6792d8e968153a2674"
      }
     },
     "86e2b71091ad484db7f3e1fbb5135493": {
      "buffers": [
       {
        "data": "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",
        "encoding": "base64",
        "path": [
         "_data",
         0,
         "y",
         "value"
        ]
       },
       {
        "data": "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",
        "encoding": "base64",
        "path": [
         "_data",
         1,
         "y",
         "value"
        ]
       },
       {
        "data": "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",
        "encoding": "base64",
        "path": [
         "_data",
         2,
         "y",
         "value"
        ]
       },
       {
        "data": "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",
        "encoding": "base64",
        "path": [
         "_data",
         3,
         "y",
         "value"
        ]
       },
       {
        "data": "pGCccnmFcUBy7c9HG5eEQCJzCrkKondAkD4CtT7/g0B2bR+WKRuUQM2o0DDEa5VA8vl2sfPkkEBSByn9YcCTQNepicmygptAtK6/odvzlEDaL96pY76YQNfM1xmv+JFA/CdGNVO0jEBsBi/cEjZzwLKrjqITznfAp7yu1jjyccAeEavO5z+MwEI1E+JwJ3XApTX/XKC1jsDFKXcok/6EwJjwn6xaFYTAQ56+K3O/fcBs4/8RQ5RTQO9XEPVgo2dAhidi0ekUg0COyGNOP1aPQA==",
        "encoding": "base64",
        "path": [
         "_data",
         4,
         "y",
         "value"
        ]
       },
       {
        "data": "7nSJapfv4UBUI3WuUOPhQDLbHDeFn+FAdm0UZtPl4UCofnVOyarhQM3/0n1EHeJAxbxe1rpx4kCQWTsc8u3iQPhECIcL2eJAlOihtFBF4kCjE0Fo+83hQOvNr5nLvOFAEsqTgzT04UCRNsKTUePhQJIQgraEn+FApyD7QdTl4UASXhnUyarhQM5hYuhEHeJA+gcSt7tx4kAXmcjs8e3iQL8idnwM2eJAoqwPVlNF4kA3gdtC/M3hQErlY1PMvOFASsI72DT04UDwTzWc3/fhQA==",
        "encoding": "base64",
        "path": [
         "_data",
         5,
         "y",
         "value"
        ]
       },
       {
        "data": "LN6kAT4X4kDAmnJTxcThQMvrovjv9OFAW7iPnS7G4UD1LkAza+3hQINyrYBAQOJAmOwSCXpZ4kC3t8qGmeniQKdznR+7kOJA0U4/32z54UCCKoWJMNbhQAWkVxWpBuJALmxkYYUt4kAo+lvjPhfiQCiqVrzIxOFATknZau/04UDcf6DHLcbhQMMmdDFq7eFA7yFlXEBA4kCtaD9TfFniQD4MPxya6eJAfFXwTbqQ4kCKhbPCbPnhQFo3AC8w1uFAfd13h6gG4kABfdbAhC3iQA==",
        "encoding": "base64",
        "path": [
         "_data",
         6,
         "y",
         "value"
        ]
       }
      ],
      "model_module": "jupyterlab-plotly",
      "model_module_version": "^5.6.0",
      "model_name": "FigureModel",
      "state": {
       "_config": {
        "plotlyServerURL": "https://plot.ly"
       },
       "_data": [
        {
         "line": {
          "color": "gray"
         },
         "name": "<b style=\"color:sandybrown\">[R]</b> Tick <i style=\"color:#fc9944\">~890</i>",
         "opacity": 0.25,
         "type": "scattergl",
         "uid": "2304fdd7-627d-471e-84a7-e9074b133ef7",
         "x": [
          0,
          538,
          1383,
          2031,
          3137,
          3593,
          5130,
          5515,
          6577,
          7345,
          8157,
          8993,
          10173,
          11201,
          11585,
          13271,
          13859,
          15114,
          15962,
          16376,
          17585,
          17966,
          19605,
          20103,
          21223,
          21987,
          22971,
          23269,
          24660,
          25843,
          26486,
          27617,
          27858,
          28918,
          29923,
          30385,
          31850,
          32954,
          33197,
          34581,
          35488,
          36536,
          36982,
          37428,
          38585,
          39211,
          40693,
          41186,
          42109,
          42949,
          44087,
          44681,
          45635,
          46932,
          47987,
          48442,
          49026,
          50610,
          51316,
          51753,
          52925,
          54125,
          54599,
          55702,
          56352,
          57539,
          58815,
          59176,
          60476,
          61192,
          62294,
          62786,
          63390,
          64385,
          65936,
          66830,
          67532,
          68044,
          69269,
          70247,
          70699,
          71452,
          72774,
          73772,
          74013,
          75446,
          76158,
          77363,
          78239,
          78855,
          79362,
          80407,
          81462,
          82807,
          83352,
          83958,
          84819,
          85919,
          86816,
          88025,
          88759,
          89202,
          90683,
          91445,
          92386,
          92980,
          93838,
          94655,
          95542,
          96262,
          97135,
          98916,
          99760,
          100051,
          101046,
          102190,
          103112,
          103453,
          105098,
          105286,
          106936,
          107735,
          108557,
          108999,
          109669,
          110913,
          112212,
          112412,
          114037,
          114625,
          115536,
          115849,
          116939,
          118093,
          119244,
          120106,
          120755,
          121483,
          122140,
          123517,
          124141,
          124996,
          126162,
          126827,
          127647,
          129075,
          130019,
          130170,
          131154,
          132278,
          133114,
          134184,
          134815,
          135810,
          136545,
          137846,
          139017,
          139805,
          140089,
          140801,
          141943,
          143473,
          144077,
          144378,
          145561,
          146267,
          147233,
          148307,
          148983,
          150602,
          151324,
          151663,
          152630,
          153660,
          154591,
          155796,
          156173,
          156856,
          158351,
          159089,
          160186,
          160479,
          161672,
          162188,
          163509,
          164705,
          165358,
          165964,
          167103,
          168101,
          168796,
          169776,
          170878,
          171294,
          172373,
          173337,
          174192,
          175428,
          176146,
          176649,
          177437,
          178266,
          179321,
          180526,
          181062,
          182039,
          183474,
          184424,
          184854,
          185358,
          186763,
          187664,
          188380,
          188949,
          190125,
          190846,
          192213,
          193087,
          193867,
          194358,
          195359,
          196051,
          197028,
          198724,
          199593,
          200048,
          201006,
          201398,
          202378,
          204021,
          204539,
          205421,
          205884,
          207470,
          208511,
          208879,
          210010,
          210453,
          211530,
          212352,
          213143,
          214201,
          214934,
          216207,
          217232,
          217913,
          219219,
          219918,
          220158,
          221654,
          222721,
          222849,
          223879,
          224801,
          225767,
          226756,
          228095,
          228960,
          229517,
          230555,
          231369,
          231960,
          232693,
          233561,
          234984,
          235734,
          236228,
          237061,
          238448,
          239596,
          239731,
          241028,
          241689,
          242397,
          244027,
          244626,
          245165,
          246845,
          247098,
          247957,
          248894,
          250067,
          250888,
          251686,
          252194,
          253309,
          254531,
          255112,
          256226,
          256885,
          257567,
          259106,
          259582,
          260221,
          261814,
          262533,
          263478,
          264259,
          264777,
          266271,
          266534,
          267673,
          268814,
          269581,
          270213,
          271399,
          272499,
          272955,
          274024,
          275095,
          275925,
          277045,
          278023,
          278863,
          279178,
          280562,
          281229,
          282382,
          283225,
          284090,
          285019,
          285433,
          286229,
          286965,
          288525,
          289335,
          290112,
          290649,
          292230,
          292573,
          293898,
          294929,
          295396,
          296749,
          297220,
          298222,
          298869,
          299919,
          300904,
          301774,
          302433,
          303189,
          304090,
          305277,
          305910,
          307061,
          308096,
          308965,
          310009,
          310285,
          311115,
          312236,
          313075,
          314502,
          314918,
          316106,
          316525,
          317246,
          318294,
          319031,
          320570,
          321535,
          321886,
          322988,
          323484,
          324575,
          325566,
          326544,
          327540,
          328383,
          329154,
          330613,
          331245,
          332353,
          332978,
          333519,
          334696,
          335441,
          336159,
          336961,
          338376,
          339025,
          340148,
          340535,
          342197,
          342435,
          343394,
          344141,
          345090,
          346247,
          346682,
          348098,
          349326,
          349705,
          350618,
          351200,
          352366,
          353232,
          354196,
          354674,
          356152,
          357280,
          357645,
          358955,
          359460,
          360651,
          361090,
          361869,
          363089,
          364172,
          364616,
          365454,
          366686,
          367390,
          368929,
          369787,
          370466,
          370887,
          371937,
          372566,
          373650,
          375063,
          375647,
          376308,
          377699,
          378049,
          379051,
          380153,
          381233,
          381871,
          382693,
          383437,
          384374,
          385718,
          385914,
          387060,
          388128,
          388744,
          390183,
          390530,
          391404,
          392477,
          393021,
          394052,
          395089,
          395667,
          396670,
          397700,
          398450,
          400021,
          400438,
          401142,
          401917,
          402878,
          404100,
          404960,
          405672,
          406552,
          407842,
          408276,
          409177,
          410668,
          411693,
          412189,
          412920,
          413999,
          414719,
          415875,
          416458,
          417338,
          418007,
          418864,
          420576,
          420941,
          421520,
          422429,
          423456,
          424227,
          425372,
          426808,
          427302,
          428187,
          428983,
          430132,
          430597,
          431642,
          432435,
          433241,
          434763,
          434930,
          435770,
          436945,
          437942,
          439277,
          439958,
          440263,
          441431,
          442014,
          443651,
          443856,
          445502,
          446450,
          446952,
          447588,
          448596,
          449361,
          450869,
          451444,
          452257,
          453393,
          454077,
          454736,
          455893,
          456519,
          457585,
          458741,
          459423,
          460625,
          461296,
          462425,
          463128,
          463717,
          464459,
          465442,
          466669,
          467281,
          468211,
          469155,
          470418,
          471411,
          472037,
          473088,
          473452,
          474893,
          475276,
          476536,
          477343,
          477813,
          479431,
          479831,
          480499,
          481635,
          482115,
          483164,
          484123,
          484852,
          486252,
          487197,
          487581,
          488370,
          489663,
          490128,
          491617,
          492002,
          493103,
          494024,
          494957,
          496365,
          496585,
          497799,
          498753,
          499704,
          500344,
          500821,
          502603,
          503000,
          503972,
          504570,
          505321,
          506534,
          507389,
          508504,
          509617,
          510470,
          511245,
          511994,
          512432,
          513811,
          514190,
          515199,
          516085,
          516862,
          518393,
          518709,
          520109,
          520648,
          522117,
          522813,
          523705,
          524011,
          525695,
          525834,
          527166,
          528061,
          529056,
          529815,
          530304,
          531348,
          532404,
          533255,
          534259,
          534921,
          535902,
          536973,
          537789,
          538313,
          539463,
          540204,
          541385,
          542691,
          543595,
          543979,
          545017,
          546128,
          546642,
          547511,
          548640,
          549200,
          550548,
          550915,
          552192,
          553386,
          553900,
          554526,
          555337,
          556072,
          557341,
          558225,
          559366,
          560220,
          561353,
          561938,
          563199,
          563825,
          564500,
          565197,
          566291,
          567479,
          567757,
          568942,
          570107,
          571193,
          571647,
          572984,
          573779,
          574548,
          574990,
          575890,
          577456,
          578188,
          578369,
          579847,
          580694,
          581292,
          582563,
          583116,
          583817,
          584636,
          585637,
          586374,
          587369,
          588328,
          589771,
          589991,
          591086,
          592313,
          592884,
          593697,
          594416,
          596064,
          596537,
          597563,
          598230,
          599047,
          600125,
          601339,
          601563,
          602994,
          604006,
          604690,
          605740,
          606697,
          606945,
          608379,
          608794,
          609663,
          610718,
          611728,
          612649,
          613993,
          614574,
          615724,
          616420,
          616803,
          617579,
          619301,
          619458,
          620959,
          621961,
          622196,
          623057,
          624570,
          624733,
          626471,
          627129,
          627791,
          628254,
          629705,
          630216,
          631064,
          632617,
          633365,
          634469,
          635020,
          635699,
          636344,
          637551,
          638842,
          639658,
          639993,
          641359,
          642004,
          642912,
          643720,
          644791,
          645592,
          646077,
          647798,
          648496,
          648928,
          650531,
          651243,
          652261,
          652876,
          653441,
          654984,
          655070,
          656543,
          657122,
          658468,
          659069,
          659451,
          660698,
          661416,
          662312,
          663360,
          664428,
          664934,
          666119,
          667304,
          667568,
          669030,
          670087,
          670701,
          671866,
          672808,
          673435,
          674164,
          675301,
          676043,
          677097,
          677496,
          678158,
          679206,
          679987,
          680832,
          682302,
          683246,
          684380,
          685125,
          686176,
          686742,
          687918,
          688376,
          689364,
          689921,
          691344,
          692143,
          692868,
          694198,
          694636,
          695594,
          696131,
          697034,
          698571,
          699400,
          700001,
          700525,
          702145,
          702325,
          703523,
          704511,
          705745,
          706148,
          706736,
          708035,
          708576,
          709471,
          710315,
          711990,
          712266,
          713100,
          714118,
          715016,
          715599,
          717021,
          717430,
          718333,
          719799,
          720679,
          721551,
          722570,
          723034,
          724022,
          725206,
          726164,
          726813,
          728033,
          728695,
          729641,
          730035,
          731359,
          732415,
          733164,
          733623,
          734593,
          735812,
          736082,
          737464,
          738635,
          739056,
          740336,
          740561,
          741641,
          742948,
          743723,
          744107,
          745750,
          746766,
          747005,
          748555,
          749144,
          750229,
          751059,
          751672,
          752816,
          753178,
          754374,
          755260,
          756379,
          756772,
          757699,
          758883,
          760115,
          760367,
          761260,
          762352,
          763498,
          763791,
          764880,
          766315,
          767271,
          767510,
          768475,
          769922,
          770086,
          770837,
          772148,
          772920,
          774148,
          775132,
          776127,
          776883,
          777905,
          778408,
          778922,
          779748,
          781257,
          782212,
          782521,
          783329,
          784919,
          785867,
          786599,
          787356,
          788033,
          789450,
          790119,
          791102,
          791455,
          792348,
          793736,
          794291,
          794936,
          795976,
          796975,
          797824,
          798508,
          800158,
          800328,
          801955,
          802741,
          803013,
          804696,
          805584,
          806055,
          806589,
          807757,
          809007,
          809478,
          810495,
          811163,
          812033,
          813585,
          814073,
          815162,
          816248,
          816569,
          817244,
          818406,
          819347,
          820172,
          820939,
          821632,
          823276,
          823983,
          824698,
          825676,
          826723,
          827731,
          828167,
          828879,
          829693,
          830769,
          831787,
          832631,
          833883,
          834925,
          835456,
          836516,
          837353,
          838205,
          839050,
          840218,
          840935,
          841443,
          842687,
          843342,
          844546,
          845189,
          845781,
          846956,
          848077,
          849207,
          850019,
          850323,
          851272,
          852216,
          853003,
          854567,
          855224,
          855813,
          856657,
          857376,
          858834,
          859605,
          860311,
          861473,
          862234,
          863471,
          863981,
          864559,
          866087,
          866319,
          867354,
          868528,
          869295,
          870219,
          870645,
          872110,
          873042,
          873469,
          874209,
          875100,
          876188,
          877097,
          877974,
          879476,
          879954,
          880807,
          881361,
          883015,
          884010,
          884520,
          885088,
          886682,
          887574,
          888427,
          889167,
          889359
         ],
         "y": {
          "dtype": "float64",
          "shape": [
           1000
          ],
          "value": {}
         }
        },
        {
         "line": {
          "color": "blue"
         },
         "name": "<b style=\"color:sandybrown\">[R]</b> Center <i style=\"color:#fc9944\">~890</i>",
         "opacity": 0.5,
         "type": "scattergl",
         "uid": "fa2d8db4-0647-4754-8613-0bc499c21822",
         "x": [
          0,
          891,
          1782,
          2673,
          3564,
          4455,
          5346,
          6237,
          7129,
          8020,
          8911,
          9802,
          10693,
          11584,
          12475,
          13367,
          14258,
          15149,
          16040,
          16931,
          17822,
          18713,
          19605,
          20496,
          21387,
          22278,
          23169,
          24060,
          24951,
          25684,
          26478,
          26735,
          27656,
          28817,
          30298,
          30944,
          31718,
          32384,
          33439,
          34074,
          35038,
          36089,
          37131,
          37787,
          38649,
          39665,
          40984,
          41119,
          42721,
          43662,
          44239,
          44783,
          46071,
          47058,
          48121,
          48987,
          49617,
          50289,
          51096,
          52166,
          53003,
          53835,
          54789,
          55623,
          56903,
          57884,
          58697,
          59460,
          60178,
          61088,
          61711,
          62444,
          63452,
          64548,
          65783,
          66557,
          67001,
          68125,
          68797,
          70134,
          71258,
          72043,
          72528,
          73240,
          73972,
          75740,
          76102,
          77079,
          77889,
          78480,
          80034,
          80962,
          81927,
          82657,
          83283,
          84114,
          84872,
          85856,
          87214,
          88025,
          89008,
          89690,
          90782,
          91735,
          92515,
          93040,
          94297,
          94531,
          96230,
          96753,
          97974,
          98332,
          99606,
          100235,
          101566,
          102445,
          102785,
          103549,
          104964,
          105301,
          106137,
          107745,
          108707,
          109459,
          110341,
          111356,
          111926,
          112725,
          114065,
          114838,
          115120,
          116073,
          117305,
          118036,
          118957,
          120032,
          120563,
          121957,
          122571,
          123208,
          124210,
          125262,
          126105,
          126743,
          128257,
          128567,
          129798,
          130622,
          131395,
          132038,
          133594,
          133684,
          134593,
          135596,
          136613,
          137664,
          138737,
          139393,
          140058,
          141180,
          142428,
          142998,
          144348,
          144708,
          146063,
          146780,
          147457,
          148074,
          149460,
          150585,
          151492,
          151631,
          152570,
          153277,
          154628,
          155764,
          156239,
          157203,
          158457,
          159040,
          159826,
          160999,
          162145,
          162947,
          163275,
          164529,
          164990,
          165916,
          166828,
          167826,
          168806,
          169975,
          170609,
          171602,
          172758,
          173660,
          173887,
          175234,
          175920,
          176555,
          177673,
          179062,
          179233,
          180771,
          181537,
          181893,
          182869,
          183652,
          185356,
          186003,
          186885,
          187936,
          188397,
          189611,
          190052,
          191533,
          192486,
          193163,
          194152,
          194522,
          195598,
          196857,
          197651,
          198338,
          199021,
          200259,
          201061,
          201624,
          202640,
          203431,
          204338,
          205440,
          206679,
          207342,
          208184,
          209240,
          210214,
          210851,
          211797,
          212972,
          213623,
          214321,
          215034,
          216377,
          216995,
          218328,
          219132,
          219582,
          220495,
          221863,
          222700,
          223610,
          224214,
          225341,
          226278,
          226866,
          227378,
          228569,
          229072,
          230660,
          231461,
          232133,
          233452,
          233984,
          235081,
          235402,
          236202,
          237934,
          238561,
          239240,
          240235,
          241311,
          242225,
          243046,
          243913,
          244457,
          245728,
          246721,
          247576,
          248083,
          249098,
          249900,
          250859,
          251893,
          252675,
          253306,
          254294,
          255056,
          256077,
          256962,
          257920,
          259321,
          260159,
          260506,
          261753,
          262116,
          263514,
          264084,
          265539,
          265970,
          266813,
          268124,
          268711,
          269140,
          270478,
          271796,
          272440,
          273159,
          274001,
          274761,
          275872,
          276254,
          277550,
          278190,
          279675,
          280209,
          281454,
          282490,
          283272,
          283488,
          284912,
          285378,
          286221,
          287466,
          288699,
          289620,
          290143,
          291365,
          291975,
          292343,
          293449,
          294810,
          295485,
          296065,
          297424,
          298083,
          299423,
          300223,
          301146,
          301744,
          302695,
          303210,
          304281,
          304908,
          306096,
          307246,
          307784,
          309155,
          309780,
          310319,
          311317,
          312037,
          312886,
          314525,
          315132,
          315699,
          316863,
          317727,
          318638,
          319228,
          320726,
          320985,
          322422,
          322990,
          323652,
          325080,
          326157,
          326911,
          327566,
          327958,
          329120,
          329754,
          331069,
          331884,
          333275,
          333764,
          335068,
          335787,
          336817,
          337283,
          338120,
          338806,
          339626,
          341190,
          341879,
          342354,
          343852,
          344590,
          345590,
          346564,
          347244,
          347889,
          348940,
          349810,
          350571,
          351353,
          352764,
          353595,
          354622,
          355254,
          356203,
          356775,
          357387,
          358820,
          359725,
          360903,
          361761,
          361852,
          363026,
          364119,
          364629,
          365533,
          366681,
          367822,
          368931,
          369248,
          369824,
          371111,
          371677,
          373110,
          373981,
          374440,
          376061,
          376465,
          377817,
          378641,
          379479,
          380144,
          380840,
          381425,
          383059,
          383484,
          384234,
          385201,
          386431,
          387257,
          388521,
          389321,
          389804,
          390422,
          391661,
          392971,
          393415,
          394709,
          395583,
          396499,
          396889,
          397621,
          398613,
          400069,
          400371,
          401630,
          402276,
          403684,
          404577,
          405137,
          405872,
          406431,
          407704,
          408451,
          409501,
          410367,
          411701,
          412438,
          413141,
          414131,
          414652,
          416053,
          417046,
          417559,
          418532,
          419306,
          420177,
          420830,
          421516,
          423228,
          424097,
          424889,
          425524,
          426803,
          427229,
          428031,
          428660,
          430265,
          430925,
          432018,
          432472,
          433692,
          434752,
          435430,
          436396,
          436982,
          438015,
          439281,
          439860,
          440946,
          441634,
          442113,
          443164,
          444235,
          445503,
          446126,
          446549,
          447373,
          448814,
          449609,
          450317,
          451545,
          452395,
          453521,
          454009,
          454989,
          455480,
          456496,
          457542,
          458504,
          459814,
          460241,
          461591,
          461983,
          463111,
          463853,
          465037,
          465501,
          466590,
          466997,
          468333,
          469235,
          469841,
          471394,
          471994,
          472744,
          473260,
          474776,
          475047,
          476650,
          477147,
          478187,
          479107,
          480299,
          480768,
          481996,
          482514,
          483678,
          484604,
          485516,
          485754,
          486797,
          487769,
          488611,
          489761,
          490542,
          491734,
          492199,
          493669,
          494340,
          495289,
          495685,
          497052,
          497299,
          498259,
          499416,
          500074,
          501629,
          502460,
          503165,
          503682,
          505243,
          506165,
          506475,
          507202,
          508193,
          508993,
          509793,
          510649,
          511610,
          512917,
          514011,
          515050,
          515411,
          516751,
          517725,
          518609,
          519379,
          520324,
          520891,
          521756,
          522505,
          523346,
          524792,
          525295,
          526459,
          527132,
          527696,
          528669,
          529583,
          530630,
          531625,
          532189,
          533300,
          534235,
          535468,
          536329,
          537095,
          537655,
          538572,
          539501,
          540220,
          541060,
          542546,
          543226,
          543598,
          545359,
          545824,
          546385,
          547819,
          548321,
          549326,
          550404,
          550726,
          552404,
          553224,
          553422,
          554887,
          555887,
          556475,
          557270,
          558701,
          559118,
          559662,
          561059,
          561493,
          563029,
          563467,
          564982,
          565409,
          565877,
          567322,
          568363,
          568548,
          569579,
          570459,
          571357,
          572196,
          573703,
          574510,
          575674,
          576051,
          577320,
          577880,
          578672,
          580025,
          580576,
          581895,
          582253,
          582903,
          584201,
          585145,
          586261,
          586802,
          587776,
          589003,
          589849,
          589960,
          591375,
          592429,
          592831,
          594019,
          594982,
          595879,
          596553,
          597952,
          598661,
          599737,
          600412,
          601397,
          601912,
          603167,
          604172,
          604784,
          605569,
          606372,
          607458,
          608498,
          609414,
          610266,
          610557,
          612203,
          612749,
          613975,
          614516,
          615360,
          616433,
          616721,
          618018,
          618688,
          619778,
          620987,
          622015,
          622787,
          623615,
          624198,
          625580,
          626030,
          627223,
          628236,
          629063,
          629678,
          630545,
          631818,
          632311,
          632962,
          634148,
          635228,
          635527,
          637165,
          637703,
          638161,
          639462,
          640067,
          641253,
          641964,
          643230,
          643708,
          644579,
          646025,
          646509,
          647019,
          648354,
          649098,
          650149,
          651110,
          651921,
          653093,
          653648,
          654569,
          655783,
          656045,
          657370,
          657811,
          658722,
          659998,
          660756,
          661296,
          662118,
          663223,
          664100,
          665675,
          666350,
          667053,
          668354,
          669245,
          669899,
          670845,
          671586,
          671959,
          673598,
          674591,
          675020,
          676266,
          677178,
          677876,
          678805,
          679278,
          680579,
          681288,
          682540,
          683291,
          684395,
          684962,
          685469,
          686625,
          687608,
          688381,
          689596,
          690313,
          691344,
          691862,
          693305,
          693575,
          694391,
          695442,
          696358,
          697386,
          698573,
          699151,
          700020,
          701155,
          701328,
          702727,
          703591,
          704301,
          705450,
          706623,
          707521,
          708311,
          709178,
          709959,
          710970,
          711828,
          712144,
          713394,
          713943,
          714775,
          716360,
          716926,
          717583,
          718668,
          719334,
          720932,
          721493,
          722262,
          723164,
          724431,
          724894,
          725389,
          726471,
          727991,
          728761,
          729356,
          730249,
          731536,
          731971,
          732552,
          733851,
          734550,
          735325,
          736585,
          737707,
          738423,
          739219,
          740534,
          741356,
          742273,
          743083,
          744065,
          744968,
          745681,
          746045,
          747620,
          748323,
          749186,
          750331,
          751152,
          751817,
          752899,
          753398,
          754216,
          755502,
          756558,
          757311,
          758094,
          759154,
          759983,
          760161,
          761246,
          762100,
          763707,
          764065,
          764895,
          765921,
          767123,
          768061,
          769032,
          769749,
          770299,
          771288,
          772016,
          772645,
          773588,
          775109,
          776144,
          776268,
          777952,
          778803,
          778909,
          780388,
          781178,
          782323,
          783213,
          783855,
          784998,
          785672,
          786248,
          787026,
          787943,
          789259,
          789974,
          790442,
          791962,
          792671,
          793568,
          794762,
          795602,
          796208,
          797517,
          797904,
          799073,
          800243,
          800975,
          801717,
          802805,
          803459,
          804683,
          805001,
          805598,
          806909,
          807664,
          808705,
          809560,
          810836,
          811380,
          811915,
          813014,
          814267,
          815099,
          816136,
          816465,
          817340,
          818449,
          819207,
          819897,
          821625,
          822326,
          823324,
          823631,
          824573,
          825250,
          826396,
          827851,
          828302,
          829474,
          829681,
          831107,
          831730,
          832638,
          833863,
          834671,
          835676,
          836099,
          837610,
          838515,
          839205,
          839767,
          840346,
          841637,
          842702,
          843032,
          844780,
          845536,
          846367,
          846943,
          847699,
          848709,
          850093,
          850749,
          851856,
          852712,
          852855,
          853820,
          855179,
          855815,
          856711,
          858168,
          858540,
          859060,
          860104,
          860843,
          861733,
          862998,
          863740,
          865297,
          865785,
          866658,
          867372,
          868363,
          869672,
          870586,
          871369,
          871958,
          872453,
          873343,
          874892,
          875153,
          876521,
          877773,
          878288,
          879481,
          879959,
          880447,
          881410,
          882229,
          883754,
          884403,
          885587,
          886552,
          887346,
          888459,
          888865,
          889359
         ],
         "y": {
          "dtype": "float64",
          "shape": [
           1000
          ],
          "value": {}
         }
        },
        {
         "line": {
          "color": "red",
          "dash": "dot"
         },
         "name": "<b style=\"color:sandybrown\">[R]</b> qA <i style=\"color:#fc9944\">~890</i>",
         "opacity": 0.5,
         "type": "scattergl",
         "uid": "cb246b07-3831-4060-84ac-4dd944af0a9a",
         "x": [
          0,
          891,
          1782,
          2673,
          3564,
          4455,
          5346,
          6237,
          7129,
          8020,
          8911,
          9802,
          10693,
          11584,
          12475,
          13367,
          14258,
          15149,
          16040,
          16931,
          17822,
          18713,
          19605,
          20496,
          21387,
          22278,
          23169,
          24060,
          24951,
          25511,
          26673,
          26735,
          28143,
          28817,
          29998,
          30944,
          31751,
          32384,
          33439,
          34074,
          35419,
          36300,
          37131,
          37787,
          39128,
          39665,
          40307,
          41551,
          42591,
          43327,
          44302,
          45362,
          46051,
          47045,
          47989,
          48980,
          49617,
          50289,
          51056,
          52040,
          53016,
          53835,
          54528,
          56098,
          56491,
          57238,
          57925,
          59693,
          59954,
          60976,
          61709,
          63060,
          63904,
          64675,
          65453,
          66360,
          67621,
          68085,
          69456,
          69780,
          71169,
          72043,
          72528,
          73709,
          73972,
          75201,
          76102,
          76885,
          77889,
          78480,
          80034,
          80888,
          81927,
          82812,
          83283,
          84499,
          85534,
          86203,
          87214,
          88025,
          88795,
          89686,
          90179,
          91747,
          92336,
          92679,
          94297,
          95064,
          96243,
          96671,
          97135,
          98438,
          99472,
          100235,
          100699,
          101602,
          102682,
          104061,
          104953,
          105540,
          106137,
          107354,
          108707,
          109082,
          110372,
          111356,
          111926,
          112725,
          113760,
          114935,
          115669,
          116691,
          117156,
          118077,
          119385,
          120292,
          120887,
          121280,
          122362,
          123615,
          124759,
          125262,
          126105,
          126743,
          128129,
          129215,
          129798,
          130646,
          131395,
          132038,
          133590,
          133684,
          134611,
          135596,
          136613,
          137664,
          138737,
          139721,
          140487,
          141324,
          141833,
          143313,
          144045,
          145104,
          145793,
          146780,
          147457,
          148367,
          149710,
          150047,
          150968,
          152098,
          153075,
          153628,
          154898,
          155869,
          156435,
          157431,
          158345,
          159041,
          160319,
          161016,
          161909,
          162852,
          163164,
          164062,
          164990,
          166429,
          167299,
          167826,
          169311,
          170170,
          170604,
          171951,
          172553,
          173405,
          174040,
          175536,
          176280,
          177261,
          178207,
          178904,
          179233,
          180474,
          181637,
          181893,
          182869,
          184400,
          185356,
          186076,
          186885,
          187890,
          188031,
          189353,
          189889,
          190717,
          191870,
          193041,
          194201,
          194520,
          195201,
          196857,
          197646,
          198334,
          199224,
          200259,
          201258,
          202194,
          202648,
          203619,
          204622,
          205381,
          206532,
          207037,
          208184,
          209257,
          209902,
          210593,
          211604,
          212536,
          213395,
          213888,
          214861,
          215865,
          216892,
          217885,
          218330,
          220041,
          220553,
          221875,
          222683,
          223610,
          224214,
          225335,
          226278,
          226758,
          227378,
          228569,
          229260,
          230150,
          231101,
          232065,
          233068,
          233984,
          235081,
          236007,
          236473,
          237934,
          238663,
          239240,
          240235,
          241442,
          242349,
          243207,
          243913,
          244669,
          245438,
          246052,
          247375,
          248374,
          249098,
          250331,
          251245,
          252008,
          252821,
          253541,
          254295,
          255086,
          256499,
          256962,
          257920,
          259321,
          260159,
          260506,
          261541,
          261996,
          263070,
          264285,
          265539,
          265746,
          266813,
          267928,
          269029,
          269784,
          270723,
          271078,
          272429,
          272863,
          274118,
          275201,
          276245,
          276910,
          277508,
          278327,
          279675,
          280209,
          281454,
          282490,
          283272,
          283488,
          284912,
          285378,
          286665,
          287462,
          288363,
          289620,
          290354,
          291246,
          291975,
          293185,
          293449,
          294626,
          295485,
          296747,
          297424,
          298278,
          298824,
          300223,
          300741,
          301744,
          302734,
          303688,
          304331,
          305168,
          306035,
          307237,
          307784,
          308335,
          309685,
          310271,
          311574,
          312652,
          313358,
          314178,
          315133,
          315848,
          316863,
          317716,
          318433,
          319735,
          320266,
          320985,
          322391,
          323210,
          323768,
          324612,
          325267,
          326615,
          327637,
          328357,
          329122,
          329754,
          330703,
          332388,
          333269,
          333777,
          335068,
          335438,
          336157,
          337313,
          338129,
          339189,
          339908,
          341176,
          341769,
          342363,
          343242,
          344765,
          345591,
          346564,
          347244,
          347889,
          348940,
          349810,
          350857,
          351476,
          352538,
          353595,
          354622,
          355254,
          356452,
          356775,
          357538,
          359054,
          359438,
          360903,
          361439,
          361852,
          363026,
          364425,
          364820,
          365992,
          366681,
          367375,
          368931,
          369815,
          370188,
          371517,
          372496,
          373110,
          373389,
          374440,
          375316,
          376071,
          377778,
          378527,
          379479,
          380144,
          380840,
          382241,
          382826,
          383965,
          384662,
          384999,
          386225,
          387341,
          388387,
          389152,
          389804,
          390886,
          391605,
          392679,
          393419,
          394739,
          394974,
          396077,
          397028,
          397621,
          398613,
          399395,
          400371,
          401654,
          402039,
          403285,
          404458,
          405438,
          406291,
          406884,
          407704,
          408194,
          409049,
          409927,
          411649,
          412001,
          413141,
          414131,
          414766,
          416162,
          416552,
          417393,
          418046,
          419393,
          419860,
          420619,
          421514,
          422643,
          424097,
          424918,
          425700,
          426335,
          427213,
          428031,
          428660,
          429896,
          431230,
          431816,
          432879,
          433214,
          434161,
          435100,
          435979,
          436775,
          437628,
          439330,
          439581,
          440532,
          441634,
          442305,
          443095,
          443898,
          444988,
          446429,
          446484,
          447373,
          448814,
          449609,
          450517,
          451545,
          452606,
          453459,
          454187,
          454930,
          455480,
          456515,
          457385,
          458801,
          459814,
          460241,
          461591,
          461983,
          462543,
          463853,
          465037,
          465501,
          466863,
          467615,
          468333,
          469092,
          469841,
          471017,
          471441,
          473155,
          473927,
          474776,
          475478,
          476650,
          477147,
          478180,
          479179,
          479848,
          480768,
          482015,
          482514,
          483748,
          484289,
          485469,
          485753,
          486694,
          487769,
          489224,
          489984,
          490542,
          491019,
          492497,
          493194,
          493939,
          495286,
          496332,
          496941,
          497299,
          498237,
          499416,
          500765,
          501629,
          502460,
          503309,
          504268,
          505120,
          506165,
          506677,
          507350,
          508217,
          509144,
          510597,
          511489,
          512061,
          513073,
          513564,
          515050,
          515560,
          516704,
          517490,
          518159,
          519379,
          520324,
          520891,
          521929,
          522505,
          523694,
          524498,
          525298,
          526086,
          527490,
          527971,
          528669,
          529504,
          530893,
          531625,
          532801,
          533123,
          534495,
          535575,
          536331,
          536987,
          538182,
          539064,
          539793,
          540550,
          540923,
          542251,
          542910,
          544048,
          545359,
          545824,
          546770,
          547819,
          548617,
          549740,
          550547,
          551302,
          552404,
          553385,
          553763,
          554525,
          555579,
          556475,
          557113,
          558742,
          559118,
          560120,
          561418,
          561736,
          563029,
          563350,
          564982,
          565409,
          565877,
          567322,
          568162,
          568850,
          570320,
          571117,
          571526,
          572451,
          573395,
          574319,
          575240,
          576552,
          577104,
          577681,
          578914,
          580025,
          580873,
          581895,
          582063,
          582900,
          584586,
          585162,
          586342,
          586964,
          588100,
          588937,
          589859,
          590078,
          590887,
          592405,
          593188,
          593555,
          595075,
          596172,
          596709,
          597440,
          598512,
          599481,
          600412,
          601397,
          602059,
          603167,
          604053,
          604786,
          605569,
          606373,
          607454,
          608498,
          609218,
          609745,
          610571,
          612203,
          612754,
          613275,
          613996,
          614913,
          616160,
          617384,
          618404,
          618985,
          619782,
          620317,
          621686,
          622209,
          623298,
          624023,
          624922,
          625839,
          626679,
          628056,
          628512,
          629889,
          630692,
          631818,
          632311,
          632775,
          634470,
          635228,
          635673,
          637165,
          637703,
          638154,
          639406,
          640067,
          641265,
          641709,
          643230,
          643534,
          644579,
          645339,
          646509,
          647019,
          648354,
          649098,
          649768,
          651102,
          651921,
          653093,
          653648,
          654569,
          655677,
          656295,
          657556,
          657811,
          659424,
          659806,
          660759,
          661608,
          662118,
          663223,
          664100,
          665656,
          666351,
          666728,
          668067,
          668872,
          669317,
          670852,
          671507,
          671960,
          672812,
          674591,
          675020,
          676266,
          677137,
          677943,
          678805,
          679809,
          680547,
          681702,
          682540,
          683291,
          684395,
          684880,
          685469,
          686387,
          687070,
          688693,
          689616,
          690313,
          691344,
          692228,
          692755,
          693795,
          694785,
          695484,
          696394,
          697583,
          698573,
          699162,
          700295,
          701155,
          701328,
          702408,
          703591,
          704665,
          705099,
          706352,
          707429,
          708311,
          709178,
          709795,
          710289,
          711828,
          712900,
          713533,
          714249,
          715254,
          715797,
          717367,
          717995,
          719100,
          719902,
          720397,
          721621,
          722607,
          723107,
          724458,
          725200,
          725865,
          727143,
          727991,
          728717,
          729491,
          730363,
          731041,
          731890,
          732841,
          734272,
          734648,
          735325,
          736585,
          737346,
          738423,
          738785,
          740534,
          741081,
          741695,
          743083,
          743500,
          744112,
          745084,
          746045,
          747581,
          748197,
          749074,
          750102,
          750687,
          752094,
          752590,
          753014,
          754495,
          755362,
          756109,
          756757,
          757471,
          758417,
          760088,
          760576,
          761719,
          762081,
          763707,
          764335,
          765054,
          766334,
          767250,
          767715,
          768163,
          769295,
          770040,
          771727,
          772143,
          773226,
          774320,
          774609,
          775471,
          776217,
          777550,
          778155,
          779208,
          780388,
          781366,
          781865,
          782747,
          783855,
          784998,
          785839,
          786516,
          787401,
          787800,
          789503,
          789974,
          790442,
          791901,
          793056,
          793568,
          794762,
          795602,
          796041,
          796825,
          798131,
          798859,
          800113,
          801086,
          801717,
          802805,
          803459,
          804683,
          805001,
          806342,
          807268,
          807919,
          808935,
          809560,
          810836,
          811607,
          812024,
          813057,
          813818,
          814512,
          815394,
          816773,
          817607,
          818449,
          819798,
          820640,
          821102,
          822326,
          823411,
          823636,
          825178,
          825931,
          826514,
          827147,
          828366,
          829434,
          830190,
          831005,
          831809,
          832810,
          833486,
          834598,
          835676,
          836099,
          837050,
          837672,
          839304,
          840072,
          841012,
          842127,
          843018,
          843379,
          844796,
          845316,
          845903,
          847192,
          847659,
          848709,
          849709,
          850873,
          851856,
          852712,
          853340,
          854097,
          854629,
          855495,
          856609,
          857575,
          858698,
          859909,
          860182,
          861481,
          862303,
          862926,
          863779,
          864920,
          865776,
          866819,
          867216,
          868067,
          869120,
          869753,
          870745,
          871727,
          873317,
          873896,
          874397,
          875739,
          876521,
          877220,
          878651,
          879265,
          880065,
          880974,
          882020,
          882483,
          883471,
          884110,
          884967,
          886000,
          887125,
          888426,
          888865,
          889359
         ],
         "y": {
          "dtype": "float64",
          "shape": [
           1000
          ],
          "value": {}
         }
        },
        {
         "line": {
          "color": "green",
          "dash": "dot"
         },
         "name": "<b style=\"color:sandybrown\">[R]</b> qB <i style=\"color:#fc9944\">~890</i>",
         "opacity": 0.5,
         "type": "scattergl",
         "uid": "ab2de832-2a25-436a-af4d-b378a18165ef",
         "x": [
          0,
          891,
          1782,
          2673,
          3564,
          4455,
          5346,
          6237,
          7129,
          8020,
          8911,
          9802,
          10693,
          11584,
          12475,
          13367,
          14258,
          15149,
          16040,
          16931,
          17822,
          18713,
          19605,
          20496,
          21387,
          22278,
          23169,
          24060,
          24951,
          25499,
          26475,
          26741,
          27656,
          28802,
          30298,
          31143,
          31561,
          32384,
          33863,
          34630,
          35038,
          36089,
          37131,
          37787,
          39006,
          39586,
          40521,
          41119,
          42721,
          43318,
          44239,
          45431,
          46157,
          46685,
          47603,
          48234,
          49069,
          50148,
          51503,
          52166,
          52678,
          53613,
          54669,
          56018,
          56897,
          57884,
          58311,
          59460,
          60211,
          61337,
          62224,
          62838,
          64162,
          64548,
          65763,
          66557,
          66999,
          68101,
          69493,
          70065,
          71132,
          72043,
          72528,
          73235,
          73972,
          75740,
          76598,
          77079,
          78178,
          78480,
          79501,
          80962,
          81513,
          82607,
          83254,
          84253,
          84940,
          86317,
          87214,
          88025,
          88845,
          89743,
          90782,
          91759,
          92515,
          93208,
          94086,
          95249,
          95633,
          96632,
          97974,
          98296,
          99324,
          100176,
          101233,
          101773,
          102525,
          104263,
          104991,
          105829,
          106807,
          107745,
          108071,
          108754,
          110309,
          110707,
          111819,
          112821,
          114065,
          114855,
          115394,
          116637,
          117295,
          118035,
          119412,
          120032,
          120563,
          121426,
          122348,
          123655,
          124371,
          125486,
          126155,
          126743,
          127577,
          128889,
          129658,
          130542,
          131138,
          131987,
          133594,
          133684,
          134793,
          135596,
          136651,
          137799,
          138737,
          139400,
          140392,
          141180,
          142130,
          142998,
          144144,
          145055,
          146063,
          146776,
          147457,
          148560,
          149441,
          150110,
          151228,
          151938,
          153210,
          153561,
          154735,
          155377,
          156239,
          157138,
          158480,
          159030,
          159841,
          160626,
          162151,
          162947,
          163275,
          164549,
          165101,
          166300,
          167531,
          168379,
          169036,
          169975,
          170609,
          171749,
          172630,
          173660,
          174378,
          175261,
          176058,
          176969,
          178049,
          179106,
          179728,
          180022,
          181473,
          182054,
          182869,
          184437,
          185058,
          185359,
          186764,
          187936,
          188397,
          189579,
          190445,
          191261,
          192021,
          193377,
          194152,
          194556,
          195598,
          196196,
          197085,
          198625,
          199189,
          200392,
          201254,
          202056,
          203179,
          203431,
          204080,
          205004,
          205862,
          207037,
          208019,
          208586,
          210214,
          210551,
          211797,
          212693,
          213637,
          214321,
          215034,
          215942,
          216995,
          217721,
          218957,
          220109,
          220390,
          221799,
          222528,
          222991,
          223834,
          224988,
          225968,
          227224,
          227378,
          228959,
          229827,
          230784,
          231165,
          231968,
          233452,
          233692,
          234931,
          235615,
          236473,
          237506,
          238561,
          238890,
          240477,
          241442,
          242225,
          243046,
          243987,
          244996,
          245725,
          246607,
          247576,
          248115,
          249421,
          250409,
          250859,
          251893,
          252675,
          253927,
          254823,
          255302,
          256407,
          257257,
          257985,
          258688,
          260171,
          260431,
          261774,
          262689,
          263185,
          263926,
          265328,
          265974,
          266611,
          267820,
          268888,
          269714,
          270817,
          271213,
          272194,
          273579,
          274001,
          274761,
          275894,
          276750,
          277550,
          278675,
          279136,
          280574,
          280826,
          282490,
          282781,
          283420,
          284495,
          285285,
          286736,
          287466,
          288280,
          288886,
          289626,
          291367,
          291995,
          292754,
          293269,
          294465,
          295214,
          296594,
          297640,
          297941,
          299323,
          300195,
          301146,
          302096,
          302871,
          303670,
          304167,
          304908,
          305779,
          307246,
          308184,
          309155,
          309422,
          310720,
          311317,
          312234,
          313314,
          314525,
          315128,
          315612,
          316461,
          317795,
          318747,
          319350,
          320726,
          320985,
          322422,
          322924,
          323652,
          324844,
          325313,
          326788,
          327404,
          328824,
          329721,
          330034,
          331069,
          331864,
          332420,
          333287,
          334293,
          335247,
          336817,
          337542,
          338271,
          339052,
          339828,
          340630,
          341797,
          342433,
          343639,
          344753,
          345234,
          346196,
          347502,
          348109,
          348543,
          350146,
          350568,
          351343,
          352456,
          353066,
          354620,
          355254,
          356372,
          356631,
          357984,
          358802,
          359639,
          360064,
          361584,
          362030,
          363524,
          364172,
          364629,
          365925,
          366827,
          367918,
          368931,
          369248,
          369824,
          371111,
          371696,
          373110,
          373836,
          374990,
          375946,
          376465,
          377744,
          378193,
          379308,
          380439,
          381306,
          382267,
          383058,
          383578,
          384694,
          385202,
          386361,
          387251,
          388484,
          389320,
          390114,
          390856,
          391620,
          392613,
          393082,
          394657,
          395176,
          396164,
          396959,
          397961,
          398583,
          399304,
          400707,
          401696,
          402289,
          402965,
          404577,
          404890,
          405909,
          406689,
          407252,
          408434,
          409035,
          410047,
          410941,
          411932,
          413115,
          414131,
          415097,
          416055,
          416959,
          417559,
          418514,
          419635,
          420177,
          420830,
          422395,
          423014,
          423990,
          424815,
          425524,
          426774,
          427229,
          427771,
          429067,
          429772,
          430913,
          432018,
          433082,
          433694,
          434844,
          435560,
          435869,
          437508,
          438427,
          439117,
          439860,
          440695,
          441777,
          442113,
          443164,
          444217,
          445503,
          446090,
          446587,
          448124,
          448666,
          449347,
          450353,
          451492,
          452688,
          453325,
          454347,
          454762,
          455507,
          457014,
          458042,
          458937,
          459828,
          460241,
          461414,
          461936,
          463060,
          464261,
          464569,
          466066,
          466590,
          466997,
          467877,
          468740,
          470120,
          471413,
          472049,
          472744,
          473903,
          474276,
          475834,
          476650,
          477137,
          477828,
          478896,
          479788,
          480589,
          481271,
          482514,
          483678,
          484604,
          485669,
          485885,
          486569,
          487611,
          488611,
          489678,
          490147,
          491117,
          492199,
          493606,
          494340,
          495089,
          496365,
          496651,
          497788,
          498706,
          499776,
          500078,
          501632,
          502460,
          503165,
          504083,
          504988,
          505831,
          506809,
          507923,
          508500,
          509408,
          509970,
          510920,
          511794,
          513238,
          513630,
          514720,
          515495,
          516840,
          517076,
          517753,
          518687,
          519700,
          520891,
          522071,
          522977,
          523420,
          524184,
          524882,
          526460,
          527461,
          527857,
          529309,
          529843,
          530630,
          531746,
          532771,
          533300,
          534286,
          535135,
          536248,
          537294,
          537655,
          539130,
          539832,
          540889,
          541469,
          542576,
          543227,
          543928,
          544859,
          545499,
          546748,
          548046,
          548902,
          549685,
          550705,
          551058,
          551938,
          552533,
          553618,
          554860,
          555887,
          556475,
          557270,
          558701,
          558750,
          560079,
          561365,
          561674,
          562443,
          563502,
          564593,
          565863,
          566681,
          567548,
          568467,
          569034,
          570089,
          571066,
          571481,
          572508,
          573456,
          574336,
          575139,
          576567,
          577277,
          577708,
          578783,
          579391,
          580576,
          581441,
          581954,
          583687,
          584201,
          584731,
          585579,
          586892,
          587913,
          589002,
          589674,
          590495,
          591375,
          592135,
          593067,
          594051,
          594982,
          596085,
          596872,
          597754,
          598122,
          599080,
          600282,
          601047,
          601520,
          603042,
          603314,
          604891,
          605922,
          606076,
          607315,
          608578,
          608878,
          609805,
          611046,
          612203,
          612651,
          613903,
          614201,
          615160,
          616035,
          617295,
          618018,
          618688,
          619770,
          620987,
          621846,
          622787,
          623605,
          624205,
          625026,
          626000,
          626812,
          627363,
          628893,
          629944,
          630858,
          631818,
          632038,
          633104,
          634123,
          635178,
          635642,
          637154,
          637955,
          638439,
          639823,
          640726,
          641535,
          642452,
          643230,
          643708,
          644787,
          646015,
          646509,
          647019,
          647968,
          649098,
          650150,
          651110,
          652314,
          653205,
          653860,
          654805,
          655417,
          656577,
          657370,
          658522,
          659443,
          659970,
          660678,
          661227,
          662163,
          663223,
          664441,
          665103,
          666479,
          667053,
          667914,
          668356,
          669247,
          670138,
          671142,
          672731,
          673699,
          673996,
          674950,
          676225,
          677203,
          677838,
          678593,
          679462,
          680569,
          681124,
          682121,
          683291,
          684395,
          684962,
          685470,
          686625,
          687344,
          688759,
          689596,
          690313,
          690663,
          691979,
          692553,
          693406,
          694391,
          695972,
          696358,
          697063,
          698603,
          699151,
          700026,
          700646,
          701353,
          702727,
          703540,
          704542,
          705088,
          706511,
          707424,
          708311,
          708806,
          709959,
          710937,
          711673,
          712144,
          713394,
          714001,
          715247,
          715882,
          717096,
          718241,
          718780,
          719434,
          720932,
          721493,
          722419,
          723201,
          724384,
          724935,
          725814,
          726476,
          727301,
          728510,
          729649,
          730537,
          731143,
          731789,
          732552,
          733524,
          734467,
          736016,
          736973,
          737707,
          738396,
          739219,
          740534,
          741356,
          741860,
          742625,
          743442,
          744112,
          745636,
          746566,
          747363,
          748136,
          748923,
          750023,
          750530,
          751817,
          752254,
          753197,
          754795,
          755412,
          755966,
          756998,
          757471,
          759154,
          759771,
          760690,
          761920,
          762481,
          763707,
          764564,
          765233,
          765951,
          767123,
          768026,
          769032,
          769749,
          770299,
          771285,
          772403,
          772849,
          774016,
          774871,
          776161,
          776508,
          777305,
          778103,
          779324,
          779938,
          781440,
          782323,
          783229,
          783577,
          784654,
          785669,
          786415,
          787607,
          788436,
          789290,
          789892,
          790685,
          792043,
          792683,
          793841,
          794762,
          795165,
          796501,
          797517,
          797785,
          799073,
          800243,
          800975,
          801768,
          802186,
          803013,
          803866,
          805350,
          806480,
          807373,
          807817,
          808705,
          809560,
          810629,
          811497,
          811916,
          813611,
          814267,
          815192,
          816065,
          816465,
          817462,
          818857,
          819296,
          819948,
          821546,
          822083,
          823280,
          823414,
          824570,
          825250,
          826736,
          827428,
          828213,
          828832,
          830157,
          830983,
          832066,
          833037,
          833941,
          834453,
          835301,
          836378,
          837311,
          838268,
          839205,
          840072,
          840784,
          841568,
          842702,
          843565,
          844780,
          845523,
          846306,
          846939,
          847699,
          848811,
          849600,
          851003,
          851760,
          852468,
          852929,
          853955,
          855190,
          855844,
          856636,
          858168,
          858588,
          859906,
          860661,
          861176,
          862519,
          863210,
          863567,
          864801,
          865549,
          866658,
          867372,
          868566,
          869605,
          870428,
          871035,
          871958,
          872428,
          873694,
          875098,
          875812,
          876590,
          877773,
          878495,
          879179,
          880234,
          881135,
          882224,
          883055,
          883776,
          884404,
          885470,
          886556,
          887346,
          888466,
          888865,
          889359
         ],
         "y": {
          "dtype": "float64",
          "shape": [
           1000
          ],
          "value": {}
         }
        },
        {
         "connectgaps": true,
         "line": {
          "color": "gray",
          "shape": "hv",
          "width": 3
         },
         "name": "Profit",
         "opacity": 0.4,
         "type": "scattergl",
         "uid": "2843654f-c298-4250-95c7-f19c36dbf94b",
         "x": [
          45319,
          65936,
          96665,
          117867,
          129728,
          156453,
          200726,
          248432,
          271357,
          322807,
          338361,
          386639,
          454067,
          527130,
          574304,
          627015,
          667108,
          680378,
          734858,
          760083,
          786598,
          812868,
          831262,
          860186,
          869226,
          878819
         ],
         "xaxis": "x",
         "y": {
          "dtype": "float64",
          "shape": [
           26
          ],
          "value": {}
         },
         "yaxis": "y2"
        },
        {
         "marker": {
          "color": "green",
          "line": {
           "color": "darkgreen",
           "width": 1
          },
          "size": 10,
          "symbol": "triangle-up"
         },
         "mode": "markers",
         "name": "Buy",
         "type": "scattergl",
         "uid": "d826bbd4-5aad-4771-8742-8a566a83906c",
         "x": [
          22787,
          65937,
          117868,
          156454,
          248433,
          322808,
          386640,
          527131,
          627016,
          680379,
          760084,
          812869,
          860187,
          65936,
          117867,
          156453,
          248432,
          322807,
          386639,
          527130,
          627015,
          680378,
          760083,
          812868,
          860186,
          878819
         ],
         "y": {
          "dtype": "float64",
          "shape": [
           26
          ],
          "value": {}
         }
        },
        {
         "marker": {
          "color": "red",
          "line": {
           "color": "darkred",
           "width": 1
          },
          "size": 10,
          "symbol": "triangle-down"
         },
         "mode": "markers",
         "name": "Sell",
         "type": "scattergl",
         "uid": "9e805e3a-0c4f-45bd-ae3c-ce3c2d7e1a52",
         "x": [
          45320,
          96666,
          129729,
          200727,
          271358,
          338362,
          454068,
          574305,
          667109,
          734859,
          786599,
          831263,
          869227,
          45319,
          96665,
          129728,
          200726,
          271357,
          338361,
          454067,
          574304,
          667108,
          734858,
          786598,
          831262,
          869226
         ],
         "y": {
          "dtype": "float64",
          "shape": [
           26
          ],
          "value": {}
         }
        }
       ],
       "_js2py_pointsCallback": {},
       "_js2py_restyle": {},
       "_js2py_update": {},
       "_last_layout_edit_id": 16,
       "_last_trace_edit_id": 16,
       "_layout": {
        "autosize": true,
        "height": 600,
        "legend": {
         "orientation": "h",
         "x": 0.1,
         "y": 1
        },
        "margin": {
         "b": 10,
         "l": 45,
         "pad": 3,
         "r": 15,
         "t": 30
        },
        "template": {
         "data": {
          "bar": [
           {
            "error_x": {
             "color": "#2a3f5f"
            },
            "error_y": {
             "color": "#2a3f5f"
            },
            "marker": {
             "line": {
              "color": "white",
              "width": 0.5
             },
             "pattern": {
              "fillmode": "overlay",
              "size": 10,
              "solidity": 0.2
             }
            },
            "type": "bar"
           }
          ],
          "barpolar": [
           {
            "marker": {
             "line": {
              "color": "white",
              "width": 0.5
             },
             "pattern": {
              "fillmode": "overlay",
              "size": 10,
              "solidity": 0.2
             }
            },
            "type": "barpolar"
           }
          ],
          "carpet": [
           {
            "aaxis": {
             "endlinecolor": "#2a3f5f",
             "gridcolor": "#C8D4E3",
             "linecolor": "#C8D4E3",
             "minorgridcolor": "#C8D4E3",
             "startlinecolor": "#2a3f5f"
            },
            "baxis": {
             "endlinecolor": "#2a3f5f",
             "gridcolor": "#C8D4E3",
             "linecolor": "#C8D4E3",
             "minorgridcolor": "#C8D4E3",
             "startlinecolor": "#2a3f5f"
            },
            "type": "carpet"
           }
          ],
          "choropleth": [
           {
            "colorbar": {
             "outlinewidth": 0,
             "ticks": ""
            },
            "type": "choropleth"
           }
          ],
          "contour": [
           {
            "colorbar": {
             "outlinewidth": 0,
             "ticks": ""
            },
            "colorscale": [
             [
              0,
              "#0d0887"
             ],
             [
              0.1111111111111111,
              "#46039f"
             ],
             [
              0.2222222222222222,
              "#7201a8"
             ],
             [
              0.3333333333333333,
              "#9c179e"
             ],
             [
              0.4444444444444444,
              "#bd3786"
             ],
             [
              0.5555555555555556,
              "#d8576b"
             ],
             [
              0.6666666666666666,
              "#ed7953"
             ],
             [
              0.7777777777777778,
              "#fb9f3a"
             ],
             [
              0.8888888888888888,
              "#fdca26"
             ],
             [
              1,
              "#f0f921"
             ]
            ],
            "type": "contour"
           }
          ],
          "contourcarpet": [
           {
            "colorbar": {
             "outlinewidth": 0,
             "ticks": ""
            },
            "type": "contourcarpet"
           }
          ],
          "heatmap": [
           {
            "colorbar": {
             "outlinewidth": 0,
             "ticks": ""
            },
            "colorscale": [
             [
              0,
              "#0d0887"
             ],
             [
              0.1111111111111111,
              "#46039f"
             ],
             [
              0.2222222222222222,
              "#7201a8"
             ],
             [
              0.3333333333333333,
              "#9c179e"
             ],
             [
              0.4444444444444444,
              "#bd3786"
             ],
             [
              0.5555555555555556,
              "#d8576b"
             ],
             [
              0.6666666666666666,
              "#ed7953"
             ],
             [
              0.7777777777777778,
              "#fb9f3a"
             ],
             [
              0.8888888888888888,
              "#fdca26"
             ],
             [
              1,
              "#f0f921"
             ]
            ],
            "type": "heatmap"
           }
          ],
          "heatmapgl": [
           {
            "colorbar": {
             "outlinewidth": 0,
             "ticks": ""
            },
            "colorscale": [
             [
              0,
              "#0d0887"
             ],
             [
              0.1111111111111111,
              "#46039f"
             ],
             [
              0.2222222222222222,
              "#7201a8"
             ],
             [
              0.3333333333333333,
              "#9c179e"
             ],
             [
              0.4444444444444444,
              "#bd3786"
             ],
             [
              0.5555555555555556,
              "#d8576b"
             ],
             [
              0.6666666666666666,
              "#ed7953"
             ],
             [
              0.7777777777777778,
              "#fb9f3a"
             ],
             [
              0.8888888888888888,
              "#fdca26"
             ],
             [
              1,
              "#f0f921"
             ]
            ],
            "type": "heatmapgl"
           }
          ],
          "histogram": [
           {
            "marker": {
             "pattern": {
              "fillmode": "overlay",
              "size": 10,
              "solidity": 0.2
             }
            },
            "type": "histogram"
           }
          ],
          "histogram2d": [
           {
            "colorbar": {
             "outlinewidth": 0,
             "ticks": ""
            },
            "colorscale": [
             [
              0,
              "#0d0887"
             ],
             [
              0.1111111111111111,
              "#46039f"
             ],
             [
              0.2222222222222222,
              "#7201a8"
             ],
             [
              0.3333333333333333,
              "#9c179e"
             ],
             [
              0.4444444444444444,
              "#bd3786"
             ],
             [
              0.5555555555555556,
              "#d8576b"
             ],
             [
              0.6666666666666666,
              "#ed7953"
             ],
             [
              0.7777777777777778,
              "#fb9f3a"
             ],
             [
              0.8888888888888888,
              "#fdca26"
             ],
             [
              1,
              "#f0f921"
             ]
            ],
            "type": "histogram2d"
           }
          ],
          "histogram2dcontour": [
           {
            "colorbar": {
             "outlinewidth": 0,
             "ticks": ""
            },
            "colorscale": [
             [
              0,
              "#0d0887"
             ],
             [
              0.1111111111111111,
              "#46039f"
             ],
             [
              0.2222222222222222,
              "#7201a8"
             ],
             [
              0.3333333333333333,
              "#9c179e"
             ],
             [
              0.4444444444444444,
              "#bd3786"
             ],
             [
              0.5555555555555556,
              "#d8576b"
             ],
             [
              0.6666666666666666,
              "#ed7953"
             ],
             [
              0.7777777777777778,
              "#fb9f3a"
             ],
             [
              0.8888888888888888,
              "#fdca26"
             ],
             [
              1,
              "#f0f921"
             ]
            ],
            "type": "histogram2dcontour"
           }
          ],
          "mesh3d": [
           {
            "colorbar": {
             "outlinewidth": 0,
             "ticks": ""
            },
            "type": "mesh3d"
           }
          ],
          "parcoords": [
           {
            "line": {
             "colorbar": {
              "outlinewidth": 0,
              "ticks": ""
             }
            },
            "type": "parcoords"
           }
          ],
          "pie": [
           {
            "automargin": true,
            "type": "pie"
           }
          ],
          "scatter": [
           {
            "marker": {
             "colorbar": {
              "outlinewidth": 0,
              "ticks": ""
             }
            },
            "type": "scatter"
           }
          ],
          "scatter3d": [
           {
            "line": {
             "colorbar": {
              "outlinewidth": 0,
              "ticks": ""
             }
            },
            "marker": {
             "colorbar": {
              "outlinewidth": 0,
              "ticks": ""
             }
            },
            "type": "scatter3d"
           }
          ],
          "scattercarpet": [
           {
            "marker": {
             "colorbar": {
              "outlinewidth": 0,
              "ticks": ""
             }
            },
            "type": "scattercarpet"
           }
          ],
          "scattergeo": [
           {
            "marker": {
             "colorbar": {
              "outlinewidth": 0,
              "ticks": ""
             }
            },
            "type": "scattergeo"
           }
          ],
          "scattergl": [
           {
            "marker": {
             "colorbar": {
              "outlinewidth": 0,
              "ticks": ""
             }
            },
            "type": "scattergl"
           }
          ],
          "scattermapbox": [
           {
            "marker": {
             "colorbar": {
              "outlinewidth": 0,
              "ticks": ""
             }
            },
            "type": "scattermapbox"
           }
          ],
          "scatterpolar": [
           {
            "marker": {
             "colorbar": {
              "outlinewidth": 0,
              "ticks": ""
             }
            },
            "type": "scatterpolar"
           }
          ],
          "scatterpolargl": [
           {
            "marker": {
             "colorbar": {
              "outlinewidth": 0,
              "ticks": ""
             }
            },
            "type": "scatterpolargl"
           }
          ],
          "scatterternary": [
           {
            "marker": {
             "colorbar": {
              "outlinewidth": 0,
              "ticks": ""
             }
            },
            "type": "scatterternary"
           }
          ],
          "surface": [
           {
            "colorbar": {
             "outlinewidth": 0,
             "ticks": ""
            },
            "colorscale": [
             [
              0,
              "#0d0887"
             ],
             [
              0.1111111111111111,
              "#46039f"
             ],
             [
              0.2222222222222222,
              "#7201a8"
             ],
             [
              0.3333333333333333,
              "#9c179e"
             ],
             [
              0.4444444444444444,
              "#bd3786"
             ],
             [
              0.5555555555555556,
              "#d8576b"
             ],
             [
              0.6666666666666666,
              "#ed7953"
             ],
             [
              0.7777777777777778,
              "#fb9f3a"
             ],
             [
              0.8888888888888888,
              "#fdca26"
             ],
             [
              1,
              "#f0f921"
             ]
            ],
            "type": "surface"
           }
          ],
          "table": [
           {
            "cells": {
             "fill": {
              "color": "#EBF0F8"
             },
             "line": {
              "color": "white"
             }
            },
            "header": {
             "fill": {
              "color": "#C8D4E3"
             },
             "line": {
              "color": "white"
             }
            },
            "type": "table"
           }
          ]
         },
         "layout": {
          "annotationdefaults": {
           "arrowcolor": "#2a3f5f",
           "arrowhead": 0,
           "arrowwidth": 1
          },
          "autotypenumbers": "strict",
          "coloraxis": {
           "colorbar": {
            "outlinewidth": 0,
            "ticks": ""
           }
          },
          "colorscale": {
           "diverging": [
            [
             0,
             "#8e0152"
            ],
            [
             0.1,
             "#c51b7d"
            ],
            [
             0.2,
             "#de77ae"
            ],
            [
             0.3,
             "#f1b6da"
            ],
            [
             0.4,
             "#fde0ef"
            ],
            [
             0.5,
             "#f7f7f7"
            ],
            [
             0.6,
             "#e6f5d0"
            ],
            [
             0.7,
             "#b8e186"
            ],
            [
             0.8,
             "#7fbc41"
            ],
            [
             0.9,
             "#4d9221"
            ],
            [
             1,
             "#276419"
            ]
           ],
           "sequential": [
            [
             0,
             "#0d0887"
            ],
            [
             0.1111111111111111,
             "#46039f"
            ],
            [
             0.2222222222222222,
             "#7201a8"
            ],
            [
             0.3333333333333333,
             "#9c179e"
            ],
            [
             0.4444444444444444,
             "#bd3786"
            ],
            [
             0.5555555555555556,
             "#d8576b"
            ],
            [
             0.6666666666666666,
             "#ed7953"
            ],
            [
             0.7777777777777778,
             "#fb9f3a"
            ],
            [
             0.8888888888888888,
             "#fdca26"
            ],
            [
             1,
             "#f0f921"
            ]
           ],
           "sequentialminus": [
            [
             0,
             "#0d0887"
            ],
            [
             0.1111111111111111,
             "#46039f"
            ],
            [
             0.2222222222222222,
             "#7201a8"
            ],
            [
             0.3333333333333333,
             "#9c179e"
            ],
            [
             0.4444444444444444,
             "#bd3786"
            ],
            [
             0.5555555555555556,
             "#d8576b"
            ],
            [
             0.6666666666666666,
             "#ed7953"
            ],
            [
             0.7777777777777778,
             "#fb9f3a"
            ],
            [
             0.8888888888888888,
             "#fdca26"
            ],
            [
             1,
             "#f0f921"
            ]
           ]
          },
          "colorway": [
           "#636efa",
           "#EF553B",
           "#00cc96",
           "#ab63fa",
           "#FFA15A",
           "#19d3f3",
           "#FF6692",
           "#B6E880",
           "#FF97FF",
           "#FECB52"
          ],
          "font": {
           "color": "#2a3f5f"
          },
          "geo": {
           "bgcolor": "white",
           "lakecolor": "white",
           "landcolor": "white",
           "showlakes": true,
           "showland": true,
           "subunitcolor": "#C8D4E3"
          },
          "hoverlabel": {
           "align": "left"
          },
          "hovermode": "closest",
          "mapbox": {
           "style": "light"
          },
          "paper_bgcolor": "white",
          "plot_bgcolor": "white",
          "polar": {
           "angularaxis": {
            "gridcolor": "#EBF0F8",
            "linecolor": "#EBF0F8",
            "ticks": ""
           },
           "bgcolor": "white",
           "radialaxis": {
            "gridcolor": "#EBF0F8",
            "linecolor": "#EBF0F8",
            "ticks": ""
           }
          },
          "scene": {
           "xaxis": {
            "backgroundcolor": "white",
            "gridcolor": "#DFE8F3",
            "gridwidth": 2,
            "linecolor": "#EBF0F8",
            "showbackground": true,
            "ticks": "",
            "zerolinecolor": "#EBF0F8"
           },
           "yaxis": {
            "backgroundcolor": "white",
            "gridcolor": "#DFE8F3",
            "gridwidth": 2,
            "linecolor": "#EBF0F8",
            "showbackground": true,
            "ticks": "",
            "zerolinecolor": "#EBF0F8"
           },
           "zaxis": {
            "backgroundcolor": "white",
            "gridcolor": "#DFE8F3",
            "gridwidth": 2,
            "linecolor": "#EBF0F8",
            "showbackground": true,
            "ticks": "",
            "zerolinecolor": "#EBF0F8"
           }
          },
          "shapedefaults": {
           "line": {
            "color": "#2a3f5f"
           }
          },
          "ternary": {
           "aaxis": {
            "gridcolor": "#DFE8F3",
            "linecolor": "#A2B1C6",
            "ticks": ""
           },
           "baxis": {
            "gridcolor": "#DFE8F3",
            "linecolor": "#A2B1C6",
            "ticks": ""
           },
           "bgcolor": "white",
           "caxis": {
            "gridcolor": "#DFE8F3",
            "linecolor": "#A2B1C6",
            "ticks": ""
           }
          },
          "title": {
           "x": 0.05
          },
          "xaxis": {
           "automargin": true,
           "gridcolor": "#EBF0F8",
           "linecolor": "#EBF0F8",
           "ticks": "",
           "title": {
            "standoff": 15
           },
           "zerolinecolor": "#EBF0F8",
           "zerolinewidth": 2
          },
          "yaxis": {
           "automargin": true,
           "gridcolor": "#EBF0F8",
           "linecolor": "#EBF0F8",
           "ticks": "",
           "title": {
            "standoff": 15
           },
           "zerolinecolor": "#EBF0F8",
           "zerolinewidth": 2
          }
         }
        },
        "xaxis": {
         "anchor": "y",
         "domain": [
          0,
          0.94
         ]
        },
        "yaxis": {
         "anchor": "x",
         "domain": [
          0,
          1
         ]
        },
        "yaxis2": {
         "anchor": "x",
         "overlaying": "y",
         "side": "right"
        }
       },
       "_py2js_animate": {},
       "_py2js_deleteTraces": {},
       "_py2js_moveTraces": {},
       "_py2js_relayout": {},
       "_py2js_removeLayoutProps": {},
       "_py2js_removeTraceProps": {},
       "_view_count": 1
      }
     },
     "87627583ca2f4d54a910595bfeac4f9a": {
      "model_module": "@jupyter-widgets/controls",
      "model_module_version": "1.5.0",
      "model_name": "IntSliderModel",
      "state": {
       "description": "Period",
       "layout": "IPY_MODEL_556fdd786e814dd69607a0dc6768a652",
       "max": 50000,
       "min": 1000,
       "style": "IPY_MODEL_0a51f668a2eb43c9a3daddb332baf9b3",
       "value": 25500
      }
     },
     "8a5df6f0be3d4711a5331a07c13f81ec": {
      "model_module": "@jupyter-widgets/base",
      "model_module_version": "1.2.0",
      "model_name": "LayoutModel",
      "state": {}
     },
     "8ccec665f9c84028a54f7c3765331389": {
      "model_module": "@jupyter-widgets/controls",
      "model_module_version": "1.5.0",
      "model_name": "HBoxModel",
      "state": {
       "children": [
        "IPY_MODEL_87627583ca2f4d54a910595bfeac4f9a",
        "IPY_MODEL_5c414a237c144535bc934f013924ae3d"
       ],
       "layout": "IPY_MODEL_33405defc246487caea2a55ce4f94eb0"
      }
     },
     "957db1941ef74c95887c06171f2faf5a": {
      "model_module": "@jupyter-widgets/controls",
      "model_module_version": "1.5.0",
      "model_name": "HBoxModel",
      "state": {
       "children": [
        "IPY_MODEL_c7440209edcc4001bb192f44e9ceb117",
        "IPY_MODEL_701e9d4f0ad34eb7a806c9eba4094d57",
        "IPY_MODEL_9dffd15cc59d45e184c844c528e1a92f"
       ],
       "layout": "IPY_MODEL_ee19fa5699c746d7aa12d4a850e9e923"
      }
     },
     "9a6aa2b6004a42a182018e9501048aac": {
      "model_module": "jupyterlab-plotly",
      "model_module_version": "^5.6.0",
      "model_name": "FigureModel",
      "state": {
       "_config": {
        "plotlyServerURL": "https://plot.ly"
       },
       "_js2py_layoutDelta": {},
       "_js2py_pointsCallback": {},
       "_js2py_relayout": {},
       "_js2py_restyle": {},
       "_js2py_traceDeltas": {},
       "_js2py_update": {},
       "_layout": {
        "template": {
         "data": {
          "bar": [
           {
            "error_x": {
             "color": "#2a3f5f"
            },
            "error_y": {
             "color": "#2a3f5f"
            },
            "marker": {
             "line": {
              "color": "#E5ECF6",
              "width": 0.5
             },
             "pattern": {
              "fillmode": "overlay",
              "size": 10,
              "solidity": 0.2
             }
            },
            "type": "bar"
           }
          ],
          "barpolar": [
           {
            "marker": {
             "line": {
              "color": "#E5ECF6",
              "width": 0.5
             },
             "pattern": {
              "fillmode": "overlay",
              "size": 10,
              "solidity": 0.2
             }
            },
            "type": "barpolar"
           }
          ],
          "carpet": [
           {
            "aaxis": {
             "endlinecolor": "#2a3f5f",
             "gridcolor": "white",
             "linecolor": "white",
             "minorgridcolor": "white",
             "startlinecolor": "#2a3f5f"
            },
            "baxis": {
             "endlinecolor": "#2a3f5f",
             "gridcolor": "white",
             "linecolor": "white",
             "minorgridcolor": "white",
             "startlinecolor": "#2a3f5f"
            },
            "type": "carpet"
           }
          ],
          "choropleth": [
           {
            "colorbar": {
             "outlinewidth": 0,
             "ticks": ""
            },
            "type": "choropleth"
           }
          ],
          "contour": [
           {
            "colorbar": {
             "outlinewidth": 0,
             "ticks": ""
            },
            "colorscale": [
             [
              0,
              "#0d0887"
             ],
             [
              0.1111111111111111,
              "#46039f"
             ],
             [
              0.2222222222222222,
              "#7201a8"
             ],
             [
              0.3333333333333333,
              "#9c179e"
             ],
             [
              0.4444444444444444,
              "#bd3786"
             ],
             [
              0.5555555555555556,
              "#d8576b"
             ],
             [
              0.6666666666666666,
              "#ed7953"
             ],
             [
              0.7777777777777778,
              "#fb9f3a"
             ],
             [
              0.8888888888888888,
              "#fdca26"
             ],
             [
              1,
              "#f0f921"
             ]
            ],
            "type": "contour"
           }
          ],
          "contourcarpet": [
           {
            "colorbar": {
             "outlinewidth": 0,
             "ticks": ""
            },
            "type": "contourcarpet"
           }
          ],
          "heatmap": [
           {
            "colorbar": {
             "outlinewidth": 0,
             "ticks": ""
            },
            "colorscale": [
             [
              0,
              "#0d0887"
             ],
             [
              0.1111111111111111,
              "#46039f"
             ],
             [
              0.2222222222222222,
              "#7201a8"
             ],
             [
              0.3333333333333333,
              "#9c179e"
             ],
             [
              0.4444444444444444,
              "#bd3786"
             ],
             [
              0.5555555555555556,
              "#d8576b"
             ],
             [
              0.6666666666666666,
              "#ed7953"
             ],
             [
              0.7777777777777778,
              "#fb9f3a"
             ],
             [
              0.8888888888888888,
              "#fdca26"
             ],
             [
              1,
              "#f0f921"
             ]
            ],
            "type": "heatmap"
           }
          ],
          "heatmapgl": [
           {
            "colorbar": {
             "outlinewidth": 0,
             "ticks": ""
            },
            "colorscale": [
             [
              0,
              "#0d0887"
             ],
             [
              0.1111111111111111,
              "#46039f"
             ],
             [
              0.2222222222222222,
              "#7201a8"
             ],
             [
              0.3333333333333333,
              "#9c179e"
             ],
             [
              0.4444444444444444,
              "#bd3786"
             ],
             [
              0.5555555555555556,
              "#d8576b"
             ],
             [
              0.6666666666666666,
              "#ed7953"
             ],
             [
              0.7777777777777778,
              "#fb9f3a"
             ],
             [
              0.8888888888888888,
              "#fdca26"
             ],
             [
              1,
              "#f0f921"
             ]
            ],
            "type": "heatmapgl"
           }
          ],
          "histogram": [
           {
            "marker": {
             "pattern": {
              "fillmode": "overlay",
              "size": 10,
              "solidity": 0.2
             }
            },
            "type": "histogram"
           }
          ],
          "histogram2d": [
           {
            "colorbar": {
             "outlinewidth": 0,
             "ticks": ""
            },
            "colorscale": [
             [
              0,
              "#0d0887"
             ],
             [
              0.1111111111111111,
              "#46039f"
             ],
             [
              0.2222222222222222,
              "#7201a8"
             ],
             [
              0.3333333333333333,
              "#9c179e"
             ],
             [
              0.4444444444444444,
              "#bd3786"
             ],
             [
              0.5555555555555556,
              "#d8576b"
             ],
             [
              0.6666666666666666,
              "#ed7953"
             ],
             [
              0.7777777777777778,
              "#fb9f3a"
             ],
             [
              0.8888888888888888,
              "#fdca26"
             ],
             [
              1,
              "#f0f921"
             ]
            ],
            "type": "histogram2d"
           }
          ],
          "histogram2dcontour": [
           {
            "colorbar": {
             "outlinewidth": 0,
             "ticks": ""
            },
            "colorscale": [
             [
              0,
              "#0d0887"
             ],
             [
              0.1111111111111111,
              "#46039f"
             ],
             [
              0.2222222222222222,
              "#7201a8"
             ],
             [
              0.3333333333333333,
              "#9c179e"
             ],
             [
              0.4444444444444444,
              "#bd3786"
             ],
             [
              0.5555555555555556,
              "#d8576b"
             ],
             [
              0.6666666666666666,
              "#ed7953"
             ],
             [
              0.7777777777777778,
              "#fb9f3a"
             ],
             [
              0.8888888888888888,
              "#fdca26"
             ],
             [
              1,
              "#f0f921"
             ]
            ],
            "type": "histogram2dcontour"
           }
          ],
          "mesh3d": [
           {
            "colorbar": {
             "outlinewidth": 0,
             "ticks": ""
            },
            "type": "mesh3d"
           }
          ],
          "parcoords": [
           {
            "line": {
             "colorbar": {
              "outlinewidth": 0,
              "ticks": ""
             }
            },
            "type": "parcoords"
           }
          ],
          "pie": [
           {
            "automargin": true,
            "type": "pie"
           }
          ],
          "scatter": [
           {
            "marker": {
             "colorbar": {
              "outlinewidth": 0,
              "ticks": ""
             }
            },
            "type": "scatter"
           }
          ],
          "scatter3d": [
           {
            "line": {
             "colorbar": {
              "outlinewidth": 0,
              "ticks": ""
             }
            },
            "marker": {
             "colorbar": {
              "outlinewidth": 0,
              "ticks": ""
             }
            },
            "type": "scatter3d"
           }
          ],
          "scattercarpet": [
           {
            "marker": {
             "colorbar": {
              "outlinewidth": 0,
              "ticks": ""
             }
            },
            "type": "scattercarpet"
           }
          ],
          "scattergeo": [
           {
            "marker": {
             "colorbar": {
              "outlinewidth": 0,
              "ticks": ""
             }
            },
            "type": "scattergeo"
           }
          ],
          "scattergl": [
           {
            "marker": {
             "colorbar": {
              "outlinewidth": 0,
              "ticks": ""
             }
            },
            "type": "scattergl"
           }
          ],
          "scattermapbox": [
           {
            "marker": {
             "colorbar": {
              "outlinewidth": 0,
              "ticks": ""
             }
            },
            "type": "scattermapbox"
           }
          ],
          "scatterpolar": [
           {
            "marker": {
             "colorbar": {
              "outlinewidth": 0,
              "ticks": ""
             }
            },
            "type": "scatterpolar"
           }
          ],
          "scatterpolargl": [
           {
            "marker": {
             "colorbar": {
              "outlinewidth": 0,
              "ticks": ""
             }
            },
            "type": "scatterpolargl"
           }
          ],
          "scatterternary": [
           {
            "marker": {
             "colorbar": {
              "outlinewidth": 0,
              "ticks": ""
             }
            },
            "type": "scatterternary"
           }
          ],
          "surface": [
           {
            "colorbar": {
             "outlinewidth": 0,
             "ticks": ""
            },
            "colorscale": [
             [
              0,
              "#0d0887"
             ],
             [
              0.1111111111111111,
              "#46039f"
             ],
             [
              0.2222222222222222,
              "#7201a8"
             ],
             [
              0.3333333333333333,
              "#9c179e"
             ],
             [
              0.4444444444444444,
              "#bd3786"
             ],
             [
              0.5555555555555556,
              "#d8576b"
             ],
             [
              0.6666666666666666,
              "#ed7953"
             ],
             [
              0.7777777777777778,
              "#fb9f3a"
             ],
             [
              0.8888888888888888,
              "#fdca26"
             ],
             [
              1,
              "#f0f921"
             ]
            ],
            "type": "surface"
           }
          ],
          "table": [
           {
            "cells": {
             "fill": {
              "color": "#EBF0F8"
             },
             "line": {
              "color": "white"
             }
            },
            "header": {
             "fill": {
              "color": "#C8D4E3"
             },
             "line": {
              "color": "white"
             }
            },
            "type": "table"
           }
          ]
         },
         "layout": {
          "annotationdefaults": {
           "arrowcolor": "#2a3f5f",
           "arrowhead": 0,
           "arrowwidth": 1
          },
          "autotypenumbers": "strict",
          "coloraxis": {
           "colorbar": {
            "outlinewidth": 0,
            "ticks": ""
           }
          },
          "colorscale": {
           "diverging": [
            [
             0,
             "#8e0152"
            ],
            [
             0.1,
             "#c51b7d"
            ],
            [
             0.2,
             "#de77ae"
            ],
            [
             0.3,
             "#f1b6da"
            ],
            [
             0.4,
             "#fde0ef"
            ],
            [
             0.5,
             "#f7f7f7"
            ],
            [
             0.6,
             "#e6f5d0"
            ],
            [
             0.7,
             "#b8e186"
            ],
            [
             0.8,
             "#7fbc41"
            ],
            [
             0.9,
             "#4d9221"
            ],
            [
             1,
             "#276419"
            ]
           ],
           "sequential": [
            [
             0,
             "#0d0887"
            ],
            [
             0.1111111111111111,
             "#46039f"
            ],
            [
             0.2222222222222222,
             "#7201a8"
            ],
            [
             0.3333333333333333,
             "#9c179e"
            ],
            [
             0.4444444444444444,
             "#bd3786"
            ],
            [
             0.5555555555555556,
             "#d8576b"
            ],
            [
             0.6666666666666666,
             "#ed7953"
            ],
            [
             0.7777777777777778,
             "#fb9f3a"
            ],
            [
             0.8888888888888888,
             "#fdca26"
            ],
            [
             1,
             "#f0f921"
            ]
           ],
           "sequentialminus": [
            [
             0,
             "#0d0887"
            ],
            [
             0.1111111111111111,
             "#46039f"
            ],
            [
             0.2222222222222222,
             "#7201a8"
            ],
            [
             0.3333333333333333,
             "#9c179e"
            ],
            [
             0.4444444444444444,
             "#bd3786"
            ],
            [
             0.5555555555555556,
             "#d8576b"
            ],
            [
             0.6666666666666666,
             "#ed7953"
            ],
            [
             0.7777777777777778,
             "#fb9f3a"
            ],
            [
             0.8888888888888888,
             "#fdca26"
            ],
            [
             1,
             "#f0f921"
            ]
           ]
          },
          "colorway": [
           "#636efa",
           "#EF553B",
           "#00cc96",
           "#ab63fa",
           "#FFA15A",
           "#19d3f3",
           "#FF6692",
           "#B6E880",
           "#FF97FF",
           "#FECB52"
          ],
          "font": {
           "color": "#2a3f5f"
          },
          "geo": {
           "bgcolor": "white",
           "lakecolor": "white",
           "landcolor": "#E5ECF6",
           "showlakes": true,
           "showland": true,
           "subunitcolor": "white"
          },
          "hoverlabel": {
           "align": "left"
          },
          "hovermode": "closest",
          "mapbox": {
           "style": "light"
          },
          "paper_bgcolor": "white",
          "plot_bgcolor": "#E5ECF6",
          "polar": {
           "angularaxis": {
            "gridcolor": "white",
            "linecolor": "white",
            "ticks": ""
           },
           "bgcolor": "#E5ECF6",
           "radialaxis": {
            "gridcolor": "white",
            "linecolor": "white",
            "ticks": ""
           }
          },
          "scene": {
           "xaxis": {
            "backgroundcolor": "#E5ECF6",
            "gridcolor": "white",
            "gridwidth": 2,
            "linecolor": "white",
            "showbackground": true,
            "ticks": "",
            "zerolinecolor": "white"
           },
           "yaxis": {
            "backgroundcolor": "#E5ECF6",
            "gridcolor": "white",
            "gridwidth": 2,
            "linecolor": "white",
            "showbackground": true,
            "ticks": "",
            "zerolinecolor": "white"
           },
           "zaxis": {
            "backgroundcolor": "#E5ECF6",
            "gridcolor": "white",
            "gridwidth": 2,
            "linecolor": "white",
            "showbackground": true,
            "ticks": "",
            "zerolinecolor": "white"
           }
          },
          "shapedefaults": {
           "line": {
            "color": "#2a3f5f"
           }
          },
          "ternary": {
           "aaxis": {
            "gridcolor": "white",
            "linecolor": "white",
            "ticks": ""
           },
           "baxis": {
            "gridcolor": "white",
            "linecolor": "white",
            "ticks": ""
           },
           "bgcolor": "#E5ECF6",
           "caxis": {
            "gridcolor": "white",
            "linecolor": "white",
            "ticks": ""
           }
          },
          "title": {
           "x": 0.05
          },
          "xaxis": {
           "automargin": true,
           "gridcolor": "white",
           "linecolor": "white",
           "ticks": "",
           "title": {
            "standoff": 15
           },
           "zerolinecolor": "white",
           "zerolinewidth": 2
          },
          "yaxis": {
           "automargin": true,
           "gridcolor": "white",
           "linecolor": "white",
           "ticks": "",
           "title": {
            "standoff": 15
           },
           "zerolinecolor": "white",
           "zerolinewidth": 2
          }
         }
        },
        "xaxis": {
         "anchor": "y",
         "domain": [
          0,
          0.94
         ]
        },
        "yaxis": {
         "anchor": "x",
         "domain": [
          0,
          1
         ]
        },
        "yaxis2": {
         "anchor": "x",
         "overlaying": "y",
         "side": "right"
        }
       },
       "_py2js_addTraces": {},
       "_py2js_animate": {},
       "_py2js_deleteTraces": {},
       "_py2js_moveTraces": {},
       "_py2js_relayout": {},
       "_py2js_removeLayoutProps": {},
       "_py2js_removeTraceProps": {},
       "_py2js_restyle": {},
       "_py2js_update": {},
       "_view_count": 0
      }
     },
     "9dffd15cc59d45e184c844c528e1a92f": {
      "model_module": "@jupyter-widgets/controls",
      "model_module_version": "1.5.0",
      "model_name": "HTMLModel",
      "state": {
       "layout": "IPY_MODEL_aa7606cdff8745cfad62a753c2759417",
       "style": "IPY_MODEL_2b8e03d444074e238a440f57eb104900",
       "value": " 5/5 [00:10&lt;00:00,  1.63s/it, fit=1,489.72]"
      }
     },
     "aa7606cdff8745cfad62a753c2759417": {
      "model_module": "@jupyter-widgets/base",
      "model_module_version": "1.2.0",
      "model_name": "LayoutModel",
      "state": {}
     },
     "ab3e7be32bbb436690955b484e803b3a": {
      "model_module": "@jupyter-widgets/controls",
      "model_module_version": "1.5.0",
      "model_name": "VBoxModel",
      "state": {
       "children": [
        "IPY_MODEL_81f86e4a439c4bb69d2cbdfa469ccea3",
        "IPY_MODEL_2cf4e497110b4719b28c5fe6f801e1ab"
       ],
       "layout": "IPY_MODEL_0b0fc7a3a3ab47a28da0f4edbe61c197"
      }
     },
     "b3aa2cd5325a4e879e5147fa6fb8a722": {
      "model_module": "jupyterlab-plotly",
      "model_module_version": "^5.6.0",
      "model_name": "FigureModel",
      "state": {
       "_config": {
        "plotlyServerURL": "https://plot.ly"
       },
       "_js2py_layoutDelta": {},
       "_js2py_pointsCallback": {},
       "_js2py_relayout": {},
       "_js2py_restyle": {},
       "_js2py_traceDeltas": {},
       "_js2py_update": {},
       "_layout": {
        "template": {
         "data": {
          "bar": [
           {
            "error_x": {
             "color": "#2a3f5f"
            },
            "error_y": {
             "color": "#2a3f5f"
            },
            "marker": {
             "line": {
              "color": "#E5ECF6",
              "width": 0.5
             },
             "pattern": {
              "fillmode": "overlay",
              "size": 10,
              "solidity": 0.2
             }
            },
            "type": "bar"
           }
          ],
          "barpolar": [
           {
            "marker": {
             "line": {
              "color": "#E5ECF6",
              "width": 0.5
             },
             "pattern": {
              "fillmode": "overlay",
              "size": 10,
              "solidity": 0.2
             }
            },
            "type": "barpolar"
           }
          ],
          "carpet": [
           {
            "aaxis": {
             "endlinecolor": "#2a3f5f",
             "gridcolor": "white",
             "linecolor": "white",
             "minorgridcolor": "white",
             "startlinecolor": "#2a3f5f"
            },
            "baxis": {
             "endlinecolor": "#2a3f5f",
             "gridcolor": "white",
             "linecolor": "white",
             "minorgridcolor": "white",
             "startlinecolor": "#2a3f5f"
            },
            "type": "carpet"
           }
          ],
          "choropleth": [
           {
            "colorbar": {
             "outlinewidth": 0,
             "ticks": ""
            },
            "type": "choropleth"
           }
          ],
          "contour": [
           {
            "colorbar": {
             "outlinewidth": 0,
             "ticks": ""
            },
            "colorscale": [
             [
              0,
              "#0d0887"
             ],
             [
              0.1111111111111111,
              "#46039f"
             ],
             [
              0.2222222222222222,
              "#7201a8"
             ],
             [
              0.3333333333333333,
              "#9c179e"
             ],
             [
              0.4444444444444444,
              "#bd3786"
             ],
             [
              0.5555555555555556,
              "#d8576b"
             ],
             [
              0.6666666666666666,
              "#ed7953"
             ],
             [
              0.7777777777777778,
              "#fb9f3a"
             ],
             [
              0.8888888888888888,
              "#fdca26"
             ],
             [
              1,
              "#f0f921"
             ]
            ],
            "type": "contour"
           }
          ],
          "contourcarpet": [
           {
            "colorbar": {
             "outlinewidth": 0,
             "ticks": ""
            },
            "type": "contourcarpet"
           }
          ],
          "heatmap": [
           {
            "colorbar": {
             "outlinewidth": 0,
             "ticks": ""
            },
            "colorscale": [
             [
              0,
              "#0d0887"
             ],
             [
              0.1111111111111111,
              "#46039f"
             ],
             [
              0.2222222222222222,
              "#7201a8"
             ],
             [
              0.3333333333333333,
              "#9c179e"
             ],
             [
              0.4444444444444444,
              "#bd3786"
             ],
             [
              0.5555555555555556,
              "#d8576b"
             ],
             [
              0.6666666666666666,
              "#ed7953"
             ],
             [
              0.7777777777777778,
              "#fb9f3a"
             ],
             [
              0.8888888888888888,
              "#fdca26"
             ],
             [
              1,
              "#f0f921"
             ]
            ],
            "type": "heatmap"
           }
          ],
          "heatmapgl": [
           {
            "colorbar": {
             "outlinewidth": 0,
             "ticks": ""
            },
            "colorscale": [
             [
              0,
              "#0d0887"
             ],
             [
              0.1111111111111111,
              "#46039f"
             ],
             [
              0.2222222222222222,
              "#7201a8"
             ],
             [
              0.3333333333333333,
              "#9c179e"
             ],
             [
              0.4444444444444444,
              "#bd3786"
             ],
             [
              0.5555555555555556,
              "#d8576b"
             ],
             [
              0.6666666666666666,
              "#ed7953"
             ],
             [
              0.7777777777777778,
              "#fb9f3a"
             ],
             [
              0.8888888888888888,
              "#fdca26"
             ],
             [
              1,
              "#f0f921"
             ]
            ],
            "type": "heatmapgl"
           }
          ],
          "histogram": [
           {
            "marker": {
             "pattern": {
              "fillmode": "overlay",
              "size": 10,
              "solidity": 0.2
             }
            },
            "type": "histogram"
           }
          ],
          "histogram2d": [
           {
            "colorbar": {
             "outlinewidth": 0,
             "ticks": ""
            },
            "colorscale": [
             [
              0,
              "#0d0887"
             ],
             [
              0.1111111111111111,
              "#46039f"
             ],
             [
              0.2222222222222222,
              "#7201a8"
             ],
             [
              0.3333333333333333,
              "#9c179e"
             ],
             [
              0.4444444444444444,
              "#bd3786"
             ],
             [
              0.5555555555555556,
              "#d8576b"
             ],
             [
              0.6666666666666666,
              "#ed7953"
             ],
             [
              0.7777777777777778,
              "#fb9f3a"
             ],
             [
              0.8888888888888888,
              "#fdca26"
             ],
             [
              1,
              "#f0f921"
             ]
            ],
            "type": "histogram2d"
           }
          ],
          "histogram2dcontour": [
           {
            "colorbar": {
             "outlinewidth": 0,
             "ticks": ""
            },
            "colorscale": [
             [
              0,
              "#0d0887"
             ],
             [
              0.1111111111111111,
              "#46039f"
             ],
             [
              0.2222222222222222,
              "#7201a8"
             ],
             [
              0.3333333333333333,
              "#9c179e"
             ],
             [
              0.4444444444444444,
              "#bd3786"
             ],
             [
              0.5555555555555556,
              "#d8576b"
             ],
             [
              0.6666666666666666,
              "#ed7953"
             ],
             [
              0.7777777777777778,
              "#fb9f3a"
             ],
             [
              0.8888888888888888,
              "#fdca26"
             ],
             [
              1,
              "#f0f921"
             ]
            ],
            "type": "histogram2dcontour"
           }
          ],
          "mesh3d": [
           {
            "colorbar": {
             "outlinewidth": 0,
             "ticks": ""
            },
            "type": "mesh3d"
           }
          ],
          "parcoords": [
           {
            "line": {
             "colorbar": {
              "outlinewidth": 0,
              "ticks": ""
             }
            },
            "type": "parcoords"
           }
          ],
          "pie": [
           {
            "automargin": true,
            "type": "pie"
           }
          ],
          "scatter": [
           {
            "marker": {
             "colorbar": {
              "outlinewidth": 0,
              "ticks": ""
             }
            },
            "type": "scatter"
           }
          ],
          "scatter3d": [
           {
            "line": {
             "colorbar": {
              "outlinewidth": 0,
              "ticks": ""
             }
            },
            "marker": {
             "colorbar": {
              "outlinewidth": 0,
              "ticks": ""
             }
            },
            "type": "scatter3d"
           }
          ],
          "scattercarpet": [
           {
            "marker": {
             "colorbar": {
              "outlinewidth": 0,
              "ticks": ""
             }
            },
            "type": "scattercarpet"
           }
          ],
          "scattergeo": [
           {
            "marker": {
             "colorbar": {
              "outlinewidth": 0,
              "ticks": ""
             }
            },
            "type": "scattergeo"
           }
          ],
          "scattergl": [
           {
            "marker": {
             "colorbar": {
              "outlinewidth": 0,
              "ticks": ""
             }
            },
            "type": "scattergl"
           }
          ],
          "scattermapbox": [
           {
            "marker": {
             "colorbar": {
              "outlinewidth": 0,
              "ticks": ""
             }
            },
            "type": "scattermapbox"
           }
          ],
          "scatterpolar": [
           {
            "marker": {
             "colorbar": {
              "outlinewidth": 0,
              "ticks": ""
             }
            },
            "type": "scatterpolar"
           }
          ],
          "scatterpolargl": [
           {
            "marker": {
             "colorbar": {
              "outlinewidth": 0,
              "ticks": ""
             }
            },
            "type": "scatterpolargl"
           }
          ],
          "scatterternary": [
           {
            "marker": {
             "colorbar": {
              "outlinewidth": 0,
              "ticks": ""
             }
            },
            "type": "scatterternary"
           }
          ],
          "surface": [
           {
            "colorbar": {
             "outlinewidth": 0,
             "ticks": ""
            },
            "colorscale": [
             [
              0,
              "#0d0887"
             ],
             [
              0.1111111111111111,
              "#46039f"
             ],
             [
              0.2222222222222222,
              "#7201a8"
             ],
             [
              0.3333333333333333,
              "#9c179e"
             ],
             [
              0.4444444444444444,
              "#bd3786"
             ],
             [
              0.5555555555555556,
              "#d8576b"
             ],
             [
              0.6666666666666666,
              "#ed7953"
             ],
             [
              0.7777777777777778,
              "#fb9f3a"
             ],
             [
              0.8888888888888888,
              "#fdca26"
             ],
             [
              1,
              "#f0f921"
             ]
            ],
            "type": "surface"
           }
          ],
          "table": [
           {
            "cells": {
             "fill": {
              "color": "#EBF0F8"
             },
             "line": {
              "color": "white"
             }
            },
            "header": {
             "fill": {
              "color": "#C8D4E3"
             },
             "line": {
              "color": "white"
             }
            },
            "type": "table"
           }
          ]
         },
         "layout": {
          "annotationdefaults": {
           "arrowcolor": "#2a3f5f",
           "arrowhead": 0,
           "arrowwidth": 1
          },
          "autotypenumbers": "strict",
          "coloraxis": {
           "colorbar": {
            "outlinewidth": 0,
            "ticks": ""
           }
          },
          "colorscale": {
           "diverging": [
            [
             0,
             "#8e0152"
            ],
            [
             0.1,
             "#c51b7d"
            ],
            [
             0.2,
             "#de77ae"
            ],
            [
             0.3,
             "#f1b6da"
            ],
            [
             0.4,
             "#fde0ef"
            ],
            [
             0.5,
             "#f7f7f7"
            ],
            [
             0.6,
             "#e6f5d0"
            ],
            [
             0.7,
             "#b8e186"
            ],
            [
             0.8,
             "#7fbc41"
            ],
            [
             0.9,
             "#4d9221"
            ],
            [
             1,
             "#276419"
            ]
           ],
           "sequential": [
            [
             0,
             "#0d0887"
            ],
            [
             0.1111111111111111,
             "#46039f"
            ],
            [
             0.2222222222222222,
             "#7201a8"
            ],
            [
             0.3333333333333333,
             "#9c179e"
            ],
            [
             0.4444444444444444,
             "#bd3786"
            ],
            [
             0.5555555555555556,
             "#d8576b"
            ],
            [
             0.6666666666666666,
             "#ed7953"
            ],
            [
             0.7777777777777778,
             "#fb9f3a"
            ],
            [
             0.8888888888888888,
             "#fdca26"
            ],
            [
             1,
             "#f0f921"
            ]
           ],
           "sequentialminus": [
            [
             0,
             "#0d0887"
            ],
            [
             0.1111111111111111,
             "#46039f"
            ],
            [
             0.2222222222222222,
             "#7201a8"
            ],
            [
             0.3333333333333333,
             "#9c179e"
            ],
            [
             0.4444444444444444,
             "#bd3786"
            ],
            [
             0.5555555555555556,
             "#d8576b"
            ],
            [
             0.6666666666666666,
             "#ed7953"
            ],
            [
             0.7777777777777778,
             "#fb9f3a"
            ],
            [
             0.8888888888888888,
             "#fdca26"
            ],
            [
             1,
             "#f0f921"
            ]
           ]
          },
          "colorway": [
           "#636efa",
           "#EF553B",
           "#00cc96",
           "#ab63fa",
           "#FFA15A",
           "#19d3f3",
           "#FF6692",
           "#B6E880",
           "#FF97FF",
           "#FECB52"
          ],
          "font": {
           "color": "#2a3f5f"
          },
          "geo": {
           "bgcolor": "white",
           "lakecolor": "white",
           "landcolor": "#E5ECF6",
           "showlakes": true,
           "showland": true,
           "subunitcolor": "white"
          },
          "hoverlabel": {
           "align": "left"
          },
          "hovermode": "closest",
          "mapbox": {
           "style": "light"
          },
          "paper_bgcolor": "white",
          "plot_bgcolor": "#E5ECF6",
          "polar": {
           "angularaxis": {
            "gridcolor": "white",
            "linecolor": "white",
            "ticks": ""
           },
           "bgcolor": "#E5ECF6",
           "radialaxis": {
            "gridcolor": "white",
            "linecolor": "white",
            "ticks": ""
           }
          },
          "scene": {
           "xaxis": {
            "backgroundcolor": "#E5ECF6",
            "gridcolor": "white",
            "gridwidth": 2,
            "linecolor": "white",
            "showbackground": true,
            "ticks": "",
            "zerolinecolor": "white"
           },
           "yaxis": {
            "backgroundcolor": "#E5ECF6",
            "gridcolor": "white",
            "gridwidth": 2,
            "linecolor": "white",
            "showbackground": true,
            "ticks": "",
            "zerolinecolor": "white"
           },
           "zaxis": {
            "backgroundcolor": "#E5ECF6",
            "gridcolor": "white",
            "gridwidth": 2,
            "linecolor": "white",
            "showbackground": true,
            "ticks": "",
            "zerolinecolor": "white"
           }
          },
          "shapedefaults": {
           "line": {
            "color": "#2a3f5f"
           }
          },
          "ternary": {
           "aaxis": {
            "gridcolor": "white",
            "linecolor": "white",
            "ticks": ""
           },
           "baxis": {
            "gridcolor": "white",
            "linecolor": "white",
            "ticks": ""
           },
           "bgcolor": "#E5ECF6",
           "caxis": {
            "gridcolor": "white",
            "linecolor": "white",
            "ticks": ""
           }
          },
          "title": {
           "x": 0.05
          },
          "xaxis": {
           "automargin": true,
           "gridcolor": "white",
           "linecolor": "white",
           "ticks": "",
           "title": {
            "standoff": 15
           },
           "zerolinecolor": "white",
           "zerolinewidth": 2
          },
          "yaxis": {
           "automargin": true,
           "gridcolor": "white",
           "linecolor": "white",
           "ticks": "",
           "title": {
            "standoff": 15
           },
           "zerolinecolor": "white",
           "zerolinewidth": 2
          }
         }
        },
        "xaxis": {
         "anchor": "y",
         "domain": [
          0,
          0.94
         ]
        },
        "yaxis": {
         "anchor": "x",
         "domain": [
          0,
          1
         ]
        },
        "yaxis2": {
         "anchor": "x",
         "overlaying": "y",
         "side": "right"
        }
       },
       "_py2js_addTraces": {},
       "_py2js_animate": {},
       "_py2js_deleteTraces": {},
       "_py2js_moveTraces": {},
       "_py2js_relayout": {},
       "_py2js_removeLayoutProps": {},
       "_py2js_removeTraceProps": {},
       "_py2js_restyle": {},
       "_py2js_update": {},
       "_view_count": 0
      }
     },
     "c7440209edcc4001bb192f44e9ceb117": {
      "model_module": "@jupyter-widgets/controls",
      "model_module_version": "1.5.0",
      "model_name": "HTMLModel",
      "state": {
       "layout": "IPY_MODEL_8a5df6f0be3d4711a5331a07c13f81ec",
       "style": "IPY_MODEL_5b90ed44861f431e809ac04a7311eced",
       "value": "100%"
      }
     },
     "dc2b40942dc14749b0cbacaa088db5bb": {
      "buffers": [
       {
        "data": "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",
        "encoding": "base64",
        "path": [
         "_data",
         0,
         "dimensions",
         1,
         "values",
         "value"
        ]
       },
       {
        "data": "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",
        "encoding": "base64",
        "path": [
         "_data",
         0,
         "dimensions",
         2,
         "values",
         "value"
        ]
       },
       {
        "data": "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",
        "encoding": "base64",
        "path": [
         "_data",
         0,
         "dimensions",
         3,
         "values",
         "value"
        ]
       },
       {
        "data": "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",
        "encoding": "base64",
        "path": [
         "_data",
         0,
         "dimensions",
         4,
         "values",
         "value"
        ]
       },
       {
        "data": "7V77I9ROT8C7nru1/01NwPh8P0ZmWkTAYZdBQRSXOcCDtuFi9Lo6wOC0rHAxHDDAUMfI83JwN8CUBERtleQxwASsdzUpnS7AbCzC7yNzL8Cx+uRbJ34wwOgxyAPpkyzAR96jQgbbK8CVhkW0iXEtwGnEzss3VSjAk188nytjIcAXw4n6GcwSwDguB2ppcB3Aov86vSYwH8Dozml7h+wMwDLrFU/+lw7Asb2pTH00GcDNeigychoVwBLkSgEaVw7Avg13a+KsCcAhxd9LBhsBwEntpg27SvO/PNadWIPp8L+dNoNtQD3zvzI1zSUnOfK/sl08Nbmg479p0ha9w9Xkv/AMvJUAHN6/AN9rjKtt5b9Mu+fxAWfsv4XKb2/dbM6/SkAyFBrH27/a048NhuLXv7gQ0i5drcq/hQNYzQx2vb92pkNMDnGzvwAAAAAAAAAAAAAAAAAA+H8AAAAAAAAAAAAAAAAAAPh/AAAAAAAAAAAAAAAAAAD4fwAAAAAAAAAAAAAAAAAA+H8AAAAAAAAAAAAAAAAAAAAAAAAAAAAA+H8AAAAAAAAAAAAAAAAAAPh/AAAAAAAAAAAAAAAAAAAAAAAAAAAAAAAAAAAAAAAA+H+cAo2ylCO6P2UIKki1leA/Hw6rCyzgxj9u14gv8CTMP1odf0qZstg/iK3UbJJq0z8AAAAAAAAAAAAAAAAAAAAAAAAAAAAAAABK0ktcgl/gPwAAAAAAAAAA9OUay64j1z8AAAAAAAAAAAAAAAAAAAAAAAAAAAAAAADKS/Vp/0rwP5uc3aa4Mek/mWaARZ3V8D+EeOzMP1nYP0E/cdv7UOk/VRe77qG88j/uDoFOtQj1PwAAAAAAAAAA02X4+Rmg8j8AAAAAAAAAAMqQRiR/6vw/AAAAAAAAAAAAAAAAAAAAAG6AykMcoO8/J6h4h0L6/j8AAAAAAAAAAAAAAAAAAAAAAAAAAAAAAAAnuuOXl2wBQD2SeTg2ovs/Az9w4sCN8z8lEzVRTQQDQHhwQvLQCQRApM5Ua+DC9T90lAdZQvX7PwAAAAAAAAAATjf51k1HBUDcKzewkusFQEWgYtnl+wdA1qZazafl+j9/8K9raIMFQPpbw5+tcv8/Phgo1uD/+j+N78tLAgABQAr70XFXmQJADMG9mIboBUA2kdjNjuABQDe8nYoyGgNAPydXANd1BUBc5+XecM4BQES/EQ1xAwVAGcbExgBeD0Dw6FbZN1ECQJ1Ck+SInAZAi/W8t7kTC0AZtwguJq4SQJVU2BNTCQ5AqHGFxjzkB0Az4IbI4bcCQO+N16TNFhJA44Pi2vYwE0CI5ssq5MkKQEgW2OdUUglAHbbi955lCUDnNwVPv60LQI3Bvm8xwgtAeEBoNSjHC0DBkRVvBKAUQClXkArraBRAFE1SDNODFEDN1kXcv1gQQATjfb5EShNAc89gZ463EEDxZkFTcYMTQB/l1u9a5hNAVVPXpReBDUD2pAS0atMIQEqvS4BvUwxAgjHSqtLADkAmdNhRgF0RQGaUE99qghRABIBL/j2HFEAcCDfxFVEVQLf5J9telxRAb7poBVKwF0AueQRqkQUSQCKdD4l4IBVAlOw2i8tkEEAxLICvrPYNQD+Oib5HZBdAXNgMFcYcE0B8y7ofSYkXQOmKy+Qc8hFAvKcrWbFREkDjOurxxqQTQEnCk627hhZAP+hY7b7uGUDkN+qdzuITQKQ2YP16xhNAvub+YmPfF0CJNCavNzQYQPQxZe72QxhARbAHTHTTFUC4yApXRsgVQB5QlkUagRpAp5S2//Z0E0CbiQAaC/sTQIhmR2t65BRAI1uazpuUF0AnCWNu+xMUQA/ksDbY/hVASrrzUmgLFkAiUAhqiHATQHzF4dtyIR1AtvWBGOUrHUCZGOoh154dQFXYuOOVwxdAf7mzBEioFkBi3tWU7/sUQDqFmPaTmxVAAeDQl0aiHkAWLaZmCjcVQG+OvhZb5xVAnQtanLxlFUCdhPx2U2EWQDJB3uAWLiBA5cUxwOzPH0CsbXqYrMogQIdvC8GddxZAlLoxo1xQIECrDEGiD/sWQNo/EWNTvRpAcF1POfzpGECH5rBH5R4ZQOX30PntJCFAkaGF7BoNG0BgfeRljDkiQMwTGmbhnhtAcgdSM0kAIUCuxksRS0QjQCdP4tCTRiNAsRxQ6wUXGUD+x8Mb5WEjQPNYmaKkCyNAZEZrJOzMHUDykgmpafoiQI9hIOwW8xxAgf0AsxslI0CU3gEfRSYjQMEfM69A0B9Aycsz/DYEH0Cl7Q2tFGcdQHNhICOh+B1AuByoYNj4I0AtJ3w8Y60fQPxLzjuSsyVAw8DtkMbHJUDdb0s2qdYgQBB/WpxTLSBA3EOAfL8+JUBWSLn4e8YlQGlXK/9gdCBA0Zn1bYJfJUAzPhdmUs8lQG9g30I1RyFAcsjC1nxIIUBbrigHq8UgQFEqufBJxCBA/AuNU3bRIUAxnMlV+pkmQFwtCbhXMCVAvfkrpz53IkDB2HgES3siQAWyZkBfYhtA1V7kMyqXG0DM+X5YC9wmQCP9HMeXfCNAw8YQOpUTKkDQ4lB8ShUqQCiT2JlixxdAPjk+gS3UF0CD0tOVBeEXQJBvvUHs1RlAiqDdE13BHEA=",
        "encoding": "base64",
        "path": [
         "_data",
         0,
         "dimensions",
         5,
         "values",
         "value"
        ]
       }
      ],
      "model_module": "jupyterlab-plotly",
      "model_module_version": "^5.6.0",
      "model_name": "FigureModel",
      "state": {
       "_config": {
        "plotlyServerURL": "https://plot.ly"
       },
       "_data": [
        {
         "dimensions": [
          {
           "label": "Period",
           "values": [
            5031,
            3377,
            3652,
            5385,
            2981,
            2441,
            1132,
            12842,
            18392,
            8788,
            6086,
            8280,
            6086,
            5632,
            14352,
            6086,
            9515,
            8132,
            17448,
            10427,
            1216,
            20058,
            19968,
            8132,
            16495,
            5155,
            17086,
            47740,
            11596,
            9182,
            44439,
            42860,
            12169,
            47733,
            23867,
            16474,
            17128,
            44977,
            13092,
            39068,
            46910,
            24353,
            0,
            39701,
            33277,
            33610,
            0,
            24315,
            0,
            27401,
            32116,
            30261,
            25293,
            0,
            30261,
            40006,
            38209,
            0,
            46170,
            3245,
            40707,
            25527,
            24353,
            45418,
            39729,
            42333,
            37132,
            26469,
            39729,
            38882,
            38882,
            38004,
            40582,
            24724,
            44082,
            24771,
            1047,
            47768,
            23508,
            25386,
            48512,
            45653,
            48754,
            24686,
            49111,
            46468,
            45144,
            26600,
            37753,
            47768,
            48754,
            24315,
            47812,
            24686,
            24771,
            21179,
            43301,
            49863,
            8132,
            24686,
            24724,
            25527,
            24771,
            26600,
            44977,
            17155,
            22610,
            27115,
            22610,
            36391,
            42702,
            47768,
            40377,
            37132,
            27401,
            25527,
            36032,
            17086,
            24315,
            6086,
            37132,
            36391,
            32500,
            24724,
            49111,
            28913,
            28944,
            28913,
            28944,
            24686,
            33277,
            32142,
            32142,
            37557,
            24686,
            30261,
            24686,
            30261,
            6086,
            27115,
            30261,
            30958,
            23893,
            24724,
            24686,
            17086,
            23893,
            33610,
            38882,
            23893,
            24353,
            30261,
            32604,
            23893,
            32500,
            22610,
            39729,
            23508,
            26600,
            30958,
            22895,
            28944,
            24771,
            24353,
            24353,
            6086,
            27631,
            24353,
            28944,
            38882,
            36032,
            27401,
            30958,
            24686,
            24771,
            30261,
            28944,
            24686,
            24771,
            24353,
            39068,
            24686,
            33277,
            23893,
            32142,
            33277,
            24315,
            37132,
            25527,
            26600,
            30261,
            24724,
            24353,
            32500,
            30261,
            27631,
            36391,
            28944,
            33277,
            30958,
            33610,
            33277,
            24686,
            24686,
            33277,
            24724,
            25527,
            27401,
            28944,
            33610,
            30261,
            27401,
            26600,
            27631,
            32500,
            33277,
            30958,
            32500,
            24686,
            24724,
            36391,
            32142,
            26600,
            25527,
            30958,
            30261,
            32142,
            32604,
            32604,
            32500,
            32142,
            33277,
            32604,
            30958,
            33277,
            33610,
            33610,
            33277,
            32142,
            36391,
            32142,
            32142,
            33277,
            32604,
            32142,
            30958,
            32142
           ]
          },
          {
           "label": "StdDev",
           "values": {
            "dtype": "float64",
            "shape": [
             247
            ],
            "value": {}
           }
          },
          {
           "label": "Fitness",
           "values": {
            "dtype": "float64",
            "shape": [
             247
            ],
            "value": {}
           }
          },
          {
           "label": "Count",
           "values": {
            "dtype": "float64",
            "shape": [
             247
            ],
            "value": {}
           }
          },
          {
           "label": "AvgProfit",
           "values": {
            "dtype": "float64",
            "shape": [
             247
            ],
            "value": {}
           }
          },
          {
           "label": "Sharpe",
           "values": {
            "dtype": "float64",
            "shape": [
             247
            ],
            "value": {}
           }
          }
         ],
         "type": "parcoords",
         "uid": "c5cfda3c-04bc-4003-8ca9-8f2978aeb6e3"
        }
       ],
       "_js2py_pointsCallback": {},
       "_js2py_relayout": {},
       "_js2py_restyle": {},
       "_js2py_update": {},
       "_last_layout_edit_id": 1,
       "_last_trace_edit_id": 1,
       "_layout": {
        "autosize": true,
        "height": 400,
        "margin": {
         "b": 20,
         "l": 45,
         "pad": 3,
         "r": 45,
         "t": 50
        },
        "template": {
         "data": {
          "bar": [
           {
            "error_x": {
             "color": "#2a3f5f"
            },
            "error_y": {
             "color": "#2a3f5f"
            },
            "marker": {
             "line": {
              "color": "white",
              "width": 0.5
             },
             "pattern": {
              "fillmode": "overlay",
              "size": 10,
              "solidity": 0.2
             }
            },
            "type": "bar"
           }
          ],
          "barpolar": [
           {
            "marker": {
             "line": {
              "color": "white",
              "width": 0.5
             },
             "pattern": {
              "fillmode": "overlay",
              "size": 10,
              "solidity": 0.2
             }
            },
            "type": "barpolar"
           }
          ],
          "carpet": [
           {
            "aaxis": {
             "endlinecolor": "#2a3f5f",
             "gridcolor": "#C8D4E3",
             "linecolor": "#C8D4E3",
             "minorgridcolor": "#C8D4E3",
             "startlinecolor": "#2a3f5f"
            },
            "baxis": {
             "endlinecolor": "#2a3f5f",
             "gridcolor": "#C8D4E3",
             "linecolor": "#C8D4E3",
             "minorgridcolor": "#C8D4E3",
             "startlinecolor": "#2a3f5f"
            },
            "type": "carpet"
           }
          ],
          "choropleth": [
           {
            "colorbar": {
             "outlinewidth": 0,
             "ticks": ""
            },
            "type": "choropleth"
           }
          ],
          "contour": [
           {
            "colorbar": {
             "outlinewidth": 0,
             "ticks": ""
            },
            "colorscale": [
             [
              0,
              "#0d0887"
             ],
             [
              0.1111111111111111,
              "#46039f"
             ],
             [
              0.2222222222222222,
              "#7201a8"
             ],
             [
              0.3333333333333333,
              "#9c179e"
             ],
             [
              0.4444444444444444,
              "#bd3786"
             ],
             [
              0.5555555555555556,
              "#d8576b"
             ],
             [
              0.6666666666666666,
              "#ed7953"
             ],
             [
              0.7777777777777778,
              "#fb9f3a"
             ],
             [
              0.8888888888888888,
              "#fdca26"
             ],
             [
              1,
              "#f0f921"
             ]
            ],
            "type": "contour"
           }
          ],
          "contourcarpet": [
           {
            "colorbar": {
             "outlinewidth": 0,
             "ticks": ""
            },
            "type": "contourcarpet"
           }
          ],
          "heatmap": [
           {
            "colorbar": {
             "outlinewidth": 0,
             "ticks": ""
            },
            "colorscale": [
             [
              0,
              "#0d0887"
             ],
             [
              0.1111111111111111,
              "#46039f"
             ],
             [
              0.2222222222222222,
              "#7201a8"
             ],
             [
              0.3333333333333333,
              "#9c179e"
             ],
             [
              0.4444444444444444,
              "#bd3786"
             ],
             [
              0.5555555555555556,
              "#d8576b"
             ],
             [
              0.6666666666666666,
              "#ed7953"
             ],
             [
              0.7777777777777778,
              "#fb9f3a"
             ],
             [
              0.8888888888888888,
              "#fdca26"
             ],
             [
              1,
              "#f0f921"
             ]
            ],
            "type": "heatmap"
           }
          ],
          "heatmapgl": [
           {
            "colorbar": {
             "outlinewidth": 0,
             "ticks": ""
            },
            "colorscale": [
             [
              0,
              "#0d0887"
             ],
             [
              0.1111111111111111,
              "#46039f"
             ],
             [
              0.2222222222222222,
              "#7201a8"
             ],
             [
              0.3333333333333333,
              "#9c179e"
             ],
             [
              0.4444444444444444,
              "#bd3786"
             ],
             [
              0.5555555555555556,
              "#d8576b"
             ],
             [
              0.6666666666666666,
              "#ed7953"
             ],
             [
              0.7777777777777778,
              "#fb9f3a"
             ],
             [
              0.8888888888888888,
              "#fdca26"
             ],
             [
              1,
              "#f0f921"
             ]
            ],
            "type": "heatmapgl"
           }
          ],
          "histogram": [
           {
            "marker": {
             "pattern": {
              "fillmode": "overlay",
              "size": 10,
              "solidity": 0.2
             }
            },
            "type": "histogram"
           }
          ],
          "histogram2d": [
           {
            "colorbar": {
             "outlinewidth": 0,
             "ticks": ""
            },
            "colorscale": [
             [
              0,
              "#0d0887"
             ],
             [
              0.1111111111111111,
              "#46039f"
             ],
             [
              0.2222222222222222,
              "#7201a8"
             ],
             [
              0.3333333333333333,
              "#9c179e"
             ],
             [
              0.4444444444444444,
              "#bd3786"
             ],
             [
              0.5555555555555556,
              "#d8576b"
             ],
             [
              0.6666666666666666,
              "#ed7953"
             ],
             [
              0.7777777777777778,
              "#fb9f3a"
             ],
             [
              0.8888888888888888,
              "#fdca26"
             ],
             [
              1,
              "#f0f921"
             ]
            ],
            "type": "histogram2d"
           }
          ],
          "histogram2dcontour": [
           {
            "colorbar": {
             "outlinewidth": 0,
             "ticks": ""
            },
            "colorscale": [
             [
              0,
              "#0d0887"
             ],
             [
              0.1111111111111111,
              "#46039f"
             ],
             [
              0.2222222222222222,
              "#7201a8"
             ],
             [
              0.3333333333333333,
              "#9c179e"
             ],
             [
              0.4444444444444444,
              "#bd3786"
             ],
             [
              0.5555555555555556,
              "#d8576b"
             ],
             [
              0.6666666666666666,
              "#ed7953"
             ],
             [
              0.7777777777777778,
              "#fb9f3a"
             ],
             [
              0.8888888888888888,
              "#fdca26"
             ],
             [
              1,
              "#f0f921"
             ]
            ],
            "type": "histogram2dcontour"
           }
          ],
          "mesh3d": [
           {
            "colorbar": {
             "outlinewidth": 0,
             "ticks": ""
            },
            "type": "mesh3d"
           }
          ],
          "parcoords": [
           {
            "line": {
             "colorbar": {
              "outlinewidth": 0,
              "ticks": ""
             }
            },
            "type": "parcoords"
           }
          ],
          "pie": [
           {
            "automargin": true,
            "type": "pie"
           }
          ],
          "scatter": [
           {
            "marker": {
             "colorbar": {
              "outlinewidth": 0,
              "ticks": ""
             }
            },
            "type": "scatter"
           }
          ],
          "scatter3d": [
           {
            "line": {
             "colorbar": {
              "outlinewidth": 0,
              "ticks": ""
             }
            },
            "marker": {
             "colorbar": {
              "outlinewidth": 0,
              "ticks": ""
             }
            },
            "type": "scatter3d"
           }
          ],
          "scattercarpet": [
           {
            "marker": {
             "colorbar": {
              "outlinewidth": 0,
              "ticks": ""
             }
            },
            "type": "scattercarpet"
           }
          ],
          "scattergeo": [
           {
            "marker": {
             "colorbar": {
              "outlinewidth": 0,
              "ticks": ""
             }
            },
            "type": "scattergeo"
           }
          ],
          "scattergl": [
           {
            "marker": {
             "colorbar": {
              "outlinewidth": 0,
              "ticks": ""
             }
            },
            "type": "scattergl"
           }
          ],
          "scattermapbox": [
           {
            "marker": {
             "colorbar": {
              "outlinewidth": 0,
              "ticks": ""
             }
            },
            "type": "scattermapbox"
           }
          ],
          "scatterpolar": [
           {
            "marker": {
             "colorbar": {
              "outlinewidth": 0,
              "ticks": ""
             }
            },
            "type": "scatterpolar"
           }
          ],
          "scatterpolargl": [
           {
            "marker": {
             "colorbar": {
              "outlinewidth": 0,
              "ticks": ""
             }
            },
            "type": "scatterpolargl"
           }
          ],
          "scatterternary": [
           {
            "marker": {
             "colorbar": {
              "outlinewidth": 0,
              "ticks": ""
             }
            },
            "type": "scatterternary"
           }
          ],
          "surface": [
           {
            "colorbar": {
             "outlinewidth": 0,
             "ticks": ""
            },
            "colorscale": [
             [
              0,
              "#0d0887"
             ],
             [
              0.1111111111111111,
              "#46039f"
             ],
             [
              0.2222222222222222,
              "#7201a8"
             ],
             [
              0.3333333333333333,
              "#9c179e"
             ],
             [
              0.4444444444444444,
              "#bd3786"
             ],
             [
              0.5555555555555556,
              "#d8576b"
             ],
             [
              0.6666666666666666,
              "#ed7953"
             ],
             [
              0.7777777777777778,
              "#fb9f3a"
             ],
             [
              0.8888888888888888,
              "#fdca26"
             ],
             [
              1,
              "#f0f921"
             ]
            ],
            "type": "surface"
           }
          ],
          "table": [
           {
            "cells": {
             "fill": {
              "color": "#EBF0F8"
             },
             "line": {
              "color": "white"
             }
            },
            "header": {
             "fill": {
              "color": "#C8D4E3"
             },
             "line": {
              "color": "white"
             }
            },
            "type": "table"
           }
          ]
         },
         "layout": {
          "annotationdefaults": {
           "arrowcolor": "#2a3f5f",
           "arrowhead": 0,
           "arrowwidth": 1
          },
          "autotypenumbers": "strict",
          "coloraxis": {
           "colorbar": {
            "outlinewidth": 0,
            "ticks": ""
           }
          },
          "colorscale": {
           "diverging": [
            [
             0,
             "#8e0152"
            ],
            [
             0.1,
             "#c51b7d"
            ],
            [
             0.2,
             "#de77ae"
            ],
            [
             0.3,
             "#f1b6da"
            ],
            [
             0.4,
             "#fde0ef"
            ],
            [
             0.5,
             "#f7f7f7"
            ],
            [
             0.6,
             "#e6f5d0"
            ],
            [
             0.7,
             "#b8e186"
            ],
            [
             0.8,
             "#7fbc41"
            ],
            [
             0.9,
             "#4d9221"
            ],
            [
             1,
             "#276419"
            ]
           ],
           "sequential": [
            [
             0,
             "#0d0887"
            ],
            [
             0.1111111111111111,
             "#46039f"
            ],
            [
             0.2222222222222222,
             "#7201a8"
            ],
            [
             0.3333333333333333,
             "#9c179e"
            ],
            [
             0.4444444444444444,
             "#bd3786"
            ],
            [
             0.5555555555555556,
             "#d8576b"
            ],
            [
             0.6666666666666666,
             "#ed7953"
            ],
            [
             0.7777777777777778,
             "#fb9f3a"
            ],
            [
             0.8888888888888888,
             "#fdca26"
            ],
            [
             1,
             "#f0f921"
            ]
           ],
           "sequentialminus": [
            [
             0,
             "#0d0887"
            ],
            [
             0.1111111111111111,
             "#46039f"
            ],
            [
             0.2222222222222222,
             "#7201a8"
            ],
            [
             0.3333333333333333,
             "#9c179e"
            ],
            [
             0.4444444444444444,
             "#bd3786"
            ],
            [
             0.5555555555555556,
             "#d8576b"
            ],
            [
             0.6666666666666666,
             "#ed7953"
            ],
            [
             0.7777777777777778,
             "#fb9f3a"
            ],
            [
             0.8888888888888888,
             "#fdca26"
            ],
            [
             1,
             "#f0f921"
            ]
           ]
          },
          "colorway": [
           "#636efa",
           "#EF553B",
           "#00cc96",
           "#ab63fa",
           "#FFA15A",
           "#19d3f3",
           "#FF6692",
           "#B6E880",
           "#FF97FF",
           "#FECB52"
          ],
          "font": {
           "color": "#2a3f5f"
          },
          "geo": {
           "bgcolor": "white",
           "lakecolor": "white",
           "landcolor": "white",
           "showlakes": true,
           "showland": true,
           "subunitcolor": "#C8D4E3"
          },
          "hoverlabel": {
           "align": "left"
          },
          "hovermode": "closest",
          "mapbox": {
           "style": "light"
          },
          "paper_bgcolor": "white",
          "plot_bgcolor": "white",
          "polar": {
           "angularaxis": {
            "gridcolor": "#EBF0F8",
            "linecolor": "#EBF0F8",
            "ticks": ""
           },
           "bgcolor": "white",
           "radialaxis": {
            "gridcolor": "#EBF0F8",
            "linecolor": "#EBF0F8",
            "ticks": ""
           }
          },
          "scene": {
           "xaxis": {
            "backgroundcolor": "white",
            "gridcolor": "#DFE8F3",
            "gridwidth": 2,
            "linecolor": "#EBF0F8",
            "showbackground": true,
            "ticks": "",
            "zerolinecolor": "#EBF0F8"
           },
           "yaxis": {
            "backgroundcolor": "white",
            "gridcolor": "#DFE8F3",
            "gridwidth": 2,
            "linecolor": "#EBF0F8",
            "showbackground": true,
            "ticks": "",
            "zerolinecolor": "#EBF0F8"
           },
           "zaxis": {
            "backgroundcolor": "white",
            "gridcolor": "#DFE8F3",
            "gridwidth": 2,
            "linecolor": "#EBF0F8",
            "showbackground": true,
            "ticks": "",
            "zerolinecolor": "#EBF0F8"
           }
          },
          "shapedefaults": {
           "line": {
            "color": "#2a3f5f"
           }
          },
          "ternary": {
           "aaxis": {
            "gridcolor": "#DFE8F3",
            "linecolor": "#A2B1C6",
            "ticks": ""
           },
           "baxis": {
            "gridcolor": "#DFE8F3",
            "linecolor": "#A2B1C6",
            "ticks": ""
           },
           "bgcolor": "white",
           "caxis": {
            "gridcolor": "#DFE8F3",
            "linecolor": "#A2B1C6",
            "ticks": ""
           }
          },
          "title": {
           "x": 0.05
          },
          "xaxis": {
           "automargin": true,
           "gridcolor": "#EBF0F8",
           "linecolor": "#EBF0F8",
           "ticks": "",
           "title": {
            "standoff": 15
           },
           "zerolinecolor": "#EBF0F8",
           "zerolinewidth": 2
          },
          "yaxis": {
           "automargin": true,
           "gridcolor": "#EBF0F8",
           "linecolor": "#EBF0F8",
           "ticks": "",
           "title": {
            "standoff": 15
           },
           "zerolinecolor": "#EBF0F8",
           "zerolinewidth": 2
          }
         }
        }
       },
       "_py2js_addTraces": {},
       "_py2js_animate": {},
       "_py2js_deleteTraces": {},
       "_py2js_moveTraces": {},
       "_py2js_removeLayoutProps": {},
       "_py2js_removeTraceProps": {},
       "_py2js_restyle": {},
       "_view_count": 1
      }
     },
     "ec3f9e85bb9f4f6792d8e968153a2674": {
      "model_module": "@jupyter-widgets/base",
      "model_module_version": "1.2.0",
      "model_name": "LayoutModel",
      "state": {}
     },
     "ee19fa5699c746d7aa12d4a850e9e923": {
      "model_module": "@jupyter-widgets/base",
      "model_module_version": "1.2.0",
      "model_name": "LayoutModel",
      "state": {}
     }
    },
    "version_major": 2,
    "version_minor": 0
   }
  }
 },
 "nbformat": 4,
 "nbformat_minor": 5
}
