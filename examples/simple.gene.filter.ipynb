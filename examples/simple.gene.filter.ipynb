{
 "cells": [
  {
   "cell_type": "code",
   "execution_count": 1,
   "id": "02a048c3",
   "metadata": {
    "ExecuteTime": {
     "end_time": "2022-09-21T16:52:29.214837Z",
     "start_time": "2022-09-21T16:52:28.051993Z"
    },
    "code_folding": [
     0
    ],
    "execution": {
     "iopub.execute_input": "2023-10-24T07:04:51.190938Z",
     "iopub.status.busy": "2023-10-24T07:04:51.190706Z",
     "iopub.status.idle": "2023-10-24T07:04:52.462767Z",
     "shell.execute_reply": "2023-10-24T07:04:52.461993Z",
     "shell.execute_reply.started": "2023-10-24T07:04:51.190905Z"
    },
    "tags": []
   },
   "outputs": [],
   "source": [
    "# import\n",
    "import pandas as pd\n",
    "import numpy as np\n",
    "from numba import njit\n",
    "\n",
    "from simple.chart import interactFigure, updateFigure, updateSliders, chartParallel\n",
    "from simple.backtest import getProfitDict, npTrades\n",
    "from simple.funcs import vwap, vPIN\n",
    "from simple.geneopt import GeneOpt\n",
    "from simple.types import TTrade, TPairTrade\n",
    "\n",
    "from ipyslickgrid import show_grid\n",
    "from multiprocessing import current_process\n",
    "from ipywidgets import VBox"
   ]
  },
  {
   "cell_type": "code",
   "execution_count": 2,
   "id": "8a7cb103",
   "metadata": {
    "ExecuteTime": {
     "end_time": "2022-09-21T16:52:29.354536Z",
     "start_time": "2022-09-21T16:52:29.217106Z"
    },
    "execution": {
     "iopub.execute_input": "2023-10-24T07:04:52.465121Z",
     "iopub.status.busy": "2023-10-24T07:04:52.464763Z",
     "iopub.status.idle": "2023-10-24T07:04:52.558232Z",
     "shell.execute_reply": "2023-10-24T07:04:52.557512Z",
     "shell.execute_reply.started": "2023-10-24T07:04:52.465095Z"
    }
   },
   "outputs": [
    {
     "data": {
      "text/plain": [
       "889360"
      ]
     },
     "execution_count": 2,
     "metadata": {},
     "output_type": "execute_result"
    }
   ],
   "source": [
    "T = np.load('data/tick.npz')['BTCUSDT'].view(np.recarray)\n",
    "len(T)"
   ]
  },
  {
   "cell_type": "code",
   "execution_count": 3,
   "id": "95bbb333",
   "metadata": {
    "ExecuteTime": {
     "end_time": "2022-09-21T16:52:29.369863Z",
     "start_time": "2022-09-21T16:52:29.357962Z"
    },
    "code_folding": [
     11
    ],
    "execution": {
     "iopub.execute_input": "2023-10-24T07:04:52.563894Z",
     "iopub.status.busy": "2023-10-24T07:04:52.563638Z",
     "iopub.status.idle": "2023-10-24T07:04:52.576390Z",
     "shell.execute_reply": "2023-10-24T07:04:52.575642Z",
     "shell.execute_reply.started": "2023-10-24T07:04:52.563867Z"
    }
   },
   "outputs": [],
   "source": [
    "from numba.types import int64, float64, Tuple\n",
    "from numpy.typing import NDArray\n",
    "from numba.typed import List\n",
    "\n",
    "fp32 = np.float32\n",
    "default_fee = 0.05\n",
    "\n",
    "signal_type = Tuple((int64, int64, float64, float64))\n",
    "trade_type = Tuple((int64, int64, float64, float64, int64, int64, float64, float64, int64))\n",
    "\n",
    "@njit(nogil=True)\n",
    "def backtestLimit(T: NDArray[TTrade], qA: NDArray[float], qB: NDArray[float], signal, threshold, fee_percent=default_fee) -> List[trade_type]:\n",
    "    \"\"\"Vectorized backtester for limit order strategies with filter\"\"\"\n",
    "\n",
    "    buys = List.empty_list(signal_type)\n",
    "    sells = List.empty_list(signal_type)\n",
    "    trades = List.empty_list(trade_type)\n",
    "    ts = T.DateTime.view(np.int64)\n",
    "    pos: int = 0\n",
    "\n",
    "    for i in range(len(ts) - 1):\n",
    "        price = T.Price[i]\n",
    "\n",
    "        if price > qA[i]:\n",
    "            delta_pos = -min(pos + 1, 1)\n",
    "        elif price < qB[i]:\n",
    "            delta_pos = min(1 - pos, 1)\n",
    "        else:\n",
    "            delta_pos = 0\n",
    "\n",
    "        k = i + 1\n",
    "        if delta_pos > 0:\n",
    "            buys.append((k, ts[k], qB[i], qB[i]))\n",
    "        elif delta_pos < 0:\n",
    "            sells.append((k, ts[k], qA[i], qA[i]))\n",
    "\n",
    "        if len(sells) > 0 and len(buys) > 0:\n",
    "            buy = buys.pop(0)\n",
    "            sell = sells.pop(0)\n",
    "            if delta_pos < 0:\n",
    "                trades.append((*buy, *sell, -delta_pos))\n",
    "            else:\n",
    "                trades.append((*sell, *buy, -delta_pos))\n",
    "\n",
    "        pos += delta_pos\n",
    "\n",
    "    return trades"
   ]
  },
  {
   "cell_type": "code",
   "execution_count": 4,
   "id": "acb5c582",
   "metadata": {
    "ExecuteTime": {
     "end_time": "2022-09-21T16:52:29.379838Z",
     "start_time": "2022-09-21T16:52:29.371523Z"
    },
    "execution": {
     "iopub.execute_input": "2023-10-24T07:04:52.577405Z",
     "iopub.status.busy": "2023-10-24T07:04:52.577184Z",
     "iopub.status.idle": "2023-10-24T07:04:52.590753Z",
     "shell.execute_reply": "2023-10-24T07:04:52.589596Z",
     "shell.execute_reply.started": "2023-10-24T07:04:52.577383Z"
    }
   },
   "outputs": [],
   "source": [
    "# declare chart linestyles\n",
    "line_styles = {\n",
    "    'Center': dict(color='blue', opacity=0.5),\n",
    "    'qA': dict(color='red', opacity=0.5, dash='dot'),\n",
    "    'qB': dict(color='green', opacity=0.5, dash='dot'),\n",
    "    'OSC': dict(color='orange', row=2, col=1, opacity=0.6)\n",
    "}"
   ]
  },
  {
   "cell_type": "code",
   "execution_count": 5,
   "id": "7ab0e9bc",
   "metadata": {
    "ExecuteTime": {
     "end_time": "2022-09-21T16:52:29.389206Z",
     "start_time": "2022-09-21T16:52:29.381607Z"
    },
    "execution": {
     "iopub.execute_input": "2023-10-24T07:04:52.594633Z",
     "iopub.status.busy": "2023-10-24T07:04:52.594235Z",
     "iopub.status.idle": "2023-10-24T07:04:52.602574Z",
     "shell.execute_reply": "2023-10-24T07:04:52.601840Z",
     "shell.execute_reply.started": "2023-10-24T07:04:52.594597Z"
    },
    "tags": []
   },
   "outputs": [],
   "source": [
    "def model(Period: int = (1000, 50000), StdDev: float = (1, 4, 0.1), Threshold: int = (0, 40)):\n",
    "    if Period == 0 or StdDev == 0: return {}\n",
    "    Tick = T.Price\n",
    "    Center = vwap(T, Period)\n",
    "    _std = pd.Series(Tick).rolling(Period).std().bfill().values\n",
    "    qA = Center + _std*StdDev\n",
    "    qB = Center - _std*StdDev\n",
    "    OSC = np.nan_to_num(vPIN(T, Period))\n",
    "\n",
    "    _trades = npTrades(backtestLimit(T, qA, qB, OSC, Threshold))\n",
    "    return getProfitDict(_trades) if current_process().daemon else locals()"
   ]
  },
  {
   "cell_type": "code",
   "execution_count": 6,
   "id": "d91ed300",
   "metadata": {
    "ExecuteTime": {
     "end_time": "2022-09-21T16:53:24.828547Z",
     "start_time": "2022-09-21T16:52:29.390864Z"
    },
    "execution": {
     "iopub.execute_input": "2023-10-24T07:04:52.603683Z",
     "iopub.status.busy": "2023-10-24T07:04:52.603456Z",
     "iopub.status.idle": "2023-10-24T07:05:33.026936Z",
     "shell.execute_reply": "2023-10-24T07:05:33.026005Z",
     "shell.execute_reply.started": "2023-10-24T07:04:52.603660Z"
    },
    "tags": []
   },
   "outputs": [
    {
     "data": {
      "application/vnd.jupyter.widget-view+json": {
       "model_id": "9739660c249d4b1cb21abf28d7fd226b",
       "version_major": 2,
       "version_minor": 0
      },
      "text/plain": [
       "  0%|          | 0/5 [00:00<?, ?it/s]"
      ]
     },
     "metadata": {},
     "output_type": "display_data"
    },
    {
     "data": {
      "text/plain": [
       "{'Period': 27222, 'StdDev': 2.3943980486597325, 'Threshold': 39}"
      ]
     },
     "execution_count": 6,
     "metadata": {},
     "output_type": "execute_result"
    }
   ],
   "source": [
    "# Genetic optimizer\n",
    "G = GeneOpt(model)\n",
    "G.maximize(population_size=256, generations=5)"
   ]
  },
  {
   "cell_type": "code",
   "execution_count": 7,
   "id": "1453d8a7",
   "metadata": {
    "ExecuteTime": {
     "end_time": "2022-09-21T16:53:28.672553Z",
     "start_time": "2022-09-21T16:53:24.831751Z"
    },
    "execution": {
     "iopub.execute_input": "2023-10-24T07:05:33.028552Z",
     "iopub.status.busy": "2023-10-24T07:05:33.028279Z",
     "iopub.status.idle": "2023-10-24T07:05:36.553758Z",
     "shell.execute_reply": "2023-10-24T07:05:36.552997Z",
     "shell.execute_reply.started": "2023-10-24T07:05:33.028524Z"
    },
    "tags": []
   },
   "outputs": [],
   "source": [
    "# Create interactive figure\n",
    "box = interactFigure(model, rows=2, height=650, **line_styles)"
   ]
  },
  {
   "cell_type": "code",
   "execution_count": 8,
   "id": "9f094035",
   "metadata": {
    "ExecuteTime": {
     "end_time": "2022-09-21T16:53:29.171815Z",
     "start_time": "2022-09-21T16:53:28.675043Z"
    },
    "execution": {
     "iopub.execute_input": "2023-10-24T07:05:36.554971Z",
     "iopub.status.busy": "2023-10-24T07:05:36.554731Z",
     "iopub.status.idle": "2023-10-24T07:05:36.729789Z",
     "shell.execute_reply": "2023-10-24T07:05:36.729117Z",
     "shell.execute_reply.started": "2023-10-24T07:05:36.554947Z"
    },
    "tags": []
   },
   "outputs": [
    {
     "data": {
      "application/vnd.jupyter.widget-view+json": {
       "model_id": "d542e9c841e548a187f8105b299648f2",
       "version_major": 2,
       "version_minor": 0
      },
      "text/plain": [
       "VBox(children=(VBox(children=(HBox(children=(IntSlider(value=25500, description='Period', max=50000, min=1000)…"
      ]
     },
     "metadata": {},
     "output_type": "display_data"
    }
   ],
   "source": [
    "# Genetic result browser\n",
    "X = pd.DataFrame(G.log, columns=G.log_columns).drop_duplicates().sort_values('Profit', ascending=False)\n",
    "\n",
    "\n",
    "def on_changed(event, grid):\n",
    "    changed = grid.get_changed_df()\n",
    "    k = event['new'][0]\n",
    "    selected = changed.iloc[k:k+1].to_dict('records')[0]\n",
    "    param = dict(filter(lambda x: x[0] in G.args, selected.items()))\n",
    "\n",
    "    updateSliders(box.children[0].children, **param)\n",
    "    updateFigure(box.children[1], **model(**param)[1])\n",
    "\n",
    "\n",
    "grid = show_grid(X, grid_options={'editable': False, 'forceFitColumns': True, 'multiSelect': False}, \n",
    "                 column_options={'defaultSortAsc': False})\n",
    "grid.on('selection_changed', on_changed)\n",
    "\n",
    "VBox([box, grid])"
   ]
  },
  {
   "cell_type": "code",
   "execution_count": 9,
   "id": "4daae8ce",
   "metadata": {
    "ExecuteTime": {
     "end_time": "2022-09-21T16:53:29.446719Z",
     "start_time": "2022-09-21T16:53:29.173868Z"
    },
    "execution": {
     "iopub.execute_input": "2023-10-24T07:05:36.730870Z",
     "iopub.status.busy": "2023-10-24T07:05:36.730635Z",
     "iopub.status.idle": "2023-10-24T07:05:37.084353Z",
     "shell.execute_reply": "2023-10-24T07:05:37.083624Z",
     "shell.execute_reply.started": "2023-10-24T07:05:36.730848Z"
    },
    "tags": []
   },
   "outputs": [
    {
     "data": {
      "application/vnd.jupyter.widget-view+json": {
       "model_id": "1ca2c49b0575406abf4a29c48827a0ea",
       "version_major": 2,
       "version_minor": 0
      },
      "text/plain": [
       "FigureWidget({\n",
       "    'data': [{'dimensions': [{'label': 'index',\n",
       "                              'range': [0, 1279],\n",
       "                              'values': array([1140,  349,  389, ..., 1166, 1183, 1277])},\n",
       "                             {'label': 'Period',\n",
       "                              'range': [0, 49835],\n",
       "                              'values': array([27222, 26990, 31000, ...,     0, 37002,     0])},\n",
       "                             {'label': 'StdDev',\n",
       "                              'range': [0.0, 3.9992371171562824],\n",
       "                              'values': array([2.39439805, 2.39983037, 2.48594046, ..., 2.36125938, 0.        ,\n",
       "                                               2.35712531])},\n",
       "                             {'label': 'Threshold',\n",
       "                              'range': [0, 39],\n",
       "                              'values': array([39, 39,  2, ...,  0, 28, 16])},\n",
       "                             {'label': 'Profit',\n",
       "                              'range': [-20440.722478356463, 7132.065173835399],\n",
       "                              'values': array([7132.06517384, 7111.50352819, 7076.15528317, ...,           nan,\n",
       "                                                         nan,           nan])},\n",
       "                             {'label': 'Count',\n",
       "                              'range': [0.0, 593.0],\n",
       "                              'values': array([23., 23., 19., ..., nan, nan, nan])},\n",
       "                             {'label': 'PRatio',\n",
       "                              'range': [0.0, 1.0],\n",
       "                              'values': array([0.73913043, 0.73913043, 0.78947368, ...,        nan,        nan,\n",
       "                                                      nan])},\n",
       "                             {'label': 'AvgMid',\n",
       "                              'range': [-1010.0174264695452, 2014.3355520377663],\n",
       "                              'values': array([321.22751771, 320.33330389, 383.59617572, ...,          nan,\n",
       "                                                        nan,          nan])},\n",
       "                             {'label': 'RawPnL',\n",
       "                              'range': [-14400.946391578917, 7388.232907287806],\n",
       "                              'values': array([7388.23290729, 7367.66598936, 7288.3273387 , ...,           nan,\n",
       "                                                         nan,           nan])},\n",
       "                             {'label': 'Fee',\n",
       "                              'range': [0.0, 6634.487622092396],\n",
       "                              'values': array([256.16773345, 256.16246117, 212.17205553, ...,          nan,\n",
       "                                                        nan,          nan])},\n",
       "                             {'label': 'MidPnL',\n",
       "                              'range': [-14400.946391578917, 7388.232907287806],\n",
       "                              'values': array([7388.23290729, 7367.66598936, 7288.3273387 , ...,           nan,\n",
       "                                                         nan,           nan])},\n",
       "                             {'label': 'Sharpe',\n",
       "                              'range': [-160.87351543630015, 14.947066386875571],\n",
       "                              'values': array([14.94706639, 14.93388303, 13.92934647, ...,         nan,         nan,\n",
       "                                                       nan])}],\n",
       "              'type': 'parcoords',\n",
       "              'uid': 'df54ccf0-6881-450c-a240-c8973b7f251d'}],\n",
       "    'layout': {'autosize': True,\n",
       "               'height': 400,\n",
       "               'margin': {'b': 20, 'l': 45, 'pad': 3, 'r': 45, 't': 50},\n",
       "               'template': '...'}\n",
       "})"
      ]
     },
     "execution_count": 9,
     "metadata": {},
     "output_type": "execute_result"
    }
   ],
   "source": [
    "chartParallel(X)"
   ]
  }
 ],
 "metadata": {
  "kernelspec": {
   "display_name": "Python 3 (ipykernel)",
   "language": "python",
   "name": "python3"
  },
  "language_info": {
   "codemirror_mode": {
    "name": "ipython",
    "version": 3
   },
   "file_extension": ".py",
   "mimetype": "text/x-python",
   "name": "python",
   "nbconvert_exporter": "python",
   "pygments_lexer": "ipython3",
   "version": "3.9.18"
  },
  "widgets": {
   "application/vnd.jupyter.widget-state+json": {
    "state": {
     "0bc369d190a54d86877215575b6576b8": {
      "model_module": "@jupyter-widgets/controls",
      "model_module_version": "1.5.0",
      "model_name": "SliderStyleModel",
      "state": {
       "description_width": ""
      }
     },
     "0fca62f248b34af28ade7d2bb559c01b": {
      "model_module": "@jupyter-widgets/controls",
      "model_module_version": "1.5.0",
      "model_name": "DescriptionStyleModel",
      "state": {
       "description_width": ""
      }
     },
     "12868f9d19654c83a158e565ceb78915": {
      "model_module": "jupyterlab-plotly",
      "model_module_version": "^5.6.0",
      "model_name": "FigureModel",
      "state": {
       "_config": {
        "plotlyServerURL": "https://plot.ly"
       },
       "_js2py_layoutDelta": {},
       "_js2py_pointsCallback": {},
       "_js2py_relayout": {},
       "_js2py_restyle": {},
       "_js2py_traceDeltas": {},
       "_js2py_update": {},
       "_layout": {
        "template": {
         "data": {
          "bar": [
           {
            "error_x": {
             "color": "#2a3f5f"
            },
            "error_y": {
             "color": "#2a3f5f"
            },
            "marker": {
             "line": {
              "color": "#E5ECF6",
              "width": 0.5
             },
             "pattern": {
              "fillmode": "overlay",
              "size": 10,
              "solidity": 0.2
             }
            },
            "type": "bar"
           }
          ],
          "barpolar": [
           {
            "marker": {
             "line": {
              "color": "#E5ECF6",
              "width": 0.5
             },
             "pattern": {
              "fillmode": "overlay",
              "size": 10,
              "solidity": 0.2
             }
            },
            "type": "barpolar"
           }
          ],
          "carpet": [
           {
            "aaxis": {
             "endlinecolor": "#2a3f5f",
             "gridcolor": "white",
             "linecolor": "white",
             "minorgridcolor": "white",
             "startlinecolor": "#2a3f5f"
            },
            "baxis": {
             "endlinecolor": "#2a3f5f",
             "gridcolor": "white",
             "linecolor": "white",
             "minorgridcolor": "white",
             "startlinecolor": "#2a3f5f"
            },
            "type": "carpet"
           }
          ],
          "choropleth": [
           {
            "colorbar": {
             "outlinewidth": 0,
             "ticks": ""
            },
            "type": "choropleth"
           }
          ],
          "contour": [
           {
            "colorbar": {
             "outlinewidth": 0,
             "ticks": ""
            },
            "colorscale": [
             [
              0,
              "#0d0887"
             ],
             [
              0.1111111111111111,
              "#46039f"
             ],
             [
              0.2222222222222222,
              "#7201a8"
             ],
             [
              0.3333333333333333,
              "#9c179e"
             ],
             [
              0.4444444444444444,
              "#bd3786"
             ],
             [
              0.5555555555555556,
              "#d8576b"
             ],
             [
              0.6666666666666666,
              "#ed7953"
             ],
             [
              0.7777777777777778,
              "#fb9f3a"
             ],
             [
              0.8888888888888888,
              "#fdca26"
             ],
             [
              1,
              "#f0f921"
             ]
            ],
            "type": "contour"
           }
          ],
          "contourcarpet": [
           {
            "colorbar": {
             "outlinewidth": 0,
             "ticks": ""
            },
            "type": "contourcarpet"
           }
          ],
          "heatmap": [
           {
            "colorbar": {
             "outlinewidth": 0,
             "ticks": ""
            },
            "colorscale": [
             [
              0,
              "#0d0887"
             ],
             [
              0.1111111111111111,
              "#46039f"
             ],
             [
              0.2222222222222222,
              "#7201a8"
             ],
             [
              0.3333333333333333,
              "#9c179e"
             ],
             [
              0.4444444444444444,
              "#bd3786"
             ],
             [
              0.5555555555555556,
              "#d8576b"
             ],
             [
              0.6666666666666666,
              "#ed7953"
             ],
             [
              0.7777777777777778,
              "#fb9f3a"
             ],
             [
              0.8888888888888888,
              "#fdca26"
             ],
             [
              1,
              "#f0f921"
             ]
            ],
            "type": "heatmap"
           }
          ],
          "heatmapgl": [
           {
            "colorbar": {
             "outlinewidth": 0,
             "ticks": ""
            },
            "colorscale": [
             [
              0,
              "#0d0887"
             ],
             [
              0.1111111111111111,
              "#46039f"
             ],
             [
              0.2222222222222222,
              "#7201a8"
             ],
             [
              0.3333333333333333,
              "#9c179e"
             ],
             [
              0.4444444444444444,
              "#bd3786"
             ],
             [
              0.5555555555555556,
              "#d8576b"
             ],
             [
              0.6666666666666666,
              "#ed7953"
             ],
             [
              0.7777777777777778,
              "#fb9f3a"
             ],
             [
              0.8888888888888888,
              "#fdca26"
             ],
             [
              1,
              "#f0f921"
             ]
            ],
            "type": "heatmapgl"
           }
          ],
          "histogram": [
           {
            "marker": {
             "pattern": {
              "fillmode": "overlay",
              "size": 10,
              "solidity": 0.2
             }
            },
            "type": "histogram"
           }
          ],
          "histogram2d": [
           {
            "colorbar": {
             "outlinewidth": 0,
             "ticks": ""
            },
            "colorscale": [
             [
              0,
              "#0d0887"
             ],
             [
              0.1111111111111111,
              "#46039f"
             ],
             [
              0.2222222222222222,
              "#7201a8"
             ],
             [
              0.3333333333333333,
              "#9c179e"
             ],
             [
              0.4444444444444444,
              "#bd3786"
             ],
             [
              0.5555555555555556,
              "#d8576b"
             ],
             [
              0.6666666666666666,
              "#ed7953"
             ],
             [
              0.7777777777777778,
              "#fb9f3a"
             ],
             [
              0.8888888888888888,
              "#fdca26"
             ],
             [
              1,
              "#f0f921"
             ]
            ],
            "type": "histogram2d"
           }
          ],
          "histogram2dcontour": [
           {
            "colorbar": {
             "outlinewidth": 0,
             "ticks": ""
            },
            "colorscale": [
             [
              0,
              "#0d0887"
             ],
             [
              0.1111111111111111,
              "#46039f"
             ],
             [
              0.2222222222222222,
              "#7201a8"
             ],
             [
              0.3333333333333333,
              "#9c179e"
             ],
             [
              0.4444444444444444,
              "#bd3786"
             ],
             [
              0.5555555555555556,
              "#d8576b"
             ],
             [
              0.6666666666666666,
              "#ed7953"
             ],
             [
              0.7777777777777778,
              "#fb9f3a"
             ],
             [
              0.8888888888888888,
              "#fdca26"
             ],
             [
              1,
              "#f0f921"
             ]
            ],
            "type": "histogram2dcontour"
           }
          ],
          "mesh3d": [
           {
            "colorbar": {
             "outlinewidth": 0,
             "ticks": ""
            },
            "type": "mesh3d"
           }
          ],
          "parcoords": [
           {
            "line": {
             "colorbar": {
              "outlinewidth": 0,
              "ticks": ""
             }
            },
            "type": "parcoords"
           }
          ],
          "pie": [
           {
            "automargin": true,
            "type": "pie"
           }
          ],
          "scatter": [
           {
            "marker": {
             "colorbar": {
              "outlinewidth": 0,
              "ticks": ""
             }
            },
            "type": "scatter"
           }
          ],
          "scatter3d": [
           {
            "line": {
             "colorbar": {
              "outlinewidth": 0,
              "ticks": ""
             }
            },
            "marker": {
             "colorbar": {
              "outlinewidth": 0,
              "ticks": ""
             }
            },
            "type": "scatter3d"
           }
          ],
          "scattercarpet": [
           {
            "marker": {
             "colorbar": {
              "outlinewidth": 0,
              "ticks": ""
             }
            },
            "type": "scattercarpet"
           }
          ],
          "scattergeo": [
           {
            "marker": {
             "colorbar": {
              "outlinewidth": 0,
              "ticks": ""
             }
            },
            "type": "scattergeo"
           }
          ],
          "scattergl": [
           {
            "marker": {
             "colorbar": {
              "outlinewidth": 0,
              "ticks": ""
             }
            },
            "type": "scattergl"
           }
          ],
          "scattermapbox": [
           {
            "marker": {
             "colorbar": {
              "outlinewidth": 0,
              "ticks": ""
             }
            },
            "type": "scattermapbox"
           }
          ],
          "scatterpolar": [
           {
            "marker": {
             "colorbar": {
              "outlinewidth": 0,
              "ticks": ""
             }
            },
            "type": "scatterpolar"
           }
          ],
          "scatterpolargl": [
           {
            "marker": {
             "colorbar": {
              "outlinewidth": 0,
              "ticks": ""
             }
            },
            "type": "scatterpolargl"
           }
          ],
          "scatterternary": [
           {
            "marker": {
             "colorbar": {
              "outlinewidth": 0,
              "ticks": ""
             }
            },
            "type": "scatterternary"
           }
          ],
          "surface": [
           {
            "colorbar": {
             "outlinewidth": 0,
             "ticks": ""
            },
            "colorscale": [
             [
              0,
              "#0d0887"
             ],
             [
              0.1111111111111111,
              "#46039f"
             ],
             [
              0.2222222222222222,
              "#7201a8"
             ],
             [
              0.3333333333333333,
              "#9c179e"
             ],
             [
              0.4444444444444444,
              "#bd3786"
             ],
             [
              0.5555555555555556,
              "#d8576b"
             ],
             [
              0.6666666666666666,
              "#ed7953"
             ],
             [
              0.7777777777777778,
              "#fb9f3a"
             ],
             [
              0.8888888888888888,
              "#fdca26"
             ],
             [
              1,
              "#f0f921"
             ]
            ],
            "type": "surface"
           }
          ],
          "table": [
           {
            "cells": {
             "fill": {
              "color": "#EBF0F8"
             },
             "line": {
              "color": "white"
             }
            },
            "header": {
             "fill": {
              "color": "#C8D4E3"
             },
             "line": {
              "color": "white"
             }
            },
            "type": "table"
           }
          ]
         },
         "layout": {
          "annotationdefaults": {
           "arrowcolor": "#2a3f5f",
           "arrowhead": 0,
           "arrowwidth": 1
          },
          "autotypenumbers": "strict",
          "coloraxis": {
           "colorbar": {
            "outlinewidth": 0,
            "ticks": ""
           }
          },
          "colorscale": {
           "diverging": [
            [
             0,
             "#8e0152"
            ],
            [
             0.1,
             "#c51b7d"
            ],
            [
             0.2,
             "#de77ae"
            ],
            [
             0.3,
             "#f1b6da"
            ],
            [
             0.4,
             "#fde0ef"
            ],
            [
             0.5,
             "#f7f7f7"
            ],
            [
             0.6,
             "#e6f5d0"
            ],
            [
             0.7,
             "#b8e186"
            ],
            [
             0.8,
             "#7fbc41"
            ],
            [
             0.9,
             "#4d9221"
            ],
            [
             1,
             "#276419"
            ]
           ],
           "sequential": [
            [
             0,
             "#0d0887"
            ],
            [
             0.1111111111111111,
             "#46039f"
            ],
            [
             0.2222222222222222,
             "#7201a8"
            ],
            [
             0.3333333333333333,
             "#9c179e"
            ],
            [
             0.4444444444444444,
             "#bd3786"
            ],
            [
             0.5555555555555556,
             "#d8576b"
            ],
            [
             0.6666666666666666,
             "#ed7953"
            ],
            [
             0.7777777777777778,
             "#fb9f3a"
            ],
            [
             0.8888888888888888,
             "#fdca26"
            ],
            [
             1,
             "#f0f921"
            ]
           ],
           "sequentialminus": [
            [
             0,
             "#0d0887"
            ],
            [
             0.1111111111111111,
             "#46039f"
            ],
            [
             0.2222222222222222,
             "#7201a8"
            ],
            [
             0.3333333333333333,
             "#9c179e"
            ],
            [
             0.4444444444444444,
             "#bd3786"
            ],
            [
             0.5555555555555556,
             "#d8576b"
            ],
            [
             0.6666666666666666,
             "#ed7953"
            ],
            [
             0.7777777777777778,
             "#fb9f3a"
            ],
            [
             0.8888888888888888,
             "#fdca26"
            ],
            [
             1,
             "#f0f921"
            ]
           ]
          },
          "colorway": [
           "#636efa",
           "#EF553B",
           "#00cc96",
           "#ab63fa",
           "#FFA15A",
           "#19d3f3",
           "#FF6692",
           "#B6E880",
           "#FF97FF",
           "#FECB52"
          ],
          "font": {
           "color": "#2a3f5f"
          },
          "geo": {
           "bgcolor": "white",
           "lakecolor": "white",
           "landcolor": "#E5ECF6",
           "showlakes": true,
           "showland": true,
           "subunitcolor": "white"
          },
          "hoverlabel": {
           "align": "left"
          },
          "hovermode": "closest",
          "mapbox": {
           "style": "light"
          },
          "paper_bgcolor": "white",
          "plot_bgcolor": "#E5ECF6",
          "polar": {
           "angularaxis": {
            "gridcolor": "white",
            "linecolor": "white",
            "ticks": ""
           },
           "bgcolor": "#E5ECF6",
           "radialaxis": {
            "gridcolor": "white",
            "linecolor": "white",
            "ticks": ""
           }
          },
          "scene": {
           "xaxis": {
            "backgroundcolor": "#E5ECF6",
            "gridcolor": "white",
            "gridwidth": 2,
            "linecolor": "white",
            "showbackground": true,
            "ticks": "",
            "zerolinecolor": "white"
           },
           "yaxis": {
            "backgroundcolor": "#E5ECF6",
            "gridcolor": "white",
            "gridwidth": 2,
            "linecolor": "white",
            "showbackground": true,
            "ticks": "",
            "zerolinecolor": "white"
           },
           "zaxis": {
            "backgroundcolor": "#E5ECF6",
            "gridcolor": "white",
            "gridwidth": 2,
            "linecolor": "white",
            "showbackground": true,
            "ticks": "",
            "zerolinecolor": "white"
           }
          },
          "shapedefaults": {
           "line": {
            "color": "#2a3f5f"
           }
          },
          "ternary": {
           "aaxis": {
            "gridcolor": "white",
            "linecolor": "white",
            "ticks": ""
           },
           "baxis": {
            "gridcolor": "white",
            "linecolor": "white",
            "ticks": ""
           },
           "bgcolor": "#E5ECF6",
           "caxis": {
            "gridcolor": "white",
            "linecolor": "white",
            "ticks": ""
           }
          },
          "title": {
           "x": 0.05
          },
          "xaxis": {
           "automargin": true,
           "gridcolor": "white",
           "linecolor": "white",
           "ticks": "",
           "title": {
            "standoff": 15
           },
           "zerolinecolor": "white",
           "zerolinewidth": 2
          },
          "yaxis": {
           "automargin": true,
           "gridcolor": "white",
           "linecolor": "white",
           "ticks": "",
           "title": {
            "standoff": 15
           },
           "zerolinecolor": "white",
           "zerolinewidth": 2
          }
         }
        },
        "xaxis": {
         "anchor": "y",
         "domain": [
          0,
          0.94
         ],
         "matches": "x2",
         "showticklabels": false
        },
        "xaxis2": {
         "anchor": "y3",
         "domain": [
          0,
          0.94
         ]
        },
        "yaxis": {
         "anchor": "x",
         "domain": [
          0.32100000000000006,
          1
         ]
        },
        "yaxis2": {
         "anchor": "x",
         "overlaying": "y",
         "side": "right"
        },
        "yaxis3": {
         "anchor": "x2",
         "domain": [
          0,
          0.29100000000000004
         ]
        },
        "yaxis4": {
         "anchor": "x2",
         "overlaying": "y3",
         "side": "right"
        }
       },
       "_py2js_addTraces": {},
       "_py2js_animate": {},
       "_py2js_deleteTraces": {},
       "_py2js_moveTraces": {},
       "_py2js_relayout": {},
       "_py2js_removeLayoutProps": {},
       "_py2js_removeTraceProps": {},
       "_py2js_restyle": {},
       "_py2js_update": {},
       "_view_count": 0
      }
     },
     "263513f5b0a743a8943637ac0ac16ea6": {
      "model_module": "@jupyter-widgets/base",
      "model_module_version": "1.2.0",
      "model_name": "LayoutModel",
      "state": {}
     },
     "31299e79dd2d4c6e99b639915e169a06": {
      "model_module": "@jupyter-widgets/base",
      "model_module_version": "1.2.0",
      "model_name": "LayoutModel",
      "state": {}
     },
     "314f2d1992504131ada3cf9039d37273": {
      "model_module": "@jupyter-widgets/controls",
      "model_module_version": "1.5.0",
      "model_name": "HTMLModel",
      "state": {
       "layout": "IPY_MODEL_df50bea8a2514fae9bdc7515c75a1752",
       "style": "IPY_MODEL_0fca62f248b34af28ade7d2bb559c01b",
       "value": "100%"
      }
     },
     "318e64da6e534f4887a5da2c6ce5a701": {
      "model_module": "@jupyter-widgets/base",
      "model_module_version": "1.2.0",
      "model_name": "LayoutModel",
      "state": {}
     },
     "3389f22db984480fb49157a8c9e4e1ee": {
      "model_module": "@jupyter-widgets/base",
      "model_module_version": "1.2.0",
      "model_name": "LayoutModel",
      "state": {}
     },
     "3ea3fd0cef5e41169b8f8363a0e34624": {
      "model_module": "@jupyter-widgets/controls",
      "model_module_version": "1.5.0",
      "model_name": "VBoxModel",
      "state": {
       "children": [
        "IPY_MODEL_d8aef97816bd4d19a250b0bf6f8b60a0",
        "IPY_MODEL_affde10b1c95461098323713a0955986"
       ],
       "layout": "IPY_MODEL_3389f22db984480fb49157a8c9e4e1ee"
      }
     },
     "42882294556d4c88b29c12665c44317b": {
      "model_module": "@jupyter-widgets/controls",
      "model_module_version": "1.5.0",
      "model_name": "VBoxModel",
      "state": {
       "_dom_classes": [
        "widget-interact"
       ],
       "children": [
        "IPY_MODEL_686fa014234749b591ce220bcf2a2dbd",
        "IPY_MODEL_95966e3f9c71469aa7e3bfbf1cdec2ba",
        "IPY_MODEL_dce3d2b83b0d484ab4cdd8dbea2862b6",
        "IPY_MODEL_f027690e281040b89c8f4a322d9c0eb7"
       ],
       "layout": "IPY_MODEL_50745cc475af4e5cb71d7b1bbe525025"
      }
     },
     "43191232447d4abc8d30f87de536c4c6": {
      "model_module": "@jupyter-widgets/controls",
      "model_module_version": "1.5.0",
      "model_name": "FloatProgressModel",
      "state": {
       "bar_style": "success",
       "layout": "IPY_MODEL_31299e79dd2d4c6e99b639915e169a06",
       "max": 5,
       "style": "IPY_MODEL_badd346a491e433db7ee4f1925092e31",
       "value": 5
      }
     },
     "50745cc475af4e5cb71d7b1bbe525025": {
      "model_module": "@jupyter-widgets/base",
      "model_module_version": "1.2.0",
      "model_name": "LayoutModel",
      "state": {}
     },
     "5439ea7bb0e14bbab21e11ba39a15b15": {
      "model_module": "@jupyter-widgets/base",
      "model_module_version": "1.2.0",
      "model_name": "LayoutModel",
      "state": {}
     },
     "686fa014234749b591ce220bcf2a2dbd": {
      "model_module": "@jupyter-widgets/controls",
      "model_module_version": "1.5.0",
      "model_name": "IntSliderModel",
      "state": {
       "description": "Period",
       "layout": "IPY_MODEL_83aadc7a81b34842b578d503b6cafb1a",
       "max": 50000,
       "min": 1000,
       "style": "IPY_MODEL_c07598a234694bbd853afaddfd22bd56",
       "value": 26537
      }
     },
     "6f83f4bbdaad4e60bcb760110cf599b4": {
      "model_module": "@jupyter-widgets/base",
      "model_module_version": "1.2.0",
      "model_name": "LayoutModel",
      "state": {}
     },
     "77e7552b6cfe4eea88f4bdeb2de0ae07": {
      "model_module": "@jupyter-widgets/base",
      "model_module_version": "1.2.0",
      "model_name": "LayoutModel",
      "state": {}
     },
     "800be205870c4d128b417b03068b6946": {
      "model_module": "@jupyter-widgets/base",
      "model_module_version": "1.2.0",
      "model_name": "LayoutModel",
      "state": {}
     },
     "83aadc7a81b34842b578d503b6cafb1a": {
      "model_module": "@jupyter-widgets/base",
      "model_module_version": "1.2.0",
      "model_name": "LayoutModel",
      "state": {}
     },
     "870273e83eb145b68f949f892becffbe": {
      "model_module": "@jupyter-widgets/base",
      "model_module_version": "1.2.0",
      "model_name": "LayoutModel",
      "state": {}
     },
     "95966e3f9c71469aa7e3bfbf1cdec2ba": {
      "model_module": "@jupyter-widgets/controls",
      "model_module_version": "1.5.0",
      "model_name": "FloatSliderModel",
      "state": {
       "description": "StdDev",
       "layout": "IPY_MODEL_d57d099c57c8495b82f4f1f834b46649",
       "max": 4,
       "min": 1,
       "step": 0.1,
       "style": "IPY_MODEL_dff7e16875f44d71a886e77fc84d3ad7",
       "value": 2.195740097938126
      }
     },
     "9757deeab8914bab94a9f1880004d25b": {
      "model_module": "@jupyter-widgets/controls",
      "model_module_version": "1.5.0",
      "model_name": "HTMLModel",
      "state": {
       "layout": "IPY_MODEL_263513f5b0a743a8943637ac0ac16ea6",
       "style": "IPY_MODEL_e8b49ea316554862bcc6385d4664f34f",
       "value": " 5/5 [00:12&lt;00:00,  2.03s/it, fit=2,050.38]"
      }
     },
     "9f98f148218740b898ef46af8c289bce": {
      "buffers": [
       {
        "data": "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",
        "encoding": "base64",
        "path": [
         "_data",
         0,
         "dimensions",
         1,
         "values",
         "value"
        ]
       },
       {
        "data": "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",
        "encoding": "base64",
        "path": [
         "_data",
         0,
         "dimensions",
         3,
         "values",
         "value"
        ]
       },
       {
        "data": "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",
        "encoding": "base64",
        "path": [
         "_data",
         0,
         "dimensions",
         4,
         "values",
         "value"
        ]
       },
       {
        "data": "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",
        "encoding": "base64",
        "path": [
         "_data",
         0,
         "dimensions",
         5,
         "values",
         "value"
        ]
       },
       {
        "data": "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",
        "encoding": "base64",
        "path": [
         "_data",
         0,
         "dimensions",
         6,
         "values",
         "value"
        ]
       }
      ],
      "model_module": "jupyterlab-plotly",
      "model_module_version": "^5.6.0",
      "model_name": "FigureModel",
      "state": {
       "_config": {
        "plotlyServerURL": "https://plot.ly"
       },
       "_data": [
        {
         "dimensions": [
          {
           "label": "Period",
           "values": [
            1281,
            1751,
            2804,
            2276,
            1015,
            5225,
            2527,
            2598,
            1705,
            2035,
            2035,
            2327,
            4882,
            5326,
            9454,
            15426,
            5183,
            4882,
            7749,
            1313,
            19084,
            2177,
            4882,
            13701,
            5311,
            21468,
            2689,
            11059,
            3373,
            6524,
            14696,
            2692,
            9719,
            12683,
            9488,
            10563,
            6957,
            25173,
            4882,
            24885,
            12907,
            6413,
            2598,
            12055,
            14645,
            27793,
            2524,
            4811,
            2926,
            14645,
            5614,
            24310,
            18024,
            18024,
            18730,
            14645,
            24628,
            18946,
            45401,
            26313,
            10357,
            21461,
            11989,
            18730,
            14182,
            18024,
            11904,
            9097,
            38856,
            5225,
            19011,
            18637,
            16987,
            12056,
            10705,
            16085,
            14182,
            17942,
            9039,
            12055,
            44690,
            20159,
            26564,
            49550,
            12683,
            17564,
            18730,
            44690,
            5528,
            21769,
            39778,
            39690,
            38922,
            13078,
            10851,
            12683,
            5063,
            9868,
            43047,
            6864,
            39442,
            31501,
            48810,
            34175,
            30611,
            17449,
            1555,
            18024,
            18024,
            19084,
            17220,
            39031,
            19084,
            18730,
            32346,
            18947,
            19084,
            10690,
            17343,
            41387,
            3631,
            18730,
            6946,
            17133,
            19727,
            14696,
            14124,
            14696,
            14645,
            33287,
            42204,
            18024,
            10783,
            10783,
            12969,
            45688,
            39845,
            11904,
            46704,
            14696,
            12055,
            14292,
            13428,
            17449,
            19084,
            18730,
            0,
            45145,
            31455,
            48991,
            25692,
            0,
            18024,
            45246,
            44690,
            27793,
            30387,
            48991,
            18024,
            14645,
            37784,
            8510,
            18220,
            30611,
            33287,
            18947,
            11904,
            30885,
            32479,
            24009,
            33287,
            48915,
            21612,
            33287,
            45191,
            45401,
            17133,
            22723,
            29597,
            45191,
            41951,
            39690,
            24969,
            18730,
            21050,
            2926,
            8510,
            2926,
            28607,
            28856,
            29597,
            32201,
            39690,
            45191,
            0,
            41523,
            18947,
            14292,
            29881,
            41006,
            0,
            28440,
            30403,
            18220,
            42051,
            30387,
            18947,
            31455,
            44739,
            29597,
            45259,
            39031,
            37652,
            35549,
            39031,
            18024,
            24910,
            27678,
            33287,
            34175,
            40894,
            0,
            15109,
            22543,
            2035,
            0,
            29597,
            30387,
            39690,
            44739,
            14696,
            33287,
            18730,
            43198,
            37784,
            22543,
            24910,
            32575,
            44240,
            29597,
            42204,
            36460,
            35343,
            34221,
            39690,
            33287,
            2035,
            32696,
            44739,
            41387,
            39690,
            21468,
            0,
            44793,
            38327,
            44690,
            49756,
            18947,
            31388,
            14182,
            42051,
            26008,
            32908,
            4882,
            12683,
            37784,
            32696,
            46681,
            48991,
            49550,
            20289,
            14696,
            8510,
            44739,
            40894,
            19709,
            21807,
            23722,
            31501,
            36286,
            39031,
            28440,
            39082,
            0,
            43971,
            32368,
            11781,
            48915,
            41523,
            41058,
            38238,
            32908,
            21461,
            22046,
            12055,
            9719,
            18220,
            8047,
            26537,
            17942,
            33287,
            0,
            26008,
            18220,
            39419,
            10569,
            0,
            49800,
            37652,
            37663,
            14182,
            6413,
            39690,
            46937,
            16417,
            10767,
            6524,
            48991,
            4759,
            18748,
            30611,
            25476,
            41951,
            46043,
            31670,
            45581,
            10357,
            39914,
            38030,
            38856,
            21298,
            21612,
            20797,
            21612,
            35343,
            47566,
            28120,
            19084,
            41175,
            0,
            45401,
            4730,
            45191,
            49756,
            22145,
            23382,
            10813,
            45246,
            42572,
            10097,
            22322,
            23406,
            22543,
            17337,
            25049,
            20920,
            44690,
            43198,
            18024,
            22482,
            0,
            45401,
            24276,
            0,
            23299,
            16937,
            37375,
            41397,
            27663,
            24653,
            32479,
            41006,
            33387,
            29516,
            18024,
            33287,
            16085,
            20289,
            18734,
            17133,
            34258,
            18220,
            22482,
            22543,
            36460,
            46704,
            2524,
            46704,
            49064,
            44690,
            35332,
            31010,
            30094,
            19084,
            29881,
            38847,
            42534,
            35009,
            26921,
            20289,
            44240,
            4715,
            18024,
            43064,
            28823,
            35060,
            9917,
            33409,
            30885,
            37373,
            10048,
            45259,
            27793,
            32575,
            18947,
            22895,
            28160,
            38327,
            40831,
            19061,
            28607,
            39690,
            43971,
            27678,
            28607,
            24009,
            12055,
            12683,
            39031,
            38856,
            21807,
            34175,
            18024,
            28856,
            37784,
            24910,
            33290,
            46704,
            45401,
            42051,
            33290,
            46681,
            14645,
            21807,
            18947,
            14645,
            37784,
            44644,
            18730,
            2151,
            2151,
            17133,
            49841,
            21029,
            27793,
            26537,
            19084,
            34258,
            1313,
            41387,
            49841,
            34221,
            12055,
            12055,
            26537,
            19084,
            35424,
            44739,
            14645,
            44644,
            12055,
            6524,
            32346,
            38847,
            44739,
            19084,
            18730,
            30387,
            32908,
            48810,
            18947,
            19084,
            42051,
            14696,
            48810,
            14645,
            44690,
            2598,
            34214,
            31455,
            26537,
            29597,
            27793,
            12055,
            27678,
            28856,
            18947,
            29597,
            26537,
            26537,
            39690,
            49841,
            26366,
            29597,
            17133,
            1705,
            26537,
            27678,
            26537,
            28607,
            18024,
            42051,
            18730,
            31501,
            28607,
            35060,
            5528,
            18730,
            38856,
            30387,
            38847,
            30403,
            46704,
            27678,
            26366,
            24910,
            28607,
            46704,
            28856,
            27678,
            32346,
            31010,
            30885,
            17133,
            38856,
            44644,
            33287,
            27793,
            11904,
            26537,
            28607,
            44690,
            32908,
            28607,
            26537,
            29597,
            21468,
            40894,
            26537,
            14645,
            25357,
            24910,
            39031,
            29597,
            27678,
            28856,
            44644,
            28440,
            28607,
            18024,
            25357,
            21050,
            14696,
            14645,
            28607,
            28607,
            33287,
            14696,
            16085,
            28607,
            42051,
            18024,
            30403,
            4882,
            26537,
            28440,
            26537,
            12683,
            30611,
            18947,
            18947,
            29597,
            39690,
            30403,
            31010,
            18947,
            17133,
            29597,
            38847,
            19084,
            33287,
            29597,
            34258,
            42204,
            30403,
            44690,
            33287,
            48009,
            18024,
            38847,
            30403,
            18024,
            14645,
            18024,
            18730,
            23406,
            17449,
            14696,
            18730,
            30611,
            27793,
            29597,
            21468,
            46704,
            14696,
            30403,
            19084,
            46704,
            30403,
            34258,
            24910,
            32346,
            24910,
            32346,
            33287,
            24910,
            34258,
            4882,
            23406,
            29597,
            30403,
            29597,
            33287,
            24009,
            32346,
            24009,
            30611,
            24009,
            24009,
            32346,
            30403,
            33287,
            26537,
            30403,
            44644,
            18024,
            24009,
            18024,
            14696,
            29597,
            32346,
            29597,
            33287,
            27793,
            39845,
            24009,
            18947,
            49800,
            25692,
            34214,
            24009,
            18024,
            28856,
            29597,
            14696,
            27793,
            30403,
            26537,
            32722,
            26537,
            38847,
            14696,
            19084,
            24009,
            26537,
            10569,
            23406,
            24009,
            26537,
            27793,
            27793,
            26537,
            18730,
            19084,
            27793,
            28607,
            19084,
            29597,
            26537,
            28607,
            14645,
            18947,
            19084,
            19084,
            18024,
            19084,
            27793,
            28607,
            26537,
            28440,
            30403,
            18024,
            19084,
            24009,
            29597,
            29597,
            33287,
            29516,
            29597,
            29597,
            18730,
            28856,
            44644,
            26366,
            44644,
            33287,
            30403,
            18024,
            33287,
            30403,
            29597,
            29597,
            18024,
            32346,
            18730,
            2035,
            29597,
            33287,
            32908,
            18024,
            46704,
            27793,
            19084,
            32346,
            32908,
            33287,
            30403,
            29597,
            18024,
            46704,
            33287,
            33287,
            29597,
            29516,
            29597,
            33287,
            33287,
            33287,
            33287,
            32908,
            33287,
            26537,
            33287
           ]
          },
          {
           "label": "StdDev",
           "values": {
            "dtype": "float64",
            "shape": [
             753
            ],
            "value": {}
           }
          },
          {
           "label": "Threshold",
           "values": [
            10,
            2,
            5,
            2,
            18,
            0,
            20,
            4,
            0,
            15,
            34,
            31,
            11,
            7,
            5,
            2,
            11,
            11,
            11,
            2,
            0,
            0,
            11,
            3,
            12,
            4,
            0,
            15,
            31,
            3,
            4,
            14,
            17,
            14,
            5,
            19,
            6,
            2,
            17,
            16,
            4,
            2,
            39,
            5,
            17,
            11,
            2,
            13,
            17,
            17,
            24,
            3,
            0,
            12,
            0,
            17,
            16,
            18,
            0,
            15,
            17,
            5,
            6,
            12,
            26,
            22,
            5,
            8,
            1,
            35,
            23,
            23,
            20,
            14,
            11,
            25,
            1,
            21,
            6,
            2,
            2,
            27,
            0,
            2,
            2,
            24,
            12,
            2,
            39,
            2,
            8,
            2,
            2,
            10,
            3,
            13,
            18,
            2,
            1,
            7,
            2,
            12,
            0,
            0,
            7,
            1,
            20,
            17,
            0,
            0,
            6,
            5,
            0,
            8,
            12,
            3,
            2,
            38,
            1,
            0,
            1,
            4,
            7,
            7,
            4,
            13,
            0,
            2,
            7,
            2,
            0,
            7,
            0,
            1,
            33,
            0,
            3,
            17,
            3,
            25,
            21,
            25,
            18,
            27,
            4,
            0,
            8,
            26,
            27,
            10,
            36,
            7,
            30,
            27,
            27,
            3,
            33,
            9,
            27,
            24,
            16,
            29,
            34,
            22,
            9,
            34,
            27,
            5,
            39,
            27,
            15,
            3,
            39,
            7,
            34,
            27,
            35,
            33,
            4,
            34,
            18,
            15,
            33,
            4,
            30,
            31,
            31,
            8,
            35,
            37,
            24,
            35,
            18,
            15,
            10,
            37,
            0,
            26,
            9,
            37,
            0,
            24,
            12,
            36,
            27,
            27,
            9,
            27,
            27,
            27,
            16,
            12,
            39,
            25,
            17,
            8,
            19,
            35,
            19,
            35,
            31,
            4,
            13,
            35,
            27,
            10,
            0,
            27,
            27,
            15,
            39,
            39,
            35,
            31,
            6,
            36,
            30,
            17,
            32,
            5,
            17,
            35,
            37,
            34,
            7,
            37,
            9,
            36,
            27,
            34,
            5,
            25,
            29,
            16,
            7,
            14,
            16,
            34,
            24,
            26,
            31,
            27,
            26,
            31,
            28,
            9,
            9,
            17,
            36,
            2,
            0,
            39,
            8,
            35,
            27,
            32,
            4,
            31,
            24,
            39,
            17,
            22,
            20,
            24,
            22,
            27,
            23,
            22,
            22,
            33,
            11,
            1,
            30,
            28,
            21,
            24,
            34,
            39,
            7,
            21,
            7,
            4,
            31,
            34,
            22,
            33,
            12,
            33,
            39,
            25,
            26,
            2,
            34,
            33,
            39,
            17,
            36,
            36,
            30,
            8,
            22,
            36,
            35,
            5,
            30,
            21,
            27,
            20,
            33,
            31,
            35,
            32,
            33,
            32,
            9,
            27,
            38,
            39,
            30,
            29,
            35,
            38,
            15,
            16,
            0,
            33,
            26,
            17,
            7,
            37,
            18,
            37,
            36,
            30,
            28,
            31,
            14,
            14,
            5,
            2,
            2,
            35,
            16,
            0,
            20,
            17,
            15,
            7,
            30,
            35,
            39,
            28,
            2,
            24,
            5,
            19,
            26,
            27,
            34,
            27,
            34,
            11,
            14,
            35,
            36,
            18,
            2,
            17,
            38,
            14,
            12,
            8,
            25,
            0,
            6,
            6,
            19,
            22,
            31,
            39,
            32,
            36,
            21,
            37,
            20,
            35,
            36,
            12,
            3,
            21,
            4,
            16,
            4,
            12,
            36,
            28,
            22,
            20,
            33,
            31,
            8,
            2,
            4,
            8,
            7,
            7,
            21,
            9,
            2,
            1,
            7,
            16,
            12,
            12,
            0,
            19,
            16,
            0,
            10,
            0,
            16,
            9,
            9,
            4,
            15,
            10,
            9,
            9,
            4,
            10,
            9,
            7,
            2,
            12,
            12,
            7,
            15,
            11,
            2,
            5,
            3,
            7,
            21,
            21,
            12,
            7,
            3,
            10,
            0,
            9,
            21,
            36,
            4,
            7,
            4,
            19,
            19,
            7,
            1,
            9,
            15,
            16,
            4,
            0,
            9,
            17,
            9,
            39,
            12,
            10,
            0,
            7,
            0,
            5,
            17,
            13,
            15,
            7,
            14,
            16,
            2,
            3,
            17,
            7,
            9,
            0,
            7,
            17,
            7,
            18,
            5,
            5,
            4,
            19,
            16,
            17,
            27,
            5,
            0,
            7,
            7,
            6,
            8,
            17,
            17,
            19,
            18,
            12,
            12,
            17,
            13,
            8,
            22,
            0,
            1,
            9,
            15,
            0,
            27,
            7,
            18,
            14,
            12,
            18,
            0,
            17,
            25,
            17,
            20,
            27,
            25,
            22,
            12,
            17,
            17,
            12,
            9,
            19,
            18,
            4,
            25,
            19,
            4,
            4,
            18,
            18,
            12,
            4,
            26,
            18,
            14,
            12,
            15,
            11,
            20,
            0,
            22,
            37,
            22,
            0,
            3,
            9,
            15,
            15,
            8,
            3,
            27,
            12,
            17,
            0,
            5,
            5,
            11,
            11,
            8,
            14,
            12,
            10,
            0,
            17,
            12,
            4,
            5,
            14,
            2,
            22,
            31,
            3,
            4,
            2,
            15,
            15,
            25,
            8,
            3,
            12,
            4,
            8,
            12,
            4,
            3,
            0,
            2,
            4,
            3,
            0,
            11,
            17,
            22,
            0,
            1,
            0,
            2,
            2,
            0,
            4,
            4,
            0,
            4,
            4,
            0,
            0,
            7,
            0,
            9,
            0,
            4,
            0,
            11,
            0,
            3,
            0,
            0,
            0,
            11,
            6,
            3,
            7,
            10,
            3,
            6,
            1,
            0,
            0,
            4,
            12,
            1,
            7,
            5,
            2,
            7,
            0,
            14,
            6,
            2,
            33,
            0,
            6,
            4,
            3,
            3,
            4,
            3,
            1,
            4,
            15,
            2,
            10,
            7,
            15,
            17,
            3,
            5,
            0,
            5,
            2,
            3,
            2,
            7,
            3,
            1,
            12,
            0,
            9,
            4,
            0,
            2,
            2,
            2,
            3,
            0,
            4,
            9,
            5,
            9,
            2,
            2,
            0,
            0,
            0,
            5,
            0,
            3,
            0,
            0,
            36,
            2,
            2,
            1,
            4,
            8,
            4,
            0,
            4,
            0,
            4,
            1,
            1,
            4,
            8,
            3,
            2,
            0,
            0,
            0,
            10,
            3,
            4,
            2,
            2,
            0,
            3,
            1
           ]
          },
          {
           "label": "Fitness",
           "values": {
            "dtype": "float64",
            "shape": [
             753
            ],
            "value": {}
           }
          },
          {
           "label": "Count",
           "values": {
            "dtype": "float64",
            "shape": [
             753
            ],
            "value": {}
           }
          },
          {
           "label": "AvgProfit",
           "values": {
            "dtype": "float64",
            "shape": [
             753
            ],
            "value": {}
           }
          },
          {
           "label": "Sharpe",
           "values": {
            "dtype": "float64",
            "shape": [
             753
            ],
            "value": {}
           }
          }
         ],
         "type": "parcoords",
         "uid": "cf97f2d2-b89d-4248-b0bc-51e2107b5cda"
        }
       ],
       "_js2py_pointsCallback": {},
       "_js2py_relayout": {},
       "_js2py_restyle": {},
       "_js2py_update": {},
       "_last_layout_edit_id": 1,
       "_last_trace_edit_id": 1,
       "_layout": {
        "autosize": true,
        "height": 400,
        "margin": {
         "b": 20,
         "l": 45,
         "pad": 3,
         "r": 45,
         "t": 50
        },
        "template": {
         "data": {
          "bar": [
           {
            "error_x": {
             "color": "#2a3f5f"
            },
            "error_y": {
             "color": "#2a3f5f"
            },
            "marker": {
             "line": {
              "color": "white",
              "width": 0.5
             },
             "pattern": {
              "fillmode": "overlay",
              "size": 10,
              "solidity": 0.2
             }
            },
            "type": "bar"
           }
          ],
          "barpolar": [
           {
            "marker": {
             "line": {
              "color": "white",
              "width": 0.5
             },
             "pattern": {
              "fillmode": "overlay",
              "size": 10,
              "solidity": 0.2
             }
            },
            "type": "barpolar"
           }
          ],
          "carpet": [
           {
            "aaxis": {
             "endlinecolor": "#2a3f5f",
             "gridcolor": "#C8D4E3",
             "linecolor": "#C8D4E3",
             "minorgridcolor": "#C8D4E3",
             "startlinecolor": "#2a3f5f"
            },
            "baxis": {
             "endlinecolor": "#2a3f5f",
             "gridcolor": "#C8D4E3",
             "linecolor": "#C8D4E3",
             "minorgridcolor": "#C8D4E3",
             "startlinecolor": "#2a3f5f"
            },
            "type": "carpet"
           }
          ],
          "choropleth": [
           {
            "colorbar": {
             "outlinewidth": 0,
             "ticks": ""
            },
            "type": "choropleth"
           }
          ],
          "contour": [
           {
            "colorbar": {
             "outlinewidth": 0,
             "ticks": ""
            },
            "colorscale": [
             [
              0,
              "#0d0887"
             ],
             [
              0.1111111111111111,
              "#46039f"
             ],
             [
              0.2222222222222222,
              "#7201a8"
             ],
             [
              0.3333333333333333,
              "#9c179e"
             ],
             [
              0.4444444444444444,
              "#bd3786"
             ],
             [
              0.5555555555555556,
              "#d8576b"
             ],
             [
              0.6666666666666666,
              "#ed7953"
             ],
             [
              0.7777777777777778,
              "#fb9f3a"
             ],
             [
              0.8888888888888888,
              "#fdca26"
             ],
             [
              1,
              "#f0f921"
             ]
            ],
            "type": "contour"
           }
          ],
          "contourcarpet": [
           {
            "colorbar": {
             "outlinewidth": 0,
             "ticks": ""
            },
            "type": "contourcarpet"
           }
          ],
          "heatmap": [
           {
            "colorbar": {
             "outlinewidth": 0,
             "ticks": ""
            },
            "colorscale": [
             [
              0,
              "#0d0887"
             ],
             [
              0.1111111111111111,
              "#46039f"
             ],
             [
              0.2222222222222222,
              "#7201a8"
             ],
             [
              0.3333333333333333,
              "#9c179e"
             ],
             [
              0.4444444444444444,
              "#bd3786"
             ],
             [
              0.5555555555555556,
              "#d8576b"
             ],
             [
              0.6666666666666666,
              "#ed7953"
             ],
             [
              0.7777777777777778,
              "#fb9f3a"
             ],
             [
              0.8888888888888888,
              "#fdca26"
             ],
             [
              1,
              "#f0f921"
             ]
            ],
            "type": "heatmap"
           }
          ],
          "heatmapgl": [
           {
            "colorbar": {
             "outlinewidth": 0,
             "ticks": ""
            },
            "colorscale": [
             [
              0,
              "#0d0887"
             ],
             [
              0.1111111111111111,
              "#46039f"
             ],
             [
              0.2222222222222222,
              "#7201a8"
             ],
             [
              0.3333333333333333,
              "#9c179e"
             ],
             [
              0.4444444444444444,
              "#bd3786"
             ],
             [
              0.5555555555555556,
              "#d8576b"
             ],
             [
              0.6666666666666666,
              "#ed7953"
             ],
             [
              0.7777777777777778,
              "#fb9f3a"
             ],
             [
              0.8888888888888888,
              "#fdca26"
             ],
             [
              1,
              "#f0f921"
             ]
            ],
            "type": "heatmapgl"
           }
          ],
          "histogram": [
           {
            "marker": {
             "pattern": {
              "fillmode": "overlay",
              "size": 10,
              "solidity": 0.2
             }
            },
            "type": "histogram"
           }
          ],
          "histogram2d": [
           {
            "colorbar": {
             "outlinewidth": 0,
             "ticks": ""
            },
            "colorscale": [
             [
              0,
              "#0d0887"
             ],
             [
              0.1111111111111111,
              "#46039f"
             ],
             [
              0.2222222222222222,
              "#7201a8"
             ],
             [
              0.3333333333333333,
              "#9c179e"
             ],
             [
              0.4444444444444444,
              "#bd3786"
             ],
             [
              0.5555555555555556,
              "#d8576b"
             ],
             [
              0.6666666666666666,
              "#ed7953"
             ],
             [
              0.7777777777777778,
              "#fb9f3a"
             ],
             [
              0.8888888888888888,
              "#fdca26"
             ],
             [
              1,
              "#f0f921"
             ]
            ],
            "type": "histogram2d"
           }
          ],
          "histogram2dcontour": [
           {
            "colorbar": {
             "outlinewidth": 0,
             "ticks": ""
            },
            "colorscale": [
             [
              0,
              "#0d0887"
             ],
             [
              0.1111111111111111,
              "#46039f"
             ],
             [
              0.2222222222222222,
              "#7201a8"
             ],
             [
              0.3333333333333333,
              "#9c179e"
             ],
             [
              0.4444444444444444,
              "#bd3786"
             ],
             [
              0.5555555555555556,
              "#d8576b"
             ],
             [
              0.6666666666666666,
              "#ed7953"
             ],
             [
              0.7777777777777778,
              "#fb9f3a"
             ],
             [
              0.8888888888888888,
              "#fdca26"
             ],
             [
              1,
              "#f0f921"
             ]
            ],
            "type": "histogram2dcontour"
           }
          ],
          "mesh3d": [
           {
            "colorbar": {
             "outlinewidth": 0,
             "ticks": ""
            },
            "type": "mesh3d"
           }
          ],
          "parcoords": [
           {
            "line": {
             "colorbar": {
              "outlinewidth": 0,
              "ticks": ""
             }
            },
            "type": "parcoords"
           }
          ],
          "pie": [
           {
            "automargin": true,
            "type": "pie"
           }
          ],
          "scatter": [
           {
            "marker": {
             "colorbar": {
              "outlinewidth": 0,
              "ticks": ""
             }
            },
            "type": "scatter"
           }
          ],
          "scatter3d": [
           {
            "line": {
             "colorbar": {
              "outlinewidth": 0,
              "ticks": ""
             }
            },
            "marker": {
             "colorbar": {
              "outlinewidth": 0,
              "ticks": ""
             }
            },
            "type": "scatter3d"
           }
          ],
          "scattercarpet": [
           {
            "marker": {
             "colorbar": {
              "outlinewidth": 0,
              "ticks": ""
             }
            },
            "type": "scattercarpet"
           }
          ],
          "scattergeo": [
           {
            "marker": {
             "colorbar": {
              "outlinewidth": 0,
              "ticks": ""
             }
            },
            "type": "scattergeo"
           }
          ],
          "scattergl": [
           {
            "marker": {
             "colorbar": {
              "outlinewidth": 0,
              "ticks": ""
             }
            },
            "type": "scattergl"
           }
          ],
          "scattermapbox": [
           {
            "marker": {
             "colorbar": {
              "outlinewidth": 0,
              "ticks": ""
             }
            },
            "type": "scattermapbox"
           }
          ],
          "scatterpolar": [
           {
            "marker": {
             "colorbar": {
              "outlinewidth": 0,
              "ticks": ""
             }
            },
            "type": "scatterpolar"
           }
          ],
          "scatterpolargl": [
           {
            "marker": {
             "colorbar": {
              "outlinewidth": 0,
              "ticks": ""
             }
            },
            "type": "scatterpolargl"
           }
          ],
          "scatterternary": [
           {
            "marker": {
             "colorbar": {
              "outlinewidth": 0,
              "ticks": ""
             }
            },
            "type": "scatterternary"
           }
          ],
          "surface": [
           {
            "colorbar": {
             "outlinewidth": 0,
             "ticks": ""
            },
            "colorscale": [
             [
              0,
              "#0d0887"
             ],
             [
              0.1111111111111111,
              "#46039f"
             ],
             [
              0.2222222222222222,
              "#7201a8"
             ],
             [
              0.3333333333333333,
              "#9c179e"
             ],
             [
              0.4444444444444444,
              "#bd3786"
             ],
             [
              0.5555555555555556,
              "#d8576b"
             ],
             [
              0.6666666666666666,
              "#ed7953"
             ],
             [
              0.7777777777777778,
              "#fb9f3a"
             ],
             [
              0.8888888888888888,
              "#fdca26"
             ],
             [
              1,
              "#f0f921"
             ]
            ],
            "type": "surface"
           }
          ],
          "table": [
           {
            "cells": {
             "fill": {
              "color": "#EBF0F8"
             },
             "line": {
              "color": "white"
             }
            },
            "header": {
             "fill": {
              "color": "#C8D4E3"
             },
             "line": {
              "color": "white"
             }
            },
            "type": "table"
           }
          ]
         },
         "layout": {
          "annotationdefaults": {
           "arrowcolor": "#2a3f5f",
           "arrowhead": 0,
           "arrowwidth": 1
          },
          "autotypenumbers": "strict",
          "coloraxis": {
           "colorbar": {
            "outlinewidth": 0,
            "ticks": ""
           }
          },
          "colorscale": {
           "diverging": [
            [
             0,
             "#8e0152"
            ],
            [
             0.1,
             "#c51b7d"
            ],
            [
             0.2,
             "#de77ae"
            ],
            [
             0.3,
             "#f1b6da"
            ],
            [
             0.4,
             "#fde0ef"
            ],
            [
             0.5,
             "#f7f7f7"
            ],
            [
             0.6,
             "#e6f5d0"
            ],
            [
             0.7,
             "#b8e186"
            ],
            [
             0.8,
             "#7fbc41"
            ],
            [
             0.9,
             "#4d9221"
            ],
            [
             1,
             "#276419"
            ]
           ],
           "sequential": [
            [
             0,
             "#0d0887"
            ],
            [
             0.1111111111111111,
             "#46039f"
            ],
            [
             0.2222222222222222,
             "#7201a8"
            ],
            [
             0.3333333333333333,
             "#9c179e"
            ],
            [
             0.4444444444444444,
             "#bd3786"
            ],
            [
             0.5555555555555556,
             "#d8576b"
            ],
            [
             0.6666666666666666,
             "#ed7953"
            ],
            [
             0.7777777777777778,
             "#fb9f3a"
            ],
            [
             0.8888888888888888,
             "#fdca26"
            ],
            [
             1,
             "#f0f921"
            ]
           ],
           "sequentialminus": [
            [
             0,
             "#0d0887"
            ],
            [
             0.1111111111111111,
             "#46039f"
            ],
            [
             0.2222222222222222,
             "#7201a8"
            ],
            [
             0.3333333333333333,
             "#9c179e"
            ],
            [
             0.4444444444444444,
             "#bd3786"
            ],
            [
             0.5555555555555556,
             "#d8576b"
            ],
            [
             0.6666666666666666,
             "#ed7953"
            ],
            [
             0.7777777777777778,
             "#fb9f3a"
            ],
            [
             0.8888888888888888,
             "#fdca26"
            ],
            [
             1,
             "#f0f921"
            ]
           ]
          },
          "colorway": [
           "#636efa",
           "#EF553B",
           "#00cc96",
           "#ab63fa",
           "#FFA15A",
           "#19d3f3",
           "#FF6692",
           "#B6E880",
           "#FF97FF",
           "#FECB52"
          ],
          "font": {
           "color": "#2a3f5f"
          },
          "geo": {
           "bgcolor": "white",
           "lakecolor": "white",
           "landcolor": "white",
           "showlakes": true,
           "showland": true,
           "subunitcolor": "#C8D4E3"
          },
          "hoverlabel": {
           "align": "left"
          },
          "hovermode": "closest",
          "mapbox": {
           "style": "light"
          },
          "paper_bgcolor": "white",
          "plot_bgcolor": "white",
          "polar": {
           "angularaxis": {
            "gridcolor": "#EBF0F8",
            "linecolor": "#EBF0F8",
            "ticks": ""
           },
           "bgcolor": "white",
           "radialaxis": {
            "gridcolor": "#EBF0F8",
            "linecolor": "#EBF0F8",
            "ticks": ""
           }
          },
          "scene": {
           "xaxis": {
            "backgroundcolor": "white",
            "gridcolor": "#DFE8F3",
            "gridwidth": 2,
            "linecolor": "#EBF0F8",
            "showbackground": true,
            "ticks": "",
            "zerolinecolor": "#EBF0F8"
           },
           "yaxis": {
            "backgroundcolor": "white",
            "gridcolor": "#DFE8F3",
            "gridwidth": 2,
            "linecolor": "#EBF0F8",
            "showbackground": true,
            "ticks": "",
            "zerolinecolor": "#EBF0F8"
           },
           "zaxis": {
            "backgroundcolor": "white",
            "gridcolor": "#DFE8F3",
            "gridwidth": 2,
            "linecolor": "#EBF0F8",
            "showbackground": true,
            "ticks": "",
            "zerolinecolor": "#EBF0F8"
           }
          },
          "shapedefaults": {
           "line": {
            "color": "#2a3f5f"
           }
          },
          "ternary": {
           "aaxis": {
            "gridcolor": "#DFE8F3",
            "linecolor": "#A2B1C6",
            "ticks": ""
           },
           "baxis": {
            "gridcolor": "#DFE8F3",
            "linecolor": "#A2B1C6",
            "ticks": ""
           },
           "bgcolor": "white",
           "caxis": {
            "gridcolor": "#DFE8F3",
            "linecolor": "#A2B1C6",
            "ticks": ""
           }
          },
          "title": {
           "x": 0.05
          },
          "xaxis": {
           "automargin": true,
           "gridcolor": "#EBF0F8",
           "linecolor": "#EBF0F8",
           "ticks": "",
           "title": {
            "standoff": 15
           },
           "zerolinecolor": "#EBF0F8",
           "zerolinewidth": 2
          },
          "yaxis": {
           "automargin": true,
           "gridcolor": "#EBF0F8",
           "linecolor": "#EBF0F8",
           "ticks": "",
           "title": {
            "standoff": 15
           },
           "zerolinecolor": "#EBF0F8",
           "zerolinewidth": 2
          }
         }
        }
       },
       "_py2js_addTraces": {},
       "_py2js_animate": {},
       "_py2js_deleteTraces": {},
       "_py2js_moveTraces": {},
       "_py2js_removeLayoutProps": {},
       "_py2js_removeTraceProps": {},
       "_py2js_restyle": {},
       "_view_count": 1
      }
     },
     "affde10b1c95461098323713a0955986": {
      "model_module": "ipyslickgrid",
      "model_module_version": "0.0.3",
      "model_name": "QgridModel",
      "state": {
       "_columns": {
        "AvgProfit": {
         "cssClass": "number",
         "defaultSortAsc": false,
         "editable": true,
         "field": "AvgProfit",
         "id": "AvgProfit",
         "minWidth": 30,
         "name": "AvgProfit",
         "position": 7,
         "resizable": true,
         "sortable": true,
         "toolTip": "",
         "type": "number"
        },
        "Count": {
         "cssClass": "number",
         "defaultSortAsc": false,
         "editable": true,
         "field": "Count",
         "id": "Count",
         "minWidth": 30,
         "name": "Count",
         "position": 6,
         "resizable": true,
         "sortable": true,
         "toolTip": "",
         "type": "number"
        },
        "Fitness": {
         "cssClass": "number",
         "defaultSortAsc": false,
         "editable": true,
         "field": "Fitness",
         "id": "Fitness",
         "minWidth": 30,
         "name": "Fitness",
         "position": 5,
         "resizable": true,
         "sortable": true,
         "toolTip": "",
         "type": "number"
        },
        "Period": {
         "cssClass": "integer",
         "defaultSortAsc": false,
         "editable": true,
         "field": "Period",
         "id": "Period",
         "minWidth": 30,
         "name": "Period",
         "position": 2,
         "resizable": true,
         "sortable": true,
         "toolTip": "",
         "type": "integer"
        },
        "Sharpe": {
         "cssClass": "number",
         "defaultSortAsc": false,
         "editable": true,
         "field": "Sharpe",
         "id": "Sharpe",
         "minWidth": 30,
         "name": "Sharpe",
         "position": 8,
         "resizable": true,
         "sortable": true,
         "toolTip": "",
         "type": "number"
        },
        "StdDev": {
         "cssClass": "number",
         "defaultSortAsc": false,
         "editable": true,
         "field": "StdDev",
         "id": "StdDev",
         "minWidth": 30,
         "name": "StdDev",
         "position": 3,
         "resizable": true,
         "sortable": true,
         "toolTip": "",
         "type": "number"
        },
        "Threshold": {
         "cssClass": "integer",
         "defaultSortAsc": false,
         "editable": true,
         "field": "Threshold",
         "id": "Threshold",
         "minWidth": 30,
         "name": "Threshold",
         "position": 4,
         "resizable": true,
         "sortable": true,
         "toolTip": "",
         "type": "integer"
        },
        "index": {
         "cssClass": "integer first-idx-col idx-col",
         "defaultSortAsc": false,
         "editable": true,
         "field": "index",
         "first_index": true,
         "id": "index",
         "index_display_text": "",
         "is_index": true,
         "level": 0,
         "minWidth": 30,
         "name": "",
         "position": 0,
         "resizable": true,
         "sortable": true,
         "toolTip": "",
         "type": "integer"
        },
        "qgrid_unfiltered_index": {
         "cssClass": "integer",
         "defaultSortAsc": false,
         "editable": true,
         "field": "qgrid_unfiltered_index",
         "id": "qgrid_unfiltered_index",
         "maxWidth": null,
         "minWidth": 30,
         "name": "qgrid_unfiltered_index",
         "position": 1,
         "resizable": true,
         "sortable": true,
         "toolTip": "",
         "type": "integer",
         "width": null
        }
       },
       "_df_json": "{\"schema\":{\"fields\":[{\"name\":\"index\",\"type\":\"integer\"},{\"name\":\"qgrid_unfiltered_index\",\"type\":\"integer\"},{\"name\":\"Period\",\"type\":\"integer\"},{\"name\":\"StdDev\",\"type\":\"number\"},{\"name\":\"Threshold\",\"type\":\"integer\"},{\"name\":\"Fitness\",\"type\":\"number\"},{\"name\":\"Count\",\"type\":\"number\"},{\"name\":\"AvgProfit\",\"type\":\"number\"},{\"name\":\"Sharpe\",\"type\":\"number\"}],\"primaryKey\":[\"index\"],\"pandas_version\":\"0.20.0\"},\"data\":[{\"index\":1216,\"qgrid_unfiltered_index\":752,\"Period\":33287,\"StdDev\":3.04637,\"Threshold\":1,\"Fitness\":6854.76217,\"Count\":6.0,\"AvgProfit\":1142.46036,\"Sharpe\":9.45996},{\"index\":1158,\"qgrid_unfiltered_index\":751,\"Period\":26537,\"StdDev\":2.19574,\"Threshold\":3,\"Fitness\":6838.07066,\"Count\":20.0,\"AvgProfit\":341.90353,\"Sharpe\":11.89487},{\"index\":1044,\"qgrid_unfiltered_index\":750,\"Period\":33287,\"StdDev\":3.04637,\"Threshold\":0,\"Fitness\":6750.70031,\"Count\":6.0,\"AvgProfit\":1125.11672,\"Sharpe\":9.25443},{\"index\":1193,\"qgrid_unfiltered_index\":749,\"Period\":32908,\"StdDev\":3.04637,\"Threshold\":2,\"Fitness\":6466.54161,\"Count\":5.0,\"AvgProfit\":1293.30832,\"Sharpe\":9.01817},{\"index\":6,\"qgrid_unfiltered_index\":748,\"Period\":33287,\"StdDev\":3.04637,\"Threshold\":2,\"Fitness\":6454.35134,\"Count\":5.0,\"AvgProfit\":1290.87027,\"Sharpe\":8.99056},{\"index\":828,\"qgrid_unfiltered_index\":747,\"Period\":33287,\"StdDev\":3.04637,\"Threshold\":4,\"Fitness\":6203.3657,\"Count\":3.0,\"AvgProfit\":2067.78857,\"Sharpe\":6.27387},{\"index\":856,\"qgrid_unfiltered_index\":746,\"Period\":33287,\"StdDev\":3.04637,\"Threshold\":3,\"Fitness\":6203.3657,\"Count\":3.0,\"AvgProfit\":2067.78857,\"Sharpe\":6.27387},{\"index\":1231,\"qgrid_unfiltered_index\":745,\"Period\":33287,\"StdDev\":2.03353,\"Threshold\":10,\"Fitness\":6171.05128,\"Count\":7.0,\"AvgProfit\":881.57875,\"Sharpe\":5.38526},{\"index\":656,\"qgrid_unfiltered_index\":744,\"Period\":29597,\"StdDev\":2.40957,\"Threshold\":0,\"Fitness\":5878.72613,\"Count\":18.0,\"AvgProfit\":326.5959,\"Sharpe\":11.11727},{\"index\":786,\"qgrid_unfiltered_index\":743,\"Period\":29516,\"StdDev\":2.40957,\"Threshold\":0,\"Fitness\":5827.26921,\"Count\":18.0,\"AvgProfit\":323.73718,\"Sharpe\":11.04471},{\"index\":898,\"qgrid_unfiltered_index\":742,\"Period\":29597,\"StdDev\":2.38951,\"Threshold\":0,\"Fitness\":5735.20851,\"Count\":18.0,\"AvgProfit\":318.62269,\"Sharpe\":10.87602},{\"index\":1166,\"qgrid_unfiltered_index\":741,\"Period\":33287,\"StdDev\":3.11898,\"Threshold\":2,\"Fitness\":5719.00774,\"Count\":4.0,\"AvgProfit\":1429.75193,\"Sharpe\":7.43136},{\"index\":1244,\"qgrid_unfiltered_index\":740,\"Period\":33287,\"StdDev\":1.97786,\"Threshold\":3,\"Fitness\":5632.38546,\"Count\":18.0,\"AvgProfit\":312.9103,\"Sharpe\":8.55069},{\"index\":531,\"qgrid_unfiltered_index\":739,\"Period\":46704,\"StdDev\":1.97786,\"Threshold\":8,\"Fitness\":5600.45654,\"Count\":5.0,\"AvgProfit\":1120.09131,\"Sharpe\":7.53686},{\"index\":1243,\"qgrid_unfiltered_index\":738,\"Period\":18024,\"StdDev\":2.40957,\"Threshold\":4,\"Fitness\":5564.01963,\"Count\":20.0,\"AvgProfit\":278.20098,\"Sharpe\":11.02828},{\"index\":1192,\"qgrid_unfiltered_index\":737,\"Period\":29597,\"StdDev\":2.34035,\"Threshold\":1,\"Fitness\":5528.15839,\"Count\":18.0,\"AvgProfit\":307.11991,\"Sharpe\":10.54136},{\"index\":735,\"qgrid_unfiltered_index\":736,\"Period\":30403,\"StdDev\":2.34035,\"Threshold\":1,\"Fitness\":5431.73621,\"Count\":16.0,\"AvgProfit\":339.48351,\"Sharpe\":9.29448},{\"index\":1096,\"qgrid_unfiltered_index\":735,\"Period\":33287,\"StdDev\":3.11898,\"Threshold\":4,\"Fitness\":5425.7024,\"Count\":2.0,\"AvgProfit\":2712.8512,\"Sharpe\":9.31143},{\"index\":1022,\"qgrid_unfiltered_index\":734,\"Period\":32908,\"StdDev\":2.34035,\"Threshold\":0,\"Fitness\":5397.79887,\"Count\":16.0,\"AvgProfit\":337.36243,\"Sharpe\":8.31832},{\"index\":722,\"qgrid_unfiltered_index\":733,\"Period\":32346,\"StdDev\":2.19574,\"Threshold\":4,\"Fitness\":5263.32056,\"Count\":14.0,\"AvgProfit\":375.95147,\"Sharpe\":7.21144},{\"index\":297,\"qgrid_unfiltered_index\":732,\"Period\":19084,\"StdDev\":2.81957,\"Threshold\":0,\"Fitness\":5215.63058,\"Count\":14.0,\"AvgProfit\":372.54504,\"Sharpe\":7.82747},{\"index\":825,\"qgrid_unfiltered_index\":731,\"Period\":27793,\"StdDev\":2.38951,\"Threshold\":4,\"Fitness\":5212.58476,\"Count\":16.0,\"AvgProfit\":325.78655,\"Sharpe\":9.19929},{\"index\":452,\"qgrid_unfiltered_index\":730,\"Period\":46704,\"StdDev\":1.75122,\"Threshold\":8,\"Fitness\":5119.09508,\"Count\":5.0,\"AvgProfit\":1023.81902,\"Sharpe\":6.96293},{\"index\":1122,\"qgrid_unfiltered_index\":729,\"Period\":18024,\"StdDev\":2.5295,\"Threshold\":4,\"Fitness\":4886.36311,\"Count\":18.0,\"AvgProfit\":271.46462,\"Sharpe\":8.05108},{\"index\":329,\"qgrid_unfiltered_index\":728,\"Period\":32908,\"StdDev\":2.34035,\"Threshold\":1,\"Fitness\":4868.99404,\"Count\":14.0,\"AvgProfit\":347.78529,\"Sharpe\":7.06621},{\"index\":1239,\"qgrid_unfiltered_index\":727,\"Period\":33287,\"StdDev\":2.40957,\"Threshold\":2,\"Fitness\":4750.81991,\"Count\":12.0,\"AvgProfit\":395.90166,\"Sharpe\":6.37806},{\"index\":1174,\"qgrid_unfiltered_index\":726,\"Period\":29597,\"StdDev\":2.5295,\"Threshold\":2,\"Fitness\":4746.54872,\"Count\":12.0,\"AvgProfit\":395.54573,\"Sharpe\":6.19501},{\"index\":3,\"qgrid_unfiltered_index\":725,\"Period\":2035,\"StdDev\":2.79206,\"Threshold\":36,\"Fitness\":4662.44236,\"Count\":16.0,\"AvgProfit\":291.40265,\"Sharpe\":8.08189},{\"index\":858,\"qgrid_unfiltered_index\":724,\"Period\":18730,\"StdDev\":2.40957,\"Threshold\":0,\"Fitness\":4641.47507,\"Count\":24.0,\"AvgProfit\":193.39479,\"Sharpe\":8.02171},{\"index\":937,\"qgrid_unfiltered_index\":723,\"Period\":32346,\"StdDev\":2.19574,\"Threshold\":0,\"Fitness\":4602.85932,\"Count\":18.0,\"AvgProfit\":255.71441,\"Sharpe\":8.69522},{\"index\":303,\"qgrid_unfiltered_index\":722,\"Period\":18024,\"StdDev\":2.40957,\"Threshold\":3,\"Fitness\":4584.68547,\"Count\":20.0,\"AvgProfit\":229.23427,\"Sharpe\":9.23641},{\"index\":916,\"qgrid_unfiltered_index\":721,\"Period\":29597,\"StdDev\":2.5295,\"Threshold\":0,\"Fitness\":4576.80605,\"Count\":14.0,\"AvgProfit\":326.91472,\"Sharpe\":6.5744},{\"index\":1039,\"qgrid_unfiltered_index\":720,\"Period\":29597,\"StdDev\":2.38951,\"Threshold\":5,\"Fitness\":4546.04174,\"Count\":14.0,\"AvgProfit\":324.71727,\"Sharpe\":9.39657},{\"index\":1047,\"qgrid_unfiltered_index\":719,\"Period\":30403,\"StdDev\":2.5295,\"Threshold\":0,\"Fitness\":4268.5833,\"Count\":12.0,\"AvgProfit\":355.71528,\"Sharpe\":5.39096},{\"index\":1143,\"qgrid_unfiltered_index\":718,\"Period\":33287,\"StdDev\":2.40957,\"Threshold\":0,\"Fitness\":4222.79252,\"Count\":12.0,\"AvgProfit\":351.89938,\"Sharpe\":5.66262},{\"index\":879,\"qgrid_unfiltered_index\":717,\"Period\":18024,\"StdDev\":2.81957,\"Threshold\":0,\"Fitness\":4220.76668,\"Count\":16.0,\"AvgProfit\":263.79792,\"Sharpe\":5.38249},{\"index\":942,\"qgrid_unfiltered_index\":716,\"Period\":30403,\"StdDev\":3.04637,\"Threshold\":2,\"Fitness\":4182.86815,\"Count\":5.0,\"AvgProfit\":836.57363,\"Sharpe\":7.01852},{\"index\":964,\"qgrid_unfiltered_index\":715,\"Period\":33287,\"StdDev\":1.97786,\"Threshold\":2,\"Fitness\":4095.15803,\"Count\":18.0,\"AvgProfit\":227.50878,\"Sharpe\":6.28795},{\"index\":1145,\"qgrid_unfiltered_index\":714,\"Period\":44644,\"StdDev\":1.30524,\"Threshold\":9,\"Fitness\":4084.52151,\"Count\":5.0,\"AvgProfit\":816.9043,\"Sharpe\":5.88748},{\"index\":662,\"qgrid_unfiltered_index\":713,\"Period\":26366,\"StdDev\":3.22603,\"Threshold\":5,\"Fitness\":4075.0241,\"Count\":3.0,\"AvgProfit\":1358.34137,\"Sharpe\":8.00447},{\"index\":374,\"qgrid_unfiltered_index\":712,\"Period\":44644,\"StdDev\":1.2969,\"Threshold\":9,\"Fitness\":4061.27043,\"Count\":5.0,\"AvgProfit\":812.25409,\"Sharpe\":5.86288},{\"index\":1020,\"qgrid_unfiltered_index\":711,\"Period\":28856,\"StdDev\":2.85718,\"Threshold\":4,\"Fitness\":4058.04073,\"Count\":6.0,\"AvgProfit\":676.34012,\"Sharpe\":7.39312},{\"index\":979,\"qgrid_unfiltered_index\":710,\"Period\":18730,\"StdDev\":2.76167,\"Threshold\":0,\"Fitness\":4040.84605,\"Count\":14.0,\"AvgProfit\":288.63186,\"Sharpe\":5.86208},{\"index\":1095,\"qgrid_unfiltered_index\":709,\"Period\":29597,\"StdDev\":3.04637,\"Threshold\":3,\"Fitness\":4020.58239,\"Count\":5.0,\"AvgProfit\":804.11648,\"Sharpe\":6.78778},{\"index\":769,\"qgrid_unfiltered_index\":708,\"Period\":29597,\"StdDev\":3.04637,\"Threshold\":2,\"Fitness\":3986.56577,\"Count\":5.0,\"AvgProfit\":797.31315,\"Sharpe\":6.79948},{\"index\":1142,\"qgrid_unfiltered_index\":707,\"Period\":29516,\"StdDev\":3.04637,\"Threshold\":2,\"Fitness\":3924.67461,\"Count\":5.0,\"AvgProfit\":784.93492,\"Sharpe\":6.74729},{\"index\":1219,\"qgrid_unfiltered_index\":706,\"Period\":33287,\"StdDev\":2.5295,\"Threshold\":2,\"Fitness\":3875.89233,\"Count\":10.0,\"AvgProfit\":387.58923,\"Sharpe\":4.97794},{\"index\":1001,\"qgrid_unfiltered_index\":705,\"Period\":29597,\"StdDev\":3.04637,\"Threshold\":0,\"Fitness\":3859.00096,\"Count\":5.0,\"AvgProfit\":771.80019,\"Sharpe\":6.66912},{\"index\":611,\"qgrid_unfiltered_index\":704,\"Period\":29597,\"StdDev\":2.8664,\"Threshold\":4,\"Fitness\":3855.30299,\"Count\":5.0,\"AvgProfit\":771.0606,\"Sharpe\":6.3584},{\"index\":60,\"qgrid_unfiltered_index\":703,\"Period\":24009,\"StdDev\":3.07665,\"Threshold\":9,\"Fitness\":3809.36424,\"Count\":3.0,\"AvgProfit\":1269.78808,\"Sharpe\":8.28},{\"index\":878,\"qgrid_unfiltered_index\":702,\"Period\":19084,\"StdDev\":2.5295,\"Threshold\":0,\"Fitness\":3786.21557,\"Count\":20.0,\"AvgProfit\":189.31078,\"Sharpe\":5.68898},{\"index\":832,\"qgrid_unfiltered_index\":701,\"Period\":18024,\"StdDev\":2.85718,\"Threshold\":12,\"Fitness\":3757.43587,\"Count\":5.0,\"AvgProfit\":751.48717,\"Sharpe\":6.60186},{\"index\":1269,\"qgrid_unfiltered_index\":700,\"Period\":30403,\"StdDev\":2.03353,\"Threshold\":1,\"Fitness\":3724.52198,\"Count\":18.0,\"AvgProfit\":206.91789,\"Sharpe\":6.91275},{\"index\":1045,\"qgrid_unfiltered_index\":699,\"Period\":28440,\"StdDev\":2.81957,\"Threshold\":3,\"Fitness\":3659.65518,\"Count\":6.0,\"AvgProfit\":609.94253,\"Sharpe\":6.65821},{\"index\":189,\"qgrid_unfiltered_index\":698,\"Period\":26537,\"StdDev\":3.11898,\"Threshold\":7,\"Fitness\":3645.51819,\"Count\":3.0,\"AvgProfit\":1215.17273,\"Sharpe\":6.44391},{\"index\":1075,\"qgrid_unfiltered_index\":697,\"Period\":28607,\"StdDev\":3.04637,\"Threshold\":2,\"Fitness\":3639.20779,\"Count\":5.0,\"AvgProfit\":727.84156,\"Sharpe\":6.33511},{\"index\":1007,\"qgrid_unfiltered_index\":696,\"Period\":27793,\"StdDev\":2.81957,\"Threshold\":3,\"Fitness\":3618.70365,\"Count\":6.0,\"AvgProfit\":603.11727,\"Sharpe\":6.59138},{\"index\":1220,\"qgrid_unfiltered_index\":695,\"Period\":19084,\"StdDev\":2.84925,\"Threshold\":2,\"Fitness\":3614.06219,\"Count\":12.0,\"AvgProfit\":301.17185,\"Sharpe\":5.2017},{\"index\":180,\"qgrid_unfiltered_index\":694,\"Period\":18024,\"StdDev\":2.40957,\"Threshold\":5,\"Fitness\":3578.09657,\"Count\":18.0,\"AvgProfit\":198.78314,\"Sharpe\":7.1268},{\"index\":1006,\"qgrid_unfiltered_index\":693,\"Period\":19084,\"StdDev\":2.84925,\"Threshold\":0,\"Fitness\":3578.08902,\"Count\":12.0,\"AvgProfit\":298.17409,\"Sharpe\":5.11874},{\"index\":808,\"qgrid_unfiltered_index\":692,\"Period\":19084,\"StdDev\":2.81957,\"Threshold\":5,\"Fitness\":3557.90428,\"Count\":12.0,\"AvgProfit\":296.49202,\"Sharpe\":5.29196},{\"index\":704,\"qgrid_unfiltered_index\":691,\"Period\":18947,\"StdDev\":2.84925,\"Threshold\":3,\"Fitness\":3537.01331,\"Count\":12.0,\"AvgProfit\":294.75111,\"Sharpe\":5.09062},{\"index\":5,\"qgrid_unfiltered_index\":690,\"Period\":14645,\"StdDev\":2.5295,\"Threshold\":17,\"Fitness\":3525.18251,\"Count\":7.0,\"AvgProfit\":503.5975,\"Sharpe\":5.03806},{\"index\":792,\"qgrid_unfiltered_index\":689,\"Period\":28607,\"StdDev\":2.34035,\"Threshold\":15,\"Fitness\":3517.6179,\"Count\":2.0,\"AvgProfit\":1758.80895,\"Sharpe\":24.77471},{\"index\":738,\"qgrid_unfiltered_index\":688,\"Period\":26537,\"StdDev\":2.76167,\"Threshold\":7,\"Fitness\":3467.14795,\"Count\":5.0,\"AvgProfit\":693.42959,\"Sharpe\":5.65006},{\"index\":690,\"qgrid_unfiltered_index\":687,\"Period\":29597,\"StdDev\":2.03353,\"Threshold\":10,\"Fitness\":3441.22463,\"Count\":9.0,\"AvgProfit\":382.35829,\"Sharpe\":3.66362},{\"index\":1155,\"qgrid_unfiltered_index\":686,\"Period\":19084,\"StdDev\":2.81957,\"Threshold\":2,\"Fitness\":3414.32874,\"Count\":12.0,\"AvgProfit\":284.52739,\"Sharpe\":4.9874},{\"index\":1032,\"qgrid_unfiltered_index\":685,\"Period\":28607,\"StdDev\":1.72439,\"Threshold\":15,\"Fitness\":3411.79742,\"Count\":2.0,\"AvgProfit\":1705.89871,\"Sharpe\":23.1773},{\"index\":1194,\"qgrid_unfiltered_index\":684,\"Period\":27793,\"StdDev\":2.84925,\"Threshold\":4,\"Fitness\":3385.54978,\"Count\":5.0,\"AvgProfit\":677.10996,\"Sharpe\":5.64154},{\"index\":1080,\"qgrid_unfiltered_index\":683,\"Period\":19084,\"StdDev\":2.81957,\"Threshold\":1,\"Fitness\":3378.10043,\"Count\":12.0,\"AvgProfit\":281.50837,\"Sharpe\":4.90378},{\"index\":1088,\"qgrid_unfiltered_index\":682,\"Period\":18730,\"StdDev\":2.84925,\"Threshold\":3,\"Fitness\":3374.67979,\"Count\":12.0,\"AvgProfit\":281.22332,\"Sharpe\":4.83364},{\"index\":659,\"qgrid_unfiltered_index\":681,\"Period\":26537,\"StdDev\":3.11898,\"Threshold\":4,\"Fitness\":3325.96456,\"Count\":3.0,\"AvgProfit\":1108.65485,\"Sharpe\":6.18341},{\"index\":1106,\"qgrid_unfiltered_index\":680,\"Period\":27793,\"StdDev\":3.11898,\"Threshold\":3,\"Fitness\":3314.81842,\"Count\":3.0,\"AvgProfit\":1104.93947,\"Sharpe\":6.2183},{\"index\":181,\"qgrid_unfiltered_index\":679,\"Period\":27793,\"StdDev\":2.84925,\"Threshold\":3,\"Fitness\":3306.64663,\"Count\":5.0,\"AvgProfit\":661.32933,\"Sharpe\":5.60384},{\"index\":1250,\"qgrid_unfiltered_index\":678,\"Period\":26537,\"StdDev\":2.76167,\"Threshold\":4,\"Fitness\":3283.34798,\"Count\":6.0,\"AvgProfit\":547.22466,\"Sharpe\":5.89029},{\"index\":1267,\"qgrid_unfiltered_index\":677,\"Period\":24009,\"StdDev\":2.84925,\"Threshold\":6,\"Fitness\":3245.19994,\"Count\":5.0,\"AvgProfit\":649.03999,\"Sharpe\":5.28257},{\"index\":1236,\"qgrid_unfiltered_index\":676,\"Period\":23406,\"StdDev\":2.5295,\"Threshold\":0,\"Fitness\":3227.68948,\"Count\":18.0,\"AvgProfit\":179.31608,\"Sharpe\":6.24792},{\"index\":282,\"qgrid_unfiltered_index\":675,\"Period\":10569,\"StdDev\":2.40957,\"Threshold\":33,\"Fitness\":3203.08345,\"Count\":3.0,\"AvgProfit\":1067.69448,\"Sharpe\":4.75772},{\"index\":820,\"qgrid_unfiltered_index\":674,\"Period\":26537,\"StdDev\":3.11898,\"Threshold\":2,\"Fitness\":3199.93937,\"Count\":3.0,\"AvgProfit\":1066.64646,\"Sharpe\":6.12726},{\"index\":465,\"qgrid_unfiltered_index\":673,\"Period\":24009,\"StdDev\":3.07665,\"Threshold\":6,\"Fitness\":3185.12265,\"Count\":3.0,\"AvgProfit\":1061.70755,\"Sharpe\":5.19503},{\"index\":1229,\"qgrid_unfiltered_index\":672,\"Period\":19084,\"StdDev\":2.66731,\"Threshold\":14,\"Fitness\":3169.19105,\"Count\":5.0,\"AvgProfit\":633.83821,\"Sharpe\":5.05629},{\"index\":1133,\"qgrid_unfiltered_index\":671,\"Period\":14696,\"StdDev\":2.81957,\"Threshold\":0,\"Fitness\":3142.57016,\"Count\":12.0,\"AvgProfit\":261.88085,\"Sharpe\":3.81653},{\"index\":694,\"qgrid_unfiltered_index\":670,\"Period\":38847,\"StdDev\":1.72439,\"Threshold\":7,\"Fitness\":3078.63768,\"Count\":9.0,\"AvgProfit\":342.07085,\"Sharpe\":3.97756},{\"index\":976,\"qgrid_unfiltered_index\":669,\"Period\":26537,\"StdDev\":3.04637,\"Threshold\":2,\"Fitness\":3062.32705,\"Count\":3.0,\"AvgProfit\":1020.77568,\"Sharpe\":5.76309},{\"index\":21,\"qgrid_unfiltered_index\":668,\"Period\":32722,\"StdDev\":3.00609,\"Threshold\":5,\"Fitness\":3053.40357,\"Count\":2.0,\"AvgProfit\":1526.70179,\"Sharpe\":5.0992},{\"index\":1107,\"qgrid_unfiltered_index\":667,\"Period\":26537,\"StdDev\":2.84925,\"Threshold\":7,\"Fitness\":3038.03328,\"Count\":3.0,\"AvgProfit\":1012.67776,\"Sharpe\":5.10007},{\"index\":983,\"qgrid_unfiltered_index\":666,\"Period\":30403,\"StdDev\":2.84925,\"Threshold\":1,\"Fitness\":3020.3924,\"Count\":6.0,\"AvgProfit\":503.39873,\"Sharpe\":4.81769},{\"index\":1068,\"qgrid_unfiltered_index\":665,\"Period\":27793,\"StdDev\":2.17783,\"Threshold\":12,\"Fitness\":3016.81201,\"Count\":4.0,\"AvgProfit\":754.203,\"Sharpe\":3.1091},{\"index\":38,\"qgrid_unfiltered_index\":664,\"Period\":14696,\"StdDev\":2.38951,\"Threshold\":4,\"Fitness\":2985.54189,\"Count\":24.0,\"AvgProfit\":124.39758,\"Sharpe\":4.88933},{\"index\":574,\"qgrid_unfiltered_index\":663,\"Period\":29597,\"StdDev\":3.31355,\"Threshold\":0,\"Fitness\":2967.95908,\"Count\":2.0,\"AvgProfit\":1483.97954,\"Sharpe\":7.34078},{\"index\":1249,\"qgrid_unfiltered_index\":662,\"Period\":28856,\"StdDev\":2.76167,\"Threshold\":0,\"Fitness\":2936.58832,\"Count\":8.0,\"AvgProfit\":367.07354,\"Sharpe\":5.46727},{\"index\":1023,\"qgrid_unfiltered_index\":661,\"Period\":18024,\"StdDev\":2.5295,\"Threshold\":1,\"Fitness\":2935.16227,\"Count\":20.0,\"AvgProfit\":146.75811,\"Sharpe\":4.46199},{\"index\":1105,\"qgrid_unfiltered_index\":660,\"Period\":24009,\"StdDev\":2.91287,\"Threshold\":6,\"Fitness\":2932.04553,\"Count\":3.0,\"AvgProfit\":977.34851,\"Sharpe\":4.62715},{\"index\":1069,\"qgrid_unfiltered_index\":659,\"Period\":34214,\"StdDev\":2.81957,\"Threshold\":3,\"Fitness\":2930.7217,\"Count\":5.0,\"AvgProfit\":586.14434,\"Sharpe\":4.25497},{\"index\":178,\"qgrid_unfiltered_index\":658,\"Period\":25692,\"StdDev\":2.59601,\"Threshold\":10,\"Fitness\":2930.24422,\"Count\":3.0,\"AvgProfit\":976.74807,\"Sharpe\":5.46725},{\"index\":401,\"qgrid_unfiltered_index\":657,\"Period\":49800,\"StdDev\":2.8292,\"Threshold\":7,\"Fitness\":2910.18797,\"Count\":4.0,\"AvgProfit\":727.54699,\"Sharpe\":3.2933},{\"index\":982,\"qgrid_unfiltered_index\":656,\"Period\":18947,\"StdDev\":2.34035,\"Threshold\":3,\"Fitness\":2906.74095,\"Count\":22.0,\"AvgProfit\":132.12459,\"Sharpe\":5.6817},{\"index\":1213,\"qgrid_unfiltered_index\":655,\"Period\":24009,\"StdDev\":2.8664,\"Threshold\":6,\"Fitness\":2884.60751,\"Count\":3.0,\"AvgProfit\":961.53584,\"Sharpe\":4.55714},{\"index\":250,\"qgrid_unfiltered_index\":654,\"Period\":39845,\"StdDev\":1.04126,\"Threshold\":11,\"Fitness\":2878.57369,\"Count\":5.0,\"AvgProfit\":575.71474,\"Sharpe\":4.21437},{\"index\":1197,\"qgrid_unfiltered_index\":653,\"Period\":27793,\"StdDev\":3.04637,\"Threshold\":0,\"Fitness\":2870.78164,\"Count\":3.0,\"AvgProfit\":956.92721,\"Sharpe\":5.55918}]}",
       "_df_range": [
        0,
        100
       ],
       "_editable_rows": {},
       "_index_col_name": "qgrid_unfiltered_index",
       "_interval_columns": [],
       "_model_module_version": "0.0.3",
       "_multi_index": false,
       "_row_count": 753,
       "_row_styles": {},
       "_sort_ascending": false,
       "_sort_field": "Fitness",
       "_view_module_version": "0.0.3",
       "_viewport_range": [
        0,
        100
       ],
       "grid_options": {
        "autoEdit": false,
        "boldIndex": true,
        "defaultColumnWidth": 150,
        "editable": false,
        "enableColumnReorder": false,
        "enableTextSelectionOnCells": true,
        "explicitInitialization": true,
        "filterable": true,
        "forceFitColumns": true,
        "fullWidthRows": true,
        "highlightSelectedCell": false,
        "highlightSelectedRow": true,
        "maxVisibleRows": 15,
        "minVisibleRows": 8,
        "multiSelect": false,
        "rowHeight": 28,
        "sortable": true,
        "syncColumnCellResize": true
       },
       "id": "8f264e2a-a678-44f1-b5fd-febcb08faff5",
       "layout": "IPY_MODEL_800be205870c4d128b417b03068b6946",
       "precision": 5,
       "show_toolbar": false
      }
     },
     "b9f6f3e380164e49beec0bd694190f47": {
      "model_module": "@jupyter-widgets/controls",
      "model_module_version": "1.5.0",
      "model_name": "HBoxModel",
      "state": {
       "children": [
        "IPY_MODEL_686fa014234749b591ce220bcf2a2dbd",
        "IPY_MODEL_95966e3f9c71469aa7e3bfbf1cdec2ba",
        "IPY_MODEL_dce3d2b83b0d484ab4cdd8dbea2862b6"
       ],
       "layout": "IPY_MODEL_5439ea7bb0e14bbab21e11ba39a15b15"
      }
     },
     "badd346a491e433db7ee4f1925092e31": {
      "model_module": "@jupyter-widgets/controls",
      "model_module_version": "1.5.0",
      "model_name": "ProgressStyleModel",
      "state": {
       "description_width": ""
      }
     },
     "c07598a234694bbd853afaddfd22bd56": {
      "model_module": "@jupyter-widgets/controls",
      "model_module_version": "1.5.0",
      "model_name": "SliderStyleModel",
      "state": {
       "description_width": ""
      }
     },
     "c2df46fd30714063b513c946afc4abb5": {
      "buffers": [
       {
        "data": "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",
        "encoding": "base64",
        "path": [
         "_data",
         0,
         "y",
         "value"
        ]
       },
       {
        "data": "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",
        "encoding": "base64",
        "path": [
         "_data",
         1,
         "y",
         "value"
        ]
       },
       {
        "data": "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",
        "encoding": "base64",
        "path": [
         "_data",
         2,
         "y",
         "value"
        ]
       },
       {
        "data": "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",
        "encoding": "base64",
        "path": [
         "_data",
         3,
         "y",
         "value"
        ]
       },
       {
        "data": "7q0CCNvIUEDMXR4Mcy58QN/C5t23vZlACzhVKRswpkBmDTswYOepQKxL7dDtv6xAAAAAAAAA+H8aWCFoxbSzQAyrcaPE7LJAHvLnZAqDskDDuM3FyFisQPGZ4rDW96xAvq5ToCOmsEB9ZuE9ca+vQJvszI/DgrJAI2CH/TTlsEA6ht6+zhqzQB0HD+NLa7RA2Kb8SysxtkAE8egi7HW5QHB28BYStrpA",
        "encoding": "base64",
        "path": [
         "_data",
         4,
         "y",
         "value"
        ]
       },
       {
        "data": "Bi79d6m84UAi+lOkHJXhQI+/0RObleFAVzpWK4Wj4UCxzdxEB2fiQEJ1hMSR5OJAd+jBqDup4kDwZj0rGzriQAbr++nFv+FAexGHcR2x4UCXMczUHZXhQEezJmmcleFAxiSNFoaj4UDTzGH7B2fiQNWbztyS5OJAgWHAaUSp4kDZoEQYHDriQKX97Y/Gv+FAXVYVNB2x4UCeGybOqfHhQA==",
        "encoding": "base64",
        "path": [
         "_data",
         5,
         "y",
         "value"
        ]
       },
       {
        "data": "N27NTp3J4UAbq2NxRC/iQO3T0lKZ1eFA6gbDT7tS4kBfVFIdg17iQP0LkOlb8+JAy32phDOU4kDtEs2fDgviQIA+sm1o7uFAC+yNPUwe4kDf6VP2mcnhQMPFBoFBL+JAM1Q+/pfV4UAQdYJhuVLiQCR9LOyEXuJA2cIXsVrz4kBRWQmQMpTiQL0HFtkNC+JAUWEiu2bu4UAmxwP6Sh7iQA==",
        "encoding": "base64",
        "path": [
         "_data",
         6,
         "y",
         "value"
        ]
       },
       {
        "data": "AAAAAAAAAAAAAAAAAAAAAAAAAAAAAAAAAAAAAAAAAAAAAAAAAAAAAAAAAAAAAAAAAAAAAAAAAAAAAAAAAAAAAAAAAAAAAAAAAAAAAAAAAAAAAAAAAAAAAAAAAAAAAAAAAAAAAAAAAAAAAAAAAAAAAAAAAAAAAAAAAAAAAAAAAAAAAAAAAAAAAAAAAAAAAAAAAAAAAAAAAAAAAAAAAAAAAAAAAAAAAAAAAAAAAAAAAAAAAAAAAAAAAAAAAAAAAAAAAAAAAAAAAAAAAAAAAAAAAAAAAAAAAAAAAAAAAAAAAAAAAAAAAAAAAAAAAAAAAAAAAAAAAAAAAAAAAAAAAAAAAAAAAAAAAAAAAAAAAAAAAAAAAAAAAAAAAAAAAAAAAAAAAAAAAAAAAAAAAAAAAAAAAAAAAAAAAAAAAAAAAAAAAAAAAAAAAAAAAAAAAAAAAAAAAAAAAAAAAAAAAAAAAAAAAAAAAAAAAAAAAAAAAAAAAAAAAAAAAAAAAAAAAAAAAAAAAAAAAAAAAAAAAAAAAAAAAAAAAAAAAAAAAAAAAAAAAAAAAAAAAAAAAAAAAAAAAAAAAAAAAAAAAAAAAAAAAAAAAAAAAAAAAAAAAAAAAAAAAAAAAAAAAAAAAAAAAAAAAAAAAAAAAAAAAAAAAAAAAAAAAAAAAAAAAAAAAAAAAAAAAAAAAAAAAAAAAAAAAAAAAAAAAAAAAAAAAAAAAAAAAAAAAAAAAAAAAAAAAAAAAAAAAAAAAAAAAAAAAAAAAAAAAAAAAAAAAAAAAAAAAAAAAAAAAAAAAAAAAAAAAAAAAAAAAAAAAAAAAAAAAAAAAAAAAAAAAAAAAAAAAAAAAAAAAAAAAAAAAAAAAAAAAAAAAAAAAAAAAAAAAAAAAAAAAAAAAAAAAAAAAAAAAAAAAAAAAAAAAAAAAAAAAAAAAAAAAAAAAAAAAAAAAAAAAAAAAAAAAAAAAAAAAAAAAAAAAAAAAAAAAAAAAAAAAAAAAAAAAAAAAAAAAAAAAAAAAAAAAAAAAAAAAAAAAAAAAAAAAAAAAAAAAAAAAAAAAAAAAAAAAAAAAAAAAAAAAAAAAAAAAAAAAAAAAAAAAAAAAAAAAAAAAAAAAAAAAAAAAAAAAAAAAAAAAAAAAAAAAAAAAAAAAAAAAAAAAAAAAAAAAAAAAAAAAAAAAAAAAAAAAAAAAAAAAAAAAAAAAAAAAAAAAAAAAAAAAAAAAAAAAAAAAAAAAAAAAAAAAAAAAAAAAAAAAAAAAAAAAAAAAAAAAAAAAAAAAAAAAAAAAAAAAAAAAAAAAAAAAAAAAAAAAAAAAAAAAAAAAAAAAAAAAAAAAAAAAAAAAAAAAAAAAAAAAAAAAAAAAAAAAAAAAAAAAAAAAAAAAAAAAAAAAAAAAAAAAAAAAAAAAAAAAAAAAAAAAAAAAAAAAAAAAAAAAAAAAAAAAAAAAAAAAAAAAAAAAAAAAAAAAAAAAAAAAAAAAAAAAAAAAAAAAAAAAAAAAAAAAAAAAAAAAAAAAAAAAAAAAAAAAAAAAAAAAAAAAAAAAAAAAAAAAAAAAAAAAAAAAAAAAAAAAAAAAAAAAAAAAAAAAAAAAAAAAAAAAAAAAAAAAAAAAAAAAAAAAAAAAAAAAAAAAAAAAAAAAAAAAAAAAAAAAAAAAAAAAAAAAAAAAAAAAAAAAAAAAAAAAAAAAAAAAAAAAAAAAAAAAAAAAAAAAAAAAAAAAAAAAAAAAAAAAAAAAAAAAAAAAAAAAAAAAAAAAAAAAAAAAAAAAAAAAAAAAAAAAAAAAAAAAAAAAAAAAAAAAAAAAAAAAAAAAAAAAAAAAAAAAAAAAAAAAAAAAAAAAAAAAAAAAAAAAAAAAAAAAAAAAAAAAAAAAAAAAAAAAAAAAAAAAAAAAAAAAAAAAAAAAAAAAAAAAAAAAAAAAAAAAAAAAAAAAAAAAAAAAAAAAAAAAAAAAAAAAAAAAAAAAAAAAAAAAAAAAAAAAAAAAAAAAAAAAAAAAAAAAAAAAAAAAAAAAAAAAAAAAAAAAAAAAAAAAAAAAAAAAAAAAAAAAAAAAAAAAAAAAAAAAAAAAAAAAAAAAAAAAAAAAAAAAAAAAAAAAAAAAAAAAAAAAAAAAAAAAAAAAAAAAAAAAAAAAAAAAAAAAAAAAAAAAAAAAAAAAAAAAAAAAAAAAAAAAAAAAAAAAAAAAAAAAAAAAAAAAAAAAAAAAAAAAAAAAAAAAAAAAAAAAAAAAAAAAAAAAAAAAAAAAAAAAAAAAAAAAAAAAAAAAAAAAAAAAAAAAAAAAAAAAAAAAAAAAAAAAAAAAAAAAAAAAAAAAAAAAAAAAAAAAAAAAAAAAAAAAAAAAAAAAAAAAAAAAAAAAAAAAAAAAAAAAAAAAAAAAAAAAAAAAAAAAAAAAAAAAAAAAAAAAAAAAAAAAAAAAAAAAAAAAAAAAAAAAAAAAAAAAAAAAAAAAAAAAAAAAAAAAAAAAAAAAAAAAAAAAAAAAAAAAAAAAAAAAAAAAAAAAAAAAAAAAAAAAAAAAAAAAAAAAAAAAAAAAAAAAAAAAAAAAAAAAAAAAAAAAAAAAAAAAAAAAAAAAAAAAAAAAAAAAAAAAAAAAAAAAAAAAAAAAAAAAAAAAAAAAAAAAAAAAAAAAAAAAAAAAAAAAAAAAAAAAAAAAAAAAAAAAAAAAAAAAAAAAAAAAAAAAAAAAAAAAAAAAAAAAAAAAAAAAAAAAAAAAAAAAAAAAAAAAAAAAAAAAAAAAAAAAAAAAAAAAAAAAAAAAAAAAAAAAAAAAAAAAAAAAAAAAAAAAAAAAAAAAAAAAAAAAAAAAAAAAAAAAAAAAAAAAAAAAAAAAAAAAAAAAAAAAAAAAAAAAAAAAAAAAAAAAAAAAAAAAAAAAAAAAAAAAAAAAAAAAAAAAAAAAAAAAAAAAAAAAAAAAAAAAAAAAAAAAAAAAAAAAAAAAAAAAAAAAAAAAAAAAAAAAAAAAAAAAAAAAAAAAAAAAAAAAAAAAAAAAAAAAAAAAAAAAAAAAAAAAAAAAAAAAAAAAAAAAAAAAAAAAAAAAAAAAAAAAAAAAAAAAAAAAAAAAAAAAAAAAAAAAAAAAAAAAAAAAAAAAAAAAAAAAAAAAAAAAAAAAAAAAAAAAAAAAAAAAAAAAAAAAAAAAAAAAAAAAAAAAAAAAAAAAAAAAAAAAAAAAAAAAAAAAAAAAAAAAAAAAAAAAAAAAAAAAAAAAAAAAAAAAAAAAAAAAAAAAAAAAAAAAAAAAAAAAAAAAAAAAAAAAAAAAAAAAAAAAAAAAAAAAAAAAAAAAAAAAAAAAAAAAAAAAAAAAAAAAAAAAAAAAAAAAAAAAAAAAAAAAAAAAAAAAAAAAAAAAAAAAAAAAAAAAAAAAAAAAAAAAAAAAAAAAAAAAAAAAAAAAAAAAAAAAAAAAAAAAAAAAAAAAAAAAAAAAAAAAAAAAAAAAAAAAAAAAAAAAAAAAAAAAAAAAAAAAAAAAAAAAAAAAAAAAAAAAAAAAAAAAAAAAAAAAAAAAAAAAAAAAAAAAAAAAAAAAAAAAAAAAAAAAAAAAAAAAAAAAAAAAAAAAAAAAAAAAAAAAAAAAAAAAAAAAAAAAAAAAAAAAAAAAAAAAAAAAAAAAAAAAAAAAAAAAAAAAAAAAAAAAAAAAAAAAAAAAAAAAAAAAAAAAAAAAAAAAAAAAAAAAAAAAAAAAAAAAAAAAAAAAAAAAAAAAAAAAAAAAAAAAAAAAAAAAAAAAAAAAAAAAAAAAAAAAAAAAAAAAAAAAAAAAAAAAAAAAAAAAAAAAAAAAAAAAAAAAAAAAAAAAAAAAAAAAAAAAAAAAAAAAAAAAAAAAAAAAAAAAAAAAAAAAAAAAAAAAAAAAAAAAAAAAAAAAAAAAAAAAAAAAAAAAAAAAAAAAAAAAAAAAAAAAAAAAAAAAAAAAAAAAAAAAAAAAAAAAAAAAAAAAAAAAAAAAAAAAAAAAAAAAAAAAAAAAAAAAAAAAAAAAAAAAAAAAAAAAAAAAAAAAAAAAAAAAAAAAAAAAAAAAAAAAAAAAAAAAAAAAAAAAAAAAAAAAAAAAAAAAAAAAAAAAAAAAAAAAAAAAAAAAAAAAAAAAAAAAAAAAAAAAAAAAAAAAAAAAAAAAAAAAAAAAAAAAAAAAAAAAAAAAAAAAAAAAAAAAAAAAAAAAAAAAAAAAAAAAAAAAAAAAAAAAAAAAAAAAAAAAAAAAAAAAAAAAAAAAAAAAAAAAAAAAAAAAAAAAAAAAAAAAAAAAAAAAAAAAAAAAAAAAAAAAAAAAAAAAAAAAAAAAAAAAAAAAAAAAAAAAAAAAAAAAAAAAAAAAAAAAAAAAAAAAAAAAAAAAAAAAAAAAAAAAAAAAAAAAAAAAAAAAAAAAAAAAAAAAAAAAAAAAAAAAAAAAAAAAAAAAAAAAAAAAAAAAAAAAAAAAAAAAAAAAAAAAAAAAAAAAAAAAAAAAAAAAAAAAAAAAAAAAAAAAAAAAAAAAAAAAAAAAAAAAAAAAAAAAAAAAAAAAAAAAAAAAAAAAAAAAAAAAAAAAAAAAAAAAAAAAAAAAAAAAAAAAAAAAAAAAAAAAAAAAAAAAAAAAAAAAAAAAAAAAAAAAAAAAAAAAAAAAAAAAAAAAAAAAAAAAAAAAAAAAAAAAAAAAAAAAAAAAAAAAAAAAAAAAAAAAAAAAAAAAAAAAAAAAAAAAAAAAAAAAAAAAAAAAAAAAAAAAAAAAAAAAAAAAAAAAAAAAAAAAAAAAAAAAAAAAAAAAAAAAAAAAAAAAAAAAAAAAAAAAAAAAAAAAAAAAAAAAAAAAAAAAAAAAAAAAAAAAAAAAAAAAAAAAAAAAAAAAAAAAAAAAAAAAAAAAAAAAAAAAAAAAAAAAAAAAAAAAAAAAAAAAAAAAAAAAAAAAAAAAAAAAAAAAAAAAAAAAAAAAAAAAAAAAAAAAAAAAAAAAAAAAAAAAAAAAAAAAAAAAAAAAAAAAAAAAAAAAAAAAAAAAAAAAAAAAAAAAAAAAAAAAAAAAAAAAAAAAAAAAAAAAAAAAAAAAAAAAAAAAAAAAAAAAAAAAAAAAAAAAAAAAAAAAAAAAAAAAAAAAAAAAAAAAAAAAAAAAAAAAAAAAAAAAAAAAAAAAAAAAAAAAAAAAAAAAAAAAAAAAAAAAAAAAAAAAAAAAAAAAAAAAAAAAAAAAAAAAAAAAAAAAAAAAAAAAAAAAAAAAAAAAAAAAAAAAAAAAAAAAAAAAAAAAAAAAAAAAAAAAAAAAAAAAAAAAAAAAAAAAAAAAAAAAAAAAAAAAAAAAAAAAAAAAAAAAAAAAAAAAAAAAAAAAAAAAAAAAAAAAAAAAAAAAAAAAAAAAAAAAAAAAAAAAAAAAAAAAAAAAAAAAADAfw==",
        "encoding": "base64",
        "path": [
         "_data",
         7,
         "y",
         "value"
        ]
       }
      ],
      "model_module": "jupyterlab-plotly",
      "model_module_version": "^5.6.0",
      "model_name": "FigureModel",
      "state": {
       "_config": {
        "plotlyServerURL": "https://plot.ly"
       },
       "_data": [
        {
         "line": {
          "color": "gray"
         },
         "name": "<b style=\"color:sandybrown\">[R]</b> Tick <i style=\"color:#fc9944\">~890</i>",
         "opacity": 0.25,
         "type": "scattergl",
         "uid": "9afbb5d8-325e-4edb-a8ea-0df9020b0423",
         "x": [
          0,
          538,
          1383,
          2031,
          3137,
          3593,
          5130,
          5515,
          6577,
          7345,
          8157,
          8993,
          10173,
          11201,
          11585,
          13271,
          13859,
          15114,
          15962,
          16376,
          17585,
          17966,
          19605,
          20103,
          21223,
          21987,
          22971,
          23269,
          24660,
          25843,
          26486,
          27617,
          27858,
          28918,
          29923,
          30385,
          31850,
          32954,
          33197,
          34581,
          35488,
          36536,
          36982,
          37428,
          38585,
          39211,
          40693,
          41186,
          42109,
          42949,
          44087,
          44681,
          45635,
          46932,
          47987,
          48442,
          49026,
          50610,
          51316,
          51753,
          52925,
          54125,
          54599,
          55702,
          56352,
          57539,
          58815,
          59176,
          60476,
          61192,
          62294,
          62786,
          63390,
          64385,
          65936,
          66830,
          67532,
          68044,
          69269,
          70247,
          70699,
          71452,
          72774,
          73772,
          74013,
          75446,
          76158,
          77363,
          78239,
          78855,
          79362,
          80407,
          81462,
          82807,
          83352,
          83958,
          84819,
          85919,
          86816,
          88025,
          88759,
          89202,
          90683,
          91445,
          92386,
          92980,
          93838,
          94655,
          95542,
          96262,
          97135,
          98916,
          99760,
          100051,
          101046,
          102190,
          103112,
          103453,
          105098,
          105286,
          106936,
          107735,
          108557,
          108999,
          109669,
          110913,
          112212,
          112412,
          114037,
          114625,
          115536,
          115849,
          116939,
          118093,
          119244,
          120106,
          120755,
          121483,
          122140,
          123517,
          124141,
          124996,
          126162,
          126827,
          127647,
          129075,
          130019,
          130170,
          131154,
          132278,
          133114,
          134184,
          134815,
          135810,
          136545,
          137846,
          139017,
          139805,
          140089,
          140801,
          141943,
          143473,
          144077,
          144378,
          145561,
          146267,
          147233,
          148307,
          148983,
          150602,
          151324,
          151663,
          152630,
          153660,
          154591,
          155796,
          156173,
          156856,
          158351,
          159089,
          160186,
          160479,
          161672,
          162188,
          163509,
          164705,
          165358,
          165964,
          167103,
          168101,
          168796,
          169776,
          170878,
          171294,
          172373,
          173337,
          174192,
          175428,
          176146,
          176649,
          177437,
          178266,
          179321,
          180526,
          181062,
          182039,
          183474,
          184424,
          184854,
          185358,
          186763,
          187664,
          188380,
          188949,
          190125,
          190846,
          192213,
          193087,
          193867,
          194358,
          195359,
          196051,
          197028,
          198724,
          199593,
          200048,
          201006,
          201398,
          202378,
          204021,
          204539,
          205421,
          205884,
          207470,
          208511,
          208879,
          210010,
          210453,
          211530,
          212352,
          213143,
          214201,
          214934,
          216207,
          217232,
          217913,
          219219,
          219918,
          220158,
          221654,
          222721,
          222849,
          223879,
          224801,
          225767,
          226756,
          228095,
          228960,
          229517,
          230555,
          231369,
          231960,
          232693,
          233561,
          234984,
          235734,
          236228,
          237061,
          238448,
          239596,
          239731,
          241028,
          241689,
          242397,
          244027,
          244626,
          245165,
          246845,
          247098,
          247957,
          248894,
          250067,
          250888,
          251686,
          252194,
          253309,
          254531,
          255112,
          256226,
          256885,
          257567,
          259106,
          259582,
          260221,
          261814,
          262533,
          263478,
          264259,
          264777,
          266271,
          266534,
          267673,
          268814,
          269581,
          270213,
          271399,
          272499,
          272955,
          274024,
          275095,
          275925,
          277045,
          278023,
          278863,
          279178,
          280562,
          281229,
          282382,
          283225,
          284090,
          285019,
          285433,
          286229,
          286965,
          288525,
          289335,
          290112,
          290649,
          292230,
          292573,
          293898,
          294929,
          295396,
          296749,
          297220,
          298222,
          298869,
          299919,
          300904,
          301774,
          302433,
          303189,
          304090,
          305277,
          305910,
          307061,
          308096,
          308965,
          310009,
          310285,
          311115,
          312236,
          313075,
          314502,
          314918,
          316106,
          316525,
          317246,
          318294,
          319031,
          320570,
          321535,
          321886,
          322988,
          323484,
          324575,
          325566,
          326544,
          327540,
          328383,
          329154,
          330613,
          331245,
          332353,
          332978,
          333519,
          334696,
          335441,
          336159,
          336961,
          338376,
          339025,
          340148,
          340535,
          342197,
          342435,
          343394,
          344141,
          345090,
          346247,
          346682,
          348098,
          349326,
          349705,
          350618,
          351200,
          352366,
          353232,
          354196,
          354674,
          356152,
          357280,
          357645,
          358955,
          359460,
          360651,
          361090,
          361869,
          363089,
          364172,
          364616,
          365454,
          366686,
          367390,
          368929,
          369787,
          370466,
          370887,
          371937,
          372566,
          373650,
          375063,
          375647,
          376308,
          377699,
          378049,
          379051,
          380153,
          381233,
          381871,
          382693,
          383437,
          384374,
          385718,
          385914,
          387060,
          388128,
          388744,
          390183,
          390530,
          391404,
          392477,
          393021,
          394052,
          395089,
          395667,
          396670,
          397700,
          398450,
          400021,
          400438,
          401142,
          401917,
          402878,
          404100,
          404960,
          405672,
          406552,
          407842,
          408276,
          409177,
          410668,
          411693,
          412189,
          412920,
          413999,
          414719,
          415875,
          416458,
          417338,
          418007,
          418864,
          420576,
          420941,
          421520,
          422429,
          423456,
          424227,
          425372,
          426808,
          427302,
          428187,
          428983,
          430132,
          430597,
          431642,
          432435,
          433241,
          434763,
          434930,
          435770,
          436945,
          437942,
          439277,
          439958,
          440263,
          441431,
          442014,
          443651,
          443856,
          445502,
          446450,
          446952,
          447588,
          448596,
          449361,
          450869,
          451444,
          452257,
          453393,
          454077,
          454736,
          455893,
          456519,
          457585,
          458741,
          459423,
          460625,
          461296,
          462425,
          463128,
          463717,
          464459,
          465442,
          466669,
          467281,
          468211,
          469155,
          470418,
          471411,
          472037,
          473088,
          473452,
          474893,
          475276,
          476536,
          477343,
          477813,
          479431,
          479831,
          480499,
          481635,
          482115,
          483164,
          484123,
          484852,
          486252,
          487197,
          487581,
          488370,
          489663,
          490128,
          491617,
          492002,
          493103,
          494024,
          494957,
          496365,
          496585,
          497799,
          498753,
          499704,
          500344,
          500821,
          502603,
          503000,
          503972,
          504570,
          505321,
          506534,
          507389,
          508504,
          509617,
          510470,
          511245,
          511994,
          512432,
          513811,
          514190,
          515199,
          516085,
          516862,
          518393,
          518709,
          520109,
          520648,
          522117,
          522813,
          523705,
          524011,
          525695,
          525834,
          527166,
          528061,
          529056,
          529815,
          530304,
          531348,
          532404,
          533255,
          534259,
          534921,
          535902,
          536973,
          537789,
          538313,
          539463,
          540204,
          541385,
          542691,
          543595,
          543979,
          545017,
          546128,
          546642,
          547511,
          548640,
          549200,
          550548,
          550915,
          552192,
          553386,
          553900,
          554526,
          555337,
          556072,
          557341,
          558225,
          559366,
          560220,
          561353,
          561938,
          563199,
          563825,
          564500,
          565197,
          566291,
          567479,
          567757,
          568942,
          570107,
          571193,
          571647,
          572984,
          573779,
          574548,
          574990,
          575890,
          577456,
          578188,
          578369,
          579847,
          580694,
          581292,
          582563,
          583116,
          583817,
          584636,
          585637,
          586374,
          587369,
          588328,
          589771,
          589991,
          591086,
          592313,
          592884,
          593697,
          594416,
          596064,
          596537,
          597563,
          598230,
          599047,
          600125,
          601339,
          601563,
          602994,
          604006,
          604690,
          605740,
          606697,
          606945,
          608379,
          608794,
          609663,
          610718,
          611728,
          612649,
          613993,
          614574,
          615724,
          616420,
          616803,
          617579,
          619301,
          619458,
          620959,
          621961,
          622196,
          623057,
          624570,
          624733,
          626471,
          627129,
          627791,
          628254,
          629705,
          630216,
          631064,
          632617,
          633365,
          634469,
          635020,
          635699,
          636344,
          637551,
          638842,
          639658,
          639993,
          641359,
          642004,
          642912,
          643720,
          644791,
          645592,
          646077,
          647798,
          648496,
          648928,
          650531,
          651243,
          652261,
          652876,
          653441,
          654984,
          655070,
          656543,
          657122,
          658468,
          659069,
          659451,
          660698,
          661416,
          662312,
          663360,
          664428,
          664934,
          666119,
          667304,
          667568,
          669030,
          670087,
          670701,
          671866,
          672808,
          673435,
          674164,
          675301,
          676043,
          677097,
          677496,
          678158,
          679206,
          679987,
          680832,
          682302,
          683246,
          684380,
          685125,
          686176,
          686742,
          687918,
          688376,
          689364,
          689921,
          691344,
          692143,
          692868,
          694198,
          694636,
          695594,
          696131,
          697034,
          698571,
          699400,
          700001,
          700525,
          702145,
          702325,
          703523,
          704511,
          705745,
          706148,
          706736,
          708035,
          708576,
          709471,
          710315,
          711990,
          712266,
          713100,
          714118,
          715016,
          715599,
          717021,
          717430,
          718333,
          719799,
          720679,
          721551,
          722570,
          723034,
          724022,
          725206,
          726164,
          726813,
          728033,
          728695,
          729641,
          730035,
          731359,
          732415,
          733164,
          733623,
          734593,
          735812,
          736082,
          737464,
          738635,
          739056,
          740336,
          740561,
          741641,
          742948,
          743723,
          744107,
          745750,
          746766,
          747005,
          748555,
          749144,
          750229,
          751059,
          751672,
          752816,
          753178,
          754374,
          755260,
          756379,
          756772,
          757699,
          758883,
          760115,
          760367,
          761260,
          762352,
          763498,
          763791,
          764880,
          766315,
          767271,
          767510,
          768475,
          769922,
          770086,
          770837,
          772148,
          772920,
          774148,
          775132,
          776127,
          776883,
          777905,
          778408,
          778922,
          779748,
          781257,
          782212,
          782521,
          783329,
          784919,
          785867,
          786599,
          787356,
          788033,
          789450,
          790119,
          791102,
          791455,
          792348,
          793736,
          794291,
          794936,
          795976,
          796975,
          797824,
          798508,
          800158,
          800328,
          801955,
          802741,
          803013,
          804696,
          805584,
          806055,
          806589,
          807757,
          809007,
          809478,
          810495,
          811163,
          812033,
          813585,
          814073,
          815162,
          816248,
          816569,
          817244,
          818406,
          819347,
          820172,
          820939,
          821632,
          823276,
          823983,
          824698,
          825676,
          826723,
          827731,
          828167,
          828879,
          829693,
          830769,
          831787,
          832631,
          833883,
          834925,
          835456,
          836516,
          837353,
          838205,
          839050,
          840218,
          840935,
          841443,
          842687,
          843342,
          844546,
          845189,
          845781,
          846956,
          848077,
          849207,
          850019,
          850323,
          851272,
          852216,
          853003,
          854567,
          855224,
          855813,
          856657,
          857376,
          858834,
          859605,
          860311,
          861473,
          862234,
          863471,
          863981,
          864559,
          866087,
          866319,
          867354,
          868528,
          869295,
          870219,
          870645,
          872110,
          873042,
          873469,
          874209,
          875100,
          876188,
          877097,
          877974,
          879476,
          879954,
          880807,
          881361,
          883015,
          884010,
          884520,
          885088,
          886682,
          887574,
          888427,
          889167,
          889359
         ],
         "xaxis": "x2",
         "y": {
          "dtype": "float64",
          "shape": [
           1000
          ],
          "value": {}
         }
        },
        {
         "line": {
          "color": "blue"
         },
         "name": "<b style=\"color:sandybrown\">[R]</b> Center <i style=\"color:#fc9944\">~890</i>",
         "opacity": 0.5,
         "type": "scattergl",
         "uid": "82ad2b95-e686-429a-9764-c416384d068c",
         "x": [
          0,
          891,
          1782,
          2673,
          3564,
          4455,
          5346,
          6237,
          7129,
          8020,
          8911,
          9802,
          10693,
          11584,
          12475,
          13367,
          14258,
          15149,
          16040,
          16931,
          17822,
          18713,
          19605,
          20496,
          21387,
          22278,
          23169,
          24060,
          24951,
          25843,
          26539,
          26741,
          28113,
          28668,
          30298,
          31184,
          31738,
          32384,
          33213,
          34070,
          34759,
          36232,
          37337,
          38168,
          38830,
          39686,
          40702,
          41624,
          42156,
          43524,
          44057,
          44989,
          45828,
          47088,
          47989,
          48493,
          49479,
          50280,
          51097,
          52389,
          53355,
          54062,
          54984,
          55818,
          56274,
          57739,
          58275,
          58927,
          60528,
          61226,
          61564,
          62748,
          63977,
          64989,
          65282,
          66128,
          67001,
          67835,
          68797,
          69878,
          71258,
          72044,
          72528,
          73240,
          73971,
          75201,
          76016,
          77043,
          77633,
          78927,
          79892,
          80637,
          81761,
          82556,
          83283,
          83863,
          84881,
          86034,
          86441,
          88222,
          89062,
          89658,
          90780,
          91705,
          91984,
          92897,
          93612,
          95334,
          95568,
          96507,
          97706,
          98727,
          99603,
          100486,
          101092,
          102220,
          102828,
          103652,
          104964,
          105241,
          106513,
          107123,
          108337,
          109143,
          109852,
          110790,
          111409,
          112741,
          113603,
          114837,
          115779,
          116157,
          117110,
          117898,
          118957,
          120032,
          120563,
          121957,
          122571,
          123060,
          123966,
          125486,
          126534,
          127133,
          128256,
          128553,
          129405,
          130497,
          131393,
          131982,
          133551,
          133684,
          135438,
          135968,
          136530,
          137666,
          138575,
          139601,
          140058,
          141186,
          141748,
          143129,
          144364,
          145104,
          145483,
          146526,
          147813,
          148494,
          149111,
          149984,
          150843,
          151994,
          152668,
          153281,
          154179,
          155701,
          156197,
          157203,
          158480,
          158817,
          160186,
          161016,
          161671,
          162962,
          163853,
          164201,
          164946,
          165930,
          167090,
          168266,
          168672,
          169689,
          170736,
          171641,
          172020,
          173171,
          174428,
          174948,
          176157,
          177262,
          177854,
          178846,
          179478,
          180270,
          181470,
          182359,
          182972,
          183740,
          185353,
          185912,
          186396,
          187936,
          188485,
          189579,
          190134,
          190994,
          192253,
          192566,
          193821,
          194791,
          195447,
          196856,
          197791,
          198721,
          199594,
          200259,
          201324,
          202245,
          202646,
          203980,
          204861,
          205659,
          206378,
          207052,
          208344,
          209378,
          210215,
          210884,
          211912,
          212625,
          213408,
          214432,
          214786,
          216270,
          217254,
          217546,
          218487,
          220041,
          220980,
          221887,
          222328,
          223610,
          224189,
          225225,
          225876,
          227066,
          227770,
          228938,
          229901,
          230150,
          231260,
          232133,
          233028,
          233984,
          234659,
          235380,
          236375,
          237933,
          238594,
          239153,
          240230,
          241313,
          242324,
          243268,
          243386,
          245009,
          245491,
          246566,
          247431,
          248083,
          248629,
          249900,
          250859,
          251893,
          252675,
          253658,
          254295,
          255056,
          255838,
          257231,
          257971,
          258670,
          259601,
          260521,
          261961,
          262855,
          263732,
          264519,
          265132,
          266403,
          266783,
          267908,
          268319,
          269799,
          270402,
          271078,
          272440,
          273303,
          274298,
          274656,
          275983,
          276437,
          277377,
          278430,
          279706,
          280427,
          281454,
          281915,
          283206,
          284249,
          284516,
          285931,
          286931,
          287769,
          288503,
          289576,
          290140,
          291365,
          291977,
          292912,
          293770,
          294740,
          295485,
          296747,
          297597,
          298048,
          298992,
          299429,
          300741,
          301434,
          302435,
          303013,
          304707,
          305437,
          305944,
          306865,
          307775,
          308452,
          309685,
          310589,
          311315,
          312345,
          313468,
          314537,
          315463,
          316169,
          316718,
          317902,
          318764,
          319634,
          320257,
          321689,
          322022,
          322958,
          323536,
          324822,
          325313,
          326794,
          327571,
          328035,
          329120,
          329754,
          331095,
          332180,
          333185,
          333554,
          334801,
          335795,
          336222,
          337531,
          338554,
          339189,
          339908,
          341298,
          342180,
          342314,
          343379,
          344259,
          345425,
          346194,
          347068,
          347889,
          348940,
          349810,
          350857,
          351362,
          352396,
          353782,
          354103,
          355555,
          356291,
          357239,
          357812,
          358413,
          359839,
          360153,
          361795,
          362235,
          363517,
          364120,
          364573,
          365666,
          367147,
          367430,
          368932,
          369475,
          370359,
          370833,
          372214,
          373117,
          373623,
          374907,
          376027,
          376952,
          377690,
          378332,
          379391,
          379777,
          380695,
          381591,
          382497,
          383974,
          384521,
          385227,
          385866,
          387541,
          388059,
          389152,
          389691,
          390670,
          391484,
          392376,
          393015,
          394531,
          395666,
          396482,
          397114,
          398065,
          398770,
          399651,
          400748,
          401411,
          402195,
          402830,
          404321,
          405260,
          405909,
          406558,
          407257,
          408766,
          409482,
          410535,
          411055,
          412059,
          412738,
          413764,
          414915,
          416124,
          417046,
          417559,
          418514,
          419041,
          420177,
          420798,
          421838,
          422490,
          423657,
          424338,
          425461,
          426561,
          427212,
          427860,
          429016,
          429588,
          430427,
          432079,
          433082,
          433734,
          433986,
          435377,
          436544,
          436815,
          437951,
          438988,
          440223,
          440826,
          441611,
          442783,
          443225,
          444260,
          445074,
          446100,
          446550,
          447364,
          448650,
          449851,
          450646,
          451554,
          452584,
          453386,
          454481,
          455059,
          455912,
          456496,
          457679,
          458504,
          459814,
          460241,
          460951,
          461983,
          463111,
          463921,
          464940,
          465501,
          466590,
          466997,
          468339,
          469320,
          469783,
          471370,
          471799,
          472663,
          473253,
          474958,
          475680,
          476388,
          477651,
          478177,
          479113,
          479933,
          480615,
          481372,
          482208,
          483202,
          484023,
          485642,
          486553,
          486778,
          487488,
          488615,
          489526,
          490297,
          491453,
          492771,
          493127,
          493692,
          494871,
          496327,
          496723,
          498089,
          498336,
          499041,
          500813,
          501360,
          501830,
          503433,
          504246,
          505243,
          506165,
          506475,
          507066,
          508247,
          509014,
          510479,
          511442,
          512048,
          513218,
          513909,
          514720,
          515561,
          516751,
          517551,
          518274,
          519364,
          520023,
          520564,
          521928,
          522711,
          523542,
          524268,
          525756,
          526529,
          526724,
          528350,
          529091,
          530169,
          530629,
          531413,
          532721,
          532983,
          534276,
          535468,
          535982,
          537109,
          537655,
          538260,
          539459,
          540830,
          541257,
          542097,
          543583,
          544086,
          544962,
          545684,
          546861,
          547605,
          548830,
          549326,
          550668,
          551584,
          551955,
          552533,
          553420,
          554515,
          555847,
          556475,
          557538,
          558693,
          559118,
          559647,
          560593,
          561464,
          562443,
          564091,
          564454,
          565373,
          566446,
          567544,
          568547,
          569400,
          569504,
          570936,
          572036,
          572555,
          573233,
          574740,
          575674,
          576011,
          576713,
          578082,
          578644,
          579805,
          580577,
          581311,
          582478,
          583098,
          583697,
          585238,
          586184,
          587006,
          587521,
          588705,
          589859,
          589959,
          591324,
          592429,
          593188,
          594019,
          594727,
          595633,
          596399,
          597648,
          598230,
          598951,
          600124,
          600749,
          601815,
          603032,
          603302,
          604728,
          605317,
          606604,
          607113,
          607891,
          608681,
          610266,
          611160,
          612202,
          612650,
          613962,
          614200,
          615534,
          616300,
          617342,
          618150,
          619067,
          619770,
          620586,
          621467,
          622461,
          623257,
          624649,
          625212,
          625610,
          626998,
          627392,
          629073,
          629707,
          630545,
          631818,
          632311,
          632962,
          634148,
          635227,
          635527,
          637118,
          637889,
          638732,
          639205,
          640510,
          641246,
          641823,
          643230,
          643863,
          644555,
          645804,
          646131,
          647067,
          648359,
          649290,
          650135,
          650731,
          652185,
          652810,
          653760,
          654256,
          655068,
          656217,
          657082,
          658407,
          658848,
          659499,
          660685,
          661764,
          662210,
          663406,
          664116,
          665523,
          666572,
          667255,
          668294,
          668909,
          669683,
          670302,
          671898,
          672164,
          673091,
          673768,
          675480,
          675987,
          676861,
          677303,
          678443,
          679842,
          680185,
          681605,
          682540,
          683291,
          684395,
          684880,
          685469,
          686632,
          687305,
          688576,
          689336,
          690313,
          690663,
          691612,
          692880,
          694085,
          694597,
          695559,
          695981,
          697382,
          698433,
          699435,
          700186,
          701055,
          701823,
          702258,
          703674,
          704579,
          705338,
          706108,
          707565,
          708013,
          709077,
          709828,
          710289,
          711672,
          712912,
          713391,
          714158,
          715223,
          715873,
          716665,
          717617,
          718347,
          720038,
          720352,
          721556,
          722266,
          723269,
          724238,
          725170,
          726258,
          726921,
          727846,
          728895,
          729028,
          730393,
          731574,
          732315,
          733359,
          733851,
          734657,
          735925,
          736221,
          736974,
          738211,
          739437,
          739856,
          741356,
          741989,
          742970,
          743734,
          744147,
          745091,
          746262,
          747185,
          748323,
          749270,
          750163,
          750919,
          751707,
          752856,
          753891,
          754495,
          755477,
          756354,
          756987,
          757919,
          758875,
          760004,
          760688,
          761260,
          762100,
          763707,
          764016,
          764895,
          766334,
          767123,
          768061,
          769032,
          769749,
          770299,
          771119,
          772016,
          772645,
          773590,
          775121,
          776023,
          776277,
          777195,
          778357,
          779183,
          780384,
          781032,
          782164,
          783100,
          783805,
          784892,
          785837,
          786240,
          787577,
          788430,
          788660,
          790415,
          790685,
          791943,
          792265,
          793520,
          794756,
          795602,
          796125,
          796826,
          797824,
          798713,
          800025,
          800857,
          801666,
          802754,
          803432,
          804087,
          804926,
          805719,
          807269,
          807963,
          808701,
          809742,
          810493,
          811827,
          812417,
          813014,
          814267,
          814586,
          816093,
          816465,
          817202,
          818587,
          819493,
          819936,
          820858,
          822510,
          823363,
          824294,
          824361,
          825339,
          826457,
          827153,
          828172,
          829333,
          829879,
          831072,
          831752,
          832632,
          833733,
          834671,
          835676,
          836209,
          837107,
          838241,
          839400,
          840247,
          840806,
          841237,
          842675,
          843739,
          844780,
          845397,
          846428,
          846953,
          847821,
          848736,
          849746,
          850638,
          851314,
          852010,
          853213,
          853999,
          854860,
          856217,
          856882,
          857766,
          858422,
          859906,
          860769,
          861340,
          862310,
          863467,
          864222,
          864859,
          865680,
          866634,
          867687,
          868387,
          869389,
          870417,
          870745,
          871970,
          872807,
          873481,
          874395,
          875927,
          876607,
          877544,
          878288,
          879481,
          879759,
          880447,
          881410,
          882229,
          883754,
          884631,
          885131,
          886443,
          887530,
          887702,
          888865,
          889359
         ],
         "xaxis": "x2",
         "y": {
          "dtype": "float64",
          "shape": [
           1000
          ],
          "value": {}
         }
        },
        {
         "line": {
          "color": "red",
          "dash": "dot"
         },
         "name": "<b style=\"color:sandybrown\">[R]</b> qA <i style=\"color:#fc9944\">~890</i>",
         "opacity": 0.5,
         "type": "scattergl",
         "uid": "a8469bc2-de4b-4bcb-95d6-195371badf4e",
         "x": [
          0,
          891,
          1782,
          2673,
          3564,
          4455,
          5346,
          6237,
          7129,
          8020,
          8911,
          9802,
          10693,
          11584,
          12475,
          13367,
          14258,
          15149,
          16040,
          16931,
          17822,
          18713,
          19605,
          20496,
          21387,
          22278,
          23169,
          24060,
          24951,
          25843,
          26698,
          26878,
          28205,
          29403,
          30056,
          30795,
          31738,
          32384,
          33863,
          34454,
          35310,
          35919,
          37181,
          38168,
          38830,
          39975,
          40702,
          41344,
          42588,
          42984,
          43872,
          45329,
          46318,
          47007,
          47692,
          48234,
          49069,
          50289,
          51080,
          52390,
          53355,
          54062,
          54819,
          55824,
          56264,
          57528,
          58275,
          58927,
          60597,
          60663,
          61494,
          62748,
          63757,
          64744,
          65434,
          66365,
          67084,
          68149,
          69423,
          69780,
          71169,
          72044,
          72796,
          73666,
          74585,
          75619,
          76452,
          76784,
          77633,
          78927,
          80034,
          80705,
          81761,
          82355,
          83283,
          84406,
          84881,
          86034,
          87233,
          87672,
          89062,
          89812,
          90722,
          91215,
          91987,
          93254,
          93612,
          95328,
          96101,
          96525,
          97706,
          98700,
          99462,
          100309,
          100699,
          102016,
          102683,
          104061,
          104952,
          105759,
          106513,
          107271,
          108653,
          108927,
          110019,
          110965,
          111409,
          112573,
          113175,
          114761,
          115844,
          116635,
          117630,
          118267,
          119382,
          120292,
          120887,
          121957,
          122209,
          123615,
          124306,
          125455,
          125995,
          126774,
          127874,
          129215,
          129798,
          130561,
          131395,
          132206,
          133580,
          133684,
          135409,
          135596,
          136613,
          137666,
          138614,
          139601,
          140058,
          141353,
          141825,
          143306,
          143928,
          145104,
          146050,
          146821,
          147817,
          148494,
          149220,
          150152,
          150843,
          152005,
          153112,
          153281,
          154536,
          155896,
          156449,
          157363,
          157859,
          158744,
          159880,
          161190,
          161933,
          162962,
          163853,
          164201,
          165146,
          166259,
          167447,
          167927,
          168778,
          169666,
          171012,
          171641,
          172608,
          173059,
          174289,
          174993,
          176157,
          177316,
          178184,
          178846,
          179926,
          180270,
          180939,
          182359,
          182972,
          183644,
          184875,
          186126,
          187113,
          187936,
          188305,
          188945,
          190365,
          190994,
          192253,
          192907,
          193830,
          194387,
          195447,
          196627,
          197791,
          198723,
          199594,
          200259,
          200616,
          201886,
          202604,
          203357,
          204861,
          205659,
          206531,
          207467,
          207757,
          208779,
          209810,
          211197,
          211652,
          212555,
          213560,
          214432,
          215643,
          216421,
          217254,
          217851,
          218413,
          220041,
          220554,
          221893,
          222502,
          223610,
          224189,
          225225,
          225887,
          227053,
          227379,
          228553,
          229901,
          230805,
          231100,
          231776,
          233028,
          233984,
          234996,
          235665,
          236375,
          237464,
          238594,
          238834,
          239927,
          241494,
          242091,
          242876,
          243919,
          245009,
          245442,
          246091,
          247337,
          248391,
          249098,
          250331,
          250611,
          251816,
          252257,
          253945,
          254640,
          255072,
          255901,
          257231,
          258298,
          259321,
          260212,
          260800,
          261914,
          262862,
          263188,
          264171,
          265238,
          265704,
          266783,
          267921,
          269025,
          269799,
          270692,
          271281,
          272429,
          273303,
          274298,
          275201,
          276244,
          276867,
          277947,
          278143,
          279522,
          280427,
          281454,
          281915,
          283122,
          283892,
          284510,
          285355,
          286931,
          287794,
          288503,
          289400,
          289869,
          291256,
          291765,
          292933,
          293699,
          294571,
          295378,
          296258,
          297182,
          297808,
          298609,
          299580,
          300362,
          301434,
          302811,
          303517,
          304725,
          305382,
          306241,
          307071,
          307775,
          308452,
          309637,
          310459,
          311812,
          312620,
          313468,
          314395,
          315214,
          316169,
          316718,
          317902,
          318514,
          319470,
          320001,
          321252,
          322022,
          322924,
          323568,
          324410,
          325267,
          326653,
          327637,
          328357,
          329122,
          329793,
          330866,
          331912,
          333078,
          334177,
          334952,
          335959,
          336222,
          336995,
          338433,
          339204,
          339897,
          341230,
          342180,
          342805,
          343459,
          344478,
          345627,
          346194,
          347086,
          347889,
          348940,
          349815,
          350858,
          351476,
          352543,
          353141,
          354447,
          355556,
          356291,
          357240,
          357489,
          359129,
          359436,
          360494,
          361794,
          362464,
          362864,
          363787,
          364820,
          365666,
          366259,
          367167,
          368932,
          369475,
          370118,
          370833,
          371724,
          373117,
          373781,
          374426,
          375987,
          376389,
          377843,
          378332,
          379623,
          380094,
          380817,
          382168,
          382536,
          384081,
          384670,
          385699,
          386225,
          387092,
          388300,
          389059,
          389691,
          390400,
          391211,
          392220,
          393691,
          394235,
          395666,
          396011,
          397252,
          398065,
          398770,
          399651,
          400437,
          401408,
          402694,
          403067,
          404336,
          404649,
          406235,
          406677,
          408003,
          408865,
          409377,
          410442,
          411275,
          411978,
          412738,
          414058,
          415032,
          416134,
          416552,
          417177,
          418039,
          419585,
          420437,
          420798,
          421642,
          422491,
          423680,
          424845,
          425327,
          426832,
          427429,
          427962,
          428685,
          429901,
          431125,
          431816,
          432506,
          433880,
          434790,
          435765,
          436115,
          436815,
          437812,
          438665,
          439414,
          440777,
          441611,
          442783,
          443413,
          444122,
          444988,
          446429,
          446484,
          447364,
          448650,
          449759,
          450646,
          451554,
          452582,
          453528,
          454339,
          455217,
          455870,
          456515,
          457385,
          458801,
          459814,
          460241,
          461571,
          462078,
          462543,
          463921,
          465039,
          465501,
          466863,
          467073,
          468339,
          469320,
          469786,
          471013,
          471799,
          472663,
          473253,
          474958,
          475680,
          476388,
          477135,
          478177,
          479260,
          479660,
          480781,
          482017,
          482617,
          483202,
          484163,
          485041,
          486238,
          486778,
          488092,
          488615,
          489984,
          490422,
          491576,
          492038,
          493534,
          494231,
          494966,
          496323,
          497256,
          497907,
          498336,
          499274,
          500453,
          500821,
          501830,
          503316,
          504289,
          505120,
          506165,
          506677,
          507357,
          508247,
          509308,
          510623,
          511443,
          512090,
          513073,
          513564,
          514713,
          515561,
          516264,
          517551,
          518465,
          519187,
          520416,
          520843,
          521928,
          522966,
          523542,
          524613,
          525070,
          526332,
          527353,
          528059,
          529337,
          529749,
          530893,
          531610,
          532884,
          533128,
          534495,
          535575,
          535982,
          536987,
          538182,
          539113,
          539755,
          540830,
          541435,
          542097,
          543241,
          544086,
          544525,
          545671,
          546861,
          547809,
          548942,
          549724,
          550724,
          551131,
          552404,
          553021,
          553754,
          555091,
          555847,
          556196,
          557538,
          558694,
          559118,
          560213,
          561418,
          561736,
          562600,
          563764,
          564094,
          565373,
          566446,
          567544,
          568468,
          569208,
          569887,
          570616,
          572036,
          572563,
          573266,
          574338,
          575251,
          575741,
          576770,
          578082,
          578951,
          580067,
          580888,
          581896,
          582616,
          583695,
          584248,
          585287,
          585655,
          587261,
          588001,
          588705,
          589934,
          590134,
          590876,
          592411,
          593188,
          593903,
          594493,
          595681,
          596423,
          597178,
          598476,
          599409,
          600306,
          601141,
          602167,
          603032,
          603302,
          604619,
          605178,
          606604,
          607277,
          607891,
          609539,
          610232,
          610929,
          612187,
          612442,
          613275,
          614028,
          615300,
          616210,
          617345,
          617935,
          618947,
          619770,
          620586,
          621885,
          622713,
          623541,
          624441,
          625062,
          626306,
          626728,
          628009,
          628835,
          629889,
          630769,
          631818,
          632311,
          632775,
          634470,
          635227,
          635673,
          637165,
          637340,
          638724,
          639603,
          640510,
          641246,
          642310,
          643230,
          643863,
          644915,
          645625,
          646326,
          647546,
          648359,
          649290,
          650135,
          650562,
          652185,
          652954,
          654096,
          654454,
          655610,
          656574,
          657306,
          658170,
          658848,
          659628,
          660842,
          661790,
          662552,
          663341,
          664395,
          665677,
          666572,
          667211,
          668074,
          668893,
          669527,
          670715,
          671898,
          672544,
          673680,
          674583,
          675480,
          675999,
          677264,
          678100,
          678980,
          679842,
          680830,
          681605,
          682540,
          683291,
          684395,
          684880,
          685469,
          686387,
          687070,
          688693,
          689515,
          690319,
          690663,
          692293,
          692880,
          694156,
          694897,
          695579,
          695981,
          697243,
          698433,
          699474,
          700199,
          701327,
          702192,
          702364,
          703445,
          704863,
          705621,
          706136,
          707334,
          708456,
          709244,
          710222,
          710507,
          711263,
          712912,
          713510,
          713936,
          714800,
          716195,
          716898,
          717992,
          718972,
          720041,
          720256,
          721461,
          722246,
          723336,
          724276,
          725333,
          725865,
          726919,
          727848,
          728869,
          729798,
          730393,
          730740,
          732141,
          732854,
          733849,
          735073,
          735889,
          736221,
          736974,
          738365,
          738779,
          739711,
          741087,
          742184,
          743146,
          743677,
          744142,
          745672,
          746511,
          747462,
          748323,
          749080,
          749896,
          751139,
          751604,
          752469,
          753277,
          754335,
          755037,
          755983,
          756757,
          757548,
          759244,
          759641,
          760929,
          761508,
          762426,
          763707,
          764065,
          765314,
          766334,
          767250,
          767715,
          768892,
          769944,
          770304,
          770973,
          772016,
          772645,
          773997,
          775129,
          775586,
          776217,
          777657,
          778303,
          779183,
          779989,
          781257,
          782164,
          782650,
          783516,
          784316,
          785836,
          786521,
          787768,
          788430,
          789510,
          789933,
          790685,
          791943,
          793063,
          793568,
          794756,
          795602,
          796125,
          796826,
          797824,
          798940,
          799360,
          800857,
          802008,
          802754,
          802952,
          804197,
          805182,
          805719,
          807269,
          807844,
          808701,
          809742,
          810493,
          811827,
          812280,
          813136,
          814134,
          814602,
          815701,
          817082,
          817975,
          818956,
          819798,
          819936,
          821284,
          821917,
          823363,
          824282,
          824673,
          825393,
          826457,
          827433,
          828281,
          829397,
          830376,
          831072,
          831689,
          832498,
          833633,
          834671,
          835676,
          836099,
          837087,
          837782,
          838764,
          839673,
          840804,
          841926,
          842819,
          843345,
          844646,
          845535,
          846428,
          846953,
          847828,
          848697,
          849723,
          850149,
          851242,
          852516,
          853607,
          854599,
          855328,
          856095,
          856769,
          857608,
          858819,
          859909,
          860409,
          861297,
          862623,
          863435,
          864189,
          864859,
          865957,
          867014,
          867961,
          868721,
          869251,
          869753,
          871503,
          872243,
          872802,
          873490,
          874395,
          875783,
          876378,
          877220,
          878607,
          879265,
          880059,
          880974,
          882018,
          882374,
          883470,
          884419,
          885378,
          886624,
          887294,
          887593,
          888771,
          889359
         ],
         "xaxis": "x2",
         "y": {
          "dtype": "float64",
          "shape": [
           1000
          ],
          "value": {}
         }
        },
        {
         "line": {
          "color": "green",
          "dash": "dot"
         },
         "name": "<b style=\"color:sandybrown\">[R]</b> qB <i style=\"color:#fc9944\">~890</i>",
         "opacity": 0.5,
         "type": "scattergl",
         "uid": "e27747c3-c0ef-4b06-91aa-e9fe87977dfd",
         "x": [
          0,
          891,
          1782,
          2673,
          3564,
          4455,
          5346,
          6237,
          7129,
          8020,
          8911,
          9802,
          10693,
          11584,
          12475,
          13367,
          14258,
          15149,
          16040,
          16931,
          17822,
          18713,
          19605,
          20496,
          21387,
          22278,
          23169,
          24060,
          24951,
          25843,
          26536,
          26741,
          28440,
          29134,
          30298,
          31184,
          31656,
          32399,
          33213,
          34731,
          35310,
          36232,
          37337,
          38168,
          38830,
          40043,
          40869,
          41558,
          42156,
          43654,
          44349,
          45275,
          46334,
          46820,
          47772,
          48864,
          49479,
          50271,
          51503,
          52166,
          53196,
          53469,
          54449,
          55689,
          56400,
          57750,
          58193,
          58921,
          60489,
          61248,
          61564,
          63246,
          64139,
          64541,
          65719,
          66489,
          67662,
          68513,
          69481,
          69944,
          71118,
          71770,
          72528,
          73240,
          73971,
          75740,
          76273,
          77043,
          78029,
          78927,
          79892,
          80611,
          81761,
          82556,
          83119,
          84271,
          84975,
          86315,
          87103,
          88222,
          88585,
          89115,
          90780,
          91705,
          92320,
          93433,
          94199,
          95085,
          96243,
          96658,
          97520,
          98027,
          99067,
          100176,
          101587,
          102471,
          102828,
          103773,
          104789,
          105998,
          106513,
          107740,
          108705,
          109143,
          109739,
          110804,
          111502,
          112357,
          113607,
          114837,
          115848,
          116676,
          117627,
          117898,
          118957,
          120032,
          120921,
          121957,
          122571,
          123655,
          124547,
          125578,
          126523,
          127133,
          127545,
          129128,
          129658,
          130497,
          131138,
          131988,
          133551,
          133684,
          134793,
          135724,
          136530,
          137666,
          138249,
          139400,
          140297,
          140933,
          142360,
          143129,
          144346,
          144547,
          146002,
          146526,
          147090,
          148206,
          148842,
          149751,
          150603,
          152265,
          152907,
          154167,
          154540,
          155834,
          156369,
          157203,
          158503,
          158817,
          159841,
          160999,
          161647,
          162817,
          163938,
          164855,
          165278,
          166114,
          167337,
          168378,
          169024,
          169689,
          170696,
          171641,
          172863,
          173171,
          174428,
          174933,
          176298,
          177095,
          178008,
          178846,
          179714,
          180270,
          181063,
          181982,
          182734,
          183740,
          185353,
          186167,
          186979,
          187936,
          188351,
          189579,
          190407,
          191482,
          192301,
          193021,
          193405,
          194791,
          195396,
          196516,
          197612,
          198214,
          199487,
          200392,
          201233,
          201827,
          202387,
          203253,
          204273,
          205451,
          206041,
          207309,
          208507,
          209405,
          210231,
          210727,
          211912,
          212625,
          213516,
          214660,
          215358,
          216050,
          216934,
          217776,
          218487,
          219775,
          220389,
          221783,
          222754,
          223046,
          223820,
          225093,
          226196,
          227238,
          227770,
          228364,
          229303,
          229982,
          230917,
          232133,
          233028,
          234119,
          234659,
          236075,
          236622,
          237286,
          238426,
          239153,
          240470,
          241301,
          242324,
          243262,
          244161,
          245009,
          245549,
          246572,
          247299,
          248322,
          248776,
          249520,
          250668,
          251893,
          252675,
          253658,
          254810,
          255714,
          256167,
          257231,
          257959,
          258670,
          259725,
          260965,
          261972,
          262817,
          263736,
          263823,
          264963,
          266016,
          267007,
          267687,
          268927,
          269714,
          270168,
          271213,
          271926,
          272689,
          273971,
          275032,
          275983,
          277012,
          277787,
          278587,
          279212,
          280595,
          281423,
          281737,
          282502,
          283695,
          284516,
          285285,
          286369,
          287769,
          288503,
          289303,
          290112,
          291367,
          291995,
          292298,
          293773,
          294886,
          295485,
          296248,
          297102,
          297941,
          298764,
          299714,
          300331,
          301942,
          302734,
          303500,
          304707,
          305168,
          305946,
          306865,
          308092,
          309202,
          310107,
          310818,
          311692,
          312788,
          313358,
          314350,
          314945,
          315724,
          316649,
          317498,
          318767,
          319755,
          320257,
          321700,
          322022,
          322955,
          323536,
          324815,
          325361,
          326794,
          327553,
          327971,
          328991,
          329754,
          331069,
          332143,
          333185,
          333504,
          334703,
          335563,
          336268,
          337742,
          338579,
          339123,
          339928,
          340425,
          342018,
          342430,
          343533,
          344527,
          345296,
          346124,
          347502,
          348325,
          348940,
          350043,
          350571,
          351353,
          352507,
          353240,
          354103,
          355555,
          356291,
          357347,
          357812,
          358963,
          359839,
          360694,
          361763,
          361841,
          363517,
          364187,
          365155,
          365666,
          366962,
          367832,
          368932,
          369475,
          370359,
          370729,
          372148,
          372733,
          374039,
          374909,
          376027,
          376947,
          377552,
          378360,
          379238,
          379658,
          381005,
          382283,
          382690,
          384007,
          384527,
          385769,
          386367,
          387546,
          388059,
          389320,
          389691,
          390735,
          391518,
          392464,
          393015,
          394261,
          395050,
          395982,
          396941,
          397985,
          398720,
          399620,
          400926,
          401642,
          402271,
          403146,
          404417,
          405311,
          405898,
          406700,
          407945,
          408916,
          409471,
          410053,
          411055,
          412059,
          412750,
          413731,
          415019,
          416124,
          416939,
          417559,
          418378,
          419634,
          420202,
          420798,
          421867,
          422482,
          423861,
          425057,
          425941,
          426561,
          427172,
          427840,
          429529,
          430265,
          430908,
          432079,
          433082,
          433734,
          434222,
          435377,
          436546,
          436908,
          437740,
          438525,
          440154,
          441113,
          441733,
          442524,
          443164,
          444242,
          445134,
          446018,
          446587,
          447949,
          449057,
          449547,
          450188,
          451354,
          452529,
          453579,
          454270,
          455362,
          455770,
          457014,
          457489,
          458937,
          459828,
          460241,
          460951,
          461611,
          463060,
          464261,
          464569,
          465501,
          466590,
          466997,
          467864,
          468959,
          469691,
          471370,
          471799,
          472663,
          473253,
          474769,
          475293,
          476760,
          477651,
          478184,
          479113,
          479941,
          480623,
          481899,
          482967,
          483553,
          484529,
          485589,
          486553,
          486778,
          488138,
          489236,
          489535,
          490798,
          491135,
          492154,
          493236,
          493746,
          495377,
          496126,
          497239,
          497517,
          498825,
          499407,
          500813,
          501125,
          502594,
          502789,
          504385,
          504994,
          505356,
          506268,
          507318,
          508018,
          509217,
          510217,
          510920,
          511794,
          512626,
          513433,
          514720,
          515091,
          516842,
          517076,
          518428,
          519140,
          519998,
          520564,
          521374,
          523098,
          523980,
          524457,
          525756,
          526529,
          527410,
          528271,
          529295,
          530196,
          530880,
          531746,
          532771,
          533300,
          534286,
          534945,
          535577,
          537109,
          537655,
          538260,
          539625,
          540167,
          541257,
          541926,
          543583,
          544234,
          544965,
          546268,
          547074,
          547247,
          548830,
          549326,
          550149,
          551604,
          551955,
          552854,
          553571,
          554821,
          555353,
          556475,
          557786,
          558693,
          559620,
          560138,
          560960,
          561517,
          562443,
          563502,
          564245,
          565150,
          566553,
          567205,
          568187,
          568881,
          570071,
          570936,
          571816,
          572518,
          573359,
          574740,
          575330,
          575751,
          576713,
          578230,
          578894,
          579740,
          580781,
          581311,
          582196,
          583009,
          584075,
          585238,
          586184,
          586691,
          588054,
          588323,
          589860,
          590634,
          591324,
          592429,
          593227,
          593784,
          594727,
          595619,
          596598,
          597621,
          598573,
          598939,
          600095,
          601047,
          602136,
          602674,
          603302,
          604422,
          605928,
          606687,
          607679,
          607978,
          608896,
          610431,
          610808,
          612203,
          612634,
          613503,
          614293,
          615510,
          616464,
          617342,
          618017,
          619067,
          620022,
          620588,
          621534,
          622647,
          623292,
          624649,
          625580,
          626082,
          626846,
          628180,
          628936,
          629962,
          630859,
          631818,
          632038,
          633120,
          634148,
          635178,
          635642,
          637114,
          637889,
          638435,
          639205,
          640510,
          641521,
          642509,
          643023,
          643565,
          644555,
          645186,
          646459,
          647260,
          648359,
          649290,
          650135,
          650731,
          652183,
          653205,
          653779,
          654897,
          655131,
          656454,
          657593,
          658407,
          658848,
          659663,
          660660,
          661715,
          662816,
          663669,
          664610,
          665655,
          666484,
          667464,
          668074,
          669046,
          670115,
          670842,
          671721,
          672206,
          673702,
          674590,
          675121,
          675818,
          676376,
          678157,
          678914,
          679841,
          680377,
          681279,
          682121,
          683452,
          684395,
          684962,
          685470,
          686625,
          687317,
          688603,
          689629,
          690313,
          690663,
          691973,
          692922,
          694085,
          694597,
          695968,
          696743,
          697382,
          698255,
          698955,
          700186,
          701055,
          701680,
          702381,
          703763,
          704335,
          705084,
          706289,
          707482,
          707825,
          709077,
          709935,
          710688,
          711672,
          712900,
          713391,
          713943,
          715506,
          716283,
          717120,
          717802,
          718498,
          719334,
          720225,
          721556,
          722279,
          723308,
          724354,
          725030,
          726258,
          726750,
          727510,
          728895,
          729547,
          730616,
          731574,
          732126,
          732817,
          733942,
          734479,
          735305,
          736372,
          737622,
          738176,
          739322,
          739981,
          740538,
          742017,
          742714,
          743652,
          744884,
          745781,
          746566,
          747361,
          748136,
          749039,
          749779,
          750919,
          751707,
          752854,
          753478,
          754395,
          755477,
          756365,
          757003,
          757982,
          758964,
          759987,
          760688,
          761920,
          762179,
          763707,
          764016,
          764757,
          765829,
          767123,
          768026,
          769031,
          769749,
          770299,
          771079,
          772403,
          773385,
          774008,
          774865,
          776023,
          776511,
          777195,
          778357,
          779246,
          780299,
          781032,
          782306,
          783100,
          784094,
          784610,
          785691,
          786415,
          787048,
          787947,
          789548,
          790237,
          790684,
          791395,
          792683,
          793115,
          794762,
          795602,
          796507,
          796984,
          798374,
          798911,
          800104,
          801107,
          801666,
          802754,
          803227,
          804087,
          804707,
          805598,
          807350,
          807745,
          808688,
          809742,
          810929,
          811762,
          812417,
          812989,
          814271,
          814580,
          816083,
          816702,
          817462,
          818603,
          819296,
          819945,
          821377,
          822513,
          823038,
          824294,
          824333,
          825538,
          826568,
          827722,
          828465,
          829250,
          829879,
          831072,
          831730,
          832552,
          833414,
          834453,
          835821,
          836780,
          837671,
          838240,
          839357,
          840247,
          840828,
          841237,
          842549,
          843019,
          844203,
          845689,
          846482,
          847341,
          847976,
          848768,
          849814,
          850703,
          851314,
          852808,
          853132,
          853982,
          854624,
          856216,
          856882,
          857748,
          858422,
          859906,
          860788,
          861322,
          862421,
          863113,
          864222,
          864859,
          865742,
          866450,
          867798,
          868615,
          869263,
          870097,
          871502,
          872362,
          873194,
          873480,
          874490,
          875927,
          876137,
          877547,
          878288,
          879179,
          880234,
          881135,
          882224,
          883070,
          883754,
          884649,
          885154,
          886443,
          887574,
          888387,
          888865,
          889359
         ],
         "xaxis": "x2",
         "y": {
          "dtype": "float64",
          "shape": [
           1000
          ],
          "value": {}
         }
        },
        {
         "line": {
          "color": "black",
          "shape": "hv",
          "width": 8
         },
         "name": "Profit",
         "opacity": 0.1,
         "type": "scattergl",
         "uid": "9af5b423-2beb-4a14-a581-a2f80fefeaa5",
         "x": [
          99519,
          119515,
          135783,
          168088,
          225697,
          248900,
          349078,
          349078,
          404922,
          455037,
          533080,
          576237,
          633992,
          667184,
          682064,
          748408,
          764783,
          793114,
          813890,
          845060,
          860224
         ],
         "xaxis": "x2",
         "y": {
          "dtype": "float64",
          "shape": [
           21
          ],
          "value": {}
         },
         "yaxis": "y2"
        },
        {
         "marker": {
          "color": "green",
          "line": {
           "color": "darkgreen",
           "width": 1
          },
          "size": 10,
          "symbol": "triangle-up"
         },
         "mode": "markers",
         "name": "Buy",
         "type": "scattergl",
         "uid": "d7da4753-acf9-479a-81c1-2a9983b06422",
         "x": [
          73514,
          119516,
          168089,
          248901,
          404923,
          533081,
          633993,
          682065,
          764784,
          813891,
          119515,
          168088,
          248900,
          404922,
          533080,
          633992,
          682064,
          764783,
          813890,
          860224
         ],
         "xaxis": "x2",
         "y": {
          "dtype": "float64",
          "shape": [
           20
          ],
          "value": {}
         }
        },
        {
         "marker": {
          "color": "red",
          "line": {
           "color": "darkred",
           "width": 1
          },
          "size": 10,
          "symbol": "triangle-down"
         },
         "mode": "markers",
         "name": "Sell",
         "type": "scattergl",
         "uid": "f9c36eee-e29c-4ed3-8ac4-b73ec8c71c3d",
         "x": [
          99520,
          135784,
          225698,
          349079,
          455038,
          576238,
          667185,
          748409,
          793115,
          845061,
          99519,
          135783,
          225697,
          349078,
          455037,
          576237,
          667184,
          748408,
          793114,
          845060
         ],
         "xaxis": "x2",
         "y": {
          "dtype": "float64",
          "shape": [
           20
          ],
          "value": {}
         }
        },
        {
         "line": {
          "color": "orange"
         },
         "name": "<b style=\"color:sandybrown\">[R]</b> OSC <i style=\"color:#fc9944\">~890</i>",
         "opacity": 0.6,
         "type": "scattergl",
         "uid": "4e36a1a7-cb6f-42a2-9ea3-3102b4c05401",
         "x": [
          0,
          0,
          0,
          0,
          0,
          0,
          0,
          0,
          0,
          0,
          0,
          0,
          0,
          0,
          0,
          0,
          0,
          0,
          0,
          0,
          0,
          0,
          0,
          0,
          0,
          0,
          0,
          0,
          0,
          0,
          0,
          0,
          0,
          0,
          0,
          0,
          0,
          0,
          0,
          0,
          0,
          0,
          0,
          0,
          0,
          0,
          0,
          0,
          0,
          0,
          0,
          0,
          0,
          0,
          0,
          0,
          0,
          0,
          0,
          0,
          0,
          0,
          0,
          0,
          0,
          0,
          0,
          0,
          0,
          0,
          0,
          0,
          0,
          0,
          0,
          0,
          0,
          0,
          0,
          0,
          0,
          0,
          0,
          0,
          0,
          0,
          0,
          0,
          0,
          0,
          0,
          0,
          0,
          0,
          0,
          0,
          0,
          0,
          0,
          0,
          0,
          0,
          0,
          0,
          0,
          0,
          0,
          0,
          0,
          0,
          0,
          0,
          0,
          0,
          0,
          0,
          0,
          0,
          0,
          0,
          0,
          0,
          0,
          0,
          0,
          0,
          0,
          0,
          0,
          0,
          0,
          0,
          0,
          0,
          0,
          0,
          0,
          0,
          0,
          0,
          0,
          0,
          0,
          0,
          0,
          0,
          0,
          0,
          0,
          0,
          0,
          0,
          0,
          0,
          0,
          0,
          0,
          0,
          0,
          0,
          0,
          0,
          0,
          0,
          0,
          0,
          0,
          0,
          0,
          0,
          0,
          0,
          0,
          0,
          0,
          0,
          0,
          0,
          0,
          0,
          0,
          0,
          0,
          0,
          0,
          0,
          0,
          0,
          0,
          0,
          0,
          0,
          0,
          0,
          0,
          0,
          0,
          0,
          0,
          0,
          0,
          0,
          0,
          0,
          0,
          0,
          0,
          0,
          0,
          0,
          0,
          0,
          0,
          0,
          0,
          0,
          0,
          0,
          0,
          0,
          0,
          0,
          0,
          0,
          0,
          0,
          0,
          0,
          0,
          0,
          0,
          0,
          0,
          0,
          0,
          0,
          0,
          0,
          0,
          0,
          0,
          0,
          0,
          0,
          0,
          0,
          0,
          0,
          0,
          0,
          0,
          0,
          0,
          0,
          0,
          0,
          0,
          0,
          0,
          0,
          0,
          0,
          0,
          0,
          0,
          0,
          0,
          0,
          0,
          0,
          0,
          0,
          0,
          0,
          0,
          0,
          0,
          0,
          0,
          0,
          0,
          0,
          0,
          0,
          0,
          0,
          0,
          0,
          0,
          0,
          0,
          0,
          0,
          0,
          0,
          0,
          0,
          0,
          0,
          0,
          0,
          0,
          0,
          0,
          0,
          0,
          0,
          0,
          0,
          0,
          0,
          0,
          0,
          0,
          0,
          0,
          0,
          0,
          0,
          0,
          0,
          0,
          0,
          0,
          0,
          0,
          0,
          0,
          0,
          0,
          0,
          0,
          0,
          0,
          0,
          0,
          0,
          0,
          0,
          0,
          0,
          0,
          0,
          0,
          0,
          0,
          0,
          0,
          0,
          0,
          0,
          0,
          0,
          0,
          0,
          0,
          0,
          0,
          0,
          0,
          0,
          0,
          0,
          0,
          0,
          0,
          0,
          0,
          0,
          0,
          0,
          0,
          0,
          0,
          0,
          0,
          0,
          0,
          0,
          0,
          0,
          0,
          0,
          0,
          0,
          0,
          0,
          0,
          0,
          0,
          0,
          0,
          0,
          0,
          0,
          0,
          0,
          0,
          0,
          0,
          0,
          0,
          0,
          0,
          0,
          0,
          0,
          0,
          0,
          0,
          0,
          0,
          0,
          0,
          0,
          0,
          0,
          0,
          0,
          0,
          0,
          0,
          0,
          0,
          0,
          0,
          0,
          0,
          0,
          0,
          0,
          0,
          0,
          0,
          0,
          0,
          0,
          0,
          0,
          0,
          0,
          0,
          0,
          0,
          0,
          0,
          0,
          0,
          0,
          0,
          0,
          0,
          0,
          0,
          0,
          0,
          0,
          0,
          0,
          0,
          0,
          0,
          0,
          0,
          0,
          0,
          0,
          0,
          0,
          0,
          0,
          0,
          0,
          0,
          0,
          0,
          0,
          0,
          0,
          0,
          0,
          0,
          0,
          0,
          0,
          0,
          0,
          0,
          0,
          0,
          0,
          0,
          0,
          0,
          0,
          0,
          0,
          0,
          0,
          0,
          0,
          0,
          0,
          0,
          0,
          0,
          0,
          0,
          0,
          0,
          0,
          0,
          0,
          0,
          0,
          0,
          0,
          0,
          0,
          0,
          0,
          0,
          0,
          0,
          0,
          0,
          0,
          0,
          0,
          0,
          0,
          0,
          0,
          0,
          0,
          0,
          0,
          0,
          0,
          0,
          0,
          0,
          0,
          0,
          0,
          0,
          0,
          0,
          0,
          0,
          0,
          0,
          0,
          0,
          0,
          0,
          0,
          0,
          0,
          0,
          0,
          0,
          0,
          0,
          0,
          0,
          0,
          0,
          0,
          0,
          0,
          0,
          0,
          0,
          0,
          0,
          0,
          0,
          0,
          0,
          0,
          0,
          0,
          0,
          0,
          0,
          0,
          0,
          0,
          0,
          0,
          0,
          0,
          0,
          0,
          0,
          0,
          0,
          0,
          0,
          0,
          0,
          0,
          0,
          0,
          0,
          0,
          0,
          0,
          0,
          0,
          0,
          0,
          0,
          0,
          0,
          0,
          0,
          0,
          0,
          0,
          0,
          0,
          0,
          0,
          0,
          0,
          0,
          0,
          0,
          0,
          0,
          0,
          0,
          0,
          0,
          0,
          0,
          0,
          0,
          0,
          0,
          0,
          0,
          0,
          0,
          0,
          0,
          0,
          0,
          0,
          0,
          0,
          0,
          0,
          0,
          0,
          0,
          0,
          0,
          0,
          0,
          0,
          0,
          0,
          0,
          0,
          0,
          0,
          0,
          0,
          0,
          0,
          0,
          0,
          0,
          0,
          0,
          0,
          0,
          0,
          0,
          0,
          0,
          0,
          0,
          0,
          0,
          0,
          0,
          0,
          0,
          0,
          0,
          0,
          0,
          0,
          0,
          0,
          0,
          0,
          0,
          0,
          0,
          0,
          0,
          0,
          0,
          0,
          0,
          0,
          0,
          0,
          0,
          0,
          0,
          0,
          0,
          0,
          0,
          0,
          0,
          0,
          0,
          0,
          0,
          0,
          0,
          0,
          0,
          0,
          0,
          0,
          0,
          0,
          0,
          0,
          0,
          0,
          0,
          0,
          0,
          0,
          0,
          0,
          0,
          0,
          0,
          0,
          0,
          0,
          0,
          0,
          0,
          0,
          0,
          0,
          0,
          0,
          0,
          0,
          0,
          0,
          0,
          0,
          0,
          0,
          0,
          0,
          0,
          0,
          0,
          0,
          0,
          0,
          0,
          0,
          0,
          0,
          0,
          0,
          0,
          0,
          0,
          0,
          0,
          0,
          0,
          0,
          0,
          0,
          0,
          0,
          0,
          0,
          0,
          0,
          0,
          0,
          0,
          0,
          0,
          0,
          0,
          0,
          0,
          0,
          0,
          0,
          0,
          0,
          0,
          0,
          0,
          0,
          0,
          0,
          0,
          0,
          0,
          0,
          0,
          0,
          0,
          0,
          0,
          0,
          0,
          0,
          0,
          0,
          0,
          0,
          0,
          0,
          0,
          0,
          0,
          0,
          0,
          0,
          0,
          0,
          0,
          0,
          0,
          0,
          0,
          0,
          0,
          0,
          0,
          0,
          0,
          0,
          0,
          0,
          0,
          0,
          0,
          0,
          0,
          0,
          0,
          0,
          0,
          0,
          0,
          0,
          0,
          0,
          0,
          0,
          0,
          0,
          0,
          0,
          0,
          0,
          0,
          0,
          0,
          0,
          0,
          0,
          0,
          0,
          0,
          0,
          0,
          0,
          0,
          0,
          0,
          0,
          0,
          0,
          0,
          0,
          0,
          0,
          0,
          0,
          0,
          0,
          0,
          0,
          0,
          0,
          0,
          0,
          0,
          0,
          0,
          0,
          0,
          0,
          0,
          0,
          0,
          0,
          0,
          0,
          0,
          0,
          0,
          0,
          0,
          0,
          0,
          0,
          0,
          0,
          0,
          0,
          0,
          0,
          0,
          0,
          0,
          0,
          0,
          0,
          0,
          0,
          0,
          0,
          0,
          0,
          0,
          0,
          0,
          0,
          0,
          0,
          0,
          0,
          0,
          0,
          0,
          0,
          0,
          0,
          0,
          0,
          0,
          0,
          0,
          0,
          0,
          0,
          0,
          0,
          0,
          0,
          0,
          0,
          0,
          0,
          0,
          0,
          0,
          0,
          0,
          0,
          0,
          0,
          0,
          0,
          0,
          0,
          0,
          0,
          0,
          0,
          0,
          0,
          0,
          0,
          889359
         ],
         "xaxis": "x2",
         "y": {
          "dtype": "float32",
          "shape": [
           1000
          ],
          "value": {}
         },
         "yaxis": "y3"
        }
       ],
       "_js2py_restyle": {},
       "_js2py_update": {},
       "_last_layout_edit_id": 43,
       "_last_trace_edit_id": 43,
       "_layout": {
        "autosize": true,
        "height": 650,
        "legend": {
         "orientation": "h",
         "x": 0.1,
         "y": 1
        },
        "margin": {
         "b": 10,
         "l": 45,
         "pad": 3,
         "r": 15,
         "t": 30
        },
        "template": {
         "data": {
          "bar": [
           {
            "error_x": {
             "color": "#2a3f5f"
            },
            "error_y": {
             "color": "#2a3f5f"
            },
            "marker": {
             "line": {
              "color": "white",
              "width": 0.5
             },
             "pattern": {
              "fillmode": "overlay",
              "size": 10,
              "solidity": 0.2
             }
            },
            "type": "bar"
           }
          ],
          "barpolar": [
           {
            "marker": {
             "line": {
              "color": "white",
              "width": 0.5
             },
             "pattern": {
              "fillmode": "overlay",
              "size": 10,
              "solidity": 0.2
             }
            },
            "type": "barpolar"
           }
          ],
          "carpet": [
           {
            "aaxis": {
             "endlinecolor": "#2a3f5f",
             "gridcolor": "#C8D4E3",
             "linecolor": "#C8D4E3",
             "minorgridcolor": "#C8D4E3",
             "startlinecolor": "#2a3f5f"
            },
            "baxis": {
             "endlinecolor": "#2a3f5f",
             "gridcolor": "#C8D4E3",
             "linecolor": "#C8D4E3",
             "minorgridcolor": "#C8D4E3",
             "startlinecolor": "#2a3f5f"
            },
            "type": "carpet"
           }
          ],
          "choropleth": [
           {
            "colorbar": {
             "outlinewidth": 0,
             "ticks": ""
            },
            "type": "choropleth"
           }
          ],
          "contour": [
           {
            "colorbar": {
             "outlinewidth": 0,
             "ticks": ""
            },
            "colorscale": [
             [
              0,
              "#0d0887"
             ],
             [
              0.1111111111111111,
              "#46039f"
             ],
             [
              0.2222222222222222,
              "#7201a8"
             ],
             [
              0.3333333333333333,
              "#9c179e"
             ],
             [
              0.4444444444444444,
              "#bd3786"
             ],
             [
              0.5555555555555556,
              "#d8576b"
             ],
             [
              0.6666666666666666,
              "#ed7953"
             ],
             [
              0.7777777777777778,
              "#fb9f3a"
             ],
             [
              0.8888888888888888,
              "#fdca26"
             ],
             [
              1,
              "#f0f921"
             ]
            ],
            "type": "contour"
           }
          ],
          "contourcarpet": [
           {
            "colorbar": {
             "outlinewidth": 0,
             "ticks": ""
            },
            "type": "contourcarpet"
           }
          ],
          "heatmap": [
           {
            "colorbar": {
             "outlinewidth": 0,
             "ticks": ""
            },
            "colorscale": [
             [
              0,
              "#0d0887"
             ],
             [
              0.1111111111111111,
              "#46039f"
             ],
             [
              0.2222222222222222,
              "#7201a8"
             ],
             [
              0.3333333333333333,
              "#9c179e"
             ],
             [
              0.4444444444444444,
              "#bd3786"
             ],
             [
              0.5555555555555556,
              "#d8576b"
             ],
             [
              0.6666666666666666,
              "#ed7953"
             ],
             [
              0.7777777777777778,
              "#fb9f3a"
             ],
             [
              0.8888888888888888,
              "#fdca26"
             ],
             [
              1,
              "#f0f921"
             ]
            ],
            "type": "heatmap"
           }
          ],
          "heatmapgl": [
           {
            "colorbar": {
             "outlinewidth": 0,
             "ticks": ""
            },
            "colorscale": [
             [
              0,
              "#0d0887"
             ],
             [
              0.1111111111111111,
              "#46039f"
             ],
             [
              0.2222222222222222,
              "#7201a8"
             ],
             [
              0.3333333333333333,
              "#9c179e"
             ],
             [
              0.4444444444444444,
              "#bd3786"
             ],
             [
              0.5555555555555556,
              "#d8576b"
             ],
             [
              0.6666666666666666,
              "#ed7953"
             ],
             [
              0.7777777777777778,
              "#fb9f3a"
             ],
             [
              0.8888888888888888,
              "#fdca26"
             ],
             [
              1,
              "#f0f921"
             ]
            ],
            "type": "heatmapgl"
           }
          ],
          "histogram": [
           {
            "marker": {
             "pattern": {
              "fillmode": "overlay",
              "size": 10,
              "solidity": 0.2
             }
            },
            "type": "histogram"
           }
          ],
          "histogram2d": [
           {
            "colorbar": {
             "outlinewidth": 0,
             "ticks": ""
            },
            "colorscale": [
             [
              0,
              "#0d0887"
             ],
             [
              0.1111111111111111,
              "#46039f"
             ],
             [
              0.2222222222222222,
              "#7201a8"
             ],
             [
              0.3333333333333333,
              "#9c179e"
             ],
             [
              0.4444444444444444,
              "#bd3786"
             ],
             [
              0.5555555555555556,
              "#d8576b"
             ],
             [
              0.6666666666666666,
              "#ed7953"
             ],
             [
              0.7777777777777778,
              "#fb9f3a"
             ],
             [
              0.8888888888888888,
              "#fdca26"
             ],
             [
              1,
              "#f0f921"
             ]
            ],
            "type": "histogram2d"
           }
          ],
          "histogram2dcontour": [
           {
            "colorbar": {
             "outlinewidth": 0,
             "ticks": ""
            },
            "colorscale": [
             [
              0,
              "#0d0887"
             ],
             [
              0.1111111111111111,
              "#46039f"
             ],
             [
              0.2222222222222222,
              "#7201a8"
             ],
             [
              0.3333333333333333,
              "#9c179e"
             ],
             [
              0.4444444444444444,
              "#bd3786"
             ],
             [
              0.5555555555555556,
              "#d8576b"
             ],
             [
              0.6666666666666666,
              "#ed7953"
             ],
             [
              0.7777777777777778,
              "#fb9f3a"
             ],
             [
              0.8888888888888888,
              "#fdca26"
             ],
             [
              1,
              "#f0f921"
             ]
            ],
            "type": "histogram2dcontour"
           }
          ],
          "mesh3d": [
           {
            "colorbar": {
             "outlinewidth": 0,
             "ticks": ""
            },
            "type": "mesh3d"
           }
          ],
          "parcoords": [
           {
            "line": {
             "colorbar": {
              "outlinewidth": 0,
              "ticks": ""
             }
            },
            "type": "parcoords"
           }
          ],
          "pie": [
           {
            "automargin": true,
            "type": "pie"
           }
          ],
          "scatter": [
           {
            "marker": {
             "colorbar": {
              "outlinewidth": 0,
              "ticks": ""
             }
            },
            "type": "scatter"
           }
          ],
          "scatter3d": [
           {
            "line": {
             "colorbar": {
              "outlinewidth": 0,
              "ticks": ""
             }
            },
            "marker": {
             "colorbar": {
              "outlinewidth": 0,
              "ticks": ""
             }
            },
            "type": "scatter3d"
           }
          ],
          "scattercarpet": [
           {
            "marker": {
             "colorbar": {
              "outlinewidth": 0,
              "ticks": ""
             }
            },
            "type": "scattercarpet"
           }
          ],
          "scattergeo": [
           {
            "marker": {
             "colorbar": {
              "outlinewidth": 0,
              "ticks": ""
             }
            },
            "type": "scattergeo"
           }
          ],
          "scattergl": [
           {
            "marker": {
             "colorbar": {
              "outlinewidth": 0,
              "ticks": ""
             }
            },
            "type": "scattergl"
           }
          ],
          "scattermapbox": [
           {
            "marker": {
             "colorbar": {
              "outlinewidth": 0,
              "ticks": ""
             }
            },
            "type": "scattermapbox"
           }
          ],
          "scatterpolar": [
           {
            "marker": {
             "colorbar": {
              "outlinewidth": 0,
              "ticks": ""
             }
            },
            "type": "scatterpolar"
           }
          ],
          "scatterpolargl": [
           {
            "marker": {
             "colorbar": {
              "outlinewidth": 0,
              "ticks": ""
             }
            },
            "type": "scatterpolargl"
           }
          ],
          "scatterternary": [
           {
            "marker": {
             "colorbar": {
              "outlinewidth": 0,
              "ticks": ""
             }
            },
            "type": "scatterternary"
           }
          ],
          "surface": [
           {
            "colorbar": {
             "outlinewidth": 0,
             "ticks": ""
            },
            "colorscale": [
             [
              0,
              "#0d0887"
             ],
             [
              0.1111111111111111,
              "#46039f"
             ],
             [
              0.2222222222222222,
              "#7201a8"
             ],
             [
              0.3333333333333333,
              "#9c179e"
             ],
             [
              0.4444444444444444,
              "#bd3786"
             ],
             [
              0.5555555555555556,
              "#d8576b"
             ],
             [
              0.6666666666666666,
              "#ed7953"
             ],
             [
              0.7777777777777778,
              "#fb9f3a"
             ],
             [
              0.8888888888888888,
              "#fdca26"
             ],
             [
              1,
              "#f0f921"
             ]
            ],
            "type": "surface"
           }
          ],
          "table": [
           {
            "cells": {
             "fill": {
              "color": "#EBF0F8"
             },
             "line": {
              "color": "white"
             }
            },
            "header": {
             "fill": {
              "color": "#C8D4E3"
             },
             "line": {
              "color": "white"
             }
            },
            "type": "table"
           }
          ]
         },
         "layout": {
          "annotationdefaults": {
           "arrowcolor": "#2a3f5f",
           "arrowhead": 0,
           "arrowwidth": 1
          },
          "autotypenumbers": "strict",
          "coloraxis": {
           "colorbar": {
            "outlinewidth": 0,
            "ticks": ""
           }
          },
          "colorscale": {
           "diverging": [
            [
             0,
             "#8e0152"
            ],
            [
             0.1,
             "#c51b7d"
            ],
            [
             0.2,
             "#de77ae"
            ],
            [
             0.3,
             "#f1b6da"
            ],
            [
             0.4,
             "#fde0ef"
            ],
            [
             0.5,
             "#f7f7f7"
            ],
            [
             0.6,
             "#e6f5d0"
            ],
            [
             0.7,
             "#b8e186"
            ],
            [
             0.8,
             "#7fbc41"
            ],
            [
             0.9,
             "#4d9221"
            ],
            [
             1,
             "#276419"
            ]
           ],
           "sequential": [
            [
             0,
             "#0d0887"
            ],
            [
             0.1111111111111111,
             "#46039f"
            ],
            [
             0.2222222222222222,
             "#7201a8"
            ],
            [
             0.3333333333333333,
             "#9c179e"
            ],
            [
             0.4444444444444444,
             "#bd3786"
            ],
            [
             0.5555555555555556,
             "#d8576b"
            ],
            [
             0.6666666666666666,
             "#ed7953"
            ],
            [
             0.7777777777777778,
             "#fb9f3a"
            ],
            [
             0.8888888888888888,
             "#fdca26"
            ],
            [
             1,
             "#f0f921"
            ]
           ],
           "sequentialminus": [
            [
             0,
             "#0d0887"
            ],
            [
             0.1111111111111111,
             "#46039f"
            ],
            [
             0.2222222222222222,
             "#7201a8"
            ],
            [
             0.3333333333333333,
             "#9c179e"
            ],
            [
             0.4444444444444444,
             "#bd3786"
            ],
            [
             0.5555555555555556,
             "#d8576b"
            ],
            [
             0.6666666666666666,
             "#ed7953"
            ],
            [
             0.7777777777777778,
             "#fb9f3a"
            ],
            [
             0.8888888888888888,
             "#fdca26"
            ],
            [
             1,
             "#f0f921"
            ]
           ]
          },
          "colorway": [
           "#636efa",
           "#EF553B",
           "#00cc96",
           "#ab63fa",
           "#FFA15A",
           "#19d3f3",
           "#FF6692",
           "#B6E880",
           "#FF97FF",
           "#FECB52"
          ],
          "font": {
           "color": "#2a3f5f"
          },
          "geo": {
           "bgcolor": "white",
           "lakecolor": "white",
           "landcolor": "white",
           "showlakes": true,
           "showland": true,
           "subunitcolor": "#C8D4E3"
          },
          "hoverlabel": {
           "align": "left"
          },
          "hovermode": "closest",
          "mapbox": {
           "style": "light"
          },
          "paper_bgcolor": "white",
          "plot_bgcolor": "white",
          "polar": {
           "angularaxis": {
            "gridcolor": "#EBF0F8",
            "linecolor": "#EBF0F8",
            "ticks": ""
           },
           "bgcolor": "white",
           "radialaxis": {
            "gridcolor": "#EBF0F8",
            "linecolor": "#EBF0F8",
            "ticks": ""
           }
          },
          "scene": {
           "xaxis": {
            "backgroundcolor": "white",
            "gridcolor": "#DFE8F3",
            "gridwidth": 2,
            "linecolor": "#EBF0F8",
            "showbackground": true,
            "ticks": "",
            "zerolinecolor": "#EBF0F8"
           },
           "yaxis": {
            "backgroundcolor": "white",
            "gridcolor": "#DFE8F3",
            "gridwidth": 2,
            "linecolor": "#EBF0F8",
            "showbackground": true,
            "ticks": "",
            "zerolinecolor": "#EBF0F8"
           },
           "zaxis": {
            "backgroundcolor": "white",
            "gridcolor": "#DFE8F3",
            "gridwidth": 2,
            "linecolor": "#EBF0F8",
            "showbackground": true,
            "ticks": "",
            "zerolinecolor": "#EBF0F8"
           }
          },
          "shapedefaults": {
           "line": {
            "color": "#2a3f5f"
           }
          },
          "ternary": {
           "aaxis": {
            "gridcolor": "#DFE8F3",
            "linecolor": "#A2B1C6",
            "ticks": ""
           },
           "baxis": {
            "gridcolor": "#DFE8F3",
            "linecolor": "#A2B1C6",
            "ticks": ""
           },
           "bgcolor": "white",
           "caxis": {
            "gridcolor": "#DFE8F3",
            "linecolor": "#A2B1C6",
            "ticks": ""
           }
          },
          "title": {
           "x": 0.05
          },
          "xaxis": {
           "automargin": true,
           "gridcolor": "#EBF0F8",
           "linecolor": "#EBF0F8",
           "ticks": "",
           "title": {
            "standoff": 15
           },
           "zerolinecolor": "#EBF0F8",
           "zerolinewidth": 2
          },
          "yaxis": {
           "automargin": true,
           "gridcolor": "#EBF0F8",
           "linecolor": "#EBF0F8",
           "ticks": "",
           "title": {
            "standoff": 15
           },
           "zerolinecolor": "#EBF0F8",
           "zerolinewidth": 2
          }
         }
        },
        "xaxis": {
         "anchor": "y",
         "domain": [
          0,
          0.94
         ],
         "matches": "x2",
         "showticklabels": false,
         "spikedash": "dot",
         "spikemode": "across+marker",
         "spikesnap": "cursor",
         "spikethickness": 2
        },
        "xaxis2": {
         "anchor": "y3",
         "domain": [
          0,
          0.94
         ],
         "spikedash": "dot",
         "spikemode": "across+marker",
         "spikesnap": "cursor",
         "spikethickness": 2
        },
        "yaxis": {
         "anchor": "x",
         "domain": [
          0.32100000000000006,
          1
         ]
        },
        "yaxis2": {
         "anchor": "x",
         "overlaying": "y",
         "side": "right"
        },
        "yaxis3": {
         "anchor": "x2",
         "domain": [
          0,
          0.29100000000000004
         ]
        },
        "yaxis4": {
         "anchor": "x2",
         "overlaying": "y3",
         "side": "right"
        }
       },
       "_py2js_animate": {},
       "_py2js_deleteTraces": {},
       "_py2js_moveTraces": {},
       "_py2js_relayout": {},
       "_py2js_removeLayoutProps": {},
       "_py2js_removeTraceProps": {},
       "_view_count": 1
      }
     },
     "d57d099c57c8495b82f4f1f834b46649": {
      "model_module": "@jupyter-widgets/base",
      "model_module_version": "1.2.0",
      "model_name": "LayoutModel",
      "state": {}
     },
     "d716537938fd4e5ab6bdecd6f92a798a": {
      "model_module": "jupyterlab-plotly",
      "model_module_version": "^5.6.0",
      "model_name": "FigureModel",
      "state": {
       "_config": {
        "plotlyServerURL": "https://plot.ly"
       },
       "_js2py_layoutDelta": {},
       "_js2py_pointsCallback": {},
       "_js2py_relayout": {},
       "_js2py_restyle": {},
       "_js2py_traceDeltas": {},
       "_js2py_update": {},
       "_layout": {
        "template": {
         "data": {
          "bar": [
           {
            "error_x": {
             "color": "#2a3f5f"
            },
            "error_y": {
             "color": "#2a3f5f"
            },
            "marker": {
             "line": {
              "color": "#E5ECF6",
              "width": 0.5
             },
             "pattern": {
              "fillmode": "overlay",
              "size": 10,
              "solidity": 0.2
             }
            },
            "type": "bar"
           }
          ],
          "barpolar": [
           {
            "marker": {
             "line": {
              "color": "#E5ECF6",
              "width": 0.5
             },
             "pattern": {
              "fillmode": "overlay",
              "size": 10,
              "solidity": 0.2
             }
            },
            "type": "barpolar"
           }
          ],
          "carpet": [
           {
            "aaxis": {
             "endlinecolor": "#2a3f5f",
             "gridcolor": "white",
             "linecolor": "white",
             "minorgridcolor": "white",
             "startlinecolor": "#2a3f5f"
            },
            "baxis": {
             "endlinecolor": "#2a3f5f",
             "gridcolor": "white",
             "linecolor": "white",
             "minorgridcolor": "white",
             "startlinecolor": "#2a3f5f"
            },
            "type": "carpet"
           }
          ],
          "choropleth": [
           {
            "colorbar": {
             "outlinewidth": 0,
             "ticks": ""
            },
            "type": "choropleth"
           }
          ],
          "contour": [
           {
            "colorbar": {
             "outlinewidth": 0,
             "ticks": ""
            },
            "colorscale": [
             [
              0,
              "#0d0887"
             ],
             [
              0.1111111111111111,
              "#46039f"
             ],
             [
              0.2222222222222222,
              "#7201a8"
             ],
             [
              0.3333333333333333,
              "#9c179e"
             ],
             [
              0.4444444444444444,
              "#bd3786"
             ],
             [
              0.5555555555555556,
              "#d8576b"
             ],
             [
              0.6666666666666666,
              "#ed7953"
             ],
             [
              0.7777777777777778,
              "#fb9f3a"
             ],
             [
              0.8888888888888888,
              "#fdca26"
             ],
             [
              1,
              "#f0f921"
             ]
            ],
            "type": "contour"
           }
          ],
          "contourcarpet": [
           {
            "colorbar": {
             "outlinewidth": 0,
             "ticks": ""
            },
            "type": "contourcarpet"
           }
          ],
          "heatmap": [
           {
            "colorbar": {
             "outlinewidth": 0,
             "ticks": ""
            },
            "colorscale": [
             [
              0,
              "#0d0887"
             ],
             [
              0.1111111111111111,
              "#46039f"
             ],
             [
              0.2222222222222222,
              "#7201a8"
             ],
             [
              0.3333333333333333,
              "#9c179e"
             ],
             [
              0.4444444444444444,
              "#bd3786"
             ],
             [
              0.5555555555555556,
              "#d8576b"
             ],
             [
              0.6666666666666666,
              "#ed7953"
             ],
             [
              0.7777777777777778,
              "#fb9f3a"
             ],
             [
              0.8888888888888888,
              "#fdca26"
             ],
             [
              1,
              "#f0f921"
             ]
            ],
            "type": "heatmap"
           }
          ],
          "heatmapgl": [
           {
            "colorbar": {
             "outlinewidth": 0,
             "ticks": ""
            },
            "colorscale": [
             [
              0,
              "#0d0887"
             ],
             [
              0.1111111111111111,
              "#46039f"
             ],
             [
              0.2222222222222222,
              "#7201a8"
             ],
             [
              0.3333333333333333,
              "#9c179e"
             ],
             [
              0.4444444444444444,
              "#bd3786"
             ],
             [
              0.5555555555555556,
              "#d8576b"
             ],
             [
              0.6666666666666666,
              "#ed7953"
             ],
             [
              0.7777777777777778,
              "#fb9f3a"
             ],
             [
              0.8888888888888888,
              "#fdca26"
             ],
             [
              1,
              "#f0f921"
             ]
            ],
            "type": "heatmapgl"
           }
          ],
          "histogram": [
           {
            "marker": {
             "pattern": {
              "fillmode": "overlay",
              "size": 10,
              "solidity": 0.2
             }
            },
            "type": "histogram"
           }
          ],
          "histogram2d": [
           {
            "colorbar": {
             "outlinewidth": 0,
             "ticks": ""
            },
            "colorscale": [
             [
              0,
              "#0d0887"
             ],
             [
              0.1111111111111111,
              "#46039f"
             ],
             [
              0.2222222222222222,
              "#7201a8"
             ],
             [
              0.3333333333333333,
              "#9c179e"
             ],
             [
              0.4444444444444444,
              "#bd3786"
             ],
             [
              0.5555555555555556,
              "#d8576b"
             ],
             [
              0.6666666666666666,
              "#ed7953"
             ],
             [
              0.7777777777777778,
              "#fb9f3a"
             ],
             [
              0.8888888888888888,
              "#fdca26"
             ],
             [
              1,
              "#f0f921"
             ]
            ],
            "type": "histogram2d"
           }
          ],
          "histogram2dcontour": [
           {
            "colorbar": {
             "outlinewidth": 0,
             "ticks": ""
            },
            "colorscale": [
             [
              0,
              "#0d0887"
             ],
             [
              0.1111111111111111,
              "#46039f"
             ],
             [
              0.2222222222222222,
              "#7201a8"
             ],
             [
              0.3333333333333333,
              "#9c179e"
             ],
             [
              0.4444444444444444,
              "#bd3786"
             ],
             [
              0.5555555555555556,
              "#d8576b"
             ],
             [
              0.6666666666666666,
              "#ed7953"
             ],
             [
              0.7777777777777778,
              "#fb9f3a"
             ],
             [
              0.8888888888888888,
              "#fdca26"
             ],
             [
              1,
              "#f0f921"
             ]
            ],
            "type": "histogram2dcontour"
           }
          ],
          "mesh3d": [
           {
            "colorbar": {
             "outlinewidth": 0,
             "ticks": ""
            },
            "type": "mesh3d"
           }
          ],
          "parcoords": [
           {
            "line": {
             "colorbar": {
              "outlinewidth": 0,
              "ticks": ""
             }
            },
            "type": "parcoords"
           }
          ],
          "pie": [
           {
            "automargin": true,
            "type": "pie"
           }
          ],
          "scatter": [
           {
            "marker": {
             "colorbar": {
              "outlinewidth": 0,
              "ticks": ""
             }
            },
            "type": "scatter"
           }
          ],
          "scatter3d": [
           {
            "line": {
             "colorbar": {
              "outlinewidth": 0,
              "ticks": ""
             }
            },
            "marker": {
             "colorbar": {
              "outlinewidth": 0,
              "ticks": ""
             }
            },
            "type": "scatter3d"
           }
          ],
          "scattercarpet": [
           {
            "marker": {
             "colorbar": {
              "outlinewidth": 0,
              "ticks": ""
             }
            },
            "type": "scattercarpet"
           }
          ],
          "scattergeo": [
           {
            "marker": {
             "colorbar": {
              "outlinewidth": 0,
              "ticks": ""
             }
            },
            "type": "scattergeo"
           }
          ],
          "scattergl": [
           {
            "marker": {
             "colorbar": {
              "outlinewidth": 0,
              "ticks": ""
             }
            },
            "type": "scattergl"
           }
          ],
          "scattermapbox": [
           {
            "marker": {
             "colorbar": {
              "outlinewidth": 0,
              "ticks": ""
             }
            },
            "type": "scattermapbox"
           }
          ],
          "scatterpolar": [
           {
            "marker": {
             "colorbar": {
              "outlinewidth": 0,
              "ticks": ""
             }
            },
            "type": "scatterpolar"
           }
          ],
          "scatterpolargl": [
           {
            "marker": {
             "colorbar": {
              "outlinewidth": 0,
              "ticks": ""
             }
            },
            "type": "scatterpolargl"
           }
          ],
          "scatterternary": [
           {
            "marker": {
             "colorbar": {
              "outlinewidth": 0,
              "ticks": ""
             }
            },
            "type": "scatterternary"
           }
          ],
          "surface": [
           {
            "colorbar": {
             "outlinewidth": 0,
             "ticks": ""
            },
            "colorscale": [
             [
              0,
              "#0d0887"
             ],
             [
              0.1111111111111111,
              "#46039f"
             ],
             [
              0.2222222222222222,
              "#7201a8"
             ],
             [
              0.3333333333333333,
              "#9c179e"
             ],
             [
              0.4444444444444444,
              "#bd3786"
             ],
             [
              0.5555555555555556,
              "#d8576b"
             ],
             [
              0.6666666666666666,
              "#ed7953"
             ],
             [
              0.7777777777777778,
              "#fb9f3a"
             ],
             [
              0.8888888888888888,
              "#fdca26"
             ],
             [
              1,
              "#f0f921"
             ]
            ],
            "type": "surface"
           }
          ],
          "table": [
           {
            "cells": {
             "fill": {
              "color": "#EBF0F8"
             },
             "line": {
              "color": "white"
             }
            },
            "header": {
             "fill": {
              "color": "#C8D4E3"
             },
             "line": {
              "color": "white"
             }
            },
            "type": "table"
           }
          ]
         },
         "layout": {
          "annotationdefaults": {
           "arrowcolor": "#2a3f5f",
           "arrowhead": 0,
           "arrowwidth": 1
          },
          "autotypenumbers": "strict",
          "coloraxis": {
           "colorbar": {
            "outlinewidth": 0,
            "ticks": ""
           }
          },
          "colorscale": {
           "diverging": [
            [
             0,
             "#8e0152"
            ],
            [
             0.1,
             "#c51b7d"
            ],
            [
             0.2,
             "#de77ae"
            ],
            [
             0.3,
             "#f1b6da"
            ],
            [
             0.4,
             "#fde0ef"
            ],
            [
             0.5,
             "#f7f7f7"
            ],
            [
             0.6,
             "#e6f5d0"
            ],
            [
             0.7,
             "#b8e186"
            ],
            [
             0.8,
             "#7fbc41"
            ],
            [
             0.9,
             "#4d9221"
            ],
            [
             1,
             "#276419"
            ]
           ],
           "sequential": [
            [
             0,
             "#0d0887"
            ],
            [
             0.1111111111111111,
             "#46039f"
            ],
            [
             0.2222222222222222,
             "#7201a8"
            ],
            [
             0.3333333333333333,
             "#9c179e"
            ],
            [
             0.4444444444444444,
             "#bd3786"
            ],
            [
             0.5555555555555556,
             "#d8576b"
            ],
            [
             0.6666666666666666,
             "#ed7953"
            ],
            [
             0.7777777777777778,
             "#fb9f3a"
            ],
            [
             0.8888888888888888,
             "#fdca26"
            ],
            [
             1,
             "#f0f921"
            ]
           ],
           "sequentialminus": [
            [
             0,
             "#0d0887"
            ],
            [
             0.1111111111111111,
             "#46039f"
            ],
            [
             0.2222222222222222,
             "#7201a8"
            ],
            [
             0.3333333333333333,
             "#9c179e"
            ],
            [
             0.4444444444444444,
             "#bd3786"
            ],
            [
             0.5555555555555556,
             "#d8576b"
            ],
            [
             0.6666666666666666,
             "#ed7953"
            ],
            [
             0.7777777777777778,
             "#fb9f3a"
            ],
            [
             0.8888888888888888,
             "#fdca26"
            ],
            [
             1,
             "#f0f921"
            ]
           ]
          },
          "colorway": [
           "#636efa",
           "#EF553B",
           "#00cc96",
           "#ab63fa",
           "#FFA15A",
           "#19d3f3",
           "#FF6692",
           "#B6E880",
           "#FF97FF",
           "#FECB52"
          ],
          "font": {
           "color": "#2a3f5f"
          },
          "geo": {
           "bgcolor": "white",
           "lakecolor": "white",
           "landcolor": "#E5ECF6",
           "showlakes": true,
           "showland": true,
           "subunitcolor": "white"
          },
          "hoverlabel": {
           "align": "left"
          },
          "hovermode": "closest",
          "mapbox": {
           "style": "light"
          },
          "paper_bgcolor": "white",
          "plot_bgcolor": "#E5ECF6",
          "polar": {
           "angularaxis": {
            "gridcolor": "white",
            "linecolor": "white",
            "ticks": ""
           },
           "bgcolor": "#E5ECF6",
           "radialaxis": {
            "gridcolor": "white",
            "linecolor": "white",
            "ticks": ""
           }
          },
          "scene": {
           "xaxis": {
            "backgroundcolor": "#E5ECF6",
            "gridcolor": "white",
            "gridwidth": 2,
            "linecolor": "white",
            "showbackground": true,
            "ticks": "",
            "zerolinecolor": "white"
           },
           "yaxis": {
            "backgroundcolor": "#E5ECF6",
            "gridcolor": "white",
            "gridwidth": 2,
            "linecolor": "white",
            "showbackground": true,
            "ticks": "",
            "zerolinecolor": "white"
           },
           "zaxis": {
            "backgroundcolor": "#E5ECF6",
            "gridcolor": "white",
            "gridwidth": 2,
            "linecolor": "white",
            "showbackground": true,
            "ticks": "",
            "zerolinecolor": "white"
           }
          },
          "shapedefaults": {
           "line": {
            "color": "#2a3f5f"
           }
          },
          "ternary": {
           "aaxis": {
            "gridcolor": "white",
            "linecolor": "white",
            "ticks": ""
           },
           "baxis": {
            "gridcolor": "white",
            "linecolor": "white",
            "ticks": ""
           },
           "bgcolor": "#E5ECF6",
           "caxis": {
            "gridcolor": "white",
            "linecolor": "white",
            "ticks": ""
           }
          },
          "title": {
           "x": 0.05
          },
          "xaxis": {
           "automargin": true,
           "gridcolor": "white",
           "linecolor": "white",
           "ticks": "",
           "title": {
            "standoff": 15
           },
           "zerolinecolor": "white",
           "zerolinewidth": 2
          },
          "yaxis": {
           "automargin": true,
           "gridcolor": "white",
           "linecolor": "white",
           "ticks": "",
           "title": {
            "standoff": 15
           },
           "zerolinecolor": "white",
           "zerolinewidth": 2
          }
         }
        },
        "xaxis": {
         "anchor": "y",
         "domain": [
          0,
          0.94
         ],
         "matches": "x2",
         "showticklabels": false
        },
        "xaxis2": {
         "anchor": "y3",
         "domain": [
          0,
          0.94
         ]
        },
        "yaxis": {
         "anchor": "x",
         "domain": [
          0.32100000000000006,
          1
         ]
        },
        "yaxis2": {
         "anchor": "x",
         "overlaying": "y",
         "side": "right"
        },
        "yaxis3": {
         "anchor": "x2",
         "domain": [
          0,
          0.29100000000000004
         ]
        },
        "yaxis4": {
         "anchor": "x2",
         "overlaying": "y3",
         "side": "right"
        }
       },
       "_py2js_addTraces": {},
       "_py2js_animate": {},
       "_py2js_deleteTraces": {},
       "_py2js_moveTraces": {},
       "_py2js_relayout": {},
       "_py2js_removeLayoutProps": {},
       "_py2js_removeTraceProps": {},
       "_py2js_restyle": {},
       "_py2js_update": {},
       "_view_count": 0
      }
     },
     "d8aef97816bd4d19a250b0bf6f8b60a0": {
      "model_module": "@jupyter-widgets/controls",
      "model_module_version": "1.5.0",
      "model_name": "VBoxModel",
      "state": {
       "children": [
        "IPY_MODEL_b9f6f3e380164e49beec0bd694190f47",
        "IPY_MODEL_c2df46fd30714063b513c946afc4abb5"
       ],
       "layout": "IPY_MODEL_870273e83eb145b68f949f892becffbe"
      }
     },
     "dbfd94ba56bc48e7b675d04708164cb0": {
      "model_module": "@jupyter-widgets/controls",
      "model_module_version": "1.5.0",
      "model_name": "HBoxModel",
      "state": {
       "children": [
        "IPY_MODEL_314f2d1992504131ada3cf9039d37273",
        "IPY_MODEL_43191232447d4abc8d30f87de536c4c6",
        "IPY_MODEL_9757deeab8914bab94a9f1880004d25b"
       ],
       "layout": "IPY_MODEL_77e7552b6cfe4eea88f4bdeb2de0ae07"
      }
     },
     "dce3d2b83b0d484ab4cdd8dbea2862b6": {
      "model_module": "@jupyter-widgets/controls",
      "model_module_version": "1.5.0",
      "model_name": "IntSliderModel",
      "state": {
       "description": "Threshold",
       "layout": "IPY_MODEL_6f83f4bbdaad4e60bcb760110cf599b4",
       "max": 40,
       "style": "IPY_MODEL_0bc369d190a54d86877215575b6576b8",
       "value": 3
      }
     },
     "df50bea8a2514fae9bdc7515c75a1752": {
      "model_module": "@jupyter-widgets/base",
      "model_module_version": "1.2.0",
      "model_name": "LayoutModel",
      "state": {}
     },
     "dff7e16875f44d71a886e77fc84d3ad7": {
      "model_module": "@jupyter-widgets/controls",
      "model_module_version": "1.5.0",
      "model_name": "SliderStyleModel",
      "state": {
       "description_width": ""
      }
     },
     "e8b49ea316554862bcc6385d4664f34f": {
      "model_module": "@jupyter-widgets/controls",
      "model_module_version": "1.5.0",
      "model_name": "DescriptionStyleModel",
      "state": {
       "description_width": ""
      }
     },
     "f027690e281040b89c8f4a322d9c0eb7": {
      "model_module": "@jupyter-widgets/output",
      "model_module_version": "1.0.0",
      "model_name": "OutputModel",
      "state": {
       "layout": "IPY_MODEL_318e64da6e534f4887a5da2c6ce5a701"
      }
     }
    },
    "version_major": 2,
    "version_minor": 0
   }
  }
 },
 "nbformat": 4,
 "nbformat_minor": 5
}
