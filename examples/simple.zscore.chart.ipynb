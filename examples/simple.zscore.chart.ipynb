{
 "cells": [
  {
   "cell_type": "markdown",
   "id": "c4985e21-15fc-4c01-ae50-8ed6a42fc063",
   "metadata": {},
   "source": [
    "# ZScore and RSX chart comparison"
   ]
  },
  {
   "cell_type": "code",
   "execution_count": 9,
   "id": "9d578f92-b6bf-4327-ab83-49f16e1a9223",
   "metadata": {
    "execution": {
     "iopub.execute_input": "2023-12-27T09:23:34.910618Z",
     "iopub.status.busy": "2023-12-27T09:23:34.910201Z",
     "iopub.status.idle": "2023-12-27T09:23:34.914984Z",
     "shell.execute_reply": "2023-12-27T09:23:34.913843Z",
     "shell.execute_reply.started": "2023-12-27T09:23:34.910603Z"
    },
    "tags": []
   },
   "outputs": [],
   "source": [
    "from simple.funcs import zscore \n",
    "from simple.jurik import JRSX\n",
    "from simple.chart import interactFigure\n",
    "import numpy as np"
   ]
  },
  {
   "cell_type": "code",
   "execution_count": 10,
   "id": "3858244c-205a-414d-8b92-9908cc59c170",
   "metadata": {
    "execution": {
     "iopub.execute_input": "2023-12-27T09:23:35.858708Z",
     "iopub.status.busy": "2023-12-27T09:23:35.858387Z",
     "iopub.status.idle": "2023-12-27T09:23:35.862718Z",
     "shell.execute_reply": "2023-12-27T09:23:35.861985Z",
     "shell.execute_reply.started": "2023-12-27T09:23:35.858694Z"
    },
    "tags": []
   },
   "outputs": [],
   "source": [
    "X = np.random.randn(1000).cumsum()"
   ]
  },
  {
   "cell_type": "code",
   "execution_count": 11,
   "id": "d4172be3-2a5f-4976-8020-391341a2dcf2",
   "metadata": {
    "execution": {
     "iopub.execute_input": "2023-12-27T09:23:36.579004Z",
     "iopub.status.busy": "2023-12-27T09:23:36.578597Z",
     "iopub.status.idle": "2023-12-27T09:23:36.582640Z",
     "shell.execute_reply": "2023-12-27T09:23:36.582109Z",
     "shell.execute_reply.started": "2023-12-27T09:23:36.578990Z"
    },
    "tags": []
   },
   "outputs": [],
   "source": [
    "def model(Period=(1, 100, 1)):\n",
    "    return {'X': X, 'ZScore': zscore(X, Period), 'RSX': JRSX(X, Period//2)}"
   ]
  },
  {
   "cell_type": "code",
   "execution_count": 12,
   "id": "88b53013-9db0-42ad-955c-92c18cab395f",
   "metadata": {
    "execution": {
     "iopub.execute_input": "2023-12-27T09:23:37.335996Z",
     "iopub.status.busy": "2023-12-27T09:23:37.335755Z",
     "iopub.status.idle": "2023-12-27T09:23:37.471904Z",
     "shell.execute_reply": "2023-12-27T09:23:37.471301Z",
     "shell.execute_reply.started": "2023-12-27T09:23:37.335982Z"
    },
    "tags": []
   },
   "outputs": [
    {
     "data": {
      "application/vnd.jupyter.widget-view+json": {
       "model_id": "229b1728782646e7b306c23cb3b1db94",
       "version_major": 2,
       "version_minor": 0
      },
      "text/plain": [
       "VBox(children=(HBox(children=(IntSlider(value=50, description='Period', min=1),)), FigureWidgetResampler({\n",
       "   …"
      ]
     },
     "metadata": {},
     "output_type": "display_data"
    }
   ],
   "source": [
    "interactFigure(model, ZScore=dict(row=2), RSX=dict(row=2, secondary_y=True))"
   ]
  },
  {
   "cell_type": "code",
   "execution_count": null,
   "id": "3c7b5e2d-04d8-455d-a98b-73aa4d82d876",
   "metadata": {},
   "outputs": [],
   "source": []
  }
 ],
 "metadata": {
  "kernelspec": {
   "display_name": "Python 3 (ipykernel)",
   "language": "python",
   "name": "python3"
  },
  "language_info": {
   "codemirror_mode": {
    "name": "ipython",
    "version": 3
   },
   "file_extension": ".py",
   "mimetype": "text/x-python",
   "name": "python",
   "nbconvert_exporter": "python",
   "pygments_lexer": "ipython3",
   "version": "3.9.18"
  }
 },
 "nbformat": 4,
 "nbformat_minor": 5
}
