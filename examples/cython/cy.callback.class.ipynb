{
 "cells": [
  {
   "cell_type": "code",
   "execution_count": 1,
   "id": "0eeb104c",
   "metadata": {
    "ExecuteTime": {
     "end_time": "2022-08-29T12:45:55.079737Z",
     "start_time": "2022-08-29T12:45:54.759715Z"
    }
   },
   "outputs": [],
   "source": [
    "%load_ext cython"
   ]
  },
  {
   "cell_type": "code",
   "execution_count": 2,
   "id": "b5426e5b",
   "metadata": {
    "ExecuteTime": {
     "end_time": "2022-08-29T12:45:56.096321Z",
     "start_time": "2022-08-29T12:45:55.081584Z"
    }
   },
   "outputs": [],
   "source": [
    "%%cython --cplus\n",
    "\n",
    "ctypedef int (*TFunc) (int)\n",
    "\n",
    "cdef class Caller():\n",
    "    \n",
    "    def run(self, long callback_addr, int x):\n",
    "        cdef TFunc callback = <TFunc>callback_addr\n",
    "        return callback(x)"
   ]
  },
  {
   "cell_type": "code",
   "execution_count": 3,
   "id": "afe85386",
   "metadata": {
    "ExecuteTime": {
     "end_time": "2022-08-29T12:45:56.106734Z",
     "start_time": "2022-08-29T12:45:56.100750Z"
    }
   },
   "outputs": [],
   "source": [
    "%%cython --cplus\n",
    "\n",
    "from libcpp.vector cimport vector\n",
    "\n",
    "cdef class Callee():\n",
    "    cdef vector[float] X\n",
    "    \n",
    "    @staticmethod\n",
    "    cdef int callback(int x):\n",
    "        print('callback x=', x)\n",
    "        return x+x\n",
    "    \n",
    "    def callback_addr(self):\n",
    "        return <long>self.callback"
   ]
  },
  {
   "cell_type": "code",
   "execution_count": 4,
   "id": "b146edac",
   "metadata": {
    "ExecuteTime": {
     "end_time": "2022-08-29T12:45:56.128603Z",
     "start_time": "2022-08-29T12:45:56.108479Z"
    }
   },
   "outputs": [
    {
     "data": {
      "text/plain": [
       "140474701996928"
      ]
     },
     "execution_count": 4,
     "metadata": {},
     "output_type": "execute_result"
    }
   ],
   "source": [
    "caller = Caller()\n",
    "callee = Callee()\n",
    "callee.callback_addr()"
   ]
  },
  {
   "cell_type": "code",
   "execution_count": 5,
   "id": "ecff3438",
   "metadata": {
    "ExecuteTime": {
     "end_time": "2022-08-29T12:45:56.135599Z",
     "start_time": "2022-08-29T12:45:56.130377Z"
    }
   },
   "outputs": [
    {
     "name": "stdout",
     "output_type": "stream",
     "text": [
      "callback x= 4\n"
     ]
    },
    {
     "data": {
      "text/plain": [
       "8"
      ]
     },
     "execution_count": 5,
     "metadata": {},
     "output_type": "execute_result"
    }
   ],
   "source": [
    "caller.run(callee.callback_addr(), 4)"
   ]
  },
  {
   "cell_type": "code",
   "execution_count": null,
   "id": "38f66207",
   "metadata": {},
   "outputs": [],
   "source": []
  }
 ],
 "metadata": {
  "kernelspec": {
   "display_name": "Python 3 (ipykernel)",
   "language": "python",
   "name": "python3"
  },
  "language_info": {
   "codemirror_mode": {
    "name": "ipython",
    "version": 3
   },
   "file_extension": ".py",
   "mimetype": "text/x-python",
   "name": "python",
   "nbconvert_exporter": "python",
   "pygments_lexer": "ipython3",
   "version": "3.10.10"
  }
 },
 "nbformat": 4,
 "nbformat_minor": 5
}
