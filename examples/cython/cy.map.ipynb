{
 "cells": [
  {
   "cell_type": "markdown",
   "id": "1b3d9d01",
   "metadata": {
    "ExecuteTime": {
     "end_time": "2022-09-03T12:28:43.679279Z",
     "start_time": "2022-09-03T12:28:43.673796Z"
    }
   },
   "source": [
    "# Using stdlib's map in cython"
   ]
  },
  {
   "cell_type": "code",
   "execution_count": 1,
   "id": "eff1129f",
   "metadata": {
    "ExecuteTime": {
     "end_time": "2022-09-03T12:28:13.007960Z",
     "start_time": "2022-09-03T12:28:12.659238Z"
    }
   },
   "outputs": [],
   "source": [
    "%load_ext cython"
   ]
  },
  {
   "cell_type": "code",
   "execution_count": 2,
   "id": "114df815",
   "metadata": {
    "ExecuteTime": {
     "end_time": "2022-09-03T13:42:05.022404Z",
     "start_time": "2022-09-03T13:42:03.844126Z"
    }
   },
   "outputs": [
    {
     "name": "stdout",
     "output_type": "stream",
     "text": [
      "2\n"
     ]
    }
   ],
   "source": [
    "%%cython\n",
    "#distutils: language=c++\n",
    "\n",
    "from libcpp.map cimport map\n",
    "from libcpp.pair cimport pair\n",
    "from cython.operator cimport dereference as deref, postincrement as inc, postdecrement as dec\n",
    "\n",
    "ctypedef map[int, int] TMap\n",
    "ctypedef map[int, int].iterator IMap\n",
    "ctypedef pair[int, int] TMapItem\n",
    "cdef TMap M\n",
    "\n",
    "M.insert(TMapItem(1,2))\n",
    "M.insert(TMapItem(2,4))\n",
    "print(M.size())\n",
    "\n",
    "def Find(int key):\n",
    "    return M[key]\n",
    "    \n",
    "def Test(int key):\n",
    "    cdef map[int, int].iterator it = M.find(key)\n",
    "    return deref(it).first\n",
    "\n",
    "def iterUp():\n",
    "    cdef IMap it = M.begin()\n",
    "    while it != M.end():\n",
    "        print(deref(it).second)\n",
    "        inc(it)\n",
    "\n",
    "def iterDown():\n",
    "    cdef IMap it = M.end()\n",
    "    while it != M.begin():\n",
    "        dec(it)\n",
    "        print(deref(it).second)\n",
    "        \n",
    "def getM():\n",
    "    return M"
   ]
  },
  {
   "cell_type": "code",
   "execution_count": 3,
   "id": "e8ec7402",
   "metadata": {
    "ExecuteTime": {
     "end_time": "2022-09-03T12:28:14.294456Z",
     "start_time": "2022-09-03T12:28:14.279797Z"
    }
   },
   "outputs": [
    {
     "data": {
      "text/plain": [
       "{1: 2, 2: 4}"
      ]
     },
     "execution_count": 3,
     "metadata": {},
     "output_type": "execute_result"
    }
   ],
   "source": [
    "getM()"
   ]
  },
  {
   "cell_type": "code",
   "execution_count": 4,
   "id": "30556ac3",
   "metadata": {
    "ExecuteTime": {
     "end_time": "2022-09-03T12:28:14.306893Z",
     "start_time": "2022-09-03T12:28:14.296237Z"
    }
   },
   "outputs": [
    {
     "name": "stdout",
     "output_type": "stream",
     "text": [
      "2\n",
      "4\n"
     ]
    }
   ],
   "source": [
    "iterUp()"
   ]
  },
  {
   "cell_type": "code",
   "execution_count": 5,
   "id": "65069ef7",
   "metadata": {
    "ExecuteTime": {
     "end_time": "2022-09-03T12:28:14.315140Z",
     "start_time": "2022-09-03T12:28:14.309785Z"
    }
   },
   "outputs": [
    {
     "name": "stdout",
     "output_type": "stream",
     "text": [
      "4\n",
      "2\n"
     ]
    }
   ],
   "source": [
    "iterDown()"
   ]
  },
  {
   "cell_type": "code",
   "execution_count": 6,
   "id": "4ac9f3b8",
   "metadata": {
    "ExecuteTime": {
     "end_time": "2022-09-03T12:28:14.323278Z",
     "start_time": "2022-09-03T12:28:14.317201Z"
    }
   },
   "outputs": [
    {
     "data": {
      "text/plain": [
       "2"
      ]
     },
     "execution_count": 6,
     "metadata": {},
     "output_type": "execute_result"
    }
   ],
   "source": [
    "Find(1)"
   ]
  },
  {
   "cell_type": "code",
   "execution_count": 7,
   "id": "29dc8e22",
   "metadata": {
    "ExecuteTime": {
     "end_time": "2022-09-03T12:28:14.329153Z",
     "start_time": "2022-09-03T12:28:14.325087Z"
    }
   },
   "outputs": [
    {
     "data": {
      "text/plain": [
       "2"
      ]
     },
     "execution_count": 7,
     "metadata": {},
     "output_type": "execute_result"
    }
   ],
   "source": [
    "Test(5)"
   ]
  },
  {
   "cell_type": "code",
   "execution_count": null,
   "id": "6652d875",
   "metadata": {},
   "outputs": [],
   "source": []
  }
 ],
 "metadata": {
  "kernelspec": {
   "display_name": "Python 3 (ipykernel)",
   "language": "python",
   "name": "python3"
  },
  "language_info": {
   "codemirror_mode": {
    "name": "ipython",
    "version": 3
   },
   "file_extension": ".py",
   "mimetype": "text/x-python",
   "name": "python",
   "nbconvert_exporter": "python",
   "pygments_lexer": "ipython3",
   "version": "3.10.10"
  }
 },
 "nbformat": 4,
 "nbformat_minor": 5
}
