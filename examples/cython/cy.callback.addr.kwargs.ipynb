{
 "cells": [
  {
   "cell_type": "markdown",
   "id": "1e68d442",
   "metadata": {},
   "source": [
    "## Call the cython callback from another module using raw address and additional arguments"
   ]
  },
  {
   "cell_type": "code",
   "execution_count": 1,
   "id": "8f2f8158",
   "metadata": {
    "ExecuteTime": {
     "end_time": "2022-08-29T12:45:41.181004Z",
     "start_time": "2022-08-29T12:45:40.804921Z"
    }
   },
   "outputs": [],
   "source": [
    "%load_ext cython"
   ]
  },
  {
   "cell_type": "code",
   "execution_count": 2,
   "id": "995b9570",
   "metadata": {
    "ExecuteTime": {
     "end_time": "2022-08-29T12:45:41.188720Z",
     "start_time": "2022-08-29T12:45:41.183085Z"
    }
   },
   "outputs": [],
   "source": [
    "%%cython\n",
    "# The first (core) module - caller\n",
    "\n",
    "ctypedef int (*TFunc)(int x, dict kwargs)\n",
    "\n",
    "def prun(long callback_addr, int x, **kwargs):\n",
    "    \"\"\"Python wrapper to call the func by raw address\"\"\"\n",
    "    cdef TFunc func = <TFunc>callback_addr\n",
    "    return func(x, kwargs)"
   ]
  },
  {
   "cell_type": "code",
   "execution_count": 3,
   "id": "aeacec0f",
   "metadata": {
    "ExecuteTime": {
     "end_time": "2022-08-29T12:45:41.197721Z",
     "start_time": "2022-08-29T12:45:41.191646Z"
    },
    "code_folding": [
     4
    ]
   },
   "outputs": [],
   "source": [
    "%%cython\n",
    "# The second (user) module - callee\n",
    "\n",
    "cdef int callback(int x, dict kwargs):\n",
    "    \"\"\"Internal cython format function (that can use stdlib parameters directly)\"\"\"\n",
    "    data = kwargs['result']\n",
    "    data[0,0] = x\n",
    "    return x+x\n",
    "\n",
    "def callback_addr():\n",
    "    \"\"\"Exports raw address of callback to python\"\"\"\n",
    "    return <long>&callback"
   ]
  },
  {
   "cell_type": "code",
   "execution_count": 4,
   "id": "b186c103",
   "metadata": {
    "ExecuteTime": {
     "end_time": "2022-08-29T12:45:41.211807Z",
     "start_time": "2022-08-29T12:45:41.199462Z"
    }
   },
   "outputs": [
    {
     "data": {
      "text/plain": [
       "140046856955696"
      ]
     },
     "execution_count": 4,
     "metadata": {},
     "output_type": "execute_result"
    }
   ],
   "source": [
    "callback_addr()"
   ]
  },
  {
   "cell_type": "code",
   "execution_count": 5,
   "id": "24c6f8eb",
   "metadata": {
    "ExecuteTime": {
     "end_time": "2022-08-29T12:45:41.281691Z",
     "start_time": "2022-08-29T12:45:41.213899Z"
    }
   },
   "outputs": [
    {
     "data": {
      "text/plain": [
       "array([[0., 0., 0., 0., 0., 0., 0., 0., 0., 0.],\n",
       "       [0., 0., 0., 0., 0., 0., 0., 0., 0., 0.],\n",
       "       [0., 0., 0., 0., 0., 0., 0., 0., 0., 0.],\n",
       "       [0., 0., 0., 0., 0., 0., 0., 0., 0., 0.],\n",
       "       [0., 0., 0., 0., 0., 0., 0., 0., 0., 0.],\n",
       "       [0., 0., 0., 0., 0., 0., 0., 0., 0., 0.],\n",
       "       [0., 0., 0., 0., 0., 0., 0., 0., 0., 0.],\n",
       "       [0., 0., 0., 0., 0., 0., 0., 0., 0., 0.],\n",
       "       [0., 0., 0., 0., 0., 0., 0., 0., 0., 0.],\n",
       "       [0., 0., 0., 0., 0., 0., 0., 0., 0., 0.]])"
      ]
     },
     "execution_count": 5,
     "metadata": {},
     "output_type": "execute_result"
    }
   ],
   "source": [
    "import numpy as np\n",
    "\n",
    "X = np.zeros((10, 10))\n",
    "X"
   ]
  },
  {
   "cell_type": "code",
   "execution_count": 6,
   "id": "e4d3008b",
   "metadata": {
    "ExecuteTime": {
     "end_time": "2022-08-29T12:45:41.290343Z",
     "start_time": "2022-08-29T12:45:41.283687Z"
    }
   },
   "outputs": [
    {
     "data": {
      "text/plain": [
       "array([[4., 0., 0., 0., 0., 0., 0., 0., 0., 0.],\n",
       "       [0., 0., 0., 0., 0., 0., 0., 0., 0., 0.],\n",
       "       [0., 0., 0., 0., 0., 0., 0., 0., 0., 0.],\n",
       "       [0., 0., 0., 0., 0., 0., 0., 0., 0., 0.],\n",
       "       [0., 0., 0., 0., 0., 0., 0., 0., 0., 0.],\n",
       "       [0., 0., 0., 0., 0., 0., 0., 0., 0., 0.],\n",
       "       [0., 0., 0., 0., 0., 0., 0., 0., 0., 0.],\n",
       "       [0., 0., 0., 0., 0., 0., 0., 0., 0., 0.],\n",
       "       [0., 0., 0., 0., 0., 0., 0., 0., 0., 0.],\n",
       "       [0., 0., 0., 0., 0., 0., 0., 0., 0., 0.]])"
      ]
     },
     "execution_count": 6,
     "metadata": {},
     "output_type": "execute_result"
    }
   ],
   "source": [
    "prun(callback_addr(), 4, result=X)\n",
    "X"
   ]
  },
  {
   "cell_type": "code",
   "execution_count": 7,
   "id": "fc2d1d1e",
   "metadata": {
    "ExecuteTime": {
     "end_time": "2022-08-29T12:45:44.207226Z",
     "start_time": "2022-08-29T12:45:41.292265Z"
    }
   },
   "outputs": [
    {
     "name": "stdout",
     "output_type": "stream",
     "text": [
      "718 ns ± 12.2 ns per loop (mean ± std. dev. of 7 runs, 1,000,000 loops each)\n"
     ]
    }
   ],
   "source": [
    "%timeit prun(callback_addr(), 4, result=X)"
   ]
  },
  {
   "cell_type": "code",
   "execution_count": null,
   "id": "eadf5de4",
   "metadata": {},
   "outputs": [],
   "source": []
  }
 ],
 "metadata": {
  "kernelspec": {
   "display_name": "Python 3 (ipykernel)",
   "language": "python",
   "name": "python3"
  },
  "language_info": {
   "codemirror_mode": {
    "name": "ipython",
    "version": 3
   },
   "file_extension": ".py",
   "mimetype": "text/x-python",
   "name": "python",
   "nbconvert_exporter": "python",
   "pygments_lexer": "ipython3",
   "version": "3.10.10"
  }
 },
 "nbformat": 4,
 "nbformat_minor": 5
}
