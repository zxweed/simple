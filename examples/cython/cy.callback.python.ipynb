{
 "cells": [
  {
   "cell_type": "markdown",
   "id": "ccfd037f",
   "metadata": {
    "ExecuteTime": {
     "end_time": "2022-08-28T05:42:34.264644Z",
     "start_time": "2022-08-28T05:42:34.261159Z"
    }
   },
   "source": [
    "## Call the python callback from cython code"
   ]
  },
  {
   "cell_type": "code",
   "execution_count": 1,
   "id": "8f2f8158",
   "metadata": {
    "ExecuteTime": {
     "end_time": "2022-08-27T15:11:57.616591Z",
     "start_time": "2022-08-27T15:11:57.302560Z"
    }
   },
   "outputs": [],
   "source": [
    "%load_ext cython"
   ]
  },
  {
   "cell_type": "code",
   "execution_count": 2,
   "id": "36723916",
   "metadata": {
    "ExecuteTime": {
     "end_time": "2022-08-27T15:11:57.623353Z",
     "start_time": "2022-08-27T15:11:57.618489Z"
    }
   },
   "outputs": [],
   "source": [
    "%%cython\n",
    "\n",
    "cdef int ccallback(int i, void *func):\n",
    "    return (<object>func)(i)\n",
    "    \n",
    "ctypedef int (*TFunc)(int i, void *user_data)\n",
    "\n",
    "cdef int crun(TFunc user_func, void *user_data):\n",
    "    return user_func(1, user_data)\n",
    "\n",
    "def prun(pcallback):\n",
    "    return crun(ccallback, <void*>pcallback)"
   ]
  },
  {
   "cell_type": "code",
   "execution_count": 3,
   "id": "46faec63",
   "metadata": {
    "ExecuteTime": {
     "end_time": "2022-08-27T15:11:57.639186Z",
     "start_time": "2022-08-27T15:11:57.625669Z"
    }
   },
   "outputs": [
    {
     "name": "stdout",
     "output_type": "stream",
     "text": [
      "called pcallback(1)\n"
     ]
    },
    {
     "data": {
      "text/plain": [
       "2"
      ]
     },
     "execution_count": 3,
     "metadata": {},
     "output_type": "execute_result"
    }
   ],
   "source": [
    "def pcallback(param):\n",
    "    print(f\"called pcallback({param})\")\n",
    "    return param + 1\n",
    "\n",
    "prun(pcallback)"
   ]
  },
  {
   "cell_type": "code",
   "execution_count": null,
   "id": "6c804b3d",
   "metadata": {},
   "outputs": [],
   "source": []
  }
 ],
 "metadata": {
  "kernelspec": {
   "display_name": "Python 3 (ipykernel)",
   "language": "python",
   "name": "python3"
  },
  "language_info": {
   "codemirror_mode": {
    "name": "ipython",
    "version": 3
   },
   "file_extension": ".py",
   "mimetype": "text/x-python",
   "name": "python",
   "nbconvert_exporter": "python",
   "pygments_lexer": "ipython3",
   "version": "3.10.10"
  }
 },
 "nbformat": 4,
 "nbformat_minor": 5
}
