{
 "cells": [
  {
   "cell_type": "markdown",
   "id": "1e68d442",
   "metadata": {},
   "source": [
    "## Call the cython callback from another module using raw address and additional arguments"
   ]
  },
  {
   "cell_type": "code",
   "execution_count": 1,
   "id": "8f2f8158",
   "metadata": {
    "ExecuteTime": {
     "end_time": "2022-08-28T11:17:13.923073Z",
     "start_time": "2022-08-28T11:17:13.591487Z"
    }
   },
   "outputs": [],
   "source": [
    "%load_ext cython"
   ]
  },
  {
   "cell_type": "code",
   "execution_count": 2,
   "id": "995b9570",
   "metadata": {
    "ExecuteTime": {
     "end_time": "2022-08-28T11:17:13.929908Z",
     "start_time": "2022-08-28T11:17:13.924882Z"
    }
   },
   "outputs": [],
   "source": [
    "%%cython\n",
    "# The first (core) module - caller\n",
    "\n",
    "ctypedef int (*TFunc)(int x, void *args)\n",
    "\n",
    "def prun(long callback_addr, int x, *args):\n",
    "    \"\"\"Python wrapper to call the func by raw address\"\"\"\n",
    "    cdef TFunc func = <TFunc>callback_addr\n",
    "    return func(x, <void*>args)"
   ]
  },
  {
   "cell_type": "code",
   "execution_count": 3,
   "id": "aeacec0f",
   "metadata": {
    "ExecuteTime": {
     "end_time": "2022-08-28T11:18:13.814339Z",
     "start_time": "2022-08-28T11:18:13.807177Z"
    },
    "code_folding": [
     4
    ]
   },
   "outputs": [],
   "source": [
    "%%cython\n",
    "# The second (user) module - callee\n",
    "\n",
    "cdef int callback(int x, void *args):\n",
    "    \"\"\"Internal cython format function (that can use stdlib parameters directly)\"\"\"\n",
    "    print(*<tuple>args)\n",
    "    return x+x\n",
    "\n",
    "def callback_addr():\n",
    "    \"\"\"Exports raw address of callback to python\"\"\"\n",
    "    return <long>&callback"
   ]
  },
  {
   "cell_type": "code",
   "execution_count": 4,
   "id": "e4d3008b",
   "metadata": {
    "ExecuteTime": {
     "end_time": "2022-08-28T11:18:14.422098Z",
     "start_time": "2022-08-28T11:18:14.414249Z"
    }
   },
   "outputs": [
    {
     "name": "stdout",
     "output_type": "stream",
     "text": [
      "1 2 3\n"
     ]
    },
    {
     "data": {
      "text/plain": [
       "48"
      ]
     },
     "execution_count": 4,
     "metadata": {},
     "output_type": "execute_result"
    }
   ],
   "source": [
    "prun(callback_addr(), 24, 1, 2, 3)"
   ]
  },
  {
   "cell_type": "code",
   "execution_count": null,
   "id": "7d34297c",
   "metadata": {},
   "outputs": [],
   "source": []
  }
 ],
 "metadata": {
  "kernelspec": {
   "display_name": "Python 3 (ipykernel)",
   "language": "python",
   "name": "python3"
  },
  "language_info": {
   "codemirror_mode": {
    "name": "ipython",
    "version": 3
   },
   "file_extension": ".py",
   "mimetype": "text/x-python",
   "name": "python",
   "nbconvert_exporter": "python",
   "pygments_lexer": "ipython3",
   "version": "3.10.10"
  }
 },
 "nbformat": 4,
 "nbformat_minor": 5
}
