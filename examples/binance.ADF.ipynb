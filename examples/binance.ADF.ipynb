{
 "cells": [
  {
   "cell_type": "code",
   "execution_count": 1,
   "id": "a7e9651a-f391-4785-ac98-198d7c0fef4f",
   "metadata": {
    "execution": {
     "iopub.execute_input": "2023-12-25T16:47:52.378431Z",
     "iopub.status.busy": "2023-12-25T16:47:52.378297Z",
     "iopub.status.idle": "2023-12-25T16:47:53.452527Z",
     "shell.execute_reply": "2023-12-25T16:47:53.451832Z",
     "shell.execute_reply.started": "2023-12-25T16:47:52.378418Z"
    },
    "tags": []
   },
   "outputs": [],
   "source": [
    "from simple.binance import getHistMonth\n",
    "from simple.chart import chartFigure, updateFigure\n",
    "from simple.pretty import pmap\n",
    "\n",
    "import pandas as pd\n",
    "from statsmodels.tsa.stattools import adfuller\n",
    "from ipyslickgrid import show_grid\n",
    "from ipywidgets import VBox"
   ]
  },
  {
   "cell_type": "code",
   "execution_count": 2,
   "id": "a18109c9-3733-4e77-b8ea-5f44c25fadc2",
   "metadata": {
    "execution": {
     "iopub.execute_input": "2023-12-25T16:47:53.454099Z",
     "iopub.status.busy": "2023-12-25T16:47:53.453624Z",
     "iopub.status.idle": "2023-12-25T16:47:53.460087Z",
     "shell.execute_reply": "2023-12-25T16:47:53.459387Z",
     "shell.execute_reply.started": "2023-12-25T16:47:53.454086Z"
    },
    "tags": []
   },
   "outputs": [],
   "source": [
    "frame = '1h'\n",
    "\n",
    "tickers = [\n",
    "    '1000SHIBUSDT', '1000XECUSDT', '1INCHUSDT', 'AAVEUSDT', 'ADABUSD', 'ADAUSDT', 'ALGOUSDT', 'ALICEUSDT', \n",
    "    'ALPHAUSDT', 'ANKRUSDT', 'ANTUSDT', 'API3USDT', 'ARPAUSDT', 'ARUSDT', 'ATAUSDT', 'ATOMUSDT', 'AUDIOUSDT', \n",
    "    'AVAXUSDT', 'AXSUSDT', 'BAKEUSDT', 'BALUSDT', 'BANDUSDT', 'BATUSDT', 'BCHUSDT', 'BELUSDT', 'BLZUSDT',\n",
    "    'BNBBUSD', 'BNBUSDT', 'BTCBUSD', 'BTCDOMUSDT', 'BTCUSDT', 'C98USDT', 'CELOUSDT', 'CELRUSDT',\n",
    "    'CHRUSDT', 'CHZUSDT', 'COMPUSDT', 'COTIUSDT', 'CRVUSDT', 'CTKUSDT', 'CTSIUSDT', 'DASHUSDT', 'DEFIUSDT',\n",
    "    'DENTUSDT', 'DGBUSDT', 'DOGEBUSD', 'DOGEUSDT', 'DOTUSDT', 'DUSKUSDT', 'DYDXUSDT', 'EGLDUSDT', 'ENJUSDT',\n",
    "    'ENSUSDT', 'EOSUSDT', 'ETCUSDT', 'ETHBUSD', 'ETHUSDT', 'FILUSDT', 'FLMUSDT', 'FLOWUSDT', 'FTMUSDT', 'GALAUSDT', \n",
    "    'GRTUSDT', 'GTCUSDT', 'HBARUSDT', 'HOTUSDT', 'ICPUSDT', 'ICXUSDT', 'IMXUSDT', 'IOSTUSDT', 'IOTAUSDT', \n",
    "    'IOTXUSDT', 'KAVAUSDT', 'KLAYUSDT', 'KNCUSDT', 'KSMUSDT', 'LINAUSDT', 'LINKUSDT', 'LITUSDT', 'LPTUSDT',\n",
    "    'LRCUSDT', 'LTCUSDT', 'MANAUSDT', 'MASKUSDT', 'MATICUSDT', 'MKRUSDT', 'MTLUSDT', 'NEARUSDT', 'NEOUSDT',\n",
    "    'NKNUSDT', 'OCEANUSDT', 'OGNUSDT', 'OMGUSDT', 'ONEUSDT', 'ONTUSDT', 'PEOPLEUSDT', 'QTUMUSDT', 'REEFUSDT',\n",
    "    'RENUSDT', 'RLCUSDT', 'ROSEUSDT', 'RSRUSDT', 'RUNEUSDT', 'RVNUSDT', 'SANDUSDT', 'SFPUSDT', 'SKLUSDT',\n",
    "    'SNXUSDT', 'SOLBUSD', 'SOLUSDT', 'STMXUSDT', 'STORJUSDT', 'SUSHIUSDT', 'SXPUSDT', 'THETAUSDT', 'TLMUSDT',\n",
    "    'TOMOUSDT', 'TRBUSDT', 'TRXUSDT', 'UNFIUSDT', 'UNIUSDT', 'VETUSDT', 'WAVESUSDT', 'XEMUSDT', 'XLMUSDT', \n",
    "    'XMRUSDT', 'XRPBUSD', 'XRPUSDT', 'XTZUSDT', 'YFIUSDT', 'ZECUSDT', 'ZENUSDT', 'ZILUSDT', 'ZRXUSDT'\n",
    "]"
   ]
  },
  {
   "cell_type": "code",
   "execution_count": 3,
   "id": "539ac9bd-a465-43c0-a293-064e07cb21c0",
   "metadata": {
    "execution": {
     "iopub.execute_input": "2023-12-25T16:47:53.461062Z",
     "iopub.status.busy": "2023-12-25T16:47:53.460802Z",
     "iopub.status.idle": "2023-12-25T16:47:53.464295Z",
     "shell.execute_reply": "2023-12-25T16:47:53.463768Z",
     "shell.execute_reply.started": "2023-12-25T16:47:53.461049Z"
    },
    "tags": []
   },
   "outputs": [],
   "source": [
    "def getClose(ticker: str) -> pd.Series:\n",
    "    return getHistMonth('2023-03', '2023-03', ticker, frame, close_only=True, spot=False)"
   ]
  },
  {
   "cell_type": "code",
   "execution_count": 4,
   "id": "65c277d7-07cd-4efc-9b56-457de99c0660",
   "metadata": {
    "execution": {
     "iopub.execute_input": "2023-12-25T16:47:53.465106Z",
     "iopub.status.busy": "2023-12-25T16:47:53.464861Z",
     "iopub.status.idle": "2023-12-25T16:48:00.062137Z",
     "shell.execute_reply": "2023-12-25T16:48:00.061553Z",
     "shell.execute_reply.started": "2023-12-25T16:47:53.465094Z"
    },
    "tags": []
   },
   "outputs": [
    {
     "data": {
      "application/vnd.jupyter.widget-view+json": {
       "model_id": "142c296d1652429b932050bb5474ab5b",
       "version_major": 2,
       "version_minor": 0
      },
      "text/plain": [
       "  0%|          | 0/134 [00:00<?, ?it/s]"
      ]
     },
     "metadata": {},
     "output_type": "display_data"
    },
    {
     "data": {
      "text/html": [
       "<div>\n",
       "<style scoped>\n",
       "    .dataframe tbody tr th:only-of-type {\n",
       "        vertical-align: middle;\n",
       "    }\n",
       "\n",
       "    .dataframe tbody tr th {\n",
       "        vertical-align: top;\n",
       "    }\n",
       "\n",
       "    .dataframe thead th {\n",
       "        text-align: right;\n",
       "    }\n",
       "</style>\n",
       "<table border=\"1\" class=\"dataframe\">\n",
       "  <thead>\n",
       "    <tr style=\"text-align: right;\">\n",
       "      <th></th>\n",
       "      <th>1000SHIBUSDT</th>\n",
       "      <th>1000XECUSDT</th>\n",
       "      <th>1INCHUSDT</th>\n",
       "      <th>AAVEUSDT</th>\n",
       "      <th>ADABUSD</th>\n",
       "      <th>ADAUSDT</th>\n",
       "      <th>ALGOUSDT</th>\n",
       "      <th>ALICEUSDT</th>\n",
       "      <th>ALPHAUSDT</th>\n",
       "      <th>ANKRUSDT</th>\n",
       "      <th>...</th>\n",
       "      <th>XLMUSDT</th>\n",
       "      <th>XMRUSDT</th>\n",
       "      <th>XRPBUSD</th>\n",
       "      <th>XRPUSDT</th>\n",
       "      <th>XTZUSDT</th>\n",
       "      <th>YFIUSDT</th>\n",
       "      <th>ZECUSDT</th>\n",
       "      <th>ZENUSDT</th>\n",
       "      <th>ZILUSDT</th>\n",
       "      <th>ZRXUSDT</th>\n",
       "    </tr>\n",
       "    <tr>\n",
       "      <th>DateTime</th>\n",
       "      <th></th>\n",
       "      <th></th>\n",
       "      <th></th>\n",
       "      <th></th>\n",
       "      <th></th>\n",
       "      <th></th>\n",
       "      <th></th>\n",
       "      <th></th>\n",
       "      <th></th>\n",
       "      <th></th>\n",
       "      <th></th>\n",
       "      <th></th>\n",
       "      <th></th>\n",
       "      <th></th>\n",
       "      <th></th>\n",
       "      <th></th>\n",
       "      <th></th>\n",
       "      <th></th>\n",
       "      <th></th>\n",
       "      <th></th>\n",
       "      <th></th>\n",
       "    </tr>\n",
       "  </thead>\n",
       "  <tbody>\n",
       "    <tr>\n",
       "      <th>2023-03-01 00:00:00</th>\n",
       "      <td>0.012013</td>\n",
       "      <td>0.03390</td>\n",
       "      <td>0.5693</td>\n",
       "      <td>77.38</td>\n",
       "      <td>0.3503</td>\n",
       "      <td>0.3502</td>\n",
       "      <td>0.2432</td>\n",
       "      <td>1.813</td>\n",
       "      <td>0.13284</td>\n",
       "      <td>0.03834</td>\n",
       "      <td>...</td>\n",
       "      <td>0.08676</td>\n",
       "      <td>150.52</td>\n",
       "      <td>0.3742</td>\n",
       "      <td>0.3740</td>\n",
       "      <td>1.133</td>\n",
       "      <td>9286.0</td>\n",
       "      <td>42.99</td>\n",
       "      <td>11.753</td>\n",
       "      <td>0.03099</td>\n",
       "      <td>0.2524</td>\n",
       "    </tr>\n",
       "    <tr>\n",
       "      <th>2023-03-01 01:00:00</th>\n",
       "      <td>0.012116</td>\n",
       "      <td>0.03416</td>\n",
       "      <td>0.5748</td>\n",
       "      <td>78.27</td>\n",
       "      <td>0.3531</td>\n",
       "      <td>0.3531</td>\n",
       "      <td>0.2452</td>\n",
       "      <td>1.833</td>\n",
       "      <td>0.13477</td>\n",
       "      <td>0.03886</td>\n",
       "      <td>...</td>\n",
       "      <td>0.08709</td>\n",
       "      <td>152.02</td>\n",
       "      <td>0.3742</td>\n",
       "      <td>0.3742</td>\n",
       "      <td>1.142</td>\n",
       "      <td>9342.0</td>\n",
       "      <td>43.32</td>\n",
       "      <td>11.885</td>\n",
       "      <td>0.03115</td>\n",
       "      <td>0.2549</td>\n",
       "    </tr>\n",
       "    <tr>\n",
       "      <th>2023-03-01 02:00:00</th>\n",
       "      <td>0.012179</td>\n",
       "      <td>0.03441</td>\n",
       "      <td>0.5812</td>\n",
       "      <td>79.04</td>\n",
       "      <td>0.3550</td>\n",
       "      <td>0.3551</td>\n",
       "      <td>0.2464</td>\n",
       "      <td>1.846</td>\n",
       "      <td>0.13613</td>\n",
       "      <td>0.03929</td>\n",
       "      <td>...</td>\n",
       "      <td>0.08728</td>\n",
       "      <td>152.38</td>\n",
       "      <td>0.3743</td>\n",
       "      <td>0.3742</td>\n",
       "      <td>1.155</td>\n",
       "      <td>9489.0</td>\n",
       "      <td>43.61</td>\n",
       "      <td>11.974</td>\n",
       "      <td>0.03139</td>\n",
       "      <td>0.2562</td>\n",
       "    </tr>\n",
       "    <tr>\n",
       "      <th>2023-03-01 03:00:00</th>\n",
       "      <td>0.012235</td>\n",
       "      <td>0.03456</td>\n",
       "      <td>0.5860</td>\n",
       "      <td>79.94</td>\n",
       "      <td>0.3578</td>\n",
       "      <td>0.3577</td>\n",
       "      <td>0.2488</td>\n",
       "      <td>1.864</td>\n",
       "      <td>0.13707</td>\n",
       "      <td>0.03952</td>\n",
       "      <td>...</td>\n",
       "      <td>0.08751</td>\n",
       "      <td>152.97</td>\n",
       "      <td>0.3765</td>\n",
       "      <td>0.3764</td>\n",
       "      <td>1.168</td>\n",
       "      <td>9493.0</td>\n",
       "      <td>43.90</td>\n",
       "      <td>12.014</td>\n",
       "      <td>0.03155</td>\n",
       "      <td>0.2582</td>\n",
       "    </tr>\n",
       "    <tr>\n",
       "      <th>2023-03-01 04:00:00</th>\n",
       "      <td>0.012342</td>\n",
       "      <td>0.03491</td>\n",
       "      <td>0.5933</td>\n",
       "      <td>81.01</td>\n",
       "      <td>0.3620</td>\n",
       "      <td>0.3620</td>\n",
       "      <td>0.2511</td>\n",
       "      <td>1.881</td>\n",
       "      <td>0.13892</td>\n",
       "      <td>0.03976</td>\n",
       "      <td>...</td>\n",
       "      <td>0.08810</td>\n",
       "      <td>153.31</td>\n",
       "      <td>0.3802</td>\n",
       "      <td>0.3800</td>\n",
       "      <td>1.181</td>\n",
       "      <td>9644.0</td>\n",
       "      <td>44.29</td>\n",
       "      <td>12.162</td>\n",
       "      <td>0.03188</td>\n",
       "      <td>0.2609</td>\n",
       "    </tr>\n",
       "  </tbody>\n",
       "</table>\n",
       "<p>5 rows × 134 columns</p>\n",
       "</div>"
      ],
      "text/plain": [
       "                     1000SHIBUSDT  1000XECUSDT  1INCHUSDT  AAVEUSDT  ADABUSD  \\\n",
       "DateTime                                                                       \n",
       "2023-03-01 00:00:00      0.012013      0.03390     0.5693     77.38   0.3503   \n",
       "2023-03-01 01:00:00      0.012116      0.03416     0.5748     78.27   0.3531   \n",
       "2023-03-01 02:00:00      0.012179      0.03441     0.5812     79.04   0.3550   \n",
       "2023-03-01 03:00:00      0.012235      0.03456     0.5860     79.94   0.3578   \n",
       "2023-03-01 04:00:00      0.012342      0.03491     0.5933     81.01   0.3620   \n",
       "\n",
       "                     ADAUSDT  ALGOUSDT  ALICEUSDT  ALPHAUSDT  ANKRUSDT  ...  \\\n",
       "DateTime                                                                ...   \n",
       "2023-03-01 00:00:00   0.3502    0.2432      1.813    0.13284   0.03834  ...   \n",
       "2023-03-01 01:00:00   0.3531    0.2452      1.833    0.13477   0.03886  ...   \n",
       "2023-03-01 02:00:00   0.3551    0.2464      1.846    0.13613   0.03929  ...   \n",
       "2023-03-01 03:00:00   0.3577    0.2488      1.864    0.13707   0.03952  ...   \n",
       "2023-03-01 04:00:00   0.3620    0.2511      1.881    0.13892   0.03976  ...   \n",
       "\n",
       "                     XLMUSDT  XMRUSDT  XRPBUSD  XRPUSDT  XTZUSDT  YFIUSDT  \\\n",
       "DateTime                                                                    \n",
       "2023-03-01 00:00:00  0.08676   150.52   0.3742   0.3740    1.133   9286.0   \n",
       "2023-03-01 01:00:00  0.08709   152.02   0.3742   0.3742    1.142   9342.0   \n",
       "2023-03-01 02:00:00  0.08728   152.38   0.3743   0.3742    1.155   9489.0   \n",
       "2023-03-01 03:00:00  0.08751   152.97   0.3765   0.3764    1.168   9493.0   \n",
       "2023-03-01 04:00:00  0.08810   153.31   0.3802   0.3800    1.181   9644.0   \n",
       "\n",
       "                     ZECUSDT  ZENUSDT  ZILUSDT  ZRXUSDT  \n",
       "DateTime                                                 \n",
       "2023-03-01 00:00:00    42.99   11.753  0.03099   0.2524  \n",
       "2023-03-01 01:00:00    43.32   11.885  0.03115   0.2549  \n",
       "2023-03-01 02:00:00    43.61   11.974  0.03139   0.2562  \n",
       "2023-03-01 03:00:00    43.90   12.014  0.03155   0.2582  \n",
       "2023-03-01 04:00:00    44.29   12.162  0.03188   0.2609  \n",
       "\n",
       "[5 rows x 134 columns]"
      ]
     },
     "execution_count": 4,
     "metadata": {},
     "output_type": "execute_result"
    }
   ],
   "source": [
    "# parallel load data from binance archive\n",
    "Close = pd.concat(pmap(getClose, tickers, n_jobs=32), axis=1)\n",
    "Close.head()"
   ]
  },
  {
   "cell_type": "code",
   "execution_count": 5,
   "id": "9e374926-511a-4171-b917-4099bbf4382a",
   "metadata": {
    "execution": {
     "iopub.execute_input": "2023-12-25T16:48:00.062952Z",
     "iopub.status.busy": "2023-12-25T16:48:00.062809Z",
     "iopub.status.idle": "2023-12-25T16:48:01.425711Z",
     "shell.execute_reply": "2023-12-25T16:48:01.423862Z",
     "shell.execute_reply.started": "2023-12-25T16:48:00.062939Z"
    },
    "tags": []
   },
   "outputs": [
    {
     "data": {
      "application/vnd.jupyter.widget-view+json": {
       "model_id": "24096156bea74211a4dea2d4fb337bf6",
       "version_major": 2,
       "version_minor": 0
      },
      "text/plain": [
       "  0%|          | 0/134 [00:00<?, ?it/s]"
      ]
     },
     "metadata": {},
     "output_type": "display_data"
    },
    {
     "data": {
      "text/html": [
       "<div>\n",
       "<style scoped>\n",
       "    .dataframe tbody tr th:only-of-type {\n",
       "        vertical-align: middle;\n",
       "    }\n",
       "\n",
       "    .dataframe tbody tr th {\n",
       "        vertical-align: top;\n",
       "    }\n",
       "\n",
       "    .dataframe thead th {\n",
       "        text-align: right;\n",
       "    }\n",
       "</style>\n",
       "<table border=\"1\" class=\"dataframe\">\n",
       "  <thead>\n",
       "    <tr style=\"text-align: right;\">\n",
       "      <th></th>\n",
       "      <th>ADF</th>\n",
       "      <th>P-value</th>\n",
       "      <th>Used Lag</th>\n",
       "      <th>Observations</th>\n",
       "      <th>Critical Values</th>\n",
       "      <th>Best IC</th>\n",
       "    </tr>\n",
       "  </thead>\n",
       "  <tbody>\n",
       "    <tr>\n",
       "      <th>1000SHIBUSDT</th>\n",
       "      <td>-0.397774</td>\n",
       "      <td>0.910470</td>\n",
       "      <td>0</td>\n",
       "      <td>35</td>\n",
       "      <td>{'1%': -3.6327426647230316, '5%': -2.948510204...</td>\n",
       "      <td>-436.733872</td>\n",
       "    </tr>\n",
       "    <tr>\n",
       "      <th>1000XECUSDT</th>\n",
       "      <td>-1.124412</td>\n",
       "      <td>0.705239</td>\n",
       "      <td>1</td>\n",
       "      <td>34</td>\n",
       "      <td>{'1%': -3.639224104416853, '5%': -2.9512301791...</td>\n",
       "      <td>-381.620568</td>\n",
       "    </tr>\n",
       "    <tr>\n",
       "      <th>1INCHUSDT</th>\n",
       "      <td>-1.766150</td>\n",
       "      <td>0.397392</td>\n",
       "      <td>2</td>\n",
       "      <td>33</td>\n",
       "      <td>{'1%': -3.6461350877925254, '5%': -2.954126991...</td>\n",
       "      <td>-203.666842</td>\n",
       "    </tr>\n",
       "    <tr>\n",
       "      <th>AAVEUSDT</th>\n",
       "      <td>-0.656802</td>\n",
       "      <td>0.857624</td>\n",
       "      <td>0</td>\n",
       "      <td>35</td>\n",
       "      <td>{'1%': -3.6327426647230316, '5%': -2.948510204...</td>\n",
       "      <td>33.690114</td>\n",
       "    </tr>\n",
       "    <tr>\n",
       "      <th>ADABUSD</th>\n",
       "      <td>-0.353771</td>\n",
       "      <td>0.917536</td>\n",
       "      <td>0</td>\n",
       "      <td>35</td>\n",
       "      <td>{'1%': -3.6327426647230316, '5%': -2.948510204...</td>\n",
       "      <td>-226.491261</td>\n",
       "    </tr>\n",
       "    <tr>\n",
       "      <th>...</th>\n",
       "      <td>...</td>\n",
       "      <td>...</td>\n",
       "      <td>...</td>\n",
       "      <td>...</td>\n",
       "      <td>...</td>\n",
       "      <td>...</td>\n",
       "    </tr>\n",
       "    <tr>\n",
       "      <th>YFIUSDT</th>\n",
       "      <td>-4.090040</td>\n",
       "      <td>0.001006</td>\n",
       "      <td>3</td>\n",
       "      <td>32</td>\n",
       "      <td>{'1%': -3.653519805908203, '5%': -2.9572185644...</td>\n",
       "      <td>255.203294</td>\n",
       "    </tr>\n",
       "    <tr>\n",
       "      <th>ZECUSDT</th>\n",
       "      <td>-0.799266</td>\n",
       "      <td>0.819338</td>\n",
       "      <td>0</td>\n",
       "      <td>35</td>\n",
       "      <td>{'1%': -3.6327426647230316, '5%': -2.948510204...</td>\n",
       "      <td>4.040951</td>\n",
       "    </tr>\n",
       "    <tr>\n",
       "      <th>ZENUSDT</th>\n",
       "      <td>1.096363</td>\n",
       "      <td>0.995185</td>\n",
       "      <td>10</td>\n",
       "      <td>25</td>\n",
       "      <td>{'1%': -3.7238633119999998, '5%': -2.98648896,...</td>\n",
       "      <td>-55.630497</td>\n",
       "    </tr>\n",
       "    <tr>\n",
       "      <th>ZILUSDT</th>\n",
       "      <td>0.468525</td>\n",
       "      <td>0.983884</td>\n",
       "      <td>7</td>\n",
       "      <td>28</td>\n",
       "      <td>{'1%': -3.6889256286443146, '5%': -2.971989489...</td>\n",
       "      <td>-344.782229</td>\n",
       "    </tr>\n",
       "    <tr>\n",
       "      <th>ZRXUSDT</th>\n",
       "      <td>0.517911</td>\n",
       "      <td>0.985407</td>\n",
       "      <td>10</td>\n",
       "      <td>25</td>\n",
       "      <td>{'1%': -3.7238633119999998, '5%': -2.98648896,...</td>\n",
       "      <td>-204.944300</td>\n",
       "    </tr>\n",
       "  </tbody>\n",
       "</table>\n",
       "<p>134 rows × 6 columns</p>\n",
       "</div>"
      ],
      "text/plain": [
       "                   ADF   P-value  Used Lag  Observations  \\\n",
       "1000SHIBUSDT -0.397774  0.910470         0            35   \n",
       "1000XECUSDT  -1.124412  0.705239         1            34   \n",
       "1INCHUSDT    -1.766150  0.397392         2            33   \n",
       "AAVEUSDT     -0.656802  0.857624         0            35   \n",
       "ADABUSD      -0.353771  0.917536         0            35   \n",
       "...                ...       ...       ...           ...   \n",
       "YFIUSDT      -4.090040  0.001006         3            32   \n",
       "ZECUSDT      -0.799266  0.819338         0            35   \n",
       "ZENUSDT       1.096363  0.995185        10            25   \n",
       "ZILUSDT       0.468525  0.983884         7            28   \n",
       "ZRXUSDT       0.517911  0.985407        10            25   \n",
       "\n",
       "                                                Critical Values     Best IC  \n",
       "1000SHIBUSDT  {'1%': -3.6327426647230316, '5%': -2.948510204... -436.733872  \n",
       "1000XECUSDT   {'1%': -3.639224104416853, '5%': -2.9512301791... -381.620568  \n",
       "1INCHUSDT     {'1%': -3.6461350877925254, '5%': -2.954126991... -203.666842  \n",
       "AAVEUSDT      {'1%': -3.6327426647230316, '5%': -2.948510204...   33.690114  \n",
       "ADABUSD       {'1%': -3.6327426647230316, '5%': -2.948510204... -226.491261  \n",
       "...                                                         ...         ...  \n",
       "YFIUSDT       {'1%': -3.653519805908203, '5%': -2.9572185644...  255.203294  \n",
       "ZECUSDT       {'1%': -3.6327426647230316, '5%': -2.948510204...    4.040951  \n",
       "ZENUSDT       {'1%': -3.7238633119999998, '5%': -2.98648896,...  -55.630497  \n",
       "ZILUSDT       {'1%': -3.6889256286443146, '5%': -2.971989489... -344.782229  \n",
       "ZRXUSDT       {'1%': -3.7238633119999998, '5%': -2.98648896,... -204.944300  \n",
       "\n",
       "[134 rows x 6 columns]"
      ]
     },
     "execution_count": 5,
     "metadata": {},
     "output_type": "execute_result"
    }
   ],
   "source": [
    "# parallel run of Augmented Dickey-Fuller test\n",
    "ADF = pd.DataFrame(pmap(adfuller, Close.dropna().values.T),\n",
    "                   index=Close.columns,\n",
    "                   columns=['ADF', 'P-value', 'Used Lag', 'Observations', 'Critical Values', 'Best IC'])\n",
    "ADF"
   ]
  },
  {
   "cell_type": "code",
   "execution_count": 6,
   "id": "a758ff42-9fa5-4af4-85c1-4afa93ea01e6",
   "metadata": {
    "execution": {
     "iopub.execute_input": "2023-12-25T16:48:01.426853Z",
     "iopub.status.busy": "2023-12-25T16:48:01.426542Z",
     "iopub.status.idle": "2023-12-25T16:48:01.682714Z",
     "shell.execute_reply": "2023-12-25T16:48:01.682002Z",
     "shell.execute_reply.started": "2023-12-25T16:48:01.426825Z"
    }
   },
   "outputs": [],
   "source": [
    "fig = chartFigure(Close=dict(color='lightblue', width=3), height=400)"
   ]
  },
  {
   "cell_type": "code",
   "execution_count": 7,
   "id": "78ef4f14-9c77-436d-80fd-e0e7733e776e",
   "metadata": {
    "execution": {
     "iopub.execute_input": "2023-12-25T16:48:01.684501Z",
     "iopub.status.busy": "2023-12-25T16:48:01.684196Z",
     "iopub.status.idle": "2023-12-25T16:48:01.688568Z",
     "shell.execute_reply": "2023-12-25T16:48:01.687928Z",
     "shell.execute_reply.started": "2023-12-25T16:48:01.684489Z"
    }
   },
   "outputs": [],
   "source": [
    "def on_changed(event, grid):\n",
    "    \"\"\"Redraw chart with selected ticker's data\"\"\"\n",
    "\n",
    "    changed = grid.get_changed_df()\n",
    "    k = event['new'][0]\n",
    "    selected = changed.iloc[k:k + 1].to_dict('records')[0]\n",
    "    ticker = selected['index']\n",
    "    updateFigure(fig, Close=Close[ticker])\n",
    "    fig.layout.title.text = ticker"
   ]
  },
  {
   "cell_type": "code",
   "execution_count": 9,
   "id": "23c90db9-4ae0-4a18-b2fe-a418e415788d",
   "metadata": {
    "execution": {
     "iopub.execute_input": "2023-12-25T16:49:09.215126Z",
     "iopub.status.busy": "2023-12-25T16:49:09.214777Z",
     "iopub.status.idle": "2023-12-25T16:49:09.234549Z",
     "shell.execute_reply": "2023-12-25T16:49:09.233829Z",
     "shell.execute_reply.started": "2023-12-25T16:49:09.215111Z"
    },
    "tags": []
   },
   "outputs": [],
   "source": [
    "X = ADF.reset_index()\n",
    "grid = show_grid(X, grid_options={'editable': False, 'forceFitColumns': True, 'multiSelect': False, 'rowHeight': 24, 'maxVisibleRows': 14},\n",
    "                 column_options={'defaultSortAsc': False},\n",
    "                 column_definitions={'Critical Values': {'width': 500}})\n",
    "\n",
    "grid.on('selection_changed', on_changed)\n",
    "grid.change_selection([0])"
   ]
  },
  {
   "cell_type": "code",
   "execution_count": 10,
   "id": "3bf1b75d-5c2a-4c58-935c-42c9d74b6b70",
   "metadata": {
    "execution": {
     "iopub.execute_input": "2023-12-25T16:49:10.565022Z",
     "iopub.status.busy": "2023-12-25T16:49:10.564613Z",
     "iopub.status.idle": "2023-12-25T16:49:10.582715Z",
     "shell.execute_reply": "2023-12-25T16:49:10.582172Z",
     "shell.execute_reply.started": "2023-12-25T16:49:10.565008Z"
    },
    "tags": []
   },
   "outputs": [
    {
     "data": {
      "application/vnd.jupyter.widget-view+json": {
       "model_id": "1f5d2e1d32f64cc4be4e93ebb8547530",
       "version_major": 2,
       "version_minor": 0
      },
      "text/plain": [
       "VBox(children=(FigureWidgetResampler({\n",
       "    'data': [{'line': {'color': 'lightblue', 'width': 3},\n",
       "             …"
      ]
     },
     "metadata": {},
     "output_type": "display_data"
    }
   ],
   "source": [
    "VBox([fig, grid])"
   ]
  },
  {
   "cell_type": "code",
   "execution_count": null,
   "id": "270f99d4-906b-4ddb-91ef-9b9b8be37fc2",
   "metadata": {},
   "outputs": [],
   "source": []
  }
 ],
 "metadata": {
  "kernelspec": {
   "display_name": "Python 3 (ipykernel)",
   "language": "python",
   "name": "python3"
  },
  "language_info": {
   "codemirror_mode": {
    "name": "ipython",
    "version": 3
   },
   "file_extension": ".py",
   "mimetype": "text/x-python",
   "name": "python",
   "nbconvert_exporter": "python",
   "pygments_lexer": "ipython3",
   "version": "3.9.18"
  },
  "widgets": {
   "application/vnd.jupyter.widget-state+json": {
    "state": {
     "15503c2fad4c4c72aa27d8ad9332c164": {
      "model_module": "@jupyter-widgets/base",
      "model_module_version": "1.2.0",
      "model_name": "LayoutModel",
      "state": {}
     },
     "1d10e835fd524e359a6d9f36e8cfbe52": {
      "model_module": "@jupyter-widgets/controls",
      "model_module_version": "1.5.0",
      "model_name": "DescriptionStyleModel",
      "state": {
       "description_width": ""
      }
     },
     "1dd7abe2a3de44b091398c2576c51150": {
      "model_module": "@jupyter-widgets/controls",
      "model_module_version": "1.5.0",
      "model_name": "DescriptionStyleModel",
      "state": {
       "description_width": ""
      }
     },
     "2462066fbbe74be1a2a47d51e16fa8a9": {
      "model_module": "@jupyter-widgets/controls",
      "model_module_version": "1.5.0",
      "model_name": "HTMLModel",
      "state": {
       "layout": "IPY_MODEL_921644d37e964a74953dbd1e1b98b9e2",
       "style": "IPY_MODEL_1d10e835fd524e359a6d9f36e8cfbe52",
       "value": "100%"
      }
     },
     "27d5a19a7b824b99ab423807c6cbba82": {
      "model_module": "@jupyter-widgets/controls",
      "model_module_version": "1.5.0",
      "model_name": "HTMLModel",
      "state": {
       "layout": "IPY_MODEL_70794c9a704c458da8746ac16e85d0df",
       "style": "IPY_MODEL_7ffa0eca7db24c2496281abe3904cfb7",
       "value": " 147/147 [00:05&lt;00:00, 26.53it/s, cpu=18%]"
      }
     },
     "35a03c1de9334e9699927296d3c08f22": {
      "model_module": "ipyslickgrid",
      "model_module_version": "0.0.3",
      "model_name": "QgridModel",
      "state": {
       "_columns": {
        "ADF": {
         "cssClass": "number",
         "defaultSortAsc": false,
         "editable": true,
         "field": "ADF",
         "id": "ADF",
         "maxWidth": null,
         "minWidth": 30,
         "name": "ADF",
         "position": 4,
         "resizable": true,
         "sortable": true,
         "toolTip": "",
         "type": "number",
         "width": null
        },
        "Best IC": {
         "cssClass": "number",
         "defaultSortAsc": false,
         "editable": true,
         "field": "Best IC",
         "id": "Best IC",
         "maxWidth": null,
         "minWidth": 30,
         "name": "Best IC",
         "position": 9,
         "resizable": true,
         "sortable": true,
         "toolTip": "",
         "type": "number",
         "width": null
        },
        "Critical Values": {
         "cssClass": "string",
         "defaultSortAsc": false,
         "editable": true,
         "field": "Critical Values",
         "id": "Critical Values",
         "maxWidth": null,
         "minWidth": 30,
         "name": "Critical Values",
         "position": 8,
         "resizable": true,
         "sortable": true,
         "toolTip": "",
         "type": "string",
         "width": 500
        },
        "Hurst Exponent": {
         "cssClass": "number",
         "defaultSortAsc": false,
         "editable": true,
         "field": "Hurst Exponent",
         "id": "Hurst Exponent",
         "maxWidth": null,
         "minWidth": 30,
         "name": "Hurst Exponent",
         "position": 3,
         "resizable": true,
         "sortable": true,
         "toolTip": "",
         "type": "number",
         "width": null
        },
        "Observations": {
         "cssClass": "integer",
         "defaultSortAsc": false,
         "editable": true,
         "field": "Observations",
         "id": "Observations",
         "maxWidth": null,
         "minWidth": 30,
         "name": "Observations",
         "position": 7,
         "resizable": true,
         "sortable": true,
         "toolTip": "",
         "type": "integer",
         "width": null
        },
        "P-value": {
         "cssClass": "number",
         "defaultSortAsc": false,
         "editable": true,
         "field": "P-value",
         "id": "P-value",
         "maxWidth": null,
         "minWidth": 30,
         "name": "P-value",
         "position": 5,
         "resizable": true,
         "sortable": true,
         "toolTip": "",
         "type": "number",
         "width": null
        },
        "Used Lag": {
         "cssClass": "integer",
         "defaultSortAsc": false,
         "editable": true,
         "field": "Used Lag",
         "id": "Used Lag",
         "maxWidth": null,
         "minWidth": 30,
         "name": "Used Lag",
         "position": 6,
         "resizable": true,
         "sortable": true,
         "toolTip": "",
         "type": "integer",
         "width": null
        },
        "index": {
         "cssClass": "string",
         "defaultSortAsc": false,
         "editable": true,
         "field": "index",
         "first_index": true,
         "id": "index",
         "index_display_text": "",
         "is_index": true,
         "level": 0,
         "maxWidth": null,
         "minWidth": 30,
         "name": "index",
         "position": 2,
         "resizable": true,
         "sortable": true,
         "toolTip": "",
         "type": "string",
         "width": null
        },
        "qgrid_unfiltered_index": {
         "cssClass": "integer",
         "defaultSortAsc": false,
         "editable": true,
         "field": "qgrid_unfiltered_index",
         "id": "qgrid_unfiltered_index",
         "maxWidth": null,
         "minWidth": 30,
         "name": "qgrid_unfiltered_index",
         "position": 1,
         "resizable": true,
         "sortable": true,
         "toolTip": "",
         "type": "integer",
         "width": null
        }
       },
       "_df_json": "{\"schema\":{\"fields\":[{\"name\":\"index\",\"type\":\"string\"},{\"name\":\"qgrid_unfiltered_index\",\"type\":\"integer\"},{\"name\":\"index\",\"type\":\"string\"},{\"name\":\"Hurst Exponent\",\"type\":\"number\"},{\"name\":\"ADF\",\"type\":\"number\"},{\"name\":\"P-value\",\"type\":\"number\"},{\"name\":\"Used Lag\",\"type\":\"integer\"},{\"name\":\"Observations\",\"type\":\"integer\"},{\"name\":\"Critical Values\",\"type\":\"string\"},{\"name\":\"Best IC\",\"type\":\"number\"}],\"primaryKey\":[\"index\"],\"pandas_version\":\"0.20.0\"},\"data\":[{\"level_0\":\"0\",\"qgrid_unfiltered_index\":0,\"index\":\"1000BTTCUSDT\",\"Hurst Exponent\":0.43461,\"ADF\":-0.72294,\"P-value\":0.84072,\"Used Lag\":0,\"Observations\":743,\"Critical Values\":\"{'1%': -3.439181811684251, '5%': -2.865437807603377, '10%': -2.5688456132154935}\",\"Best IC\":-14289.9528},{\"level_0\":\"1\",\"qgrid_unfiltered_index\":1,\"index\":\"1000SHIBUSDT\",\"Hurst Exponent\":0.40811,\"ADF\":-1.87794,\"P-value\":0.34251,\"Used Lag\":0,\"Observations\":743,\"Critical Values\":\"{'1%': -3.439181811684251, '5%': -2.865437807603377, '10%': -2.5688456132154935}\",\"Best IC\":-10082.99157},{\"level_0\":\"2\",\"qgrid_unfiltered_index\":2,\"index\":\"1000XECUSDT\",\"Hurst Exponent\":0.39847,\"ADF\":-0.71797,\"P-value\":0.84204,\"Used Lag\":3,\"Observations\":740,\"Critical Values\":\"{'1%': -3.4392177416762086, '5%': -2.8654536415414684, '10%': -2.5688540485756026}\",\"Best IC\":-8173.37444},{\"level_0\":\"3\",\"qgrid_unfiltered_index\":3,\"index\":\"1INCHUSDT\",\"Hurst Exponent\":0.48391,\"ADF\":-0.56889,\"P-value\":0.87786,\"Used Lag\":1,\"Observations\":742,\"Critical Values\":\"{'1%': -3.4391937559530965, '5%': -2.8654430713273373, '10%': -2.568848417404698}\",\"Best IC\":-3984.89447},{\"level_0\":\"4\",\"qgrid_unfiltered_index\":4,\"index\":\"AAVEUSDT\",\"Hurst Exponent\":0.5526,\"ADF\":-1.2521,\"P-value\":0.65079,\"Used Lag\":19,\"Observations\":724,\"Critical Values\":\"{'1%': -3.4394144152232995, '5%': -2.8655403100177566, '10%': -2.5689002207655443}\",\"Best IC\":2948.34591},{\"level_0\":\"5\",\"qgrid_unfiltered_index\":5,\"index\":\"ADABUSD\",\"Hurst Exponent\":0.5639,\"ADF\":-0.16009,\"P-value\":0.94311,\"Used Lag\":0,\"Observations\":743,\"Critical Values\":\"{'1%': -3.439181811684251, '5%': -2.865437807603377, '10%': -2.5688456132154935}\",\"Best IC\":-4888.42444},{\"level_0\":\"6\",\"qgrid_unfiltered_index\":6,\"index\":\"ADAUSDT\",\"Hurst Exponent\":0.56386,\"ADF\":-0.15558,\"P-value\":0.94361,\"Used Lag\":0,\"Observations\":743,\"Critical Values\":\"{'1%': -3.439181811684251, '5%': -2.865437807603377, '10%': -2.5688456132154935}\",\"Best IC\":-4892.21874},{\"level_0\":\"7\",\"qgrid_unfiltered_index\":7,\"index\":\"AKROUSDT\",\"Hurst Exponent\":0.47588,\"ADF\":-0.99006,\"P-value\":0.75687,\"Used Lag\":0,\"Observations\":743,\"Critical Values\":\"{'1%': -3.439181811684251, '5%': -2.865437807603377, '10%': -2.5688456132154935}\",\"Best IC\":-10799.1775},{\"level_0\":\"8\",\"qgrid_unfiltered_index\":8,\"index\":\"ALGOUSDT\",\"Hurst Exponent\":0.47275,\"ADF\":-0.85245,\"P-value\":0.80323,\"Used Lag\":0,\"Observations\":743,\"Critical Values\":\"{'1%': -3.439181811684251, '5%': -2.865437807603377, '10%': -2.5688456132154935}\",\"Best IC\":-5099.74598},{\"level_0\":\"9\",\"qgrid_unfiltered_index\":9,\"index\":\"ALICEUSDT\",\"Hurst Exponent\":0.48938,\"ADF\":-1.30735,\"P-value\":0.6258,\"Used Lag\":1,\"Observations\":742,\"Critical Values\":\"{'1%': -3.4391937559530965, '5%': -2.8654430713273373, '10%': -2.568848417404698}\",\"Best IC\":-1812.76497},{\"level_0\":\"10\",\"qgrid_unfiltered_index\":10,\"index\":\"ALPHAUSDT\",\"Hurst Exponent\":0.50941,\"ADF\":0.69195,\"P-value\":0.98968,\"Used Lag\":11,\"Observations\":732,\"Critical Values\":\"{'1%': -3.439314999916068, '5%': -2.8654965012008677, '10%': -2.5688768817372867}\",\"Best IC\":-5920.18153},{\"level_0\":\"11\",\"qgrid_unfiltered_index\":11,\"index\":\"ANKRUSDT\",\"Hurst Exponent\":0.42319,\"ADF\":-0.01818,\"P-value\":0.957,\"Used Lag\":1,\"Observations\":742,\"Critical Values\":\"{'1%': -3.4391937559530965, '5%': -2.8654430713273373, '10%': -2.568848417404698}\",\"Best IC\":-8211.50311},{\"level_0\":\"12\",\"qgrid_unfiltered_index\":12,\"index\":\"ANTUSDT\",\"Hurst Exponent\":0.40311,\"ADF\":-1.9549,\"P-value\":0.30669,\"Used Lag\":0,\"Observations\":743,\"Critical Values\":\"{'1%': -3.439181811684251, '5%': -2.865437807603377, '10%': -2.5688456132154935}\",\"Best IC\":-2235.62452},{\"level_0\":\"13\",\"qgrid_unfiltered_index\":13,\"index\":\"API3USDT\",\"Hurst Exponent\":0.50305,\"ADF\":-2.99303,\"P-value\":0.03555,\"Used Lag\":2,\"Observations\":741,\"Critical Values\":\"{'1%': -3.4392057325732104, '5%': -2.8654483492874236, '10%': -2.5688512291811225}\",\"Best IC\":-1588.81836},{\"level_0\":\"14\",\"qgrid_unfiltered_index\":14,\"index\":\"ARPAUSDT\",\"Hurst Exponent\":0.37896,\"ADF\":-1.20445,\"P-value\":0.67168,\"Used Lag\":1,\"Observations\":742,\"Critical Values\":\"{'1%': -3.4391937559530965, '5%': -2.8654430713273373, '10%': -2.568848417404698}\",\"Best IC\":-8108.05607},{\"level_0\":\"15\",\"qgrid_unfiltered_index\":15,\"index\":\"ARUSDT\",\"Hurst Exponent\":0.46078,\"ADF\":-1.70991,\"P-value\":0.42601,\"Used Lag\":0,\"Observations\":743,\"Critical Values\":\"{'1%': -3.439181811684251, '5%': -2.865437807603377, '10%': -2.5688456132154935}\",\"Best IC\":768.34661},{\"level_0\":\"16\",\"qgrid_unfiltered_index\":16,\"index\":\"ATAUSDT\",\"Hurst Exponent\":0.45093,\"ADF\":0.55408,\"P-value\":0.98643,\"Used Lag\":11,\"Observations\":732,\"Critical Values\":\"{'1%': -3.439314999916068, '5%': -2.8654965012008677, '10%': -2.5688768817372867}\",\"Best IC\":-5891.25371},{\"level_0\":\"17\",\"qgrid_unfiltered_index\":17,\"index\":\"ATOMUSDT\",\"Hurst Exponent\":0.36909,\"ADF\":-2.69131,\"P-value\":0.07555,\"Used Lag\":0,\"Observations\":743,\"Critical Values\":\"{'1%': -3.439181811684251, '5%': -2.865437807603377, '10%': -2.5688456132154935}\",\"Best IC\":204.98651},{\"level_0\":\"18\",\"qgrid_unfiltered_index\":18,\"index\":\"AUDIOUSDT\",\"Hurst Exponent\":0.44955,\"ADF\":-0.3251,\"P-value\":0.92187,\"Used Lag\":15,\"Observations\":728,\"Critical Values\":\"{'1%': -3.4393644334758475, '5%': -2.8655182850048306, '10%': -2.568888486973192}\",\"Best IC\":-4043.17369},{\"level_0\":\"19\",\"qgrid_unfiltered_index\":19,\"index\":\"AVAXUSDT\",\"Hurst Exponent\":0.50181,\"ADF\":-1.02588,\"P-value\":0.74371,\"Used Lag\":0,\"Observations\":743,\"Critical Values\":\"{'1%': -3.439181811684251, '5%': -2.865437807603377, '10%': -2.5688456132154935}\",\"Best IC\":1886.70765},{\"level_0\":\"20\",\"qgrid_unfiltered_index\":20,\"index\":\"AXSUSDT\",\"Hurst Exponent\":0.56464,\"ADF\":-0.75835,\"P-value\":0.83105,\"Used Lag\":0,\"Observations\":743,\"Critical Values\":\"{'1%': -3.439181811684251, '5%': -2.865437807603377, '10%': -2.5688456132154935}\",\"Best IC\":1308.11644},{\"level_0\":\"21\",\"qgrid_unfiltered_index\":21,\"index\":\"BAKEUSDT\",\"Hurst Exponent\":0.39911,\"ADF\":2.17518,\"P-value\":0.99886,\"Used Lag\":19,\"Observations\":724,\"Critical Values\":\"{'1%': -3.4394144152232995, '5%': -2.8655403100177566, '10%': -2.5689002207655443}\",\"Best IC\":-4531.53661},{\"level_0\":\"22\",\"qgrid_unfiltered_index\":22,\"index\":\"BALUSDT\",\"Hurst Exponent\":0.48082,\"ADF\":-0.19629,\"P-value\":0.93896,\"Used Lag\":2,\"Observations\":741,\"Critical Values\":\"{'1%': -3.4392057325732104, '5%': -2.8654483492874236, '10%': -2.5688512291811225}\",\"Best IC\":-1068.88094},{\"level_0\":\"23\",\"qgrid_unfiltered_index\":23,\"index\":\"BANDUSDT\",\"Hurst Exponent\":0.41636,\"ADF\":-0.14077,\"P-value\":0.94522,\"Used Lag\":0,\"Observations\":743,\"Critical Values\":\"{'1%': -3.439181811684251, '5%': -2.865437807603377, '10%': -2.5688456132154935}\",\"Best IC\":-2640.11908},{\"level_0\":\"24\",\"qgrid_unfiltered_index\":24,\"index\":\"BATUSDT\",\"Hurst Exponent\":0.47013,\"ADF\":-0.71285,\"P-value\":0.84339,\"Used Lag\":3,\"Observations\":740,\"Critical Values\":\"{'1%': -3.4392177416762086, '5%': -2.8654536415414684, '10%': -2.5688540485756026}\",\"Best IC\":-4930.5536},{\"level_0\":\"25\",\"qgrid_unfiltered_index\":25,\"index\":\"BCHUSDT\",\"Hurst Exponent\":0.49267,\"ADF\":-0.06965,\"P-value\":0.95238,\"Used Lag\":4,\"Observations\":739,\"Critical Values\":\"{'1%': -3.439229783394421, '5%': -2.86545894814762, '10%': -2.5688568756191392}\",\"Best IC\":3406.04552},{\"level_0\":\"26\",\"qgrid_unfiltered_index\":26,\"index\":\"BELUSDT\",\"Hurst Exponent\":0.44487,\"ADF\":0.71306,\"P-value\":0.99009,\"Used Lag\":6,\"Observations\":737,\"Critical Values\":\"{'1%': -3.4392539652094154, '5%': -2.86546960465041, '10%': -2.5688625527782327}\",\"Best IC\":-4589.03745},{\"level_0\":\"27\",\"qgrid_unfiltered_index\":27,\"index\":\"BLZUSDT\",\"Hurst Exponent\":0.49131,\"ADF\":-0.80676,\"P-value\":0.81713,\"Used Lag\":1,\"Observations\":742,\"Critical Values\":\"{'1%': -3.4391937559530965, '5%': -2.8654430713273373, '10%': -2.568848417404698}\",\"Best IC\":-7235.24995},{\"level_0\":\"28\",\"qgrid_unfiltered_index\":28,\"index\":\"BNBBUSD\",\"Hurst Exponent\":0.4441,\"ADF\":-0.89289,\"P-value\":0.79031,\"Used Lag\":9,\"Observations\":734,\"Critical Values\":\"{'1%': -3.439290485895927, '5%': -2.8654856985173414, '10%': -2.568871126669587}\",\"Best IC\":3207.70885},{\"level_0\":\"29\",\"qgrid_unfiltered_index\":29,\"index\":\"BNBUSDT\",\"Hurst Exponent\":0.44328,\"ADF\":-0.88798,\"P-value\":0.79191,\"Used Lag\":9,\"Observations\":734,\"Critical Values\":\"{'1%': -3.439290485895927, '5%': -2.8654856985173414, '10%': -2.568871126669587}\",\"Best IC\":3211.26592},{\"level_0\":\"30\",\"qgrid_unfiltered_index\":30,\"index\":\"BTCBUSD\",\"Hurst Exponent\":0.50571,\"ADF\":-1.01245,\"P-value\":0.7487,\"Used Lag\":0,\"Observations\":743,\"Critical Values\":\"{'1%': -3.439181811684251, '5%': -2.865437807603377, '10%': -2.5688456132154935}\",\"Best IC\":10099.43831},{\"level_0\":\"31\",\"qgrid_unfiltered_index\":31,\"index\":\"BTCDOMUSDT\",\"Hurst Exponent\":0.39298,\"ADF\":-1.05469,\"P-value\":0.7328,\"Used Lag\":0,\"Observations\":743,\"Critical Values\":\"{'1%': -3.439181811684251, '5%': -2.865437807603377, '10%': -2.5688456132154935}\",\"Best IC\":3943.7152},{\"level_0\":\"32\",\"qgrid_unfiltered_index\":32,\"index\":\"BTCSTUSDT\",\"Hurst Exponent\":null,\"ADF\":null,\"P-value\":null,\"Used Lag\":0,\"Observations\":743,\"Critical Values\":\"{'1%': -3.439181811684251, '5%': -2.865437807603377, '10%': -2.5688456132154935}\",\"Best IC\":null},{\"level_0\":\"33\",\"qgrid_unfiltered_index\":33,\"index\":\"BTCUSDT\",\"Hurst Exponent\":0.50503,\"ADF\":-1.0152,\"P-value\":0.74768,\"Used Lag\":0,\"Observations\":743,\"Critical Values\":\"{'1%': -3.439181811684251, '5%': -2.865437807603377, '10%': -2.5688456132154935}\",\"Best IC\":10103.35532},{\"level_0\":\"34\",\"qgrid_unfiltered_index\":34,\"index\":\"BTSUSDT\",\"Hurst Exponent\":0.46977,\"ADF\":-0.39445,\"P-value\":0.91102,\"Used Lag\":1,\"Observations\":742,\"Critical Values\":\"{'1%': -3.4391937559530965, '5%': -2.8654430713273373, '10%': -2.568848417404698}\",\"Best IC\":-10106.76608},{\"level_0\":\"35\",\"qgrid_unfiltered_index\":35,\"index\":\"C98USDT\",\"Hurst Exponent\":0.42347,\"ADF\":-0.89358,\"P-value\":0.79008,\"Used Lag\":0,\"Observations\":743,\"Critical Values\":\"{'1%': -3.439181811684251, '5%': -2.865437807603377, '10%': -2.5688456132154935}\",\"Best IC\":-3832.48446},{\"level_0\":\"36\",\"qgrid_unfiltered_index\":36,\"index\":\"CELOUSDT\",\"Hurst Exponent\":0.38356,\"ADF\":-1.25785,\"P-value\":0.64823,\"Used Lag\":6,\"Observations\":737,\"Critical Values\":\"{'1%': -3.4392539652094154, '5%': -2.86546960465041, '10%': -2.5688625527782327}\",\"Best IC\":-2618.44066},{\"level_0\":\"37\",\"qgrid_unfiltered_index\":37,\"index\":\"CELRUSDT\",\"Hurst Exponent\":0.44316,\"ADF\":2.27723,\"P-value\":0.99894,\"Used Lag\":10,\"Observations\":733,\"Critical Values\":\"{'1%': -3.439302726125018, '5%': -2.8654910924750547, '10%': -2.5688740002680124}\",\"Best IC\":-8386.75176},{\"level_0\":\"38\",\"qgrid_unfiltered_index\":38,\"index\":\"CHRUSDT\",\"Hurst Exponent\":0.45389,\"ADF\":-0.49926,\"P-value\":0.89216,\"Used Lag\":1,\"Observations\":742,\"Critical Values\":\"{'1%': -3.4391937559530965, '5%': -2.8654430713273373, '10%': -2.568848417404698}\",\"Best IC\":-5443.92745},{\"level_0\":\"39\",\"qgrid_unfiltered_index\":39,\"index\":\"CHZUSDT\",\"Hurst Exponent\":0.41672,\"ADF\":-0.44649,\"P-value\":0.90204,\"Used Lag\":3,\"Observations\":740,\"Critical Values\":\"{'1%': -3.4392177416762086, '5%': -2.8654536415414684, '10%': -2.5688540485756026}\",\"Best IC\":-6331.32794},{\"level_0\":\"40\",\"qgrid_unfiltered_index\":40,\"index\":\"COMPUSDT\",\"Hurst Exponent\":0.52418,\"ADF\":0.43328,\"P-value\":0.9827,\"Used Lag\":11,\"Observations\":732,\"Critical Values\":\"{'1%': -3.439314999916068, '5%': -2.8654965012008677, '10%': -2.5688768817372867}\",\"Best IC\":2441.5535},{\"level_0\":\"41\",\"qgrid_unfiltered_index\":41,\"index\":\"COTIUSDT\",\"Hurst Exponent\":0.45518,\"ADF\":-0.69338,\"P-value\":0.84846,\"Used Lag\":0,\"Observations\":743,\"Critical Values\":\"{'1%': -3.439181811684251, '5%': -2.865437807603377, '10%': -2.5688456132154935}\",\"Best IC\":-6503.46068},{\"level_0\":\"42\",\"qgrid_unfiltered_index\":42,\"index\":\"CRVUSDT\",\"Hurst Exponent\":0.55216,\"ADF\":-0.95345,\"P-value\":0.76986,\"Used Lag\":0,\"Observations\":743,\"Critical Values\":\"{'1%': -3.439181811684251, '5%': -2.865437807603377, '10%': -2.5688456132154935}\",\"Best IC\":-3385.3248},{\"level_0\":\"43\",\"qgrid_unfiltered_index\":43,\"index\":\"CTKUSDT\",\"Hurst Exponent\":0.27312,\"ADF\":-0.25294,\"P-value\":0.93191,\"Used Lag\":9,\"Observations\":734,\"Critical Values\":\"{'1%': -3.439290485895927, '5%': -2.8654856985173414, '10%': -2.568871126669587}\",\"Best IC\":-4032.45675},{\"level_0\":\"44\",\"qgrid_unfiltered_index\":44,\"index\":\"CTSIUSDT\",\"Hurst Exponent\":0.46716,\"ADF\":-0.37584,\"P-value\":0.91406,\"Used Lag\":0,\"Observations\":743,\"Critical Values\":\"{'1%': -3.439181811684251, '5%': -2.865437807603377, '10%': -2.5688456132154935}\",\"Best IC\":-5785.32908},{\"level_0\":\"45\",\"qgrid_unfiltered_index\":45,\"index\":\"CVCUSDT\",\"Hurst Exponent\":0.46543,\"ADF\":0.38839,\"P-value\":0.98106,\"Used Lag\":11,\"Observations\":732,\"Critical Values\":\"{'1%': -3.439314999916068, '5%': -2.8654965012008677, '10%': -2.5688768817372867}\",\"Best IC\":-6464.52219},{\"level_0\":\"46\",\"qgrid_unfiltered_index\":46,\"index\":\"DASHUSDT\",\"Hurst Exponent\":0.53463,\"ADF\":-0.64821,\"P-value\":0.85971,\"Used Lag\":0,\"Observations\":743,\"Critical Values\":\"{'1%': -3.439181811684251, '5%': -2.865437807603377, '10%': -2.5688456132154935}\",\"Best IC\":2282.90768},{\"level_0\":\"47\",\"qgrid_unfiltered_index\":47,\"index\":\"DEFIUSDT\",\"Hurst Exponent\":0.51792,\"ADF\":0.35798,\"P-value\":0.97985,\"Used Lag\":0,\"Observations\":743,\"Critical Values\":\"{'1%': -3.439181811684251, '5%': -2.865437807603377, '10%': -2.5688456132154935}\",\"Best IC\":5844.93975},{\"level_0\":\"48\",\"qgrid_unfiltered_index\":48,\"index\":\"DENTUSDT\",\"Hurst Exponent\":0.41494,\"ADF\":-0.58661,\"P-value\":0.87398,\"Used Lag\":0,\"Observations\":743,\"Critical Values\":\"{'1%': -3.439181811684251, '5%': -2.865437807603377, '10%': -2.5688456132154935}\",\"Best IC\":-12919.17559},{\"level_0\":\"49\",\"qgrid_unfiltered_index\":49,\"index\":\"DGBUSDT\",\"Hurst Exponent\":0.47665,\"ADF\":-0.51583,\"P-value\":0.88889,\"Used Lag\":13,\"Observations\":730,\"Critical Values\":\"{'1%': -3.4393396487377155, '5%': -2.865507363200066, '10%': -2.5688826684180897}\",\"Best IC\":-9322.20759},{\"level_0\":\"50\",\"qgrid_unfiltered_index\":50,\"index\":\"DODOUSDT\",\"Hurst Exponent\":0.48174,\"ADF\":-0.70025,\"P-value\":0.84669,\"Used Lag\":1,\"Observations\":742,\"Critical Values\":\"{'1%': -3.4391937559530965, '5%': -2.8654430713273373, '10%': -2.568848417404698}\",\"Best IC\":-5840.03004},{\"level_0\":\"51\",\"qgrid_unfiltered_index\":51,\"index\":\"DOGEBUSD\",\"Hurst Exponent\":0.47853,\"ADF\":-0.9581,\"P-value\":0.76824,\"Used Lag\":1,\"Observations\":742,\"Critical Values\":\"{'1%': -3.4391937559530965, '5%': -2.8654430713273373, '10%': -2.568848417404698}\",\"Best IC\":-7984.18091},{\"level_0\":\"52\",\"qgrid_unfiltered_index\":52,\"index\":\"DOGEUSDT\",\"Hurst Exponent\":0.47832,\"ADF\":-0.95581,\"P-value\":0.76904,\"Used Lag\":1,\"Observations\":742,\"Critical Values\":\"{'1%': -3.4391937559530965, '5%': -2.8654430713273373, '10%': -2.568848417404698}\",\"Best IC\":-7984.45573},{\"level_0\":\"53\",\"qgrid_unfiltered_index\":53,\"index\":\"DOTUSDT\",\"Hurst Exponent\":0.41552,\"ADF\":-0.8547,\"P-value\":0.80253,\"Used Lag\":0,\"Observations\":743,\"Critical Values\":\"{'1%': -3.439181811684251, '5%': -2.865437807603377, '10%': -2.5688456132154935}\",\"Best IC\":-622.7687},{\"level_0\":\"54\",\"qgrid_unfiltered_index\":54,\"index\":\"DUSKUSDT\",\"Hurst Exponent\":0.4349,\"ADF\":-0.83,\"P-value\":0.81015,\"Used Lag\":2,\"Observations\":741,\"Critical Values\":\"{'1%': -3.4392057325732104, '5%': -2.8654483492874236, '10%': -2.5688512291811225}\",\"Best IC\":-5578.01777},{\"level_0\":\"55\",\"qgrid_unfiltered_index\":55,\"index\":\"DYDXUSDT\",\"Hurst Exponent\":0.42652,\"ADF\":-1.44089,\"P-value\":0.56252,\"Used Lag\":1,\"Observations\":742,\"Critical Values\":\"{'1%': -3.4391937559530965, '5%': -2.8654430713273373, '10%': -2.568848417404698}\",\"Best IC\":-2038.95346},{\"level_0\":\"56\",\"qgrid_unfiltered_index\":56,\"index\":\"EGLDUSDT\",\"Hurst Exponent\":0.43795,\"ADF\":-0.76433,\"P-value\":0.82937,\"Used Lag\":0,\"Observations\":743,\"Critical Values\":\"{'1%': -3.439181811684251, '5%': -2.865437807603377, '10%': -2.5688456132154935}\",\"Best IC\":2821.55563},{\"level_0\":\"57\",\"qgrid_unfiltered_index\":57,\"index\":\"ENJUSDT\",\"Hurst Exponent\":0.42526,\"ADF\":-0.34644,\"P-value\":0.91866,\"Used Lag\":3,\"Observations\":740,\"Critical Values\":\"{'1%': -3.4392177416762086, '5%': -2.8654536415414684, '10%': -2.5688540485756026}\",\"Best IC\":-3942.9679},{\"level_0\":\"58\",\"qgrid_unfiltered_index\":58,\"index\":\"ENSUSDT\",\"Hurst Exponent\":0.31708,\"ADF\":-1.44787,\"P-value\":0.55912,\"Used Lag\":1,\"Observations\":742,\"Critical Values\":\"{'1%': -3.4391937559530965, '5%': -2.8654430713273373, '10%': -2.568848417404698}\",\"Best IC\":128.18207},{\"level_0\":\"59\",\"qgrid_unfiltered_index\":59,\"index\":\"EOSUSDT\",\"Hurst Exponent\":0.47402,\"ADF\":0.16107,\"P-value\":0.96999,\"Used Lag\":4,\"Observations\":739,\"Critical Values\":\"{'1%': -3.439229783394421, '5%': -2.86545894814762, '10%': -2.5688568756191392}\",\"Best IC\":-3392.04483},{\"level_0\":\"60\",\"qgrid_unfiltered_index\":60,\"index\":\"ETCUSDT\",\"Hurst Exponent\":0.55538,\"ADF\":0.16387,\"P-value\":0.97016,\"Used Lag\":10,\"Observations\":733,\"Critical Values\":\"{'1%': -3.439302726125018, '5%': -2.8654910924750547, '10%': -2.5688740002680124}\",\"Best IC\":1026.73142},{\"level_0\":\"61\",\"qgrid_unfiltered_index\":61,\"index\":\"ETHBUSD\",\"Hurst Exponent\":0.53135,\"ADF\":-0.43246,\"P-value\":0.90454,\"Used Lag\":0,\"Observations\":743,\"Critical Values\":\"{'1%': -3.439181811684251, '5%': -2.865437807603377, '10%': -2.5688456132154935}\",\"Best IC\":6342.97985},{\"level_0\":\"62\",\"qgrid_unfiltered_index\":62,\"index\":\"ETHUSDT\",\"Hurst Exponent\":0.53122,\"ADF\":-0.43069,\"P-value\":0.90485,\"Used Lag\":0,\"Observations\":743,\"Critical Values\":\"{'1%': -3.439181811684251, '5%': -2.865437807603377, '10%': -2.5688456132154935}\",\"Best IC\":6341.58198},{\"level_0\":\"63\",\"qgrid_unfiltered_index\":63,\"index\":\"FILUSDT\",\"Hurst Exponent\":0.58625,\"ADF\":-0.64811,\"P-value\":0.85974,\"Used Lag\":17,\"Observations\":726,\"Critical Values\":\"{'1%': -3.4393893552577723, '5%': -2.8655292671104644, '10%': -2.5688943376666744}\",\"Best IC\":-140.30673},{\"level_0\":\"64\",\"qgrid_unfiltered_index\":64,\"index\":\"FLMUSDT\",\"Hurst Exponent\":0.49888,\"ADF\":-0.78236,\"P-value\":0.82425,\"Used Lag\":0,\"Observations\":743,\"Critical Values\":\"{'1%': -3.439181811684251, '5%': -2.865437807603377, '10%': -2.5688456132154935}\",\"Best IC\":-6968.64858},{\"level_0\":\"65\",\"qgrid_unfiltered_index\":65,\"index\":\"FLOWUSDT\",\"Hurst Exponent\":0.46421,\"ADF\":-1.10136,\"P-value\":0.71453,\"Used Lag\":2,\"Observations\":741,\"Critical Values\":\"{'1%': -3.4392057325732104, '5%': -2.8654483492874236, '10%': -2.5688512291811225}\",\"Best IC\":-2080.85983},{\"level_0\":\"66\",\"qgrid_unfiltered_index\":66,\"index\":\"FTMUSDT\",\"Hurst Exponent\":0.52534,\"ADF\":-2.19042,\"P-value\":0.20974,\"Used Lag\":8,\"Observations\":735,\"Critical Values\":\"{'1%': -3.4392782790913206, '5%': -2.865480319267325, '10%': -2.568868260909806}\",\"Best IC\":-3873.56533},{\"level_0\":\"67\",\"qgrid_unfiltered_index\":67,\"index\":\"FTTBUSD\",\"Hurst Exponent\":0.53263,\"ADF\":-0.74754,\"P-value\":0.83405,\"Used Lag\":0,\"Observations\":743,\"Critical Values\":\"{'1%': -3.439181811684251, '5%': -2.865437807603377, '10%': -2.5688456132154935}\",\"Best IC\":199.63349},{\"level_0\":\"68\",\"qgrid_unfiltered_index\":68,\"index\":\"GALAUSDT\",\"Hurst Exponent\":0.36629,\"ADF\":-2.19014,\"P-value\":0.20984,\"Used Lag\":0,\"Observations\":743,\"Critical Values\":\"{'1%': -3.439181811684251, '5%': -2.865437807603377, '10%': -2.5688456132154935}\",\"Best IC\":-6574.05775},{\"level_0\":\"69\",\"qgrid_unfiltered_index\":69,\"index\":\"GRTUSDT\",\"Hurst Exponent\":0.44607,\"ADF\":-0.94385,\"P-value\":0.77319,\"Used Lag\":0,\"Observations\":743,\"Critical Values\":\"{'1%': -3.439181811684251, '5%': -2.865437807603377, '10%': -2.5688456132154935}\",\"Best IC\":-5599.24648},{\"level_0\":\"70\",\"qgrid_unfiltered_index\":70,\"index\":\"GTCUSDT\",\"Hurst Exponent\":0.41611,\"ADF\":-1.30617,\"P-value\":0.62634,\"Used Lag\":3,\"Observations\":740,\"Critical Values\":\"{'1%': -3.4392177416762086, '5%': -2.8654536415414684, '10%': -2.5688540485756026}\",\"Best IC\":-1503.1692},{\"level_0\":\"71\",\"qgrid_unfiltered_index\":71,\"index\":\"HBARUSDT\",\"Hurst Exponent\":0.41982,\"ADF\":-1.59858,\"P-value\":0.48431,\"Used Lag\":0,\"Observations\":743,\"Critical Values\":\"{'1%': -3.439181811684251, '5%': -2.865437807603377, '10%': -2.5688456132154935}\",\"Best IC\":-7038.11209},{\"level_0\":\"72\",\"qgrid_unfiltered_index\":72,\"index\":\"HNTUSDT\",\"Hurst Exponent\":0.39955,\"ADF\":-2.61527,\"P-value\":0.08988,\"Used Lag\":0,\"Observations\":743,\"Critical Values\":\"{'1%': -3.439181811684251, '5%': -2.865437807603377, '10%': -2.5688456132154935}\",\"Best IC\":174.96398},{\"level_0\":\"73\",\"qgrid_unfiltered_index\":73,\"index\":\"HOTUSDT\",\"Hurst Exponent\":0.47638,\"ADF\":-0.18652,\"P-value\":0.94011,\"Used Lag\":9,\"Observations\":734,\"Critical Values\":\"{'1%': -3.439290485895927, '5%': -2.8654856985173414, '10%': -2.568871126669587}\",\"Best IC\":-11994.25911},{\"level_0\":\"74\",\"qgrid_unfiltered_index\":74,\"index\":\"ICPUSDT\",\"Hurst Exponent\":0.48363,\"ADF\":-0.96425,\"P-value\":0.76608,\"Used Lag\":3,\"Observations\":740,\"Critical Values\":\"{'1%': -3.4392177416762086, '5%': -2.8654536415414684, '10%': -2.5688540485756026}\",\"Best IC\":-263.24774},{\"level_0\":\"75\",\"qgrid_unfiltered_index\":75,\"index\":\"ICXUSDT\",\"Hurst Exponent\":0.421,\"ADF\":-1.14118,\"P-value\":0.69837,\"Used Lag\":7,\"Observations\":736,\"Critical Values\":\"{'1%': -3.4392661055744767, '5%': -2.86547495466493, '10%': -2.56886540295664}\",\"Best IC\":-4315.56152},{\"level_0\":\"76\",\"qgrid_unfiltered_index\":76,\"index\":\"IMXUSDT\",\"Hurst Exponent\":0.4557,\"ADF\":-1.02716,\"P-value\":0.74323,\"Used Lag\":20,\"Observations\":723,\"Critical Values\":\"{'1%': -3.4394269973845657, '5%': -2.8655458544300387, '10%': -2.568903174551249}\",\"Best IC\":-2649.2731},{\"level_0\":\"77\",\"qgrid_unfiltered_index\":77,\"index\":\"IOSTUSDT\",\"Hurst Exponent\":0.30808,\"ADF\":1.44573,\"P-value\":0.99731,\"Used Lag\":19,\"Observations\":724,\"Critical Values\":\"{'1%': -3.4394144152232995, '5%': -2.8655403100177566, '10%': -2.5689002207655443}\",\"Best IC\":-8933.62747},{\"level_0\":\"78\",\"qgrid_unfiltered_index\":78,\"index\":\"IOTAUSDT\",\"Hurst Exponent\":0.41213,\"ADF\":-1.19293,\"P-value\":0.67663,\"Used Lag\":0,\"Observations\":743,\"Critical Values\":\"{'1%': -3.439181811684251, '5%': -2.865437807603377, '10%': -2.5688456132154935}\",\"Best IC\":-5204.83916},{\"level_0\":\"79\",\"qgrid_unfiltered_index\":79,\"index\":\"IOTXUSDT\",\"Hurst Exponent\":0.39336,\"ADF\":-0.53917,\"P-value\":0.88414,\"Used Lag\":12,\"Observations\":731,\"Critical Values\":\"{'1%': -3.4393273074073045, '5%': -2.8655019247555154, '10%': -2.568879771109793}\",\"Best IC\":-7821.93035},{\"level_0\":\"80\",\"qgrid_unfiltered_index\":80,\"index\":\"KAVAUSDT\",\"Hurst Exponent\":0.49881,\"ADF\":0.78256,\"P-value\":0.99135,\"Used Lag\":15,\"Observations\":728,\"Critical Values\":\"{'1%': -3.4393644334758475, '5%': -2.8655182850048306, '10%': -2.568888486973192}\",\"Best IC\":-2800.70559},{\"level_0\":\"81\",\"qgrid_unfiltered_index\":81,\"index\":\"KLAYUSDT\",\"Hurst Exponent\":0.42085,\"ADF\":-2.73076,\"P-value\":0.06887,\"Used Lag\":0,\"Observations\":743,\"Critical Values\":\"{'1%': -3.439181811684251, '5%': -2.865437807603377, '10%': -2.5688456132154935}\",\"Best IC\":-5286.42851},{\"level_0\":\"82\",\"qgrid_unfiltered_index\":82,\"index\":\"KNCUSDT\",\"Hurst Exponent\":0.41022,\"ADF\":-2.02405,\"P-value\":0.27613,\"Used Lag\":0,\"Observations\":743,\"Critical Values\":\"{'1%': -3.439181811684251, '5%': -2.865437807603377, '10%': -2.5688456132154935}\",\"Best IC\":-2515.84222},{\"level_0\":\"83\",\"qgrid_unfiltered_index\":83,\"index\":\"KSMUSDT\",\"Hurst Exponent\":0.49294,\"ADF\":0.71057,\"P-value\":0.99005,\"Used Lag\":8,\"Observations\":735,\"Critical Values\":\"{'1%': -3.4392782790913206, '5%': -2.865480319267325, '10%': -2.568868260909806}\",\"Best IC\":2706.81905},{\"level_0\":\"84\",\"qgrid_unfiltered_index\":84,\"index\":\"LINAUSDT\",\"Hurst Exponent\":0.39318,\"ADF\":-0.28036,\"P-value\":0.92824,\"Used Lag\":5,\"Observations\":738,\"Critical Values\":\"{'1%': -3.4392418578608983, '5%': -2.86546426916434, '10%': -2.568859710342903}\",\"Best IC\":-10019.54873},{\"level_0\":\"85\",\"qgrid_unfiltered_index\":85,\"index\":\"LINKUSDT\",\"Hurst Exponent\":0.4439,\"ADF\":-0.55887,\"P-value\":0.88001,\"Used Lag\":6,\"Observations\":737,\"Critical Values\":\"{'1%': -3.4392539652094154, '5%': -2.86546960465041, '10%': -2.5688625527782327}\",\"Best IC\":-1008.86679},{\"level_0\":\"86\",\"qgrid_unfiltered_index\":86,\"index\":\"LITUSDT\",\"Hurst Exponent\":0.5043,\"ADF\":-0.30684,\"P-value\":0.92453,\"Used Lag\":1,\"Observations\":742,\"Critical Values\":\"{'1%': -3.4391937559530965, '5%': -2.8654430713273373, '10%': -2.568848417404698}\",\"Best IC\":-4055.62855},{\"level_0\":\"87\",\"qgrid_unfiltered_index\":87,\"index\":\"LPTUSDT\",\"Hurst Exponent\":0.44059,\"ADF\":-1.31111,\"P-value\":0.62408,\"Used Lag\":0,\"Observations\":743,\"Critical Values\":\"{'1%': -3.439181811684251, '5%': -2.865437807603377, '10%': -2.5688456132154935}\",\"Best IC\":71.32075},{\"level_0\":\"88\",\"qgrid_unfiltered_index\":88,\"index\":\"LRCUSDT\",\"Hurst Exponent\":0.39163,\"ADF\":-0.61197,\"P-value\":0.86825,\"Used Lag\":10,\"Observations\":733,\"Critical Values\":\"{'1%': -3.439302726125018, '5%': -2.8654910924750547, '10%': -2.5688740002680124}\",\"Best IC\":-4072.32678},{\"level_0\":\"89\",\"qgrid_unfiltered_index\":89,\"index\":\"LTCUSDT\",\"Hurst Exponent\":0.39352,\"ADF\":-0.85599,\"P-value\":0.80212,\"Used Lag\":0,\"Observations\":743,\"Critical Values\":\"{'1%': -3.439181811684251, '5%': -2.865437807603377, '10%': -2.5688456132154935}\",\"Best IC\":1732.64892},{\"level_0\":\"90\",\"qgrid_unfiltered_index\":90,\"index\":\"LUNAUSDT\",\"Hurst Exponent\":0.48087,\"ADF\":-1.99282,\"P-value\":0.28973,\"Used Lag\":1,\"Observations\":742,\"Critical Values\":\"{'1%': -3.4391937559530965, '5%': -2.8654430713273373, '10%': -2.568848417404698}\",\"Best IC\":2034.86221},{\"level_0\":\"91\",\"qgrid_unfiltered_index\":91,\"index\":\"MANAUSDT\",\"Hurst Exponent\":0.43671,\"ADF\":-2.17466,\"P-value\":0.21557,\"Used Lag\":1,\"Observations\":742,\"Critical Values\":\"{'1%': -3.4391937559530965, '5%': -2.8654430713273373, '10%': -2.568848417404698}\",\"Best IC\":-3532.93772},{\"level_0\":\"92\",\"qgrid_unfiltered_index\":92,\"index\":\"MASKUSDT\",\"Hurst Exponent\":0.48495,\"ADF\":0.59061,\"P-value\":0.98738,\"Used Lag\":6,\"Observations\":737,\"Critical Values\":\"{'1%': -3.4392539652094154, '5%': -2.86546960465041, '10%': -2.5688625527782327}\",\"Best IC\":-1987.77291},{\"level_0\":\"93\",\"qgrid_unfiltered_index\":93,\"index\":\"MATICUSDT\",\"Hurst Exponent\":0.44747,\"ADF\":-1.31047,\"P-value\":0.62437,\"Used Lag\":3,\"Observations\":740,\"Critical Values\":\"{'1%': -3.4392177416762086, '5%': -2.8654536415414684, '10%': -2.5688540485756026}\",\"Best IC\":-4348.52486},{\"level_0\":\"94\",\"qgrid_unfiltered_index\":94,\"index\":\"MKRUSDT\",\"Hurst Exponent\":0.44627,\"ADF\":-1.52574,\"P-value\":0.52074,\"Used Lag\":0,\"Observations\":743,\"Critical Values\":\"{'1%': -3.439181811684251, '5%': -2.865437807603377, '10%': -2.5688456132154935}\",\"Best IC\":6153.11304},{\"level_0\":\"95\",\"qgrid_unfiltered_index\":95,\"index\":\"MTLUSDT\",\"Hurst Exponent\":0.4408,\"ADF\":0.00057,\"P-value\":0.95858,\"Used Lag\":0,\"Observations\":743,\"Critical Values\":\"{'1%': -3.439181811684251, '5%': -2.865437807603377, '10%': -2.5688456132154935}\",\"Best IC\":-3980.36091},{\"level_0\":\"96\",\"qgrid_unfiltered_index\":96,\"index\":\"NEARUSDT\",\"Hurst Exponent\":0.37287,\"ADF\":-1.27928,\"P-value\":0.6386,\"Used Lag\":0,\"Observations\":743,\"Critical Values\":\"{'1%': -3.439181811684251, '5%': -2.865437807603377, '10%': -2.5688456132154935}\",\"Best IC\":-898.33039},{\"level_0\":\"97\",\"qgrid_unfiltered_index\":97,\"index\":\"NEOUSDT\",\"Hurst Exponent\":0.503,\"ADF\":-0.66002,\"P-value\":0.85683,\"Used Lag\":0,\"Observations\":743,\"Critical Values\":\"{'1%': -3.439181811684251, '5%': -2.865437807603377, '10%': -2.5688456132154935}\",\"Best IC\":-152.86573},{\"level_0\":\"98\",\"qgrid_unfiltered_index\":98,\"index\":\"NKNUSDT\",\"Hurst Exponent\":0.45933,\"ADF\":-0.17483,\"P-value\":0.94146,\"Used Lag\":0,\"Observations\":743,\"Critical Values\":\"{'1%': -3.439181811684251, '5%': -2.865437807603377, '10%': -2.5688456132154935}\",\"Best IC\":-6692.19084},{\"level_0\":\"99\",\"qgrid_unfiltered_index\":99,\"index\":\"OCEANUSDT\",\"Hurst Exponent\":0.43062,\"ADF\":-0.12435,\"P-value\":0.94696,\"Used Lag\":14,\"Observations\":729,\"Critical Values\":\"{'1%': -3.4393520240470554, '5%': -2.8655128165959236, '10%': -2.5688855736949163}\",\"Best IC\":-5300.5796}]}",
       "_df_range": [
        0,
        100
       ],
       "_editable_rows": {},
       "_index_col_name": "qgrid_unfiltered_index",
       "_interval_columns": [],
       "_model_module_version": "0.0.3",
       "_multi_index": false,
       "_row_count": 147,
       "_row_styles": {},
       "_sort_ascending": true,
       "_sort_field": null,
       "_view_module_version": "0.0.3",
       "_viewport_range": [
        0,
        100
       ],
       "grid_options": {
        "autoEdit": false,
        "boldIndex": true,
        "defaultColumnWidth": 150,
        "editable": false,
        "enableColumnReorder": false,
        "enableTextSelectionOnCells": true,
        "explicitInitialization": true,
        "filterable": true,
        "forceFitColumns": true,
        "fullWidthRows": true,
        "highlightSelectedCell": false,
        "highlightSelectedRow": true,
        "maxVisibleRows": 14,
        "minVisibleRows": 8,
        "multiSelect": false,
        "rowHeight": 24,
        "sortable": true,
        "syncColumnCellResize": true
       },
       "id": "2fa6bb85-8cdc-410e-82bf-0e60e5eaf793",
       "layout": "IPY_MODEL_15503c2fad4c4c72aa27d8ad9332c164",
       "precision": 5,
       "show_toolbar": false
      }
     },
     "37314bfb38f740a1a37cb7415967f00d": {
      "model_module": "@jupyter-widgets/controls",
      "model_module_version": "1.5.0",
      "model_name": "HTMLModel",
      "state": {
       "layout": "IPY_MODEL_b7a8a6732d3948dba640d3581613d536",
       "style": "IPY_MODEL_9e0cb8dcd2a840b8be541dc95d5c1156",
       "value": "100%"
      }
     },
     "45b1514225e3416a94c6fde233db1e91": {
      "model_module": "@jupyter-widgets/base",
      "model_module_version": "1.2.0",
      "model_name": "LayoutModel",
      "state": {}
     },
     "4a193512317a4cb685b4baa71900c887": {
      "model_module": "@jupyter-widgets/controls",
      "model_module_version": "1.5.0",
      "model_name": "FloatProgressModel",
      "state": {
       "bar_style": "success",
       "layout": "IPY_MODEL_88b6a63189cf49dcab2a354542b6eec7",
       "max": 147,
       "style": "IPY_MODEL_c72c4e94819f476cb0a99d64622d5d83",
       "value": 147
      }
     },
     "68fbbd5107b844b38617d84be26432cc": {
      "model_module": "jupyterlab-plotly",
      "model_module_version": "^5.6.0",
      "model_name": "FigureModel",
      "state": {
       "_config": {
        "plotlyServerURL": "https://plot.ly"
       },
       "_js2py_layoutDelta": {},
       "_js2py_pointsCallback": {},
       "_js2py_relayout": {},
       "_js2py_restyle": {},
       "_js2py_traceDeltas": {},
       "_js2py_update": {},
       "_layout": {
        "template": {
         "data": {
          "bar": [
           {
            "error_x": {
             "color": "#2a3f5f"
            },
            "error_y": {
             "color": "#2a3f5f"
            },
            "marker": {
             "line": {
              "color": "#E5ECF6",
              "width": 0.5
             },
             "pattern": {
              "fillmode": "overlay",
              "size": 10,
              "solidity": 0.2
             }
            },
            "type": "bar"
           }
          ],
          "barpolar": [
           {
            "marker": {
             "line": {
              "color": "#E5ECF6",
              "width": 0.5
             },
             "pattern": {
              "fillmode": "overlay",
              "size": 10,
              "solidity": 0.2
             }
            },
            "type": "barpolar"
           }
          ],
          "carpet": [
           {
            "aaxis": {
             "endlinecolor": "#2a3f5f",
             "gridcolor": "white",
             "linecolor": "white",
             "minorgridcolor": "white",
             "startlinecolor": "#2a3f5f"
            },
            "baxis": {
             "endlinecolor": "#2a3f5f",
             "gridcolor": "white",
             "linecolor": "white",
             "minorgridcolor": "white",
             "startlinecolor": "#2a3f5f"
            },
            "type": "carpet"
           }
          ],
          "choropleth": [
           {
            "colorbar": {
             "outlinewidth": 0,
             "ticks": ""
            },
            "type": "choropleth"
           }
          ],
          "contour": [
           {
            "colorbar": {
             "outlinewidth": 0,
             "ticks": ""
            },
            "colorscale": [
             [
              0,
              "#0d0887"
             ],
             [
              0.1111111111111111,
              "#46039f"
             ],
             [
              0.2222222222222222,
              "#7201a8"
             ],
             [
              0.3333333333333333,
              "#9c179e"
             ],
             [
              0.4444444444444444,
              "#bd3786"
             ],
             [
              0.5555555555555556,
              "#d8576b"
             ],
             [
              0.6666666666666666,
              "#ed7953"
             ],
             [
              0.7777777777777778,
              "#fb9f3a"
             ],
             [
              0.8888888888888888,
              "#fdca26"
             ],
             [
              1,
              "#f0f921"
             ]
            ],
            "type": "contour"
           }
          ],
          "contourcarpet": [
           {
            "colorbar": {
             "outlinewidth": 0,
             "ticks": ""
            },
            "type": "contourcarpet"
           }
          ],
          "heatmap": [
           {
            "colorbar": {
             "outlinewidth": 0,
             "ticks": ""
            },
            "colorscale": [
             [
              0,
              "#0d0887"
             ],
             [
              0.1111111111111111,
              "#46039f"
             ],
             [
              0.2222222222222222,
              "#7201a8"
             ],
             [
              0.3333333333333333,
              "#9c179e"
             ],
             [
              0.4444444444444444,
              "#bd3786"
             ],
             [
              0.5555555555555556,
              "#d8576b"
             ],
             [
              0.6666666666666666,
              "#ed7953"
             ],
             [
              0.7777777777777778,
              "#fb9f3a"
             ],
             [
              0.8888888888888888,
              "#fdca26"
             ],
             [
              1,
              "#f0f921"
             ]
            ],
            "type": "heatmap"
           }
          ],
          "heatmapgl": [
           {
            "colorbar": {
             "outlinewidth": 0,
             "ticks": ""
            },
            "colorscale": [
             [
              0,
              "#0d0887"
             ],
             [
              0.1111111111111111,
              "#46039f"
             ],
             [
              0.2222222222222222,
              "#7201a8"
             ],
             [
              0.3333333333333333,
              "#9c179e"
             ],
             [
              0.4444444444444444,
              "#bd3786"
             ],
             [
              0.5555555555555556,
              "#d8576b"
             ],
             [
              0.6666666666666666,
              "#ed7953"
             ],
             [
              0.7777777777777778,
              "#fb9f3a"
             ],
             [
              0.8888888888888888,
              "#fdca26"
             ],
             [
              1,
              "#f0f921"
             ]
            ],
            "type": "heatmapgl"
           }
          ],
          "histogram": [
           {
            "marker": {
             "pattern": {
              "fillmode": "overlay",
              "size": 10,
              "solidity": 0.2
             }
            },
            "type": "histogram"
           }
          ],
          "histogram2d": [
           {
            "colorbar": {
             "outlinewidth": 0,
             "ticks": ""
            },
            "colorscale": [
             [
              0,
              "#0d0887"
             ],
             [
              0.1111111111111111,
              "#46039f"
             ],
             [
              0.2222222222222222,
              "#7201a8"
             ],
             [
              0.3333333333333333,
              "#9c179e"
             ],
             [
              0.4444444444444444,
              "#bd3786"
             ],
             [
              0.5555555555555556,
              "#d8576b"
             ],
             [
              0.6666666666666666,
              "#ed7953"
             ],
             [
              0.7777777777777778,
              "#fb9f3a"
             ],
             [
              0.8888888888888888,
              "#fdca26"
             ],
             [
              1,
              "#f0f921"
             ]
            ],
            "type": "histogram2d"
           }
          ],
          "histogram2dcontour": [
           {
            "colorbar": {
             "outlinewidth": 0,
             "ticks": ""
            },
            "colorscale": [
             [
              0,
              "#0d0887"
             ],
             [
              0.1111111111111111,
              "#46039f"
             ],
             [
              0.2222222222222222,
              "#7201a8"
             ],
             [
              0.3333333333333333,
              "#9c179e"
             ],
             [
              0.4444444444444444,
              "#bd3786"
             ],
             [
              0.5555555555555556,
              "#d8576b"
             ],
             [
              0.6666666666666666,
              "#ed7953"
             ],
             [
              0.7777777777777778,
              "#fb9f3a"
             ],
             [
              0.8888888888888888,
              "#fdca26"
             ],
             [
              1,
              "#f0f921"
             ]
            ],
            "type": "histogram2dcontour"
           }
          ],
          "mesh3d": [
           {
            "colorbar": {
             "outlinewidth": 0,
             "ticks": ""
            },
            "type": "mesh3d"
           }
          ],
          "parcoords": [
           {
            "line": {
             "colorbar": {
              "outlinewidth": 0,
              "ticks": ""
             }
            },
            "type": "parcoords"
           }
          ],
          "pie": [
           {
            "automargin": true,
            "type": "pie"
           }
          ],
          "scatter": [
           {
            "marker": {
             "colorbar": {
              "outlinewidth": 0,
              "ticks": ""
             }
            },
            "type": "scatter"
           }
          ],
          "scatter3d": [
           {
            "line": {
             "colorbar": {
              "outlinewidth": 0,
              "ticks": ""
             }
            },
            "marker": {
             "colorbar": {
              "outlinewidth": 0,
              "ticks": ""
             }
            },
            "type": "scatter3d"
           }
          ],
          "scattercarpet": [
           {
            "marker": {
             "colorbar": {
              "outlinewidth": 0,
              "ticks": ""
             }
            },
            "type": "scattercarpet"
           }
          ],
          "scattergeo": [
           {
            "marker": {
             "colorbar": {
              "outlinewidth": 0,
              "ticks": ""
             }
            },
            "type": "scattergeo"
           }
          ],
          "scattergl": [
           {
            "marker": {
             "colorbar": {
              "outlinewidth": 0,
              "ticks": ""
             }
            },
            "type": "scattergl"
           }
          ],
          "scattermapbox": [
           {
            "marker": {
             "colorbar": {
              "outlinewidth": 0,
              "ticks": ""
             }
            },
            "type": "scattermapbox"
           }
          ],
          "scatterpolar": [
           {
            "marker": {
             "colorbar": {
              "outlinewidth": 0,
              "ticks": ""
             }
            },
            "type": "scatterpolar"
           }
          ],
          "scatterpolargl": [
           {
            "marker": {
             "colorbar": {
              "outlinewidth": 0,
              "ticks": ""
             }
            },
            "type": "scatterpolargl"
           }
          ],
          "scatterternary": [
           {
            "marker": {
             "colorbar": {
              "outlinewidth": 0,
              "ticks": ""
             }
            },
            "type": "scatterternary"
           }
          ],
          "surface": [
           {
            "colorbar": {
             "outlinewidth": 0,
             "ticks": ""
            },
            "colorscale": [
             [
              0,
              "#0d0887"
             ],
             [
              0.1111111111111111,
              "#46039f"
             ],
             [
              0.2222222222222222,
              "#7201a8"
             ],
             [
              0.3333333333333333,
              "#9c179e"
             ],
             [
              0.4444444444444444,
              "#bd3786"
             ],
             [
              0.5555555555555556,
              "#d8576b"
             ],
             [
              0.6666666666666666,
              "#ed7953"
             ],
             [
              0.7777777777777778,
              "#fb9f3a"
             ],
             [
              0.8888888888888888,
              "#fdca26"
             ],
             [
              1,
              "#f0f921"
             ]
            ],
            "type": "surface"
           }
          ],
          "table": [
           {
            "cells": {
             "fill": {
              "color": "#EBF0F8"
             },
             "line": {
              "color": "white"
             }
            },
            "header": {
             "fill": {
              "color": "#C8D4E3"
             },
             "line": {
              "color": "white"
             }
            },
            "type": "table"
           }
          ]
         },
         "layout": {
          "annotationdefaults": {
           "arrowcolor": "#2a3f5f",
           "arrowhead": 0,
           "arrowwidth": 1
          },
          "autotypenumbers": "strict",
          "coloraxis": {
           "colorbar": {
            "outlinewidth": 0,
            "ticks": ""
           }
          },
          "colorscale": {
           "diverging": [
            [
             0,
             "#8e0152"
            ],
            [
             0.1,
             "#c51b7d"
            ],
            [
             0.2,
             "#de77ae"
            ],
            [
             0.3,
             "#f1b6da"
            ],
            [
             0.4,
             "#fde0ef"
            ],
            [
             0.5,
             "#f7f7f7"
            ],
            [
             0.6,
             "#e6f5d0"
            ],
            [
             0.7,
             "#b8e186"
            ],
            [
             0.8,
             "#7fbc41"
            ],
            [
             0.9,
             "#4d9221"
            ],
            [
             1,
             "#276419"
            ]
           ],
           "sequential": [
            [
             0,
             "#0d0887"
            ],
            [
             0.1111111111111111,
             "#46039f"
            ],
            [
             0.2222222222222222,
             "#7201a8"
            ],
            [
             0.3333333333333333,
             "#9c179e"
            ],
            [
             0.4444444444444444,
             "#bd3786"
            ],
            [
             0.5555555555555556,
             "#d8576b"
            ],
            [
             0.6666666666666666,
             "#ed7953"
            ],
            [
             0.7777777777777778,
             "#fb9f3a"
            ],
            [
             0.8888888888888888,
             "#fdca26"
            ],
            [
             1,
             "#f0f921"
            ]
           ],
           "sequentialminus": [
            [
             0,
             "#0d0887"
            ],
            [
             0.1111111111111111,
             "#46039f"
            ],
            [
             0.2222222222222222,
             "#7201a8"
            ],
            [
             0.3333333333333333,
             "#9c179e"
            ],
            [
             0.4444444444444444,
             "#bd3786"
            ],
            [
             0.5555555555555556,
             "#d8576b"
            ],
            [
             0.6666666666666666,
             "#ed7953"
            ],
            [
             0.7777777777777778,
             "#fb9f3a"
            ],
            [
             0.8888888888888888,
             "#fdca26"
            ],
            [
             1,
             "#f0f921"
            ]
           ]
          },
          "colorway": [
           "#636efa",
           "#EF553B",
           "#00cc96",
           "#ab63fa",
           "#FFA15A",
           "#19d3f3",
           "#FF6692",
           "#B6E880",
           "#FF97FF",
           "#FECB52"
          ],
          "font": {
           "color": "#2a3f5f"
          },
          "geo": {
           "bgcolor": "white",
           "lakecolor": "white",
           "landcolor": "#E5ECF6",
           "showlakes": true,
           "showland": true,
           "subunitcolor": "white"
          },
          "hoverlabel": {
           "align": "left"
          },
          "hovermode": "closest",
          "mapbox": {
           "style": "light"
          },
          "paper_bgcolor": "white",
          "plot_bgcolor": "#E5ECF6",
          "polar": {
           "angularaxis": {
            "gridcolor": "white",
            "linecolor": "white",
            "ticks": ""
           },
           "bgcolor": "#E5ECF6",
           "radialaxis": {
            "gridcolor": "white",
            "linecolor": "white",
            "ticks": ""
           }
          },
          "scene": {
           "xaxis": {
            "backgroundcolor": "#E5ECF6",
            "gridcolor": "white",
            "gridwidth": 2,
            "linecolor": "white",
            "showbackground": true,
            "ticks": "",
            "zerolinecolor": "white"
           },
           "yaxis": {
            "backgroundcolor": "#E5ECF6",
            "gridcolor": "white",
            "gridwidth": 2,
            "linecolor": "white",
            "showbackground": true,
            "ticks": "",
            "zerolinecolor": "white"
           },
           "zaxis": {
            "backgroundcolor": "#E5ECF6",
            "gridcolor": "white",
            "gridwidth": 2,
            "linecolor": "white",
            "showbackground": true,
            "ticks": "",
            "zerolinecolor": "white"
           }
          },
          "shapedefaults": {
           "line": {
            "color": "#2a3f5f"
           }
          },
          "ternary": {
           "aaxis": {
            "gridcolor": "white",
            "linecolor": "white",
            "ticks": ""
           },
           "baxis": {
            "gridcolor": "white",
            "linecolor": "white",
            "ticks": ""
           },
           "bgcolor": "#E5ECF6",
           "caxis": {
            "gridcolor": "white",
            "linecolor": "white",
            "ticks": ""
           }
          },
          "title": {
           "x": 0.05
          },
          "xaxis": {
           "automargin": true,
           "gridcolor": "white",
           "linecolor": "white",
           "ticks": "",
           "title": {
            "standoff": 15
           },
           "zerolinecolor": "white",
           "zerolinewidth": 2
          },
          "yaxis": {
           "automargin": true,
           "gridcolor": "white",
           "linecolor": "white",
           "ticks": "",
           "title": {
            "standoff": 15
           },
           "zerolinecolor": "white",
           "zerolinewidth": 2
          }
         }
        },
        "xaxis": {
         "anchor": "y",
         "domain": [
          0,
          0.94
         ]
        },
        "yaxis": {
         "anchor": "x",
         "domain": [
          0,
          1
         ]
        },
        "yaxis2": {
         "anchor": "x",
         "overlaying": "y",
         "side": "right"
        }
       },
       "_py2js_addTraces": {},
       "_py2js_animate": {},
       "_py2js_deleteTraces": {},
       "_py2js_moveTraces": {},
       "_py2js_relayout": {},
       "_py2js_removeLayoutProps": {},
       "_py2js_removeTraceProps": {},
       "_py2js_restyle": {},
       "_py2js_update": {},
       "_view_count": 0
      }
     },
     "69524b4797eb4b148bbe16fa1d749644": {
      "model_module": "@jupyter-widgets/base",
      "model_module_version": "1.2.0",
      "model_name": "LayoutModel",
      "state": {}
     },
     "70794c9a704c458da8746ac16e85d0df": {
      "model_module": "@jupyter-widgets/base",
      "model_module_version": "1.2.0",
      "model_name": "LayoutModel",
      "state": {}
     },
     "7ffa0eca7db24c2496281abe3904cfb7": {
      "model_module": "@jupyter-widgets/controls",
      "model_module_version": "1.5.0",
      "model_name": "DescriptionStyleModel",
      "state": {
       "description_width": ""
      }
     },
     "829bc508a8b44d169ae19464256c7e87": {
      "model_module": "@jupyter-widgets/base",
      "model_module_version": "1.2.0",
      "model_name": "LayoutModel",
      "state": {}
     },
     "88b6a63189cf49dcab2a354542b6eec7": {
      "model_module": "@jupyter-widgets/base",
      "model_module_version": "1.2.0",
      "model_name": "LayoutModel",
      "state": {}
     },
     "921644d37e964a74953dbd1e1b98b9e2": {
      "model_module": "@jupyter-widgets/base",
      "model_module_version": "1.2.0",
      "model_name": "LayoutModel",
      "state": {}
     },
     "92bc637906624060863f74f2a52419eb": {
      "model_module": "@jupyter-widgets/base",
      "model_module_version": "1.2.0",
      "model_name": "LayoutModel",
      "state": {}
     },
     "95c1af7083d34b0fbb3b4b2185a38a85": {
      "model_module": "@jupyter-widgets/controls",
      "model_module_version": "1.5.0",
      "model_name": "ProgressStyleModel",
      "state": {
       "description_width": ""
      }
     },
     "9a8ed566fd5f4d68be731fcc049917ef": {
      "model_module": "@jupyter-widgets/controls",
      "model_module_version": "1.5.0",
      "model_name": "DescriptionStyleModel",
      "state": {
       "description_width": ""
      }
     },
     "9e0cb8dcd2a840b8be541dc95d5c1156": {
      "model_module": "@jupyter-widgets/controls",
      "model_module_version": "1.5.0",
      "model_name": "DescriptionStyleModel",
      "state": {
       "description_width": ""
      }
     },
     "a59fd512a7c147508b26a4b7885f4f2f": {
      "model_module": "@jupyter-widgets/base",
      "model_module_version": "1.2.0",
      "model_name": "LayoutModel",
      "state": {}
     },
     "aa0a85b13991495284ef77c2cb9371a5": {
      "model_module": "@jupyter-widgets/base",
      "model_module_version": "1.2.0",
      "model_name": "LayoutModel",
      "state": {}
     },
     "b17e2b602b74432cb527e9a22e1d7b45": {
      "model_module": "@jupyter-widgets/controls",
      "model_module_version": "1.5.0",
      "model_name": "VBoxModel",
      "state": {
       "children": [
        "IPY_MODEL_c2106d470e6f43368ac4a15627b9dbe6",
        "IPY_MODEL_35a03c1de9334e9699927296d3c08f22"
       ],
       "layout": "IPY_MODEL_829bc508a8b44d169ae19464256c7e87"
      }
     },
     "b7a8a6732d3948dba640d3581613d536": {
      "model_module": "@jupyter-widgets/base",
      "model_module_version": "1.2.0",
      "model_name": "LayoutModel",
      "state": {}
     },
     "ba07397d32f64b5db70f1b03a65ab434": {
      "model_module": "@jupyter-widgets/controls",
      "model_module_version": "1.5.0",
      "model_name": "HTMLModel",
      "state": {
       "layout": "IPY_MODEL_aa0a85b13991495284ef77c2cb9371a5",
       "style": "IPY_MODEL_de5acce387374230a300beb5ff51b27d",
       "value": " 147/147 [00:01&lt;00:00, 112.63it/s, cpu=14%]"
      }
     },
     "c19810ddf6d34cd8945082958e677a75": {
      "model_module": "@jupyter-widgets/base",
      "model_module_version": "1.2.0",
      "model_name": "LayoutModel",
      "state": {}
     },
     "c2106d470e6f43368ac4a15627b9dbe6": {
      "buffers": [
       {
        "data": "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",
        "encoding": "base64",
        "path": [
         "_data",
         0,
         "y",
         "value"
        ]
       }
      ],
      "model_module": "jupyterlab-plotly",
      "model_module_version": "^5.6.0",
      "model_name": "FigureModel",
      "state": {
       "_config": {
        "plotlyServerURL": "https://plot.ly"
       },
       "_data": [
        {
         "line": {
          "color": "lightblue",
          "width": 3
         },
         "name": "Close",
         "type": "scattergl",
         "uid": "ace7b140-e164-41ab-a26f-b7a333a547fb",
         "x": [
          0,
          1,
          2,
          3,
          4,
          5,
          6,
          7,
          8,
          9,
          10,
          11,
          12,
          13,
          14,
          15,
          16,
          17,
          18,
          19,
          20,
          21,
          22,
          23,
          24,
          25,
          26,
          27,
          28,
          29,
          30,
          31,
          32,
          33,
          34,
          35,
          36,
          37,
          38,
          39,
          40,
          41,
          42,
          43,
          44,
          45,
          46,
          47,
          48,
          49,
          50,
          51,
          52,
          53,
          54,
          55,
          56,
          57,
          58,
          59,
          60,
          61,
          62,
          63,
          64,
          65,
          66,
          67,
          68,
          69,
          70,
          71,
          72,
          73,
          74,
          75,
          76,
          77,
          78,
          79,
          80,
          81,
          82,
          83,
          84,
          85,
          86,
          87,
          88,
          89,
          90,
          91,
          92,
          93,
          94,
          95,
          96,
          97,
          98,
          99,
          100,
          101,
          102,
          103,
          104,
          105,
          106,
          107,
          108,
          109,
          110,
          111,
          112,
          113,
          114,
          115,
          116,
          117,
          118,
          119,
          120,
          121,
          122,
          123,
          124,
          125,
          126,
          127,
          128,
          129,
          130,
          131,
          132,
          133,
          134,
          135,
          136,
          137,
          138,
          139,
          140,
          141,
          142,
          143,
          144,
          145,
          146,
          147,
          148,
          149,
          150,
          151,
          152,
          153,
          154,
          155,
          156,
          157,
          158,
          159,
          160,
          161,
          162,
          163,
          164,
          165,
          166,
          167,
          168,
          169,
          170,
          171,
          172,
          173,
          174,
          175,
          176,
          177,
          178,
          179,
          180,
          181,
          182,
          183,
          184,
          185,
          186,
          187,
          188,
          189,
          190,
          191,
          192,
          193,
          194,
          195,
          196,
          197,
          198,
          199,
          200,
          201,
          202,
          203,
          204,
          205,
          206,
          207,
          208,
          209,
          210,
          211,
          212,
          213,
          214,
          215,
          216,
          217,
          218,
          219,
          220,
          221,
          222,
          223,
          224,
          225,
          226,
          227,
          228,
          229,
          230,
          231,
          232,
          233,
          234,
          235,
          236,
          237,
          238,
          239,
          240,
          241,
          242,
          243,
          244,
          245,
          246,
          247,
          248,
          249,
          250,
          251,
          252,
          253,
          254,
          255,
          256,
          257,
          258,
          259,
          260,
          261,
          262,
          263,
          264,
          265,
          266,
          267,
          268,
          269,
          270,
          271,
          272,
          273,
          274,
          275,
          276,
          277,
          278,
          279,
          280,
          281,
          282,
          283,
          284,
          285,
          286,
          287,
          288,
          289,
          290,
          291,
          292,
          293,
          294,
          295,
          296,
          297,
          298,
          299,
          300,
          301,
          302,
          303,
          304,
          305,
          306,
          307,
          308,
          309,
          310,
          311,
          312,
          313,
          314,
          315,
          316,
          317,
          318,
          319,
          320,
          321,
          322,
          323,
          324,
          325,
          326,
          327,
          328,
          329,
          330,
          331,
          332,
          333,
          334,
          335,
          336,
          337,
          338,
          339,
          340,
          341,
          342,
          343,
          344,
          345,
          346,
          347,
          348,
          349,
          350,
          351,
          352,
          353,
          354,
          355,
          356,
          357,
          358,
          359,
          360,
          361,
          362,
          363,
          364,
          365,
          366,
          367,
          368,
          369,
          370,
          371,
          372,
          373,
          374,
          375,
          376,
          377,
          378,
          379,
          380,
          381,
          382,
          383,
          384,
          385,
          386,
          387,
          388,
          389,
          390,
          391,
          392,
          393,
          394,
          395,
          396,
          397,
          398,
          399,
          400,
          401,
          402,
          403,
          404,
          405,
          406,
          407,
          408,
          409,
          410,
          411,
          412,
          413,
          414,
          415,
          416,
          417,
          418,
          419,
          420,
          421,
          422,
          423,
          424,
          425,
          426,
          427,
          428,
          429,
          430,
          431,
          432,
          433,
          434,
          435,
          436,
          437,
          438,
          439,
          440,
          441,
          442,
          443,
          444,
          445,
          446,
          447,
          448,
          449,
          450,
          451,
          452,
          453,
          454,
          455,
          456,
          457,
          458,
          459,
          460,
          461,
          462,
          463,
          464,
          465,
          466,
          467,
          468,
          469,
          470,
          471,
          472,
          473,
          474,
          475,
          476,
          477,
          478,
          479,
          480,
          481,
          482,
          483,
          484,
          485,
          486,
          487,
          488,
          489,
          490,
          491,
          492,
          493,
          494,
          495,
          496,
          497,
          498,
          499,
          500,
          501,
          502,
          503,
          504,
          505,
          506,
          507,
          508,
          509,
          510,
          511,
          512,
          513,
          514,
          515,
          516,
          517,
          518,
          519,
          520,
          521,
          522,
          523,
          524,
          525,
          526,
          527,
          528,
          529,
          530,
          531,
          532,
          533,
          534,
          535,
          536,
          537,
          538,
          539,
          540,
          541,
          542,
          543,
          544,
          545,
          546,
          547,
          548,
          549,
          550,
          551,
          552,
          553,
          554,
          555,
          556,
          557,
          558,
          559,
          560,
          561,
          562,
          563,
          564,
          565,
          566,
          567,
          568,
          569,
          570,
          571,
          572,
          573,
          574,
          575,
          576,
          577,
          578,
          579,
          580,
          581,
          582,
          583,
          584,
          585,
          586,
          587,
          588,
          589,
          590,
          591,
          592,
          593,
          594,
          595,
          596,
          597,
          598,
          599,
          600,
          601,
          602,
          603,
          604,
          605,
          606,
          607,
          608,
          609,
          610,
          611,
          612,
          613,
          614,
          615,
          616,
          617,
          618,
          619,
          620,
          621,
          622,
          623,
          624,
          625,
          626,
          627,
          628,
          629,
          630,
          631,
          632,
          633,
          634,
          635,
          636,
          637,
          638,
          639,
          640,
          641,
          642,
          643,
          644,
          645,
          646,
          647,
          648,
          649,
          650,
          651,
          652,
          653,
          654,
          655,
          656,
          657,
          658,
          659,
          660,
          661,
          662,
          663,
          664,
          665,
          666,
          667,
          668,
          669,
          670,
          671,
          672,
          673,
          674,
          675,
          676,
          677,
          678,
          679,
          680,
          681,
          682,
          683,
          684,
          685,
          686,
          687,
          688,
          689,
          690,
          691,
          692,
          693,
          694,
          695,
          696,
          697,
          698,
          699,
          700,
          701,
          702,
          703,
          704,
          705,
          706,
          707,
          708,
          709,
          710,
          711,
          712,
          713,
          714,
          715,
          716,
          717,
          718,
          719,
          720,
          721,
          722,
          723,
          724,
          725,
          726,
          727,
          728,
          729,
          730,
          731,
          732,
          733,
          734,
          735,
          736,
          737,
          738,
          739,
          740,
          741,
          742,
          743
         ],
         "y": {
          "dtype": "float64",
          "shape": [
           744
          ],
          "value": {}
         }
        }
       ],
       "_js2py_layoutDelta": {},
       "_js2py_pointsCallback": {},
       "_js2py_relayout": {},
       "_js2py_restyle": {},
       "_js2py_traceDeltas": {},
       "_js2py_update": {},
       "_last_layout_edit_id": 5,
       "_last_trace_edit_id": 4,
       "_layout": {
        "autosize": true,
        "height": 400,
        "legend": {
         "orientation": "h",
         "x": 0.1,
         "y": 1
        },
        "margin": {
         "b": 10,
         "l": 45,
         "pad": 3,
         "r": 15,
         "t": 30
        },
        "template": {
         "data": {
          "bar": [
           {
            "error_x": {
             "color": "#2a3f5f"
            },
            "error_y": {
             "color": "#2a3f5f"
            },
            "marker": {
             "line": {
              "color": "white",
              "width": 0.5
             },
             "pattern": {
              "fillmode": "overlay",
              "size": 10,
              "solidity": 0.2
             }
            },
            "type": "bar"
           }
          ],
          "barpolar": [
           {
            "marker": {
             "line": {
              "color": "white",
              "width": 0.5
             },
             "pattern": {
              "fillmode": "overlay",
              "size": 10,
              "solidity": 0.2
             }
            },
            "type": "barpolar"
           }
          ],
          "carpet": [
           {
            "aaxis": {
             "endlinecolor": "#2a3f5f",
             "gridcolor": "#C8D4E3",
             "linecolor": "#C8D4E3",
             "minorgridcolor": "#C8D4E3",
             "startlinecolor": "#2a3f5f"
            },
            "baxis": {
             "endlinecolor": "#2a3f5f",
             "gridcolor": "#C8D4E3",
             "linecolor": "#C8D4E3",
             "minorgridcolor": "#C8D4E3",
             "startlinecolor": "#2a3f5f"
            },
            "type": "carpet"
           }
          ],
          "choropleth": [
           {
            "colorbar": {
             "outlinewidth": 0,
             "ticks": ""
            },
            "type": "choropleth"
           }
          ],
          "contour": [
           {
            "colorbar": {
             "outlinewidth": 0,
             "ticks": ""
            },
            "colorscale": [
             [
              0,
              "#0d0887"
             ],
             [
              0.1111111111111111,
              "#46039f"
             ],
             [
              0.2222222222222222,
              "#7201a8"
             ],
             [
              0.3333333333333333,
              "#9c179e"
             ],
             [
              0.4444444444444444,
              "#bd3786"
             ],
             [
              0.5555555555555556,
              "#d8576b"
             ],
             [
              0.6666666666666666,
              "#ed7953"
             ],
             [
              0.7777777777777778,
              "#fb9f3a"
             ],
             [
              0.8888888888888888,
              "#fdca26"
             ],
             [
              1,
              "#f0f921"
             ]
            ],
            "type": "contour"
           }
          ],
          "contourcarpet": [
           {
            "colorbar": {
             "outlinewidth": 0,
             "ticks": ""
            },
            "type": "contourcarpet"
           }
          ],
          "heatmap": [
           {
            "colorbar": {
             "outlinewidth": 0,
             "ticks": ""
            },
            "colorscale": [
             [
              0,
              "#0d0887"
             ],
             [
              0.1111111111111111,
              "#46039f"
             ],
             [
              0.2222222222222222,
              "#7201a8"
             ],
             [
              0.3333333333333333,
              "#9c179e"
             ],
             [
              0.4444444444444444,
              "#bd3786"
             ],
             [
              0.5555555555555556,
              "#d8576b"
             ],
             [
              0.6666666666666666,
              "#ed7953"
             ],
             [
              0.7777777777777778,
              "#fb9f3a"
             ],
             [
              0.8888888888888888,
              "#fdca26"
             ],
             [
              1,
              "#f0f921"
             ]
            ],
            "type": "heatmap"
           }
          ],
          "heatmapgl": [
           {
            "colorbar": {
             "outlinewidth": 0,
             "ticks": ""
            },
            "colorscale": [
             [
              0,
              "#0d0887"
             ],
             [
              0.1111111111111111,
              "#46039f"
             ],
             [
              0.2222222222222222,
              "#7201a8"
             ],
             [
              0.3333333333333333,
              "#9c179e"
             ],
             [
              0.4444444444444444,
              "#bd3786"
             ],
             [
              0.5555555555555556,
              "#d8576b"
             ],
             [
              0.6666666666666666,
              "#ed7953"
             ],
             [
              0.7777777777777778,
              "#fb9f3a"
             ],
             [
              0.8888888888888888,
              "#fdca26"
             ],
             [
              1,
              "#f0f921"
             ]
            ],
            "type": "heatmapgl"
           }
          ],
          "histogram": [
           {
            "marker": {
             "pattern": {
              "fillmode": "overlay",
              "size": 10,
              "solidity": 0.2
             }
            },
            "type": "histogram"
           }
          ],
          "histogram2d": [
           {
            "colorbar": {
             "outlinewidth": 0,
             "ticks": ""
            },
            "colorscale": [
             [
              0,
              "#0d0887"
             ],
             [
              0.1111111111111111,
              "#46039f"
             ],
             [
              0.2222222222222222,
              "#7201a8"
             ],
             [
              0.3333333333333333,
              "#9c179e"
             ],
             [
              0.4444444444444444,
              "#bd3786"
             ],
             [
              0.5555555555555556,
              "#d8576b"
             ],
             [
              0.6666666666666666,
              "#ed7953"
             ],
             [
              0.7777777777777778,
              "#fb9f3a"
             ],
             [
              0.8888888888888888,
              "#fdca26"
             ],
             [
              1,
              "#f0f921"
             ]
            ],
            "type": "histogram2d"
           }
          ],
          "histogram2dcontour": [
           {
            "colorbar": {
             "outlinewidth": 0,
             "ticks": ""
            },
            "colorscale": [
             [
              0,
              "#0d0887"
             ],
             [
              0.1111111111111111,
              "#46039f"
             ],
             [
              0.2222222222222222,
              "#7201a8"
             ],
             [
              0.3333333333333333,
              "#9c179e"
             ],
             [
              0.4444444444444444,
              "#bd3786"
             ],
             [
              0.5555555555555556,
              "#d8576b"
             ],
             [
              0.6666666666666666,
              "#ed7953"
             ],
             [
              0.7777777777777778,
              "#fb9f3a"
             ],
             [
              0.8888888888888888,
              "#fdca26"
             ],
             [
              1,
              "#f0f921"
             ]
            ],
            "type": "histogram2dcontour"
           }
          ],
          "mesh3d": [
           {
            "colorbar": {
             "outlinewidth": 0,
             "ticks": ""
            },
            "type": "mesh3d"
           }
          ],
          "parcoords": [
           {
            "line": {
             "colorbar": {
              "outlinewidth": 0,
              "ticks": ""
             }
            },
            "type": "parcoords"
           }
          ],
          "pie": [
           {
            "automargin": true,
            "type": "pie"
           }
          ],
          "scatter": [
           {
            "marker": {
             "colorbar": {
              "outlinewidth": 0,
              "ticks": ""
             }
            },
            "type": "scatter"
           }
          ],
          "scatter3d": [
           {
            "line": {
             "colorbar": {
              "outlinewidth": 0,
              "ticks": ""
             }
            },
            "marker": {
             "colorbar": {
              "outlinewidth": 0,
              "ticks": ""
             }
            },
            "type": "scatter3d"
           }
          ],
          "scattercarpet": [
           {
            "marker": {
             "colorbar": {
              "outlinewidth": 0,
              "ticks": ""
             }
            },
            "type": "scattercarpet"
           }
          ],
          "scattergeo": [
           {
            "marker": {
             "colorbar": {
              "outlinewidth": 0,
              "ticks": ""
             }
            },
            "type": "scattergeo"
           }
          ],
          "scattergl": [
           {
            "marker": {
             "colorbar": {
              "outlinewidth": 0,
              "ticks": ""
             }
            },
            "type": "scattergl"
           }
          ],
          "scattermapbox": [
           {
            "marker": {
             "colorbar": {
              "outlinewidth": 0,
              "ticks": ""
             }
            },
            "type": "scattermapbox"
           }
          ],
          "scatterpolar": [
           {
            "marker": {
             "colorbar": {
              "outlinewidth": 0,
              "ticks": ""
             }
            },
            "type": "scatterpolar"
           }
          ],
          "scatterpolargl": [
           {
            "marker": {
             "colorbar": {
              "outlinewidth": 0,
              "ticks": ""
             }
            },
            "type": "scatterpolargl"
           }
          ],
          "scatterternary": [
           {
            "marker": {
             "colorbar": {
              "outlinewidth": 0,
              "ticks": ""
             }
            },
            "type": "scatterternary"
           }
          ],
          "surface": [
           {
            "colorbar": {
             "outlinewidth": 0,
             "ticks": ""
            },
            "colorscale": [
             [
              0,
              "#0d0887"
             ],
             [
              0.1111111111111111,
              "#46039f"
             ],
             [
              0.2222222222222222,
              "#7201a8"
             ],
             [
              0.3333333333333333,
              "#9c179e"
             ],
             [
              0.4444444444444444,
              "#bd3786"
             ],
             [
              0.5555555555555556,
              "#d8576b"
             ],
             [
              0.6666666666666666,
              "#ed7953"
             ],
             [
              0.7777777777777778,
              "#fb9f3a"
             ],
             [
              0.8888888888888888,
              "#fdca26"
             ],
             [
              1,
              "#f0f921"
             ]
            ],
            "type": "surface"
           }
          ],
          "table": [
           {
            "cells": {
             "fill": {
              "color": "#EBF0F8"
             },
             "line": {
              "color": "white"
             }
            },
            "header": {
             "fill": {
              "color": "#C8D4E3"
             },
             "line": {
              "color": "white"
             }
            },
            "type": "table"
           }
          ]
         },
         "layout": {
          "annotationdefaults": {
           "arrowcolor": "#2a3f5f",
           "arrowhead": 0,
           "arrowwidth": 1
          },
          "autotypenumbers": "strict",
          "coloraxis": {
           "colorbar": {
            "outlinewidth": 0,
            "ticks": ""
           }
          },
          "colorscale": {
           "diverging": [
            [
             0,
             "#8e0152"
            ],
            [
             0.1,
             "#c51b7d"
            ],
            [
             0.2,
             "#de77ae"
            ],
            [
             0.3,
             "#f1b6da"
            ],
            [
             0.4,
             "#fde0ef"
            ],
            [
             0.5,
             "#f7f7f7"
            ],
            [
             0.6,
             "#e6f5d0"
            ],
            [
             0.7,
             "#b8e186"
            ],
            [
             0.8,
             "#7fbc41"
            ],
            [
             0.9,
             "#4d9221"
            ],
            [
             1,
             "#276419"
            ]
           ],
           "sequential": [
            [
             0,
             "#0d0887"
            ],
            [
             0.1111111111111111,
             "#46039f"
            ],
            [
             0.2222222222222222,
             "#7201a8"
            ],
            [
             0.3333333333333333,
             "#9c179e"
            ],
            [
             0.4444444444444444,
             "#bd3786"
            ],
            [
             0.5555555555555556,
             "#d8576b"
            ],
            [
             0.6666666666666666,
             "#ed7953"
            ],
            [
             0.7777777777777778,
             "#fb9f3a"
            ],
            [
             0.8888888888888888,
             "#fdca26"
            ],
            [
             1,
             "#f0f921"
            ]
           ],
           "sequentialminus": [
            [
             0,
             "#0d0887"
            ],
            [
             0.1111111111111111,
             "#46039f"
            ],
            [
             0.2222222222222222,
             "#7201a8"
            ],
            [
             0.3333333333333333,
             "#9c179e"
            ],
            [
             0.4444444444444444,
             "#bd3786"
            ],
            [
             0.5555555555555556,
             "#d8576b"
            ],
            [
             0.6666666666666666,
             "#ed7953"
            ],
            [
             0.7777777777777778,
             "#fb9f3a"
            ],
            [
             0.8888888888888888,
             "#fdca26"
            ],
            [
             1,
             "#f0f921"
            ]
           ]
          },
          "colorway": [
           "#636efa",
           "#EF553B",
           "#00cc96",
           "#ab63fa",
           "#FFA15A",
           "#19d3f3",
           "#FF6692",
           "#B6E880",
           "#FF97FF",
           "#FECB52"
          ],
          "font": {
           "color": "#2a3f5f"
          },
          "geo": {
           "bgcolor": "white",
           "lakecolor": "white",
           "landcolor": "white",
           "showlakes": true,
           "showland": true,
           "subunitcolor": "#C8D4E3"
          },
          "hoverlabel": {
           "align": "left"
          },
          "hovermode": "closest",
          "mapbox": {
           "style": "light"
          },
          "paper_bgcolor": "white",
          "plot_bgcolor": "white",
          "polar": {
           "angularaxis": {
            "gridcolor": "#EBF0F8",
            "linecolor": "#EBF0F8",
            "ticks": ""
           },
           "bgcolor": "white",
           "radialaxis": {
            "gridcolor": "#EBF0F8",
            "linecolor": "#EBF0F8",
            "ticks": ""
           }
          },
          "scene": {
           "xaxis": {
            "backgroundcolor": "white",
            "gridcolor": "#DFE8F3",
            "gridwidth": 2,
            "linecolor": "#EBF0F8",
            "showbackground": true,
            "ticks": "",
            "zerolinecolor": "#EBF0F8"
           },
           "yaxis": {
            "backgroundcolor": "white",
            "gridcolor": "#DFE8F3",
            "gridwidth": 2,
            "linecolor": "#EBF0F8",
            "showbackground": true,
            "ticks": "",
            "zerolinecolor": "#EBF0F8"
           },
           "zaxis": {
            "backgroundcolor": "white",
            "gridcolor": "#DFE8F3",
            "gridwidth": 2,
            "linecolor": "#EBF0F8",
            "showbackground": true,
            "ticks": "",
            "zerolinecolor": "#EBF0F8"
           }
          },
          "shapedefaults": {
           "line": {
            "color": "#2a3f5f"
           }
          },
          "ternary": {
           "aaxis": {
            "gridcolor": "#DFE8F3",
            "linecolor": "#A2B1C6",
            "ticks": ""
           },
           "baxis": {
            "gridcolor": "#DFE8F3",
            "linecolor": "#A2B1C6",
            "ticks": ""
           },
           "bgcolor": "white",
           "caxis": {
            "gridcolor": "#DFE8F3",
            "linecolor": "#A2B1C6",
            "ticks": ""
           }
          },
          "title": {
           "x": 0.05
          },
          "xaxis": {
           "automargin": true,
           "gridcolor": "#EBF0F8",
           "linecolor": "#EBF0F8",
           "ticks": "",
           "title": {
            "standoff": 15
           },
           "zerolinecolor": "#EBF0F8",
           "zerolinewidth": 2
          },
          "yaxis": {
           "automargin": true,
           "gridcolor": "#EBF0F8",
           "linecolor": "#EBF0F8",
           "ticks": "",
           "title": {
            "standoff": 15
           },
           "zerolinecolor": "#EBF0F8",
           "zerolinewidth": 2
          }
         }
        },
        "title": {
         "text": "1000BTTCUSDT"
        },
        "xaxis": {
         "anchor": "y",
         "domain": [
          0,
          0.94
         ]
        },
        "yaxis": {
         "anchor": "x",
         "domain": [
          0,
          1
         ]
        },
        "yaxis2": {
         "anchor": "x",
         "overlaying": "y",
         "side": "right"
        }
       },
       "_py2js_animate": {},
       "_py2js_deleteTraces": {},
       "_py2js_moveTraces": {},
       "_py2js_removeLayoutProps": {},
       "_py2js_removeTraceProps": {},
       "_view_count": 0
      }
     },
     "c24b362d79cf4f70931434dbad7844e6": {
      "model_module": "@jupyter-widgets/controls",
      "model_module_version": "1.5.0",
      "model_name": "HBoxModel",
      "state": {
       "children": [
        "IPY_MODEL_37314bfb38f740a1a37cb7415967f00d",
        "IPY_MODEL_db9ef2299c564813b6725e7defbe273c",
        "IPY_MODEL_27d5a19a7b824b99ab423807c6cbba82"
       ],
       "layout": "IPY_MODEL_69524b4797eb4b148bbe16fa1d749644"
      }
     },
     "c5ac08ea885345189038b6d88dfecc06": {
      "model_module": "@jupyter-widgets/controls",
      "model_module_version": "1.5.0",
      "model_name": "ProgressStyleModel",
      "state": {
       "description_width": ""
      }
     },
     "c72c4e94819f476cb0a99d64622d5d83": {
      "model_module": "@jupyter-widgets/controls",
      "model_module_version": "1.5.0",
      "model_name": "ProgressStyleModel",
      "state": {
       "description_width": ""
      }
     },
     "cca16686b8994b98af15b6e83383da87": {
      "model_module": "@jupyter-widgets/controls",
      "model_module_version": "1.5.0",
      "model_name": "HBoxModel",
      "state": {
       "children": [
        "IPY_MODEL_2462066fbbe74be1a2a47d51e16fa8a9",
        "IPY_MODEL_4a193512317a4cb685b4baa71900c887",
        "IPY_MODEL_ba07397d32f64b5db70f1b03a65ab434"
       ],
       "layout": "IPY_MODEL_92bc637906624060863f74f2a52419eb"
      }
     },
     "cfd862ea2a634f0a8ff883820eb044d6": {
      "model_module": "@jupyter-widgets/controls",
      "model_module_version": "1.5.0",
      "model_name": "FloatProgressModel",
      "state": {
       "bar_style": "success",
       "layout": "IPY_MODEL_a59fd512a7c147508b26a4b7885f4f2f",
       "max": 147,
       "style": "IPY_MODEL_95c1af7083d34b0fbb3b4b2185a38a85",
       "value": 147
      }
     },
     "db9ef2299c564813b6725e7defbe273c": {
      "model_module": "@jupyter-widgets/controls",
      "model_module_version": "1.5.0",
      "model_name": "FloatProgressModel",
      "state": {
       "bar_style": "success",
       "layout": "IPY_MODEL_e59f658bb1c444b9a40f589cfa6d88c3",
       "max": 147,
       "style": "IPY_MODEL_c5ac08ea885345189038b6d88dfecc06",
       "value": 147
      }
     },
     "dbc71790743c478aa9f8c98d87174b02": {
      "model_module": "jupyterlab-plotly",
      "model_module_version": "^5.6.0",
      "model_name": "FigureModel",
      "state": {
       "_config": {
        "plotlyServerURL": "https://plot.ly"
       },
       "_js2py_layoutDelta": {},
       "_js2py_pointsCallback": {},
       "_js2py_relayout": {},
       "_js2py_restyle": {},
       "_js2py_traceDeltas": {},
       "_js2py_update": {},
       "_layout": {
        "template": {
         "data": {
          "bar": [
           {
            "error_x": {
             "color": "#2a3f5f"
            },
            "error_y": {
             "color": "#2a3f5f"
            },
            "marker": {
             "line": {
              "color": "#E5ECF6",
              "width": 0.5
             },
             "pattern": {
              "fillmode": "overlay",
              "size": 10,
              "solidity": 0.2
             }
            },
            "type": "bar"
           }
          ],
          "barpolar": [
           {
            "marker": {
             "line": {
              "color": "#E5ECF6",
              "width": 0.5
             },
             "pattern": {
              "fillmode": "overlay",
              "size": 10,
              "solidity": 0.2
             }
            },
            "type": "barpolar"
           }
          ],
          "carpet": [
           {
            "aaxis": {
             "endlinecolor": "#2a3f5f",
             "gridcolor": "white",
             "linecolor": "white",
             "minorgridcolor": "white",
             "startlinecolor": "#2a3f5f"
            },
            "baxis": {
             "endlinecolor": "#2a3f5f",
             "gridcolor": "white",
             "linecolor": "white",
             "minorgridcolor": "white",
             "startlinecolor": "#2a3f5f"
            },
            "type": "carpet"
           }
          ],
          "choropleth": [
           {
            "colorbar": {
             "outlinewidth": 0,
             "ticks": ""
            },
            "type": "choropleth"
           }
          ],
          "contour": [
           {
            "colorbar": {
             "outlinewidth": 0,
             "ticks": ""
            },
            "colorscale": [
             [
              0,
              "#0d0887"
             ],
             [
              0.1111111111111111,
              "#46039f"
             ],
             [
              0.2222222222222222,
              "#7201a8"
             ],
             [
              0.3333333333333333,
              "#9c179e"
             ],
             [
              0.4444444444444444,
              "#bd3786"
             ],
             [
              0.5555555555555556,
              "#d8576b"
             ],
             [
              0.6666666666666666,
              "#ed7953"
             ],
             [
              0.7777777777777778,
              "#fb9f3a"
             ],
             [
              0.8888888888888888,
              "#fdca26"
             ],
             [
              1,
              "#f0f921"
             ]
            ],
            "type": "contour"
           }
          ],
          "contourcarpet": [
           {
            "colorbar": {
             "outlinewidth": 0,
             "ticks": ""
            },
            "type": "contourcarpet"
           }
          ],
          "heatmap": [
           {
            "colorbar": {
             "outlinewidth": 0,
             "ticks": ""
            },
            "colorscale": [
             [
              0,
              "#0d0887"
             ],
             [
              0.1111111111111111,
              "#46039f"
             ],
             [
              0.2222222222222222,
              "#7201a8"
             ],
             [
              0.3333333333333333,
              "#9c179e"
             ],
             [
              0.4444444444444444,
              "#bd3786"
             ],
             [
              0.5555555555555556,
              "#d8576b"
             ],
             [
              0.6666666666666666,
              "#ed7953"
             ],
             [
              0.7777777777777778,
              "#fb9f3a"
             ],
             [
              0.8888888888888888,
              "#fdca26"
             ],
             [
              1,
              "#f0f921"
             ]
            ],
            "type": "heatmap"
           }
          ],
          "heatmapgl": [
           {
            "colorbar": {
             "outlinewidth": 0,
             "ticks": ""
            },
            "colorscale": [
             [
              0,
              "#0d0887"
             ],
             [
              0.1111111111111111,
              "#46039f"
             ],
             [
              0.2222222222222222,
              "#7201a8"
             ],
             [
              0.3333333333333333,
              "#9c179e"
             ],
             [
              0.4444444444444444,
              "#bd3786"
             ],
             [
              0.5555555555555556,
              "#d8576b"
             ],
             [
              0.6666666666666666,
              "#ed7953"
             ],
             [
              0.7777777777777778,
              "#fb9f3a"
             ],
             [
              0.8888888888888888,
              "#fdca26"
             ],
             [
              1,
              "#f0f921"
             ]
            ],
            "type": "heatmapgl"
           }
          ],
          "histogram": [
           {
            "marker": {
             "pattern": {
              "fillmode": "overlay",
              "size": 10,
              "solidity": 0.2
             }
            },
            "type": "histogram"
           }
          ],
          "histogram2d": [
           {
            "colorbar": {
             "outlinewidth": 0,
             "ticks": ""
            },
            "colorscale": [
             [
              0,
              "#0d0887"
             ],
             [
              0.1111111111111111,
              "#46039f"
             ],
             [
              0.2222222222222222,
              "#7201a8"
             ],
             [
              0.3333333333333333,
              "#9c179e"
             ],
             [
              0.4444444444444444,
              "#bd3786"
             ],
             [
              0.5555555555555556,
              "#d8576b"
             ],
             [
              0.6666666666666666,
              "#ed7953"
             ],
             [
              0.7777777777777778,
              "#fb9f3a"
             ],
             [
              0.8888888888888888,
              "#fdca26"
             ],
             [
              1,
              "#f0f921"
             ]
            ],
            "type": "histogram2d"
           }
          ],
          "histogram2dcontour": [
           {
            "colorbar": {
             "outlinewidth": 0,
             "ticks": ""
            },
            "colorscale": [
             [
              0,
              "#0d0887"
             ],
             [
              0.1111111111111111,
              "#46039f"
             ],
             [
              0.2222222222222222,
              "#7201a8"
             ],
             [
              0.3333333333333333,
              "#9c179e"
             ],
             [
              0.4444444444444444,
              "#bd3786"
             ],
             [
              0.5555555555555556,
              "#d8576b"
             ],
             [
              0.6666666666666666,
              "#ed7953"
             ],
             [
              0.7777777777777778,
              "#fb9f3a"
             ],
             [
              0.8888888888888888,
              "#fdca26"
             ],
             [
              1,
              "#f0f921"
             ]
            ],
            "type": "histogram2dcontour"
           }
          ],
          "mesh3d": [
           {
            "colorbar": {
             "outlinewidth": 0,
             "ticks": ""
            },
            "type": "mesh3d"
           }
          ],
          "parcoords": [
           {
            "line": {
             "colorbar": {
              "outlinewidth": 0,
              "ticks": ""
             }
            },
            "type": "parcoords"
           }
          ],
          "pie": [
           {
            "automargin": true,
            "type": "pie"
           }
          ],
          "scatter": [
           {
            "marker": {
             "colorbar": {
              "outlinewidth": 0,
              "ticks": ""
             }
            },
            "type": "scatter"
           }
          ],
          "scatter3d": [
           {
            "line": {
             "colorbar": {
              "outlinewidth": 0,
              "ticks": ""
             }
            },
            "marker": {
             "colorbar": {
              "outlinewidth": 0,
              "ticks": ""
             }
            },
            "type": "scatter3d"
           }
          ],
          "scattercarpet": [
           {
            "marker": {
             "colorbar": {
              "outlinewidth": 0,
              "ticks": ""
             }
            },
            "type": "scattercarpet"
           }
          ],
          "scattergeo": [
           {
            "marker": {
             "colorbar": {
              "outlinewidth": 0,
              "ticks": ""
             }
            },
            "type": "scattergeo"
           }
          ],
          "scattergl": [
           {
            "marker": {
             "colorbar": {
              "outlinewidth": 0,
              "ticks": ""
             }
            },
            "type": "scattergl"
           }
          ],
          "scattermapbox": [
           {
            "marker": {
             "colorbar": {
              "outlinewidth": 0,
              "ticks": ""
             }
            },
            "type": "scattermapbox"
           }
          ],
          "scatterpolar": [
           {
            "marker": {
             "colorbar": {
              "outlinewidth": 0,
              "ticks": ""
             }
            },
            "type": "scatterpolar"
           }
          ],
          "scatterpolargl": [
           {
            "marker": {
             "colorbar": {
              "outlinewidth": 0,
              "ticks": ""
             }
            },
            "type": "scatterpolargl"
           }
          ],
          "scatterternary": [
           {
            "marker": {
             "colorbar": {
              "outlinewidth": 0,
              "ticks": ""
             }
            },
            "type": "scatterternary"
           }
          ],
          "surface": [
           {
            "colorbar": {
             "outlinewidth": 0,
             "ticks": ""
            },
            "colorscale": [
             [
              0,
              "#0d0887"
             ],
             [
              0.1111111111111111,
              "#46039f"
             ],
             [
              0.2222222222222222,
              "#7201a8"
             ],
             [
              0.3333333333333333,
              "#9c179e"
             ],
             [
              0.4444444444444444,
              "#bd3786"
             ],
             [
              0.5555555555555556,
              "#d8576b"
             ],
             [
              0.6666666666666666,
              "#ed7953"
             ],
             [
              0.7777777777777778,
              "#fb9f3a"
             ],
             [
              0.8888888888888888,
              "#fdca26"
             ],
             [
              1,
              "#f0f921"
             ]
            ],
            "type": "surface"
           }
          ],
          "table": [
           {
            "cells": {
             "fill": {
              "color": "#EBF0F8"
             },
             "line": {
              "color": "white"
             }
            },
            "header": {
             "fill": {
              "color": "#C8D4E3"
             },
             "line": {
              "color": "white"
             }
            },
            "type": "table"
           }
          ]
         },
         "layout": {
          "annotationdefaults": {
           "arrowcolor": "#2a3f5f",
           "arrowhead": 0,
           "arrowwidth": 1
          },
          "autotypenumbers": "strict",
          "coloraxis": {
           "colorbar": {
            "outlinewidth": 0,
            "ticks": ""
           }
          },
          "colorscale": {
           "diverging": [
            [
             0,
             "#8e0152"
            ],
            [
             0.1,
             "#c51b7d"
            ],
            [
             0.2,
             "#de77ae"
            ],
            [
             0.3,
             "#f1b6da"
            ],
            [
             0.4,
             "#fde0ef"
            ],
            [
             0.5,
             "#f7f7f7"
            ],
            [
             0.6,
             "#e6f5d0"
            ],
            [
             0.7,
             "#b8e186"
            ],
            [
             0.8,
             "#7fbc41"
            ],
            [
             0.9,
             "#4d9221"
            ],
            [
             1,
             "#276419"
            ]
           ],
           "sequential": [
            [
             0,
             "#0d0887"
            ],
            [
             0.1111111111111111,
             "#46039f"
            ],
            [
             0.2222222222222222,
             "#7201a8"
            ],
            [
             0.3333333333333333,
             "#9c179e"
            ],
            [
             0.4444444444444444,
             "#bd3786"
            ],
            [
             0.5555555555555556,
             "#d8576b"
            ],
            [
             0.6666666666666666,
             "#ed7953"
            ],
            [
             0.7777777777777778,
             "#fb9f3a"
            ],
            [
             0.8888888888888888,
             "#fdca26"
            ],
            [
             1,
             "#f0f921"
            ]
           ],
           "sequentialminus": [
            [
             0,
             "#0d0887"
            ],
            [
             0.1111111111111111,
             "#46039f"
            ],
            [
             0.2222222222222222,
             "#7201a8"
            ],
            [
             0.3333333333333333,
             "#9c179e"
            ],
            [
             0.4444444444444444,
             "#bd3786"
            ],
            [
             0.5555555555555556,
             "#d8576b"
            ],
            [
             0.6666666666666666,
             "#ed7953"
            ],
            [
             0.7777777777777778,
             "#fb9f3a"
            ],
            [
             0.8888888888888888,
             "#fdca26"
            ],
            [
             1,
             "#f0f921"
            ]
           ]
          },
          "colorway": [
           "#636efa",
           "#EF553B",
           "#00cc96",
           "#ab63fa",
           "#FFA15A",
           "#19d3f3",
           "#FF6692",
           "#B6E880",
           "#FF97FF",
           "#FECB52"
          ],
          "font": {
           "color": "#2a3f5f"
          },
          "geo": {
           "bgcolor": "white",
           "lakecolor": "white",
           "landcolor": "#E5ECF6",
           "showlakes": true,
           "showland": true,
           "subunitcolor": "white"
          },
          "hoverlabel": {
           "align": "left"
          },
          "hovermode": "closest",
          "mapbox": {
           "style": "light"
          },
          "paper_bgcolor": "white",
          "plot_bgcolor": "#E5ECF6",
          "polar": {
           "angularaxis": {
            "gridcolor": "white",
            "linecolor": "white",
            "ticks": ""
           },
           "bgcolor": "#E5ECF6",
           "radialaxis": {
            "gridcolor": "white",
            "linecolor": "white",
            "ticks": ""
           }
          },
          "scene": {
           "xaxis": {
            "backgroundcolor": "#E5ECF6",
            "gridcolor": "white",
            "gridwidth": 2,
            "linecolor": "white",
            "showbackground": true,
            "ticks": "",
            "zerolinecolor": "white"
           },
           "yaxis": {
            "backgroundcolor": "#E5ECF6",
            "gridcolor": "white",
            "gridwidth": 2,
            "linecolor": "white",
            "showbackground": true,
            "ticks": "",
            "zerolinecolor": "white"
           },
           "zaxis": {
            "backgroundcolor": "#E5ECF6",
            "gridcolor": "white",
            "gridwidth": 2,
            "linecolor": "white",
            "showbackground": true,
            "ticks": "",
            "zerolinecolor": "white"
           }
          },
          "shapedefaults": {
           "line": {
            "color": "#2a3f5f"
           }
          },
          "ternary": {
           "aaxis": {
            "gridcolor": "white",
            "linecolor": "white",
            "ticks": ""
           },
           "baxis": {
            "gridcolor": "white",
            "linecolor": "white",
            "ticks": ""
           },
           "bgcolor": "#E5ECF6",
           "caxis": {
            "gridcolor": "white",
            "linecolor": "white",
            "ticks": ""
           }
          },
          "title": {
           "x": 0.05
          },
          "xaxis": {
           "automargin": true,
           "gridcolor": "white",
           "linecolor": "white",
           "ticks": "",
           "title": {
            "standoff": 15
           },
           "zerolinecolor": "white",
           "zerolinewidth": 2
          },
          "yaxis": {
           "automargin": true,
           "gridcolor": "white",
           "linecolor": "white",
           "ticks": "",
           "title": {
            "standoff": 15
           },
           "zerolinecolor": "white",
           "zerolinewidth": 2
          }
         }
        },
        "xaxis": {
         "anchor": "y",
         "domain": [
          0,
          0.94
         ]
        },
        "yaxis": {
         "anchor": "x",
         "domain": [
          0,
          1
         ]
        },
        "yaxis2": {
         "anchor": "x",
         "overlaying": "y",
         "side": "right"
        }
       },
       "_py2js_addTraces": {},
       "_py2js_animate": {},
       "_py2js_deleteTraces": {},
       "_py2js_moveTraces": {},
       "_py2js_relayout": {},
       "_py2js_removeLayoutProps": {},
       "_py2js_removeTraceProps": {},
       "_py2js_restyle": {},
       "_py2js_update": {},
       "_view_count": 0
      }
     },
     "de5acce387374230a300beb5ff51b27d": {
      "model_module": "@jupyter-widgets/controls",
      "model_module_version": "1.5.0",
      "model_name": "DescriptionStyleModel",
      "state": {
       "description_width": ""
      }
     },
     "e59f658bb1c444b9a40f589cfa6d88c3": {
      "model_module": "@jupyter-widgets/base",
      "model_module_version": "1.2.0",
      "model_name": "LayoutModel",
      "state": {}
     },
     "ef38c9e099084d4d8330a0e7525d0505": {
      "model_module": "@jupyter-widgets/controls",
      "model_module_version": "1.5.0",
      "model_name": "HTMLModel",
      "state": {
       "layout": "IPY_MODEL_45b1514225e3416a94c6fde233db1e91",
       "style": "IPY_MODEL_1dd7abe2a3de44b091398c2576c51150",
       "value": " 147/147 [00:05&lt;00:00, 28.59it/s, cpu=3%]"
      }
     },
     "f2aa73e4cbf74f6a854f740f3f361c5e": {
      "model_module": "@jupyter-widgets/base",
      "model_module_version": "1.2.0",
      "model_name": "LayoutModel",
      "state": {}
     },
     "f763a5cd1f14446f90a1c1aaaee87315": {
      "model_module": "@jupyter-widgets/controls",
      "model_module_version": "1.5.0",
      "model_name": "HTMLModel",
      "state": {
       "layout": "IPY_MODEL_f2aa73e4cbf74f6a854f740f3f361c5e",
       "style": "IPY_MODEL_9a8ed566fd5f4d68be731fcc049917ef",
       "value": "100%"
      }
     },
     "fb635375083e4f1d8968d9d694fb3d29": {
      "model_module": "@jupyter-widgets/controls",
      "model_module_version": "1.5.0",
      "model_name": "HBoxModel",
      "state": {
       "children": [
        "IPY_MODEL_f763a5cd1f14446f90a1c1aaaee87315",
        "IPY_MODEL_cfd862ea2a634f0a8ff883820eb044d6",
        "IPY_MODEL_ef38c9e099084d4d8330a0e7525d0505"
       ],
       "layout": "IPY_MODEL_c19810ddf6d34cd8945082958e677a75"
      }
     }
    },
    "version_major": 2,
    "version_minor": 0
   }
  }
 },
 "nbformat": 4,
 "nbformat_minor": 5
}
