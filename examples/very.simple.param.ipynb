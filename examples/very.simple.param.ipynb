{
 "cells": [
  {
   "cell_type": "code",
   "execution_count": null,
   "id": "0",
   "metadata": {
    "code_folding": [],
    "tags": []
   },
   "outputs": [],
   "source": [
    "import numpy as np\n",
    "from simple.chart import interactFigure\n",
    "from simple.funcs import symlog, vwap"
   ]
  },
  {
   "cell_type": "code",
   "execution_count": null,
   "id": "1",
   "metadata": {
    "tags": []
   },
   "outputs": [],
   "source": [
    "T = np.load('data/ETHUSDT.2022-05-08.tick.npz')['ETHUSDT'].view(np.recarray)\n",
    "len(T)"
   ]
  },
  {
   "cell_type": "code",
   "execution_count": null,
   "id": "2",
   "metadata": {
    "tags": []
   },
   "outputs": [],
   "source": [
    "def model(Period: int = (500, 20000, 500)):\n",
    "    print(Period)\n",
    "    Tick = np.ascontiguousarray(T.Price)\n",
    "    Center = vwap(T, Period)\n",
    "    Buy = np.where(T.Size > 0, symlog(T.Size), 0)\n",
    "    Sell = np.where(T.Size < 0, symlog(T.Size), 0)\n",
    "    return locals()"
   ]
  },
  {
   "cell_type": "code",
   "execution_count": null,
   "id": "3",
   "metadata": {
    "tags": []
   },
   "outputs": [],
   "source": [
    "interactFigure(model, rows=2, height=650, \n",
    "    Tick={'color': 'gray', 'opacity': 0.4},\n",
    "    Center={'color': 'blue', 'opacity': 0.4},\n",
    "    Buy={'color': 'green', 'shape': 'hv', 'opacity': 0.6, 'row': 2},\n",
    "    Sell={'color': 'red', 'shape': 'hv', 'opacity': 0.6, 'row': 2}\n",
    ")"
   ]
  },
  {
   "cell_type": "code",
   "execution_count": null,
   "id": "4",
   "metadata": {},
   "outputs": [],
   "source": []
  }
 ],
 "metadata": {
  "kernelspec": {
   "display_name": "Python 3 (ipykernel)",
   "language": "python",
   "name": "python3"
  },
  "language_info": {
   "codemirror_mode": {
    "name": "ipython",
    "version": 3
   },
   "file_extension": ".py",
   "mimetype": "text/x-python",
   "name": "python",
   "nbconvert_exporter": "python",
   "pygments_lexer": "ipython3",
   "version": "3.12.8"
  }
 },
 "nbformat": 4,
 "nbformat_minor": 5
}
