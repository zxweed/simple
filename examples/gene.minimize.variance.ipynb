{
 "cells": [
  {
   "cell_type": "markdown",
   "id": "71c293b7-a047-420f-8371-2ad1fbcab6b0",
   "metadata": {
    "tags": []
   },
   "source": [
    "# Minimize Variance by genetic algorithm (simple greedy as baseline)"
   ]
  },
  {
   "cell_type": "code",
   "execution_count": 1,
   "id": "7618121f-5444-4f8c-b1c9-0ba36a278a5f",
   "metadata": {
    "execution": {
     "iopub.execute_input": "2023-11-30T09:48:45.933401Z",
     "iopub.status.busy": "2023-11-30T09:48:45.933105Z",
     "iopub.status.idle": "2023-11-30T09:48:46.684669Z",
     "shell.execute_reply": "2023-11-30T09:48:46.683694Z",
     "shell.execute_reply.started": "2023-11-30T09:48:45.933241Z"
    },
    "tags": []
   },
   "outputs": [],
   "source": [
    "import numpy as np\n",
    "from tqdm.auto import tqdm\n",
    "from simple.geneopt import GeneOpt\n",
    "\n",
    "np.set_printoptions(suppress=True, linewidth=140, edgeitems=5, precision=4)"
   ]
  },
  {
   "cell_type": "code",
   "execution_count": 2,
   "id": "64bb80c7-da3e-47dd-be49-94b398bcf381",
   "metadata": {
    "execution": {
     "iopub.execute_input": "2023-11-30T09:48:46.686968Z",
     "iopub.status.busy": "2023-11-30T09:48:46.686367Z",
     "iopub.status.idle": "2023-11-30T09:48:46.689763Z",
     "shell.execute_reply": "2023-11-30T09:48:46.689197Z",
     "shell.execute_reply.started": "2023-11-30T09:48:46.686943Z"
    },
    "tags": []
   },
   "outputs": [],
   "source": [
    "k = 128"
   ]
  },
  {
   "cell_type": "code",
   "execution_count": 3,
   "id": "b2798617-bf99-4a49-b4ac-a644e2d486fb",
   "metadata": {
    "execution": {
     "iopub.execute_input": "2023-11-30T09:48:46.690829Z",
     "iopub.status.busy": "2023-11-30T09:48:46.690674Z",
     "iopub.status.idle": "2023-11-30T09:48:46.697805Z",
     "shell.execute_reply": "2023-11-30T09:48:46.697187Z",
     "shell.execute_reply.started": "2023-11-30T09:48:46.690815Z"
    },
    "tags": []
   },
   "outputs": [
    {
     "data": {
      "text/plain": [
       "array([[ 1.7641,  0.4002,  0.9787,  2.2409,  1.8676, ...,  1.3264, -0.6946, -0.1496, -0.4352,  1.8493],\n",
       "       [ 0.6723,  0.4075, -0.7699,  0.5392, -0.6743, ..., -0.5758,  0.142 , -0.3193,  0.6915,  0.6947],\n",
       "       [-0.7256, -1.3834, -1.5829,  0.6104, -1.1889, ...,  0.8802, -1.6981,  0.3873, -2.2556, -1.0225],\n",
       "       [ 0.0386, -1.6567, -0.9855, -1.4718,  1.6481, ..., -1.5678, -1.1792,  1.3014,  0.8953,  1.375 ],\n",
       "       [-1.3322, -1.9686, -0.6601,  0.1758,  0.4987, ...,  0.4033, -0.918 ,  0.2525,  0.8203,  1.3599],\n",
       "       ...,\n",
       "       [ 0.0622,  1.3174, -0.59  ,  1.1107,  1.0483, ..., -0.2114,  1.1733,  0.5092, -0.1583,  0.6917],\n",
       "       [-0.1102,  0.2098, -0.2684, -0.2211,  1.4088, ...,  0.4517, -1.9099,  0.25  , -0.8667,  0.8052],\n",
       "       [-0.8144, -0.248 ,  0.1575,  0.2942, -0.1956, ...,  1.1981,  0.6364, -0.0728,  0.9758, -0.4174],\n",
       "       [-0.0015, -0.762 , -0.5344,  0.4405, -1.324 , ...,  0.5922, -1.6977, -0.2491, -0.4006, -0.3961],\n",
       "       [ 1.5913, -0.585 ,  0.9393,  0.4974, -0.4705, ..., -1.3087, -0.6311, -0.0382, -0.6174,  0.3789]])"
      ]
     },
     "execution_count": 3,
     "metadata": {},
     "output_type": "execute_result"
    }
   ],
   "source": [
    "np.random.seed(0)\n",
    "data = np.random.randn(100, k)\n",
    "data"
   ]
  },
  {
   "cell_type": "code",
   "execution_count": 5,
   "id": "ad0dc777-53c4-4f12-b646-990f977f472b",
   "metadata": {
    "execution": {
     "iopub.execute_input": "2023-11-30T09:48:46.703345Z",
     "iopub.status.busy": "2023-11-30T09:48:46.703192Z",
     "iopub.status.idle": "2023-11-30T09:48:46.748374Z",
     "shell.execute_reply": "2023-11-30T09:48:46.747768Z",
     "shell.execute_reply.started": "2023-11-30T09:48:46.703332Z"
    },
    "tags": []
   },
   "outputs": [
    {
     "data": {
      "application/vnd.jupyter.widget-view+json": {
       "model_id": "e81213229eb74165a7f3bd16527689ac",
       "version_major": 2,
       "version_minor": 0
      },
      "text/plain": [
       "  0%|          | 0/10 [00:00<?, ?it/s]"
      ]
     },
     "metadata": {},
     "output_type": "display_data"
    },
    {
     "name": "stdout",
     "output_type": "stream",
     "text": [
      "[93, 87, 108, 25, 1, 48, 85, 72, 23, 49]\n"
     ]
    }
   ],
   "source": [
    "# Iteratively add one variable at a time, choosing the one that minimizes the variance of the sum after each addition.\n",
    "selected = []\n",
    "remaining = list(range(k))\n",
    "N = 10\n",
    "\n",
    "for _ in tqdm(range(N)):\n",
    "    min_variance = np.inf\n",
    "    best = None\n",
    "\n",
    "    for var in remaining:\n",
    "        variance = data[:, selected + [var]].sum(axis=1).var()\n",
    "        if variance < min_variance:\n",
    "            min_variance = variance\n",
    "            best = var\n",
    "\n",
    "    selected.append(best)\n",
    "    remaining.remove(best)\n",
    "\n",
    "print(selected)"
   ]
  },
  {
   "cell_type": "code",
   "execution_count": 6,
   "id": "89cf41ce-b71f-47c3-a628-9a001a434a22",
   "metadata": {
    "execution": {
     "iopub.execute_input": "2023-11-30T09:48:46.749247Z",
     "iopub.status.busy": "2023-11-30T09:48:46.749096Z",
     "iopub.status.idle": "2023-11-30T09:48:46.753118Z",
     "shell.execute_reply": "2023-11-30T09:48:46.752556Z",
     "shell.execute_reply.started": "2023-11-30T09:48:46.749233Z"
    },
    "tags": []
   },
   "outputs": [
    {
     "data": {
      "text/plain": [
       "2.964297069498361"
      ]
     },
     "execution_count": 6,
     "metadata": {},
     "output_type": "execute_result"
    }
   ],
   "source": [
    "data[:, selected].sum(axis=1).var()"
   ]
  },
  {
   "cell_type": "code",
   "execution_count": 7,
   "id": "c0c7195b-5fbb-48e3-a835-e785128f98bc",
   "metadata": {
    "execution": {
     "iopub.execute_input": "2023-11-30T09:48:46.754780Z",
     "iopub.status.busy": "2023-11-30T09:48:46.754628Z",
     "iopub.status.idle": "2023-11-30T09:48:46.759398Z",
     "shell.execute_reply": "2023-11-30T09:48:46.758813Z",
     "shell.execute_reply.started": "2023-11-30T09:48:46.754767Z"
    },
    "tags": []
   },
   "outputs": [],
   "source": [
    "def model(i0: int=(0, k-1), i1: int=(0, k-1), i2: int=(0, k-1), i3: int=(0, k-1), i4: int=(0, k-1),\n",
    "          i5: int=(0, k-1), i6: int=(0, k-1), i7: int=(0, k-1), i8: int=(0, k-1), i9: int=(0, k-1)) -> float:\n",
    "    \"\"\"Target function accepting 10 indexes of selected variables and returning the variance of the sum\"\"\"\n",
    "\n",
    "    feature_indexes = [i0, i1, i2, i3, i4, i5, i6, i7, i8, i9]    \n",
    "    variance = data[:, feature_indexes].sum(axis=1).var()\n",
    "    return -variance"
   ]
  },
  {
   "cell_type": "code",
   "execution_count": 8,
   "id": "2eb76314-1970-4288-a082-1c3f537e7d73",
   "metadata": {
    "execution": {
     "iopub.execute_input": "2023-11-30T09:48:46.760277Z",
     "iopub.status.busy": "2023-11-30T09:48:46.760127Z",
     "iopub.status.idle": "2023-11-30T09:58:04.673827Z",
     "shell.execute_reply": "2023-11-30T09:58:04.672647Z",
     "shell.execute_reply.started": "2023-11-30T09:48:46.760263Z"
    },
    "tags": []
   },
   "outputs": [
    {
     "data": {
      "application/vnd.jupyter.widget-view+json": {
       "model_id": "251c919aa21a4496aab2549220f89a56",
       "version_major": 2,
       "version_minor": 0
      },
      "text/plain": [
       "  0%|          | 0/100 [00:00<?, ?it/s]"
      ]
     },
     "metadata": {},
     "output_type": "display_data"
    },
    {
     "data": {
      "text/plain": [
       "{'i0': 34,\n",
       " 'i1': 43,\n",
       " 'i2': 50,\n",
       " 'i3': 116,\n",
       " 'i4': 90,\n",
       " 'i5': 32,\n",
       " 'i6': 80,\n",
       " 'i7': 93,\n",
       " 'i8': 25,\n",
       " 'i9': 24}"
      ]
     },
     "execution_count": 8,
     "metadata": {},
     "output_type": "execute_result"
    }
   ],
   "source": [
    "G = GeneOpt(model)\n",
    "best = G.maximize(population_size=64000, generations=100)\n",
    "best"
   ]
  },
  {
   "cell_type": "code",
   "execution_count": 9,
   "id": "b9477611-44a3-49f5-aea6-ada2cbc9398d",
   "metadata": {
    "execution": {
     "iopub.execute_input": "2023-11-30T09:58:04.675445Z",
     "iopub.status.busy": "2023-11-30T09:58:04.675268Z",
     "iopub.status.idle": "2023-11-30T09:58:04.681854Z",
     "shell.execute_reply": "2023-11-30T09:58:04.681063Z",
     "shell.execute_reply.started": "2023-11-30T09:58:04.675428Z"
    },
    "tags": []
   },
   "outputs": [
    {
     "data": {
      "text/plain": [
       "2.641366569857427"
      ]
     },
     "execution_count": 9,
     "metadata": {},
     "output_type": "execute_result"
    }
   ],
   "source": [
    "-model(**best)"
   ]
  }
 ],
 "metadata": {
  "kernelspec": {
   "display_name": "Python 3 (ipykernel)",
   "language": "python",
   "name": "python3"
  },
  "language_info": {
   "codemirror_mode": {
    "name": "ipython",
    "version": 3
   },
   "file_extension": ".py",
   "mimetype": "text/x-python",
   "name": "python",
   "nbconvert_exporter": "python",
   "pygments_lexer": "ipython3",
   "version": "3.8.16"
  },
  "widgets": {
   "application/vnd.jupyter.widget-state+json": {
    "state": {
     "19c3c1dd097a44bfa5631ace5a2bc6d1": {
      "model_module": "@jupyter-widgets/base",
      "model_module_version": "1.2.0",
      "model_name": "LayoutModel",
      "state": {}
     },
     "237eb52946e04a0691fd99c3ceb78620": {
      "model_module": "@jupyter-widgets/controls",
      "model_module_version": "1.5.0",
      "model_name": "HTMLModel",
      "state": {
       "layout": "IPY_MODEL_f47591ab65dd4b72ae98e3133e2ab7a1",
       "style": "IPY_MODEL_ba91455e510c466e95ee448569b8009f",
       "value": " 10/10 [00:00&lt;00:00, 257.67it/s]"
      }
     },
     "251c919aa21a4496aab2549220f89a56": {
      "model_module": "@jupyter-widgets/controls",
      "model_module_version": "1.5.0",
      "model_name": "HBoxModel",
      "state": {
       "children": [
        "IPY_MODEL_521ae6a75c8a4b4698081fd02dac125a",
        "IPY_MODEL_7d73af29f6544b44b45bd9e65c2a2eab",
        "IPY_MODEL_57609fd16ade473ca98d92df68eb4f1f"
       ],
       "layout": "IPY_MODEL_837b71260e5140e1ac83c69a7f66025e"
      }
     },
     "2551d37bfad344b29ac8b050994231d9": {
      "model_module": "@jupyter-widgets/controls",
      "model_module_version": "1.5.0",
      "model_name": "HTMLModel",
      "state": {
       "layout": "IPY_MODEL_c2c1b15b4ab643e29b1c2786d4fd0a59",
       "style": "IPY_MODEL_4b06332e250a4e9a87fc346bffa4607a",
       "value": "100%"
      }
     },
     "2f9673cf8dd84b79b0db00865a782d2a": {
      "model_module": "@jupyter-widgets/controls",
      "model_module_version": "1.5.0",
      "model_name": "ProgressStyleModel",
      "state": {
       "description_width": ""
      }
     },
     "34d1f64d944340b48947baeb4dfca1c5": {
      "model_module": "@jupyter-widgets/controls",
      "model_module_version": "1.5.0",
      "model_name": "ProgressStyleModel",
      "state": {
       "description_width": ""
      }
     },
     "4b06332e250a4e9a87fc346bffa4607a": {
      "model_module": "@jupyter-widgets/controls",
      "model_module_version": "1.5.0",
      "model_name": "DescriptionStyleModel",
      "state": {
       "description_width": ""
      }
     },
     "521ae6a75c8a4b4698081fd02dac125a": {
      "model_module": "@jupyter-widgets/controls",
      "model_module_version": "1.5.0",
      "model_name": "HTMLModel",
      "state": {
       "layout": "IPY_MODEL_c4a6c38e6750455fa23f62181b2584f6",
       "style": "IPY_MODEL_97421ccdac4a4e21a93e1d244dd703dc",
       "value": "100%"
      }
     },
     "52f071fd16394a70951b582cae47927a": {
      "model_module": "@jupyter-widgets/base",
      "model_module_version": "1.2.0",
      "model_name": "LayoutModel",
      "state": {}
     },
     "57609fd16ade473ca98d92df68eb4f1f": {
      "model_module": "@jupyter-widgets/controls",
      "model_module_version": "1.5.0",
      "model_name": "HTMLModel",
      "state": {
       "layout": "IPY_MODEL_9a9db8e0b66d4c788cdc24228e163830",
       "style": "IPY_MODEL_8cf418a6bc8342cc81bf227e38e32379",
       "value": " 100/100 [09:16&lt;00:00,  5.34s/it, fit=-2.64, cpu=20%]"
      }
     },
     "7d73af29f6544b44b45bd9e65c2a2eab": {
      "model_module": "@jupyter-widgets/controls",
      "model_module_version": "1.5.0",
      "model_name": "FloatProgressModel",
      "state": {
       "bar_style": "success",
       "layout": "IPY_MODEL_52f071fd16394a70951b582cae47927a",
       "style": "IPY_MODEL_34d1f64d944340b48947baeb4dfca1c5",
       "value": 100
      }
     },
     "837b71260e5140e1ac83c69a7f66025e": {
      "model_module": "@jupyter-widgets/base",
      "model_module_version": "1.2.0",
      "model_name": "LayoutModel",
      "state": {}
     },
     "843e18bef14a4f5595c118b61e953d6d": {
      "model_module": "@jupyter-widgets/controls",
      "model_module_version": "1.5.0",
      "model_name": "FloatProgressModel",
      "state": {
       "bar_style": "success",
       "layout": "IPY_MODEL_84bc87a51905465c8dd2621c5d86471d",
       "max": 10,
       "style": "IPY_MODEL_2f9673cf8dd84b79b0db00865a782d2a",
       "value": 10
      }
     },
     "84bc87a51905465c8dd2621c5d86471d": {
      "model_module": "@jupyter-widgets/base",
      "model_module_version": "1.2.0",
      "model_name": "LayoutModel",
      "state": {}
     },
     "8cf418a6bc8342cc81bf227e38e32379": {
      "model_module": "@jupyter-widgets/controls",
      "model_module_version": "1.5.0",
      "model_name": "DescriptionStyleModel",
      "state": {
       "description_width": ""
      }
     },
     "97421ccdac4a4e21a93e1d244dd703dc": {
      "model_module": "@jupyter-widgets/controls",
      "model_module_version": "1.5.0",
      "model_name": "DescriptionStyleModel",
      "state": {
       "description_width": ""
      }
     },
     "9a9db8e0b66d4c788cdc24228e163830": {
      "model_module": "@jupyter-widgets/base",
      "model_module_version": "1.2.0",
      "model_name": "LayoutModel",
      "state": {}
     },
     "ba91455e510c466e95ee448569b8009f": {
      "model_module": "@jupyter-widgets/controls",
      "model_module_version": "1.5.0",
      "model_name": "DescriptionStyleModel",
      "state": {
       "description_width": ""
      }
     },
     "c2c1b15b4ab643e29b1c2786d4fd0a59": {
      "model_module": "@jupyter-widgets/base",
      "model_module_version": "1.2.0",
      "model_name": "LayoutModel",
      "state": {}
     },
     "c4a6c38e6750455fa23f62181b2584f6": {
      "model_module": "@jupyter-widgets/base",
      "model_module_version": "1.2.0",
      "model_name": "LayoutModel",
      "state": {}
     },
     "e81213229eb74165a7f3bd16527689ac": {
      "model_module": "@jupyter-widgets/controls",
      "model_module_version": "1.5.0",
      "model_name": "HBoxModel",
      "state": {
       "children": [
        "IPY_MODEL_2551d37bfad344b29ac8b050994231d9",
        "IPY_MODEL_843e18bef14a4f5595c118b61e953d6d",
        "IPY_MODEL_237eb52946e04a0691fd99c3ceb78620"
       ],
       "layout": "IPY_MODEL_19c3c1dd097a44bfa5631ace5a2bc6d1"
      }
     },
     "f47591ab65dd4b72ae98e3133e2ab7a1": {
      "model_module": "@jupyter-widgets/base",
      "model_module_version": "1.2.0",
      "model_name": "LayoutModel",
      "state": {}
     }
    },
    "version_major": 2,
    "version_minor": 0
   }
  }
 },
 "nbformat": 4,
 "nbformat_minor": 5
}
