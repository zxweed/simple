{
 "cells": [
  {
   "cell_type": "code",
   "execution_count": null,
   "id": "0",
   "metadata": {
    "tags": []
   },
   "outputs": [],
   "source": [
    "from simple.chart import interactFigure\n",
    "from simple.mann_kendall import original_series\n",
    "import numpy as np"
   ]
  },
  {
   "cell_type": "code",
   "execution_count": null,
   "id": "1",
   "metadata": {
    "tags": []
   },
   "outputs": [],
   "source": [
    "period = 512"
   ]
  },
  {
   "cell_type": "code",
   "execution_count": null,
   "id": "2",
   "metadata": {
    "tags": []
   },
   "outputs": [],
   "source": [
    "A = (np.random.rand(period*5)).cumsum()\n",
    "B = np.random.rand(period*5) + A[-1]\n",
    "Source = np.hstack((A, B))"
   ]
  },
  {
   "cell_type": "code",
   "execution_count": null,
   "id": "3",
   "metadata": {
    "tags": []
   },
   "outputs": [],
   "source": [
    "%time x = original_series(Source, 256)"
   ]
  },
  {
   "cell_type": "code",
   "execution_count": null,
   "id": "4",
   "metadata": {
    "tags": []
   },
   "outputs": [],
   "source": [
    "def model(noise: float=(0, 0.6, 0.05), mk_period: int = (64, 512, 8)):\n",
    "    A = (-np.random.rand(period*5)+noise).cumsum()\n",
    "    B = np.random.rand(period*5) + A[-1]\n",
    "    Source = np.hstack((A, B))\n",
    "    MannKendall = original_series(Source, mk_period)\n",
    "    return locals()"
   ]
  },
  {
   "cell_type": "code",
   "execution_count": null,
   "id": "5",
   "metadata": {
    "tags": []
   },
   "outputs": [],
   "source": [
    "box = interactFigure(model, Source={'color': 'lightblue'}, MannKendall={'row': 2})\n",
    "fig = box.children[-1]\n",
    "\n",
    "fig.add_vline(x=period*5, line_dash='dot')\n",
    "for shape in fig.layout.shapes:\n",
    "    shape[\"yref\"] = \"paper\"\n",
    "    \n",
    "box"
   ]
  },
  {
   "cell_type": "code",
   "execution_count": null,
   "id": "6",
   "metadata": {},
   "outputs": [],
   "source": []
  }
 ],
 "metadata": {
  "kernelspec": {
   "display_name": "Python 3 (ipykernel)",
   "language": "python",
   "name": "python3"
  },
  "language_info": {
   "codemirror_mode": {
    "name": "ipython",
    "version": 3
   },
   "file_extension": ".py",
   "mimetype": "text/x-python",
   "name": "python",
   "nbconvert_exporter": "python",
   "pygments_lexer": "ipython3",
   "version": "3.12.8"
  }
 },
 "nbformat": 4,
 "nbformat_minor": 5
}
