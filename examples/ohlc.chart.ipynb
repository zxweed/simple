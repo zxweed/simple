{
 "cells": [
  {
   "cell_type": "markdown",
   "id": "0",
   "metadata": {},
   "source": [
    "## Just an equivolume OHLC chart with ta-lib ADX indicator"
   ]
  },
  {
   "cell_type": "code",
   "execution_count": null,
   "id": "1",
   "metadata": {
    "tags": []
   },
   "outputs": [],
   "source": [
    "import numpy as np\n",
    "from simple.ohlc import ohlcVolume\n",
    "from simple.chart import chartFigure\n",
    "from talib import ADX, MFI"
   ]
  },
  {
   "cell_type": "code",
   "execution_count": null,
   "id": "2",
   "metadata": {
    "tags": []
   },
   "outputs": [],
   "source": [
    "T = np.load('data/ETHUSDT.2022-05-01.debounce.npz')['ETHUSDT'].view(np.recarray)\n",
    "T"
   ]
  },
  {
   "cell_type": "code",
   "execution_count": null,
   "id": "3",
   "metadata": {
    "tags": []
   },
   "outputs": [],
   "source": [
    "C = ohlcVolume(T, 70_000_000)\n",
    "C[-5:], len(C)"
   ]
  },
  {
   "cell_type": "code",
   "execution_count": null,
   "id": "4",
   "metadata": {
    "tags": []
   },
   "outputs": [],
   "source": [
    "adx = ADX(C.High, C.Low, C.Close, 7)\n",
    "adx[-5:]"
   ]
  },
  {
   "cell_type": "code",
   "execution_count": null,
   "id": "5",
   "metadata": {
    "tags": []
   },
   "outputs": [],
   "source": [
    "mfi = MFI(C.High, C.Low, C.Close, C.Size, 14)\n",
    "mfi[-5:]"
   ]
  },
  {
   "cell_type": "code",
   "execution_count": null,
   "id": "6",
   "metadata": {
    "tags": []
   },
   "outputs": [],
   "source": [
    "chartFigure(\n",
    "    OHLC=dict(mode='candlestick', open=C.Open, high=C.High, low=C.Low, close=C.Close, opacity=0.5),\n",
    "    ADX=dict(y=adx, row=2, col=1),\n",
    "    MFI=dict(y=mfi, row=2, col=1, secondary_y=True),\n",
    "    \n",
    "    BuySize=dict(mode='bar', y=C.BuySize, marker={'color': 'green'}, opacity=0.5, offsetgroup=0, row=3),\n",
    "    SellSize=dict(mode='bar', y=C.SellSize, marker={'color': 'red'}, opacity=0.5, offsetgroup=0, row=3),\n",
    "    BuyCount=dict(mode='bar', y=C.BuyCount, marker={'color': 'green'}, opacity=0.5, offsetgroup=0, row=4),\n",
    "    SellCount=dict(mode='bar', y=-C.SellCount, marker={'color': 'red'}, opacity=0.5, offsetgroup=0, row=4)\n",
    ")"
   ]
  },
  {
   "cell_type": "code",
   "execution_count": null,
   "id": "7",
   "metadata": {},
   "outputs": [],
   "source": []
  }
 ],
 "metadata": {
  "kernelspec": {
   "display_name": "Python 3 (ipykernel)",
   "language": "python",
   "name": "python3"
  },
  "language_info": {
   "codemirror_mode": {
    "name": "ipython",
    "version": 3
   },
   "file_extension": ".py",
   "mimetype": "text/x-python",
   "name": "python",
   "nbconvert_exporter": "python",
   "pygments_lexer": "ipython3",
   "version": "3.12.8"
  }
 },
 "nbformat": 4,
 "nbformat_minor": 5
}
