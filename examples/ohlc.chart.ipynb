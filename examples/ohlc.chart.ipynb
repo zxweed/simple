{
 "cells": [
  {
   "cell_type": "markdown",
   "id": "ab4ce2c3-0c3f-40fc-83cd-399a39339872",
   "metadata": {},
   "source": [
    "## Just an equivolume OHLC chart with ta-lib ADX indicator"
   ]
  },
  {
   "cell_type": "code",
   "execution_count": 1,
   "id": "99d015a5-e0f9-4836-bc38-0a75f2a716fe",
   "metadata": {
    "execution": {
     "iopub.execute_input": "2024-01-08T11:04:28.495645Z",
     "iopub.status.busy": "2024-01-08T11:04:28.495508Z",
     "iopub.status.idle": "2024-01-08T11:04:29.532281Z",
     "shell.execute_reply": "2024-01-08T11:04:29.531681Z",
     "shell.execute_reply.started": "2024-01-08T11:04:28.495632Z"
    },
    "tags": []
   },
   "outputs": [],
   "source": [
    "import numpy as np\n",
    "from simple.ohlc import ohlcVolume\n",
    "from simple.chart import chartFigure\n",
    "from talib import ADX, MFI"
   ]
  },
  {
   "cell_type": "code",
   "execution_count": 2,
   "id": "c3c7889f-7391-44cd-800e-e2f075aa9a89",
   "metadata": {
    "execution": {
     "iopub.execute_input": "2024-01-08T11:04:29.534053Z",
     "iopub.status.busy": "2024-01-08T11:04:29.533449Z",
     "iopub.status.idle": "2024-01-08T11:04:30.554491Z",
     "shell.execute_reply": "2024-01-08T11:04:30.553932Z",
     "shell.execute_reply.started": "2024-01-08T11:04:29.534039Z"
    },
    "tags": []
   },
   "outputs": [
    {
     "data": {
      "text/plain": [
       "rec.array([('2022-05-01T00:00:06.912000',       0, 2726.665, 6300000, -5.5435e+04,  922., -5.6357e+04),\n",
       "           ('2022-05-01T00:00:10.695999',       1, 2726.635, 3783999, -3.3200e+03, 7235., -1.0555e+04),\n",
       "           ('2022-05-01T00:00:10.724999',       2, 2726.565,       0, -2.8000e+01,    0., -2.8000e+01),\n",
       "           ...,\n",
       "           ('2022-05-26T23:59:59.691999', 6824485, 1792.385,       0, -1.0000e+03,    0., -1.0000e+03),\n",
       "           ('2022-05-26T23:59:59.923000', 6824486, 1792.325,  231001, -1.0575e+04,   83., -1.0658e+04),\n",
       "           ('2022-05-26T23:59:59.955000', 6824487, 1792.285,       0, -4.7000e+01,    0., -4.7000e+01)],\n",
       "          dtype=[('DateTime', '<M8[us]'), ('Index', '<i4'), ('Price', '<f8'), ('Duration', '<m8[us]'), ('Size', '<f8'), ('BuySize', '<f8'), ('SellSize', '<f8')])"
      ]
     },
     "execution_count": 2,
     "metadata": {},
     "output_type": "execute_result"
    }
   ],
   "source": [
    "T = np.load('data/ETHUSDT.2022-05-01.debounce.npz')['ETHUSDT'].view(np.recarray)\n",
    "T"
   ]
  },
  {
   "cell_type": "code",
   "execution_count": 3,
   "id": "81680993-b64f-4fb1-ac27-b43f8a872a15",
   "metadata": {
    "execution": {
     "iopub.execute_input": "2024-01-08T11:04:30.555494Z",
     "iopub.status.busy": "2024-01-08T11:04:30.555159Z",
     "iopub.status.idle": "2024-01-08T11:04:30.971667Z",
     "shell.execute_reply": "2024-01-08T11:04:30.971006Z",
     "shell.execute_reply.started": "2024-01-08T11:04:30.555482Z"
    },
    "tags": []
   },
   "outputs": [
    {
     "data": {
      "text/plain": [
       "(rec.array([('2022-05-26T15:07:03.078000', 1834.865, 1869.715, 1827.525, 1869.605, 70001503., 33109971., -36894082., 16772, 9118,  7654),\n",
       "            ('2022-05-26T16:19:52.935000', 1869.605, 1899.995, 1847.835, 1896.085, 70012943., 38963594., -31061314., 16495, 8766,  7729),\n",
       "            ('2022-05-26T18:25:35.108999', 1896.085, 1907.575, 1864.005, 1866.085, 70006158., 35820091., -34179652., 18945, 8867, 10078),\n",
       "            ('2022-05-26T20:18:25.547000', 1866.085, 1868.665, 1812.565, 1816.685, 70012620., 38464576., -31556850., 15166, 6792,  8374),\n",
       "            ('2022-05-26T23:13:16.943000', 1816.685, 1850.005, 1812.225, 1814.015, 70002828., 37583855., -32404240., 16912, 8478,  8434)],\n",
       "           dtype=[('DateTime', '<M8[us]'), ('Open', '<f8'), ('High', '<f8'), ('Low', '<f8'), ('Close', '<f8'), ('Size', '<f8'), ('BuySize', '<f8'), ('SellSize', '<f8'), ('Count', '<i8'), ('BuyCount', '<i8'), ('SellCount', '<i8')]),\n",
       " 262)"
      ]
     },
     "execution_count": 3,
     "metadata": {},
     "output_type": "execute_result"
    }
   ],
   "source": [
    "C = ohlcVolume(T, 70_000_000)\n",
    "C[-5:], len(C)"
   ]
  },
  {
   "cell_type": "code",
   "execution_count": 4,
   "id": "9d77cc70-ea3d-417a-b94d-5eec32fa5fac",
   "metadata": {
    "execution": {
     "iopub.execute_input": "2024-01-08T11:04:30.972764Z",
     "iopub.status.busy": "2024-01-08T11:04:30.972492Z",
     "iopub.status.idle": "2024-01-08T11:04:30.978664Z",
     "shell.execute_reply": "2024-01-08T11:04:30.978014Z",
     "shell.execute_reply.started": "2024-01-08T11:04:30.972752Z"
    },
    "tags": []
   },
   "outputs": [
    {
     "data": {
      "text/plain": [
       "array([51.79444642, 44.97861567, 39.7723079 , 37.03719622, 34.71625911])"
      ]
     },
     "execution_count": 4,
     "metadata": {},
     "output_type": "execute_result"
    }
   ],
   "source": [
    "adx = ADX(C.High, C.Low, C.Close, 7)\n",
    "adx[-5:]"
   ]
  },
  {
   "cell_type": "code",
   "execution_count": 5,
   "id": "97d5e90f-ac42-47b4-912d-973ff91ecfcf",
   "metadata": {
    "execution": {
     "iopub.execute_input": "2024-01-08T11:04:30.979715Z",
     "iopub.status.busy": "2024-01-08T11:04:30.979388Z",
     "iopub.status.idle": "2024-01-08T11:04:30.984714Z",
     "shell.execute_reply": "2024-01-08T11:04:30.984018Z",
     "shell.execute_reply.started": "2024-01-08T11:04:30.979701Z"
    },
    "tags": []
   },
   "outputs": [
    {
     "data": {
      "text/plain": [
       "array([35.75211587, 35.54479016, 28.12042218, 28.26476459, 28.40657045])"
      ]
     },
     "execution_count": 5,
     "metadata": {},
     "output_type": "execute_result"
    }
   ],
   "source": [
    "mfi = MFI(C.High, C.Low, C.Close, C.Size, 14)\n",
    "mfi[-5:]"
   ]
  },
  {
   "cell_type": "code",
   "execution_count": 16,
   "id": "e83c9d64-3ded-4357-987f-294688bbe1b1",
   "metadata": {
    "execution": {
     "iopub.execute_input": "2024-01-08T11:13:50.158530Z",
     "iopub.status.busy": "2024-01-08T11:13:50.158394Z",
     "iopub.status.idle": "2024-01-08T11:13:50.314604Z",
     "shell.execute_reply": "2024-01-08T11:13:50.313818Z",
     "shell.execute_reply.started": "2024-01-08T11:13:50.158517Z"
    },
    "tags": []
   },
   "outputs": [
    {
     "data": {
      "application/vnd.jupyter.widget-view+json": {
       "model_id": "6e700bf85f6946d489544b61fdbf1ca2",
       "version_major": 2,
       "version_minor": 0
      },
      "text/plain": [
       "FigureWidgetResampler({\n",
       "    'data': [{'close': array([2765.215, 2776.305, 2791.425, ..., 1866.085, 1816.685, 1814.015]),\n",
       "              'high': array([2780.595, 2795.145, 2803.595, ..., 1907.575, 1868.665, 1850.005]),\n",
       "              'low': array([2716.155, 2764.175, 2751.745, ..., 1864.005, 1812.565, 1812.225]),\n",
       "              'name': 'OHLC',\n",
       "              'opacity': 0.5,\n",
       "              'open': array([2726.665, 2765.215, 2776.305, ..., 1896.085, 1866.085, 1816.685]),\n",
       "              'type': 'candlestick',\n",
       "              'uid': 'e9869929-40f9-4b00-b945-95135982a4a8',\n",
       "              'x': array([  0,   1,   2, ..., 259, 260, 261]),\n",
       "              'xaxis': 'x4'},\n",
       "             {'name': 'ADX',\n",
       "              'type': 'scattergl',\n",
       "              'uid': '210f4e5e-dacc-4425-8d33-5ce5fb024371',\n",
       "              'x': array([ 13,  14,  15, ..., 259, 260, 261]),\n",
       "              'xaxis': 'x4',\n",
       "              'y': array([15.46444494, 13.92112269, 16.40350832, ..., 39.7723079 , 37.03719622,\n",
       "                          34.71625911]),\n",
       "              'yaxis': 'y3'},\n",
       "             {'name': 'MFI',\n",
       "              'type': 'scattergl',\n",
       "              'uid': '36486a41-2074-4a13-b2eb-a8c24532700f',\n",
       "              'x': array([ 14,  15,  16, ..., 259, 260, 261]),\n",
       "              'xaxis': 'x4',\n",
       "              'y': array([64.19356117, 57.14802824, 57.16338186, ..., 28.12042218, 28.26476459,\n",
       "                          28.40657045]),\n",
       "              'yaxis': 'y4'},\n",
       "             {'marker': {'color': 'green'},\n",
       "              'name': 'BuySize',\n",
       "              'offsetgroup': '0',\n",
       "              'opacity': 0.5,\n",
       "              'type': 'bar',\n",
       "              'uid': 'c884c463-e177-4cae-80c4-b87bf3db6c8c',\n",
       "              'x': array([  0,   1,   2, ..., 259, 260, 261]),\n",
       "              'xaxis': 'x4',\n",
       "              'y': array([36920995., 36938759., 36365322., ..., 35820091., 38464576., 37583855.]),\n",
       "              'yaxis': 'y5'},\n",
       "             {'marker': {'color': 'red'},\n",
       "              'name': 'SellSize',\n",
       "              'offsetgroup': '0',\n",
       "              'opacity': 0.5,\n",
       "              'type': 'bar',\n",
       "              'uid': '3e665237-7cd9-4528-a9ed-310affe444b6',\n",
       "              'x': array([  0,   1,   2, ..., 259, 260, 261]),\n",
       "              'xaxis': 'x4',\n",
       "              'y': array([-33026843., -33072457., -33640933., ..., -34179652., -31556850.,\n",
       "                          -32404240.]),\n",
       "              'yaxis': 'y5'},\n",
       "             {'marker': {'color': 'green'},\n",
       "              'name': 'BuyCount',\n",
       "              'offsetgroup': '0',\n",
       "              'opacity': 0.5,\n",
       "              'type': 'bar',\n",
       "              'uid': '634f7fd7-f39e-4f3d-a286-5aea2199bd77',\n",
       "              'x': array([  0,   1,   2, ..., 259, 260, 261]),\n",
       "              'xaxis': 'x4',\n",
       "              'y': array([11272,  8998, 10991, ...,  8867,  6792,  8478]),\n",
       "              'yaxis': 'y7'},\n",
       "             {'marker': {'color': 'red'},\n",
       "              'name': 'SellCount',\n",
       "              'offsetgroup': '0',\n",
       "              'opacity': 0.5,\n",
       "              'type': 'bar',\n",
       "              'uid': '0262d974-ee5d-41df-9e40-d1e462fc3f12',\n",
       "              'x': array([  0,   1,   2, ..., 259, 260, 261]),\n",
       "              'xaxis': 'x4',\n",
       "              'y': array([-10594,  -8789,  -9974, ..., -10078,  -8374,  -8434]),\n",
       "              'yaxis': 'y7'}],\n",
       "    'layout': {'autosize': True,\n",
       "               'height': 600,\n",
       "               'legend': {'orientation': 'h', 'x': 0.1, 'y': 1},\n",
       "               'margin': {'b': 10, 'l': 45, 'pad': 3, 'r': 15, 't': 30},\n",
       "               'template': '...',\n",
       "               'title': {},\n",
       "               'xaxis': {'anchor': 'y',\n",
       "                         'domain': [0.0, 0.94],\n",
       "                         'matches': 'x4',\n",
       "                         'rangeslider': {'visible': False},\n",
       "                         'showticklabels': False,\n",
       "                         'spikedash': 'dot',\n",
       "                         'spikemode': 'across+marker',\n",
       "                         'spikesnap': 'cursor',\n",
       "                         'spikethickness': 2},\n",
       "               'xaxis2': {'anchor': 'y3',\n",
       "                          'domain': [0.0, 0.94],\n",
       "                          'matches': 'x4',\n",
       "                          'rangeslider': {'visible': False},\n",
       "                          'showticklabels': False,\n",
       "                          'spikedash': 'dot',\n",
       "                          'spikemode': 'across+marker',\n",
       "                          'spikesnap': 'cursor',\n",
       "                          'spikethickness': 2},\n",
       "               'xaxis3': {'anchor': 'y5',\n",
       "                          'domain': [0.0, 0.94],\n",
       "                          'matches': 'x4',\n",
       "                          'rangeslider': {'visible': False},\n",
       "                          'showticklabels': False,\n",
       "                          'spikedash': 'dot',\n",
       "                          'spikemode': 'across+marker',\n",
       "                          'spikesnap': 'cursor',\n",
       "                          'spikethickness': 2},\n",
       "               'xaxis4': {'anchor': 'y7',\n",
       "                          'domain': [0.0, 0.94],\n",
       "                          'rangeslider': {'visible': False},\n",
       "                          'spikedash': 'dot',\n",
       "                          'spikemode': 'across+marker',\n",
       "                          'spikesnap': 'cursor',\n",
       "                          'spikethickness': 2},\n",
       "               'yaxis': {'anchor': 'x', 'domain': [0.5, 1.0]},\n",
       "               'yaxis2': {'anchor': 'x', 'overlaying': 'y', 'side': 'right'},\n",
       "               'yaxis3': {'anchor': 'x2', 'domain': [0.33333333333333337, 0.5]},\n",
       "               'yaxis4': {'anchor': 'x2', 'overlaying': 'y3', 'side': 'right'},\n",
       "               'yaxis5': {'anchor': 'x3', 'domain': [0.16666666666666669, 0.33333333333333337]},\n",
       "               'yaxis6': {'anchor': 'x3', 'overlaying': 'y5', 'side': 'right'},\n",
       "               'yaxis7': {'anchor': 'x4', 'domain': [0.0, 0.16666666666666669]},\n",
       "               'yaxis8': {'anchor': 'x4', 'overlaying': 'y7', 'side': 'right'}}\n",
       "})"
      ]
     },
     "execution_count": 16,
     "metadata": {},
     "output_type": "execute_result"
    }
   ],
   "source": [
    "chartFigure(\n",
    "    OHLC=dict(mode='candlestick', x=x, open=C.Open, high=C.High, low=C.Low, close=C.Close, opacity=0.5),\n",
    "    ADX=dict(y=adx, row=2, col=1),\n",
    "    MFI=dict(y=mfi, row=2, col=1, secondary_y=True),\n",
    "    \n",
    "    BuySize=dict(mode='bar', y=C.BuySize, marker={'color': 'green'}, opacity=0.5, offsetgroup=0, row=3),\n",
    "    SellSize=dict(mode='bar', y=C.SellSize, marker={'color': 'red'}, opacity=0.5, offsetgroup=0, row=3),\n",
    "    BuyCount=dict(mode='bar', y=C.BuyCount, marker={'color': 'green'}, opacity=0.5, offsetgroup=0, row=4),\n",
    "    SellCount=dict(mode='bar', y=-C.SellCount, marker={'color': 'red'}, opacity=0.5, offsetgroup=0, row=4)\n",
    ")"
   ]
  },
  {
   "cell_type": "code",
   "execution_count": null,
   "id": "1f6bdb46-4bc9-4403-8de9-4d485d6f61ea",
   "metadata": {},
   "outputs": [],
   "source": []
  }
 ],
 "metadata": {
  "kernelspec": {
   "display_name": "Python 3 (ipykernel)",
   "language": "python",
   "name": "python3"
  },
  "language_info": {
   "codemirror_mode": {
    "name": "ipython",
    "version": 3
   },
   "file_extension": ".py",
   "mimetype": "text/x-python",
   "name": "python",
   "nbconvert_exporter": "python",
   "pygments_lexer": "ipython3",
   "version": "3.9.18"
  },
  "widgets": {
   "application/vnd.jupyter.widget-state+json": {
    "state": {
     "3bbeca3220144b2fac1615466874de4f": {
      "buffers": [
       {
        "data": "pHA9CteOpEC4HoXrUaGkQB+F61E4jaRAUrgehWuLpEAUrkfheoukQM3MzMzMgqRAPQrXo/CIpEAzMzMzs4ukQI/C9SjceKRAzczMzEx2pEAzMzMzs3akQD0K16NwgKRAMzMzM7N4pECamZmZmXOkQB+F61E4aaRAAAAAAABipECuR+F6lGCkQOxRuB4FbKRASOF6FK52pEApXI/C9W+kQD0K16NwXaRAZmZmZuZSpEDsUbgeBUqkQK5H4XoUT6RAXI/C9ShNpEAAAAAAAFCkQAAAAAAAUKRAFK5H4XpYpEC4HoXrUVWkQFyPwvWoSaRArkfhepRKpEDhehSuR0+kQLgehetRNKRAhetRuJ4UpEA9CtejcAGkQClcj8L1AqRASOF6FK4NpEAzMzMzMxakQMP1KFwPE6RArkfhehQopEBcj8L1KB2kQNejcD2KFaRA16NwPYocpEDXo3A9iiCkQM3MzMxME6RA9ihcj8IRpEBI4XoUriCkQClcj8L1+6NAZmZmZmYEpEDsUbgehRGkQKRwPQrXHaRApHA9CtcQpEB7FK5H4RmkQBSuR+F6GKRAXI/C9SgVpEAzMzMzMwmkQHE9CtcjAqRA9ihcj8ICpEBI4XoUrv+jQAAAAAAA7KNA16NwPYrWo0D2KFyPwtijQBSuR+H656NAPQrXo/D0o0DNzMzMzPqjQJqZmZkZ8qNAexSuR2Hpo0DhehSuR+KjQB+F61G41aNAzczMzMzko0AzMzMzs+yjQK5H4XqU6aNAuB6F69Hko0AAAAAAAMejQFK4HoVrvqNAexSuR2HTo0AfhetRONmjQHsUrkfh6aNAAAAAAADso0AzMzMzM+yjQBSuR+H676NAw/UoXI/Yo0DhehSuR9SjQHE9Ctcj0aNA16NwPQrSo0Bcj8L1KMijQAAAAAAAsKNAXI/C9ai4o0D2KFyPQsajQK5H4XqUx6NAPQrXo3DUo0A9Ctej8NOjQClcj8J126NAPQrXo3DXo0AAAAAAANijQGZmZmZm0KNA7FG4HoXSo0ApXI/C9cejQD0K16Nwy6NAmpmZmZm+o0DNzMzMzMOjQI/C9SjcyqNArkfhehTTo0CkcD0KV9mjQEjhehQu26NAAAAAAADio0BI4XoULtqjQAAAAAAA5KNA16NwPQrso0DsUbgeBfSjQBSuR+F6+6NAzczMzEz2o0DNzMzMzPCjQNejcD2K8aNAZmZmZub1o0CPwvUo3OujQNejcD2K46NAPQrXo/Deo0BI4XoULuCjQFK4HoXr1KNAZmZmZmbQo0BSuB6F696jQIXrUbge3aNA7FG4HoXXo0DXo3A9isajQHsUrkdhz6NAFK5H4frTo0AzMzMzs9WjQOxRuB4F1qNAAAAAAAAAAAA=",
        "encoding": "base64",
        "path": [
         "_data",
         0,
         "close",
         "value"
        ]
       },
       {
        "data": "cT0K1yOfpEAfhetROKKkQKRwPQrXoaRAAAAAAICOpEAfhetRuJSkQMP1KFwPj6RAH4XrUTiOpEC4HoXr0Y+kQDMzMzOzi6RAH4XrUTh7pEAzMzMzs3akQD0K16NwgKRAAAAAAACEpECPwvUoXH6kQFK4HoXrdKRAexSuR2FupEB7FK5H4WWkQOxRuB6FbqRAMzMzMzN4pEAAAAAAgHmkQB+F61E4daRAFK5H4XpmpEC4HoXr0VekQBSuR+H6WaRASOF6FC5YpEAUrkfhelqkQAAAAAAAUKRAAAAAAIBdpEApXI/C9VqkQLgehetRVaRArkfhehRMpEBcj8L1qFGkQM3MzMxMT6RAPQrXo3A3pEDsUbgeBSekQK5H4XqUDKRAcT0K16MNpECamZmZGRykQEjhehSuHqRA9ihcj8IspEAfhetROCmkQGZmZmZmJKRAhetRuJ4fpECF61G4niukQFyPwvWoI6RA7FG4HoUWpEBI4XoUriCkQArXo3A9JaRA16NwPYoOpEA9Ctej8BOkQLgehevRHaRAPQrXo/AepEDNzMzMTBukQK5H4XoUG6RAhetRuJ4cpECamZmZGRmkQOF6FK7HDKRAH4XrUTgIpEDsUbgehQikQFyPwvWoA6RA9ihcj0L1o0DNzMzMTN6jQFyPwvWo66NA9ihcj0L2o0B7FK5H4f2jQLgehevRBaRAZmZmZubzo0BmZmZmZuqjQAAAAAAA46NAexSuR2Hlo0AfhetROPKjQD0K16Pw96NAKVyPwvXuo0ApXI/C9eSjQKRwPQpXy6NAhetRuJ7To0CamZmZmdmjQHsUrkfh6aNASOF6FK7xo0A9Ctej8O2jQD0K16Pw8aNAH4XrUTjxo0AUrkfh+t2jQGZmZmZm4KNASOF6FK7Vo0ApXI/CddSjQEjhehQuy6NAXI/C9ai4o0AUrkfhesqjQIXrUbgey6NA4XoUrsfUo0AK16NwvdSjQClcj8J126NAFK5H4frfo0CF61G4ntujQEjhehQu3aNAMzMzMzPZo0CamZmZGdijQAAAAAAAzKNACtejcL3Po0AAAAAAAMSjQAAAAAAAzqNAhetRuB7To0BxPQrXI9yjQMP1KFyP3aNAZmZmZmblo0DsUbgeBeKjQAAAAAAA5qNApHA9Ctfyo0AAAAAAgPmjQB+F61E4/KNAZmZmZmb9o0AUrkfh+vmjQBSuR+H69aNAH4XrUbj2o0Bcj8L1KPujQNejcD2K7aNAFK5H4Xrpo0AAAAAAAOKjQFyPwvUo4aNAhetRuB7Wo0BSuB6F696jQGZmZmZm66NAmpmZmZnmo0ApXI/CddujQI/C9Shcz6NAKVyPwvXZo0AAAAAAANajQGZmZmZm3aNAAAAAAADao0A=",
        "encoding": "base64",
        "path": [
         "_data",
         0,
         "high",
         "value"
        ]
       },
       {
        "data": "16NwPQqOpEAzMzMzM46kQIXrUbiejKRAuB6F69GDpEAK16NwPYmkQJqZmZkZf6RAzczMzEx+pECPwvUoXH+kQHsUrkfheKRAhetRuB5zpEAAAAAAAG6kQGZmZmZmc6RA16NwPYp3pECamZmZmXOkQMP1KFyPaKRAMzMzM7NhpEAfhetROFykQEjhehQuXaRAcT0K1yNipECamZmZGW2kQAAAAACAXKRAhetRuJ5QpEDhehSux0WkQB+F61E4SaRAAAAAAABMpEAAAAAAAEykQHsUrkdhSKRASOF6FC5OpEBcj8L1qFSkQLgehetRSKRAPQrXo/A/pEAfhetRuEikQI/C9ShcNKRAcT0K16MUpEAAAAAAAACkQAAAAAAA7KNAXI/C9Sjuo0CkcD0K1wikQArXo3A9D6RACtejcL0QpEC4HoXr0RSkQAAAAAAAFKRAMzMzMzMUpEDXo3A9ihykQJqZmZmZDKRAZmZmZuYGpEDD9ShcjxGkQClcj8L1+6NAhetRuB77o0DhehSuRwGkQFK4HoVrDaRACtejcL0PpEC4HoXrUQ6kQDMzMzMzEaRAexSuR+EPpEAfhetROAmkQB+F61E4+6NAAAAAAAD9o0BSuB6F6/ijQAAAAAAA7KNA16NwPYrWo0AAAAAAAMyjQLgehevR1qNAUrgehevfo0Bcj8L1KPCjQClcj8J176NACtejcD3po0C4HoXr0dyjQAAAAAAA0qNAMzMzMzPUo0CamZmZmd6jQJqZmZmZ6aNAmpmZmZnho0DsUbgeBcejQAAAAAAAvKNAAAAAAAC8o0BxPQrXI8OjQIXrUbge16NAXI/C9ajjo0CkcD0KV+GjQNejcD0K6aNAw/UoXI/Yo0AAAAAAANCjQD0K16PwzKNAH4XrUTjFo0CF61G4HsWjQAAAAAAAsKNAAAAAAACko0AUrkfh+rSjQI/C9SjcvKNA4XoUrkfFo0CuR+F6lMmjQK5H4XqUz6NAAAAAAADSo0CPwvUoXNKjQFK4HoVr0KNAZmZmZubIo0ApXI/C9cejQIXrUbgewaNAmpmZmZm+o0AAAAAAALqjQI/C9ShcwqNAH4XrUbjIo0CamZmZmdGjQK5H4XoU1qNASOF6FC7bo0DXo3A9itijQIXrUbie2aNAAAAAAADko0BSuB6Fa+ujQAAAAAAA7KNAFK5H4Xrvo0DXo3A9ivCjQOF6FK5H7KNAAAAAAADso0CPwvUo3OujQNejcD2K46NASOF6FK7co0AAAAAAANqjQOxRuB4F1KNAZmZmZubLo0AfhetRuMyjQFK4HoXr3KNAKVyPwvXWo0CamZmZGcajQFK4HoVrwKNASOF6FK7Eo0ApXI/CdcejQK5H4XqU06NAuB6F61HMo0A=",
        "encoding": "base64",
        "path": [
         "_data",
         0,
         "low",
         "value"
        ]
       },
       {
        "data": "AAAAAACYpECkcD0K146kQLgehetRoaRAH4XrUTiNpEBSuB6Fa4ukQBSuR+F6i6RAzczMzMyCpEA9Ctej8IikQDMzMzOzi6RAj8L1KNx4pEDNzMzMTHakQDMzMzOzdqRAPQrXo3CApEAzMzMzs3ikQJqZmZmZc6RAH4XrUThppEAAAAAAAGKkQK5H4XqUYKRA7FG4HgVspEBI4XoUrnakQClcj8L1b6RAPQrXo3BdpEBmZmZm5lKkQOxRuB4FSqRArkfhehRPpEBcj8L1KE2kQAAAAAAAUKRAAAAAAABQpEAUrkfhelikQLgehetRVaRAXI/C9ahJpECuR+F6lEqkQOF6FK5HT6RAuB6F61E0pECF61G4nhSkQD0K16NwAaRAKVyPwvUCpEBI4XoUrg2kQDMzMzMzFqRAw/UoXA8TpECuR+F6FCikQFyPwvUoHaRA16NwPYoVpEDXo3A9ihykQNejcD2KIKRAzczMzEwTpED2KFyPwhGkQEjhehSuIKRAKVyPwvX7o0BmZmZmZgSkQOxRuB6FEaRApHA9CtcdpECkcD0K1xCkQHsUrkfhGaRAFK5H4XoYpEBcj8L1KBWkQDMzMzMzCaRAcT0K1yMCpED2KFyPwgKkQEjhehSu/6NAAAAAAADso0DXo3A9itajQPYoXI/C2KNAFK5H4frno0A9Ctej8PSjQM3MzMzM+qNAmpmZmRnyo0B7FK5HYemjQOF6FK5H4qNAH4XrUbjVo0DNzMzMzOSjQDMzMzOz7KNArkfhepTpo0C4HoXr0eSjQAAAAAAAx6NAUrgehWu+o0B7FK5HYdOjQB+F61E42aNAexSuR+Hpo0AAAAAAAOyjQDMzMzMz7KNAFK5H4frvo0DD9Shcj9ijQOF6FK5H1KNAcT0K1yPRo0DXo3A9CtKjQFyPwvUoyKNAAAAAAACwo0Bcj8L1qLijQPYoXI9CxqNArkfhepTHo0A9CtejcNSjQD0K16Pw06NAKVyPwnXbo0A9CtejcNejQAAAAAAA2KNAZmZmZmbQo0DsUbgehdKjQClcj8L1x6NAPQrXo3DLo0CamZmZmb6jQM3MzMzMw6NAj8L1KNzKo0CuR+F6FNOjQKRwPQpX2aNASOF6FC7bo0AAAAAAAOKjQEjhehQu2qNAAAAAAADko0DXo3A9CuyjQOxRuB4F9KNAFK5H4Xr7o0DNzMzMTPajQM3MzMzM8KNA16NwPYrxo0BmZmZm5vWjQI/C9Sjc66NA16NwPYrjo0A9Ctej8N6jQEjhehQu4KNAUrgehevUo0BmZmZmZtCjQFK4HoXr3qNAhetRuB7do0DsUbgehdejQNejcD2KxqNAexSuR2HPo0AUrkfh+tOjQDMzMzOz1aNA7FG4HgXWo0A=",
        "encoding": "base64",
        "path": [
         "_data",
         0,
         "open",
         "value"
        ]
       },
       {
        "data": "AAAAgPMcQEEAAAAAuLtFQQAAAIAfCUFBAAAAgPZxQ0EAAAAAlvtBQQAAAAABSkBBAAAAgFDZQkEAAAAAhw1EQQAAAAC8dzlBAAAAAHc1QEEAAAAAcnQ4QQAAAIBh+0VBAAAAgMvlQUEAAAAAYKpBQQAAAADpMjdBAAAAAP+QPUEAAACADkNBQQAAAAAKkEVBAAAAACDoR0EAAACAPu1DQQAAAABAE0BBAAAAAMAGPUEAAAAAlAk5QQAAAACgNUdBAAAAADbXQkEAAACAKJ1DQQAAAIAmyUpBAAAAAJHuREEAAAAArilHQQAAAAC2y0FBAAAAAFBpQ0EAAACAMBNJQQAAAABXwjJBAAAAAGwuKUEAAAAAyAYjQQAAAACMhRRBAAAAgBg1REEAAAAAP89GQQAAAIA/y0JBAAAAAGq2REEAAAAASftCQQAAAABp2kNBAAAAADGFQkEAAACAawBJQQAAAAAF8T1BAAAAgBjDR0EAAABAGKRQQQAAAAAqijpBAAAAgCJGR0EAAACAEslHQQAAAABPo0ZBAAAAgJiXQEEAAACABXFDQQAAAABnW0FBAAAAAFa/QEEAAACA9/dBQQAAAABZXzZBAAAAAFXSQ0EAAAAArApAQQAAAACGMztBAAAAAChHKEEAAAAAS2c1QQAAAAAeukFBAAAAgBDKRkEAAACAbWBEQQAAAABklUJBAAAAADMWPUEAAACA5t9AQQAAAADWAThBAAAAANzSSUEAAACAnWBKQQAAAAAr7kRBAAAAAJcrQ0EAAAAAoDY0QQAAAACm9CBBAAAAgIzHQ0EAAAAA6oZBQQAAAIBEvktBAAAAACcpSEEAAACAC9lFQQAAAADK40VBAAAAAKUXO0EAAAAAEkU/QQAAAICzBkRBAAAAAMqiPkEAAACAeO5CQQAAAAAzijVBAAAAAM7jOUEAAAAAv3BIQQAAAIB+80ZBAAAAAOoLRUEAAAAACMc8QQAAAABM9EdBAAAAgCy5RUEAAAAA9Tw4QQAAAIBXUkBBAAAAAOpWQkEAAAAAQ2k2QQAAAIATZkJBAAAAABqiPkEAAACAgEFAQQAAAICSd0VBAAAAAMSPS0EAAAAARg1JQQAAAAAbqEVBAAAAAA4bP0EAAAAAue80QQAAAIAhkUJBAAAAgHllSEEAAAAAGJVJQQAAAAAh9z9BAAAAABjlQEEAAACAbBhBQQAAAIDFVkRBAAAAAFDxQ0EAAAAAj/E/QQAAAAAtwj5BAAAAgGWpQEEAAAAAi1hCQQAAAAB+JT1BAAAAADkZQUEAAACAo4BKQQAAAIBThElBAAAAgEgMR0EAAAAATxY2QQAAAIDIfURBAAAAgCyQRUEAAACA5IlCQQAAAAA8YUVBAAAAAI2kN0E=",
        "encoding": "base64",
        "path": [
         "_data",
         1,
         "y",
         "value"
        ]
       },
       {
        "data": "AAAAgIETRsEAAAAAsGZAwQAAAICDOkXBAAAAgKekQsEAAACAMjBEwQAAAIAF6UXBAAAAAC1LQ8EAAACAYShCwQAAAIB6a0nBAAAAgMNARsEAAAAA//FJwQAAAICVMEDBAAAAAHpCRMEAAACADpBEwQAAAICgeUrBAAAAgMWgR8EAAACAAc9EwQAAAICglUDBAAAAAJGXPMEAAACAVzxCwQAAAIB0G0bBAAAAAJmhR8EAAACAFKFJwQAAAAAC4D3BAAAAgLRPQ8EAAAAAI29DwQAAAABVzjbBAAAAAFBRQcEAAAAAWA4+wQAAAICndkTBAAAAgCLFQsEAAAAAxyE6wQAAAIAS2EzBAAAAwJcEUMEAAAAA29ZQwQAAAICV4VHBAAAAgIfrQcEAAAAAjrk+wQAAAACveEPBAAAAAGFnQcEAAACAui9DwQAAAIAgW0LBAAAAAA+hQ8EAAAAACE06wQAAAAAVL0fBAAAAAFjIPMEAAAAAaHgjwQAAAADZ4EjBAAAAACnBPcEAAAAApMs8wQAAAAAqDj/BAAAAgICQRcEAAAAADrtCwQAAAADe0UTBAAAAAJ1nRcEAAAAAhDJEwQAAAAC//krBAAAAgH5OQsEAAAAAqTVGwQAAAICuykjBAAAAgDURUMEAAACATbdLwQAAAIBVcUTBAAAAALTDPsEAAACA+89BwQAAAACjkUPBAAAAgKiuR8EAAACAqFlFwQAAAABoN0rBAAAAACuOOMEAAAAA15o3wQAAAAC2O0HBAAAAACL6QsEAAACAYSNMwQAAAECP9lDBAAAAgJBjQsEAAAAApJpEwQAAAADr1TTBAAAAAJIAPMEAAACA3E5AwQAAAICeUEDBAAAAANKPSMEAAAAAj4pGwQAAAAChMELBAAAAAC/WRsEAAACAxzRDwQAAAIAkZEvBAAAAgOBRScEAAAAA9Go7wQAAAAALZD7BAAAAgJQcQcEAAAAAJcNHwQAAAABbZjzBAAAAgIKsQMEAAAAAi/FJwQAAAAABw0XBAAAAAG3PQ8EAAAAAGglLwQAAAAAOv0PBAAAAAAXWRsEAAAAA/+dFwQAAAACrq0DBAAAAAF06NcEAAAAAqy86wQAAAAA+hEDBAAAAAH6dRsEAAAAAJKVLwQAAAADSlEPBAAAAAJeFO8EAAAAANjU5wQAAAAAfK0bBAAAAAO1CRcEAAAAACxRFwQAAAIDk2EHBAAAAAMguQsEAAACAgzJGwQAAAIA3x0bBAAAAAPZ8RcEAAAAAwthDwQAAAICMikfBAAAAgAATRcEAAAAAAlg3wQAAAAA8PjnBAAAAAI82PsEAAACAwh1LwQAAAABt30HBAAAAAMRuQMEAAAAAqKVDwQAAAAAUxUDBAAAAAD5uQME=",
        "encoding": "base64",
        "path": [
         "_data",
         2,
         "y",
         "value"
        ]
       },
       {
        "data": "AAAAAAAA+H8AAAAAAAD4fwAAAAAAAPh/AAAAAAAA+H8AAAAAAAD4fwAAAAAAAPh/AAAAAAAA+H8AAAAAAAD4fwAAAAAAAPh/AAAAAAAA+H8AAAAAAAD4fwAAAAAAAPh/AAAAAAAA+H+FASJZpGJBQAdxciMJ00FA0htGKirlQkAaRRBYJ0hEQL2LGsB+Q0NA5BIaOQeMQEAHtSgWvL08QNujgP4Y5TxA6X6kgtIeP0BOEhqXPTxBQHvPzlgnOUJAWN+yte8RQ0BGK/OxKzVDQE4GxgLGuENAgBLXdFctQUANgxRk8f09QAlF4p5Q3j1Ag/pfGleCP0BfsuF8cYc+QHtd7kNapUBA/oeNmzIvQ0CaROxfW9tFQMKNAF72fkhAzyWnQmuZSkAA6e8GyVBKQB0deF+auElAAV+SpYJsR0AOvF9PbnRFQGn/yShh2ENAAfDbUDF3QkDxSLJGbjNAQB+N0le2wD5AeYpMuSJmPkDH9FJsThs7QFkedEnRGDxAlwrzHDsRPUAOsbN2/TI8QEdSBSHBqzhAkc94ytpXNUCfa1tm8OcyQIY6Qn4n0TBAHrIJT/PYLEBWOy7zG60tQG4PtS38uDJAgpWFo1oNNkCC6scqn8g5QLARPASzED9A8gZb4B28QkALZTMi5sRFQDDK2I9Yz0VAqJnooBs+REB3s+YyQ+VBQPsO6fwzez9AU5YXIOi0O0AxLW8aqw47QL56fstXSDxAQRebmNWOPEByUzpapg05QE76WJwuTjZAQfHzWkVPNECCnAm/7hE3QAXlyXGRqDpA2Ax2kQZlO0BabI6s6Gs6QDPbTX37XzdA/iWdrqo0NkAAJFIEJp40QN6bLln5GjRAL23UfVHdMkCAl6q+/2wzQAUh4dKrdzRAEGq+IgW5NkBhKd1id6w4QG1uULEETz1AIWGPZFwvQUDXtTgempVAQMD2WK+g9j9Ab178MsBQPEAFJfbsSDA5QE4NTkbchjZAGWUxMlppNUASHquOoXQ0QJ66le8h1zJA7d/CPkymMUAQ1YsowvQwQIUJvOO4lTJAP2YbFFgbMkDNWNgL7D4zQLTL5lKsLjFARToI5D8mMUCZpNTVMpYzQA7QaCZ4BTZALkLA23LXOUBl6FqhG6E7QGDtlFJkID5Aoae0sjtHQUCKahwn+ZdDQDUNPUtcvEVAmnqBqdSkR0Coak76hEdJQJg2Lc61/0hAaBeboMjcSEDNr3MHEFdJQCg8A5J72UZAGXvPtdEbREAiuv0I1U9CQDsoKMvJ2kFAy+YOKbmPQkCiHzavfeZAQD1eSGRnTT9AM3HKdt0FO0A+mDe7Jkk7QOezjI6nkzxA2BomXDYQOkDK4DvDsOg3QPIrZUDwTTVAyqHn/NmpM0A=",
        "encoding": "base64",
        "path": [
         "_data",
         3,
         "y",
         "value"
        ]
       }
      ],
      "model_module": "jupyterlab-plotly",
      "model_module_version": "^5.6.0",
      "model_name": "FigureModel",
      "state": {
       "_config": {
        "plotlyServerURL": "https://plot.ly"
       },
       "_data": [
        {
         "close": {
          "dtype": "float64",
          "shape": [
           130
          ],
          "value": {}
         },
         "high": {
          "dtype": "float64",
          "shape": [
           130
          ],
          "value": {}
         },
         "low": {
          "dtype": "float64",
          "shape": [
           130
          ],
          "value": {}
         },
         "name": "OHLC",
         "opacity": 0.5,
         "open": {
          "dtype": "float64",
          "shape": [
           130
          ],
          "value": {}
         },
         "type": "candlestick",
         "uid": "53116b8c-a8ce-496c-85e0-190216821642",
         "xaxis": "x"
        },
        {
         "marker": {
          "color": "green"
         },
         "name": "Buy",
         "offsetgroup": "0",
         "opacity": 0.5,
         "type": "bar",
         "uid": "e283c81d-dea3-49fb-a281-ef62f6d39bec",
         "xaxis": "x",
         "y": {
          "dtype": "float64",
          "shape": [
           130
          ],
          "value": {}
         },
         "yaxis": "y3"
        },
        {
         "marker": {
          "color": "red"
         },
         "name": "Sell",
         "offsetgroup": "0",
         "opacity": 0.5,
         "type": "bar",
         "uid": "4626c3fe-d0ae-4c13-be4b-7ad7f4614a66",
         "xaxis": "x",
         "y": {
          "dtype": "float64",
          "shape": [
           130
          ],
          "value": {}
         },
         "yaxis": "y3"
        },
        {
         "name": "ADX",
         "type": "scattergl",
         "uid": "c5b54804-7ded-4682-beab-2e0de1d63fb1",
         "xaxis": "x",
         "y": {
          "dtype": "float64",
          "shape": [
           130
          ],
          "value": {}
         },
         "yaxis": "y4"
        }
       ],
       "_js2py_pointsCallback": {},
       "_js2py_relayout": {},
       "_js2py_restyle": {},
       "_js2py_update": {},
       "_last_layout_edit_id": 12,
       "_last_trace_edit_id": 12,
       "_layout": {
        "autosize": true,
        "height": 600,
        "legend": {
         "orientation": "h",
         "x": 0.4,
         "y": 1.01
        },
        "margin": {
         "b": 10,
         "l": 45,
         "pad": 3,
         "r": 5,
         "t": 10
        },
        "template": {
         "data": {
          "bar": [
           {
            "error_x": {
             "color": "#2a3f5f"
            },
            "error_y": {
             "color": "#2a3f5f"
            },
            "marker": {
             "line": {
              "color": "white",
              "width": 0.5
             },
             "pattern": {
              "fillmode": "overlay",
              "size": 10,
              "solidity": 0.2
             }
            },
            "type": "bar"
           }
          ],
          "barpolar": [
           {
            "marker": {
             "line": {
              "color": "white",
              "width": 0.5
             },
             "pattern": {
              "fillmode": "overlay",
              "size": 10,
              "solidity": 0.2
             }
            },
            "type": "barpolar"
           }
          ],
          "carpet": [
           {
            "aaxis": {
             "endlinecolor": "#2a3f5f",
             "gridcolor": "#C8D4E3",
             "linecolor": "#C8D4E3",
             "minorgridcolor": "#C8D4E3",
             "startlinecolor": "#2a3f5f"
            },
            "baxis": {
             "endlinecolor": "#2a3f5f",
             "gridcolor": "#C8D4E3",
             "linecolor": "#C8D4E3",
             "minorgridcolor": "#C8D4E3",
             "startlinecolor": "#2a3f5f"
            },
            "type": "carpet"
           }
          ],
          "choropleth": [
           {
            "colorbar": {
             "outlinewidth": 0,
             "ticks": ""
            },
            "type": "choropleth"
           }
          ],
          "contour": [
           {
            "colorbar": {
             "outlinewidth": 0,
             "ticks": ""
            },
            "colorscale": [
             [
              0,
              "#0d0887"
             ],
             [
              0.1111111111111111,
              "#46039f"
             ],
             [
              0.2222222222222222,
              "#7201a8"
             ],
             [
              0.3333333333333333,
              "#9c179e"
             ],
             [
              0.4444444444444444,
              "#bd3786"
             ],
             [
              0.5555555555555556,
              "#d8576b"
             ],
             [
              0.6666666666666666,
              "#ed7953"
             ],
             [
              0.7777777777777778,
              "#fb9f3a"
             ],
             [
              0.8888888888888888,
              "#fdca26"
             ],
             [
              1,
              "#f0f921"
             ]
            ],
            "type": "contour"
           }
          ],
          "contourcarpet": [
           {
            "colorbar": {
             "outlinewidth": 0,
             "ticks": ""
            },
            "type": "contourcarpet"
           }
          ],
          "heatmap": [
           {
            "colorbar": {
             "outlinewidth": 0,
             "ticks": ""
            },
            "colorscale": [
             [
              0,
              "#0d0887"
             ],
             [
              0.1111111111111111,
              "#46039f"
             ],
             [
              0.2222222222222222,
              "#7201a8"
             ],
             [
              0.3333333333333333,
              "#9c179e"
             ],
             [
              0.4444444444444444,
              "#bd3786"
             ],
             [
              0.5555555555555556,
              "#d8576b"
             ],
             [
              0.6666666666666666,
              "#ed7953"
             ],
             [
              0.7777777777777778,
              "#fb9f3a"
             ],
             [
              0.8888888888888888,
              "#fdca26"
             ],
             [
              1,
              "#f0f921"
             ]
            ],
            "type": "heatmap"
           }
          ],
          "heatmapgl": [
           {
            "colorbar": {
             "outlinewidth": 0,
             "ticks": ""
            },
            "colorscale": [
             [
              0,
              "#0d0887"
             ],
             [
              0.1111111111111111,
              "#46039f"
             ],
             [
              0.2222222222222222,
              "#7201a8"
             ],
             [
              0.3333333333333333,
              "#9c179e"
             ],
             [
              0.4444444444444444,
              "#bd3786"
             ],
             [
              0.5555555555555556,
              "#d8576b"
             ],
             [
              0.6666666666666666,
              "#ed7953"
             ],
             [
              0.7777777777777778,
              "#fb9f3a"
             ],
             [
              0.8888888888888888,
              "#fdca26"
             ],
             [
              1,
              "#f0f921"
             ]
            ],
            "type": "heatmapgl"
           }
          ],
          "histogram": [
           {
            "marker": {
             "pattern": {
              "fillmode": "overlay",
              "size": 10,
              "solidity": 0.2
             }
            },
            "type": "histogram"
           }
          ],
          "histogram2d": [
           {
            "colorbar": {
             "outlinewidth": 0,
             "ticks": ""
            },
            "colorscale": [
             [
              0,
              "#0d0887"
             ],
             [
              0.1111111111111111,
              "#46039f"
             ],
             [
              0.2222222222222222,
              "#7201a8"
             ],
             [
              0.3333333333333333,
              "#9c179e"
             ],
             [
              0.4444444444444444,
              "#bd3786"
             ],
             [
              0.5555555555555556,
              "#d8576b"
             ],
             [
              0.6666666666666666,
              "#ed7953"
             ],
             [
              0.7777777777777778,
              "#fb9f3a"
             ],
             [
              0.8888888888888888,
              "#fdca26"
             ],
             [
              1,
              "#f0f921"
             ]
            ],
            "type": "histogram2d"
           }
          ],
          "histogram2dcontour": [
           {
            "colorbar": {
             "outlinewidth": 0,
             "ticks": ""
            },
            "colorscale": [
             [
              0,
              "#0d0887"
             ],
             [
              0.1111111111111111,
              "#46039f"
             ],
             [
              0.2222222222222222,
              "#7201a8"
             ],
             [
              0.3333333333333333,
              "#9c179e"
             ],
             [
              0.4444444444444444,
              "#bd3786"
             ],
             [
              0.5555555555555556,
              "#d8576b"
             ],
             [
              0.6666666666666666,
              "#ed7953"
             ],
             [
              0.7777777777777778,
              "#fb9f3a"
             ],
             [
              0.8888888888888888,
              "#fdca26"
             ],
             [
              1,
              "#f0f921"
             ]
            ],
            "type": "histogram2dcontour"
           }
          ],
          "mesh3d": [
           {
            "colorbar": {
             "outlinewidth": 0,
             "ticks": ""
            },
            "type": "mesh3d"
           }
          ],
          "parcoords": [
           {
            "line": {
             "colorbar": {
              "outlinewidth": 0,
              "ticks": ""
             }
            },
            "type": "parcoords"
           }
          ],
          "pie": [
           {
            "automargin": true,
            "type": "pie"
           }
          ],
          "scatter": [
           {
            "marker": {
             "colorbar": {
              "outlinewidth": 0,
              "ticks": ""
             }
            },
            "type": "scatter"
           }
          ],
          "scatter3d": [
           {
            "line": {
             "colorbar": {
              "outlinewidth": 0,
              "ticks": ""
             }
            },
            "marker": {
             "colorbar": {
              "outlinewidth": 0,
              "ticks": ""
             }
            },
            "type": "scatter3d"
           }
          ],
          "scattercarpet": [
           {
            "marker": {
             "colorbar": {
              "outlinewidth": 0,
              "ticks": ""
             }
            },
            "type": "scattercarpet"
           }
          ],
          "scattergeo": [
           {
            "marker": {
             "colorbar": {
              "outlinewidth": 0,
              "ticks": ""
             }
            },
            "type": "scattergeo"
           }
          ],
          "scattergl": [
           {
            "marker": {
             "colorbar": {
              "outlinewidth": 0,
              "ticks": ""
             }
            },
            "type": "scattergl"
           }
          ],
          "scattermapbox": [
           {
            "marker": {
             "colorbar": {
              "outlinewidth": 0,
              "ticks": ""
             }
            },
            "type": "scattermapbox"
           }
          ],
          "scatterpolar": [
           {
            "marker": {
             "colorbar": {
              "outlinewidth": 0,
              "ticks": ""
             }
            },
            "type": "scatterpolar"
           }
          ],
          "scatterpolargl": [
           {
            "marker": {
             "colorbar": {
              "outlinewidth": 0,
              "ticks": ""
             }
            },
            "type": "scatterpolargl"
           }
          ],
          "scatterternary": [
           {
            "marker": {
             "colorbar": {
              "outlinewidth": 0,
              "ticks": ""
             }
            },
            "type": "scatterternary"
           }
          ],
          "surface": [
           {
            "colorbar": {
             "outlinewidth": 0,
             "ticks": ""
            },
            "colorscale": [
             [
              0,
              "#0d0887"
             ],
             [
              0.1111111111111111,
              "#46039f"
             ],
             [
              0.2222222222222222,
              "#7201a8"
             ],
             [
              0.3333333333333333,
              "#9c179e"
             ],
             [
              0.4444444444444444,
              "#bd3786"
             ],
             [
              0.5555555555555556,
              "#d8576b"
             ],
             [
              0.6666666666666666,
              "#ed7953"
             ],
             [
              0.7777777777777778,
              "#fb9f3a"
             ],
             [
              0.8888888888888888,
              "#fdca26"
             ],
             [
              1,
              "#f0f921"
             ]
            ],
            "type": "surface"
           }
          ],
          "table": [
           {
            "cells": {
             "fill": {
              "color": "#EBF0F8"
             },
             "line": {
              "color": "white"
             }
            },
            "header": {
             "fill": {
              "color": "#C8D4E3"
             },
             "line": {
              "color": "white"
             }
            },
            "type": "table"
           }
          ]
         },
         "layout": {
          "annotationdefaults": {
           "arrowcolor": "#2a3f5f",
           "arrowhead": 0,
           "arrowwidth": 1
          },
          "autotypenumbers": "strict",
          "coloraxis": {
           "colorbar": {
            "outlinewidth": 0,
            "ticks": ""
           }
          },
          "colorscale": {
           "diverging": [
            [
             0,
             "#8e0152"
            ],
            [
             0.1,
             "#c51b7d"
            ],
            [
             0.2,
             "#de77ae"
            ],
            [
             0.3,
             "#f1b6da"
            ],
            [
             0.4,
             "#fde0ef"
            ],
            [
             0.5,
             "#f7f7f7"
            ],
            [
             0.6,
             "#e6f5d0"
            ],
            [
             0.7,
             "#b8e186"
            ],
            [
             0.8,
             "#7fbc41"
            ],
            [
             0.9,
             "#4d9221"
            ],
            [
             1,
             "#276419"
            ]
           ],
           "sequential": [
            [
             0,
             "#0d0887"
            ],
            [
             0.1111111111111111,
             "#46039f"
            ],
            [
             0.2222222222222222,
             "#7201a8"
            ],
            [
             0.3333333333333333,
             "#9c179e"
            ],
            [
             0.4444444444444444,
             "#bd3786"
            ],
            [
             0.5555555555555556,
             "#d8576b"
            ],
            [
             0.6666666666666666,
             "#ed7953"
            ],
            [
             0.7777777777777778,
             "#fb9f3a"
            ],
            [
             0.8888888888888888,
             "#fdca26"
            ],
            [
             1,
             "#f0f921"
            ]
           ],
           "sequentialminus": [
            [
             0,
             "#0d0887"
            ],
            [
             0.1111111111111111,
             "#46039f"
            ],
            [
             0.2222222222222222,
             "#7201a8"
            ],
            [
             0.3333333333333333,
             "#9c179e"
            ],
            [
             0.4444444444444444,
             "#bd3786"
            ],
            [
             0.5555555555555556,
             "#d8576b"
            ],
            [
             0.6666666666666666,
             "#ed7953"
            ],
            [
             0.7777777777777778,
             "#fb9f3a"
            ],
            [
             0.8888888888888888,
             "#fdca26"
            ],
            [
             1,
             "#f0f921"
            ]
           ]
          },
          "colorway": [
           "#636efa",
           "#EF553B",
           "#00cc96",
           "#ab63fa",
           "#FFA15A",
           "#19d3f3",
           "#FF6692",
           "#B6E880",
           "#FF97FF",
           "#FECB52"
          ],
          "font": {
           "color": "#2a3f5f"
          },
          "geo": {
           "bgcolor": "white",
           "lakecolor": "white",
           "landcolor": "white",
           "showlakes": true,
           "showland": true,
           "subunitcolor": "#C8D4E3"
          },
          "hoverlabel": {
           "align": "left"
          },
          "hovermode": "closest",
          "mapbox": {
           "style": "light"
          },
          "paper_bgcolor": "white",
          "plot_bgcolor": "white",
          "polar": {
           "angularaxis": {
            "gridcolor": "#EBF0F8",
            "linecolor": "#EBF0F8",
            "ticks": ""
           },
           "bgcolor": "white",
           "radialaxis": {
            "gridcolor": "#EBF0F8",
            "linecolor": "#EBF0F8",
            "ticks": ""
           }
          },
          "scene": {
           "xaxis": {
            "backgroundcolor": "white",
            "gridcolor": "#DFE8F3",
            "gridwidth": 2,
            "linecolor": "#EBF0F8",
            "showbackground": true,
            "ticks": "",
            "zerolinecolor": "#EBF0F8"
           },
           "yaxis": {
            "backgroundcolor": "white",
            "gridcolor": "#DFE8F3",
            "gridwidth": 2,
            "linecolor": "#EBF0F8",
            "showbackground": true,
            "ticks": "",
            "zerolinecolor": "#EBF0F8"
           },
           "zaxis": {
            "backgroundcolor": "white",
            "gridcolor": "#DFE8F3",
            "gridwidth": 2,
            "linecolor": "#EBF0F8",
            "showbackground": true,
            "ticks": "",
            "zerolinecolor": "#EBF0F8"
           }
          },
          "shapedefaults": {
           "line": {
            "color": "#2a3f5f"
           }
          },
          "ternary": {
           "aaxis": {
            "gridcolor": "#DFE8F3",
            "linecolor": "#A2B1C6",
            "ticks": ""
           },
           "baxis": {
            "gridcolor": "#DFE8F3",
            "linecolor": "#A2B1C6",
            "ticks": ""
           },
           "bgcolor": "white",
           "caxis": {
            "gridcolor": "#DFE8F3",
            "linecolor": "#A2B1C6",
            "ticks": ""
           }
          },
          "title": {
           "x": 0.05
          },
          "xaxis": {
           "automargin": true,
           "gridcolor": "#EBF0F8",
           "linecolor": "#EBF0F8",
           "ticks": "",
           "title": {
            "standoff": 15
           },
           "zerolinecolor": "#EBF0F8",
           "zerolinewidth": 2
          },
          "yaxis": {
           "automargin": true,
           "gridcolor": "#EBF0F8",
           "linecolor": "#EBF0F8",
           "ticks": "",
           "title": {
            "standoff": 15
           },
           "zerolinecolor": "#EBF0F8",
           "zerolinewidth": 2
          }
         }
        },
        "xaxis": {
         "anchor": "y",
         "domain": [
          0,
          0.94
         ],
         "matches": "x3",
         "rangeslider": {
          "visible": false
         },
         "showticklabels": false,
         "spikedash": "dot",
         "spikemode": "across+marker",
         "spikesnap": "cursor",
         "spikethickness": 2
        },
        "xaxis2": {
         "anchor": "y3",
         "domain": [
          0,
          0.94
         ],
         "matches": "x3",
         "showticklabels": false,
         "spikedash": "dot",
         "spikemode": "across+marker",
         "spikesnap": "cursor",
         "spikethickness": 2
        },
        "xaxis3": {
         "anchor": "y4",
         "domain": [
          0,
          0.94
         ],
         "spikedash": "dot",
         "spikemode": "across+marker",
         "spikesnap": "cursor",
         "spikethickness": 2
        },
        "yaxis": {
         "anchor": "x",
         "domain": [
          0.3,
          1
         ]
        },
        "yaxis2": {
         "anchor": "x",
         "overlaying": "y",
         "showgrid": false,
         "side": "right"
        },
        "yaxis3": {
         "anchor": "x2",
         "domain": [
          0.15,
          0.3
         ]
        },
        "yaxis4": {
         "anchor": "x3",
         "domain": [
          0,
          0.15
         ]
        }
       },
       "_py2js_animate": {},
       "_py2js_deleteTraces": {},
       "_py2js_moveTraces": {},
       "_py2js_relayout": {},
       "_py2js_removeLayoutProps": {},
       "_py2js_removeTraceProps": {},
       "_py2js_restyle": {},
       "_view_count": 0
      }
     },
     "ce90305cff8c4047bb94782d83824e10": {
      "buffers": [
       {
        "data": "pHA9CteOpEC4HoXrUaGkQB+F61E4jaRAUrgehWuLpEAUrkfheoukQM3MzMzMgqRAPQrXo/CIpEAzMzMzs4ukQI/C9SjceKRAzczMzEx2pEAzMzMzs3akQD0K16NwgKRAMzMzM7N4pECamZmZmXOkQB+F61E4aaRAAAAAAABipECuR+F6lGCkQOxRuB4FbKRASOF6FK52pEApXI/C9W+kQD0K16NwXaRAZmZmZuZSpEDsUbgeBUqkQK5H4XoUT6RAXI/C9ShNpEAAAAAAAFCkQAAAAAAAUKRAFK5H4XpYpEC4HoXrUVWkQFyPwvWoSaRArkfhepRKpEDhehSuR0+kQLgehetRNKRAhetRuJ4UpEA9CtejcAGkQClcj8L1AqRASOF6FK4NpEAzMzMzMxakQMP1KFwPE6RArkfhehQopEBcj8L1KB2kQNejcD2KFaRA16NwPYocpEDXo3A9iiCkQM3MzMxME6RA9ihcj8IRpEBI4XoUriCkQClcj8L1+6NAZmZmZmYEpEDsUbgehRGkQKRwPQrXHaRApHA9CtcQpEB7FK5H4RmkQBSuR+F6GKRAXI/C9SgVpEAzMzMzMwmkQHE9CtcjAqRA9ihcj8ICpEBI4XoUrv+jQAAAAAAA7KNA16NwPYrWo0D2KFyPwtijQBSuR+H656NAPQrXo/D0o0DNzMzMzPqjQJqZmZkZ8qNAexSuR2Hpo0DhehSuR+KjQB+F61G41aNAzczMzMzko0AzMzMzs+yjQK5H4XqU6aNAuB6F69Hko0AAAAAAAMejQFK4HoVrvqNAexSuR2HTo0AfhetRONmjQHsUrkfh6aNAAAAAAADso0AzMzMzM+yjQBSuR+H676NAw/UoXI/Yo0DhehSuR9SjQHE9Ctcj0aNA16NwPQrSo0Bcj8L1KMijQAAAAAAAsKNAXI/C9ai4o0D2KFyPQsajQK5H4XqUx6NAPQrXo3DUo0A9Ctej8NOjQClcj8J126NAPQrXo3DXo0AAAAAAANijQGZmZmZm0KNA7FG4HoXSo0ApXI/C9cejQD0K16Nwy6NAmpmZmZm+o0DNzMzMzMOjQI/C9SjcyqNArkfhehTTo0CkcD0KV9mjQEjhehQu26NAAAAAAADio0BI4XoULtqjQAAAAAAA5KNA16NwPQrso0DsUbgeBfSjQBSuR+F6+6NAzczMzEz2o0DNzMzMzPCjQNejcD2K8aNAZmZmZub1o0CPwvUo3OujQNejcD2K46NAPQrXo/Deo0BI4XoULuCjQFK4HoXr1KNAZmZmZmbQo0BSuB6F696jQIXrUbge3aNA7FG4HoXXo0DXo3A9isajQHsUrkdhz6NAFK5H4frTo0AzMzMzs9WjQOxRuB4F1qNAAAAAAAAAAAA=",
        "encoding": "base64",
        "path": [
         "_data",
         0,
         "close",
         "value"
        ]
       },
       {
        "data": "cT0K1yOfpEAfhetROKKkQKRwPQrXoaRAAAAAAICOpEAfhetRuJSkQMP1KFwPj6RAH4XrUTiOpEC4HoXr0Y+kQDMzMzOzi6RAH4XrUTh7pEAzMzMzs3akQD0K16NwgKRAAAAAAACEpECPwvUoXH6kQFK4HoXrdKRAexSuR2FupEB7FK5H4WWkQOxRuB6FbqRAMzMzMzN4pEAAAAAAgHmkQB+F61E4daRAFK5H4XpmpEC4HoXr0VekQBSuR+H6WaRASOF6FC5YpEAUrkfhelqkQAAAAAAAUKRAAAAAAIBdpEApXI/C9VqkQLgehetRVaRArkfhehRMpEBcj8L1qFGkQM3MzMxMT6RAPQrXo3A3pEDsUbgeBSekQK5H4XqUDKRAcT0K16MNpECamZmZGRykQEjhehSuHqRA9ihcj8IspEAfhetROCmkQGZmZmZmJKRAhetRuJ4fpECF61G4niukQFyPwvWoI6RA7FG4HoUWpEBI4XoUriCkQArXo3A9JaRA16NwPYoOpEA9Ctej8BOkQLgehevRHaRAPQrXo/AepEDNzMzMTBukQK5H4XoUG6RAhetRuJ4cpECamZmZGRmkQOF6FK7HDKRAH4XrUTgIpEDsUbgehQikQFyPwvWoA6RA9ihcj0L1o0DNzMzMTN6jQFyPwvWo66NA9ihcj0L2o0B7FK5H4f2jQLgehevRBaRAZmZmZubzo0BmZmZmZuqjQAAAAAAA46NAexSuR2Hlo0AfhetROPKjQD0K16Pw96NAKVyPwvXuo0ApXI/C9eSjQKRwPQpXy6NAhetRuJ7To0CamZmZmdmjQHsUrkfh6aNASOF6FK7xo0A9Ctej8O2jQD0K16Pw8aNAH4XrUTjxo0AUrkfh+t2jQGZmZmZm4KNASOF6FK7Vo0ApXI/CddSjQEjhehQuy6NAXI/C9ai4o0AUrkfhesqjQIXrUbgey6NA4XoUrsfUo0AK16NwvdSjQClcj8J126NAFK5H4frfo0CF61G4ntujQEjhehQu3aNAMzMzMzPZo0CamZmZGdijQAAAAAAAzKNACtejcL3Po0AAAAAAAMSjQAAAAAAAzqNAhetRuB7To0BxPQrXI9yjQMP1KFyP3aNAZmZmZmblo0DsUbgeBeKjQAAAAAAA5qNApHA9Ctfyo0AAAAAAgPmjQB+F61E4/KNAZmZmZmb9o0AUrkfh+vmjQBSuR+H69aNAH4XrUbj2o0Bcj8L1KPujQNejcD2K7aNAFK5H4Xrpo0AAAAAAAOKjQFyPwvUo4aNAhetRuB7Wo0BSuB6F696jQGZmZmZm66NAmpmZmZnmo0ApXI/CddujQI/C9Shcz6NAKVyPwvXZo0AAAAAAANajQGZmZmZm3aNAAAAAAADao0A=",
        "encoding": "base64",
        "path": [
         "_data",
         0,
         "high",
         "value"
        ]
       },
       {
        "data": "16NwPQqOpEAzMzMzM46kQIXrUbiejKRAuB6F69GDpEAK16NwPYmkQJqZmZkZf6RAzczMzEx+pECPwvUoXH+kQHsUrkfheKRAhetRuB5zpEAAAAAAAG6kQGZmZmZmc6RA16NwPYp3pECamZmZmXOkQMP1KFyPaKRAMzMzM7NhpEAfhetROFykQEjhehQuXaRAcT0K1yNipECamZmZGW2kQAAAAACAXKRAhetRuJ5QpEDhehSux0WkQB+F61E4SaRAAAAAAABMpEAAAAAAAEykQHsUrkdhSKRASOF6FC5OpEBcj8L1qFSkQLgehetRSKRAPQrXo/A/pEAfhetRuEikQI/C9ShcNKRAcT0K16MUpEAAAAAAAACkQAAAAAAA7KNAXI/C9Sjuo0CkcD0K1wikQArXo3A9D6RACtejcL0QpEC4HoXr0RSkQAAAAAAAFKRAMzMzMzMUpEDXo3A9ihykQJqZmZmZDKRAZmZmZuYGpEDD9ShcjxGkQClcj8L1+6NAhetRuB77o0DhehSuRwGkQFK4HoVrDaRACtejcL0PpEC4HoXrUQ6kQDMzMzMzEaRAexSuR+EPpEAfhetROAmkQB+F61E4+6NAAAAAAAD9o0BSuB6F6/ijQAAAAAAA7KNA16NwPYrWo0AAAAAAAMyjQLgehevR1qNAUrgehevfo0Bcj8L1KPCjQClcj8J176NACtejcD3po0C4HoXr0dyjQAAAAAAA0qNAMzMzMzPUo0CamZmZmd6jQJqZmZmZ6aNAmpmZmZnho0DsUbgeBcejQAAAAAAAvKNAAAAAAAC8o0BxPQrXI8OjQIXrUbge16NAXI/C9ajjo0CkcD0KV+GjQNejcD0K6aNAw/UoXI/Yo0AAAAAAANCjQD0K16PwzKNAH4XrUTjFo0CF61G4HsWjQAAAAAAAsKNAAAAAAACko0AUrkfh+rSjQI/C9SjcvKNA4XoUrkfFo0CuR+F6lMmjQK5H4XqUz6NAAAAAAADSo0CPwvUoXNKjQFK4HoVr0KNAZmZmZubIo0ApXI/C9cejQIXrUbgewaNAmpmZmZm+o0AAAAAAALqjQI/C9ShcwqNAH4XrUbjIo0CamZmZmdGjQK5H4XoU1qNASOF6FC7bo0DXo3A9itijQIXrUbie2aNAAAAAAADko0BSuB6Fa+ujQAAAAAAA7KNAFK5H4Xrvo0DXo3A9ivCjQOF6FK5H7KNAAAAAAADso0CPwvUo3OujQNejcD2K46NASOF6FK7co0AAAAAAANqjQOxRuB4F1KNAZmZmZubLo0AfhetRuMyjQFK4HoXr3KNAKVyPwvXWo0CamZmZGcajQFK4HoVrwKNASOF6FK7Eo0ApXI/CdcejQK5H4XqU06NAuB6F61HMo0A=",
        "encoding": "base64",
        "path": [
         "_data",
         0,
         "low",
         "value"
        ]
       },
       {
        "data": "AAAAAACYpECkcD0K146kQLgehetRoaRAH4XrUTiNpEBSuB6Fa4ukQBSuR+F6i6RAzczMzMyCpEA9Ctej8IikQDMzMzOzi6RAj8L1KNx4pEDNzMzMTHakQDMzMzOzdqRAPQrXo3CApEAzMzMzs3ikQJqZmZmZc6RAH4XrUThppEAAAAAAAGKkQK5H4XqUYKRA7FG4HgVspEBI4XoUrnakQClcj8L1b6RAPQrXo3BdpEBmZmZm5lKkQOxRuB4FSqRArkfhehRPpEBcj8L1KE2kQAAAAAAAUKRAAAAAAABQpEAUrkfhelikQLgehetRVaRAXI/C9ahJpECuR+F6lEqkQOF6FK5HT6RAuB6F61E0pECF61G4nhSkQD0K16NwAaRAKVyPwvUCpEBI4XoUrg2kQDMzMzMzFqRAw/UoXA8TpECuR+F6FCikQFyPwvUoHaRA16NwPYoVpEDXo3A9ihykQNejcD2KIKRAzczMzEwTpED2KFyPwhGkQEjhehSuIKRAKVyPwvX7o0BmZmZmZgSkQOxRuB6FEaRApHA9CtcdpECkcD0K1xCkQHsUrkfhGaRAFK5H4XoYpEBcj8L1KBWkQDMzMzMzCaRAcT0K1yMCpED2KFyPwgKkQEjhehSu/6NAAAAAAADso0DXo3A9itajQPYoXI/C2KNAFK5H4frno0A9Ctej8PSjQM3MzMzM+qNAmpmZmRnyo0B7FK5HYemjQOF6FK5H4qNAH4XrUbjVo0DNzMzMzOSjQDMzMzOz7KNArkfhepTpo0C4HoXr0eSjQAAAAAAAx6NAUrgehWu+o0B7FK5HYdOjQB+F61E42aNAexSuR+Hpo0AAAAAAAOyjQDMzMzMz7KNAFK5H4frvo0DD9Shcj9ijQOF6FK5H1KNAcT0K1yPRo0DXo3A9CtKjQFyPwvUoyKNAAAAAAACwo0Bcj8L1qLijQPYoXI9CxqNArkfhepTHo0A9CtejcNSjQD0K16Pw06NAKVyPwnXbo0A9CtejcNejQAAAAAAA2KNAZmZmZmbQo0DsUbgehdKjQClcj8L1x6NAPQrXo3DLo0CamZmZmb6jQM3MzMzMw6NAj8L1KNzKo0CuR+F6FNOjQKRwPQpX2aNASOF6FC7bo0AAAAAAAOKjQEjhehQu2qNAAAAAAADko0DXo3A9CuyjQOxRuB4F9KNAFK5H4Xr7o0DNzMzMTPajQM3MzMzM8KNA16NwPYrxo0BmZmZm5vWjQI/C9Sjc66NA16NwPYrjo0A9Ctej8N6jQEjhehQu4KNAUrgehevUo0BmZmZmZtCjQFK4HoXr3qNAhetRuB7do0DsUbgehdejQNejcD2KxqNAexSuR2HPo0AUrkfh+tOjQDMzMzOz1aNA7FG4HgXWo0A=",
        "encoding": "base64",
        "path": [
         "_data",
         0,
         "open",
         "value"
        ]
       },
       {
        "data": "AAAAgPMcQEEAAAAAuLtFQQAAAIAfCUFBAAAAgPZxQ0EAAAAAlvtBQQAAAAABSkBBAAAAgFDZQkEAAAAAhw1EQQAAAAC8dzlBAAAAAHc1QEEAAAAAcnQ4QQAAAIBh+0VBAAAAgMvlQUEAAAAAYKpBQQAAAADpMjdBAAAAAP+QPUEAAACADkNBQQAAAAAKkEVBAAAAACDoR0EAAACAPu1DQQAAAABAE0BBAAAAAMAGPUEAAAAAlAk5QQAAAACgNUdBAAAAADbXQkEAAACAKJ1DQQAAAIAmyUpBAAAAAJHuREEAAAAArilHQQAAAAC2y0FBAAAAAFBpQ0EAAACAMBNJQQAAAABXwjJBAAAAAGwuKUEAAAAAyAYjQQAAAACMhRRBAAAAgBg1REEAAAAAP89GQQAAAIA/y0JBAAAAAGq2REEAAAAASftCQQAAAABp2kNBAAAAADGFQkEAAACAawBJQQAAAAAF8T1BAAAAgBjDR0EAAABAGKRQQQAAAAAqijpBAAAAgCJGR0EAAACAEslHQQAAAABPo0ZBAAAAgJiXQEEAAACABXFDQQAAAABnW0FBAAAAAFa/QEEAAACA9/dBQQAAAABZXzZBAAAAAFXSQ0EAAAAArApAQQAAAACGMztBAAAAAChHKEEAAAAAS2c1QQAAAAAeukFBAAAAgBDKRkEAAACAbWBEQQAAAABklUJBAAAAADMWPUEAAACA5t9AQQAAAADWAThBAAAAANzSSUEAAACAnWBKQQAAAAAr7kRBAAAAAJcrQ0EAAAAAoDY0QQAAAACm9CBBAAAAgIzHQ0EAAAAA6oZBQQAAAIBEvktBAAAAACcpSEEAAACAC9lFQQAAAADK40VBAAAAAKUXO0EAAAAAEkU/QQAAAICzBkRBAAAAAMqiPkEAAACAeO5CQQAAAAAzijVBAAAAAM7jOUEAAAAAv3BIQQAAAIB+80ZBAAAAAOoLRUEAAAAACMc8QQAAAABM9EdBAAAAgCy5RUEAAAAA9Tw4QQAAAIBXUkBBAAAAAOpWQkEAAAAAQ2k2QQAAAIATZkJBAAAAABqiPkEAAACAgEFAQQAAAICSd0VBAAAAAMSPS0EAAAAARg1JQQAAAAAbqEVBAAAAAA4bP0EAAAAAue80QQAAAIAhkUJBAAAAgHllSEEAAAAAGJVJQQAAAAAh9z9BAAAAABjlQEEAAACAbBhBQQAAAIDFVkRBAAAAAFDxQ0EAAAAAj/E/QQAAAAAtwj5BAAAAgGWpQEEAAAAAi1hCQQAAAAB+JT1BAAAAADkZQUEAAACAo4BKQQAAAIBThElBAAAAgEgMR0EAAAAATxY2QQAAAIDIfURBAAAAgCyQRUEAAACA5IlCQQAAAAA8YUVBAAAAAI2kN0E=",
        "encoding": "base64",
        "path": [
         "_data",
         1,
         "y",
         "value"
        ]
       },
       {
        "data": "AAAAgIETRsEAAAAAsGZAwQAAAICDOkXBAAAAgKekQsEAAACAMjBEwQAAAIAF6UXBAAAAAC1LQ8EAAACAYShCwQAAAIB6a0nBAAAAgMNARsEAAAAA//FJwQAAAICVMEDBAAAAAHpCRMEAAACADpBEwQAAAICgeUrBAAAAgMWgR8EAAACAAc9EwQAAAICglUDBAAAAAJGXPMEAAACAVzxCwQAAAIB0G0bBAAAAAJmhR8EAAACAFKFJwQAAAAAC4D3BAAAAgLRPQ8EAAAAAI29DwQAAAABVzjbBAAAAAFBRQcEAAAAAWA4+wQAAAICndkTBAAAAgCLFQsEAAAAAxyE6wQAAAIAS2EzBAAAAwJcEUMEAAAAA29ZQwQAAAICV4VHBAAAAgIfrQcEAAAAAjrk+wQAAAACveEPBAAAAAGFnQcEAAACAui9DwQAAAIAgW0LBAAAAAA+hQ8EAAAAACE06wQAAAAAVL0fBAAAAAFjIPMEAAAAAaHgjwQAAAADZ4EjBAAAAACnBPcEAAAAApMs8wQAAAAAqDj/BAAAAgICQRcEAAAAADrtCwQAAAADe0UTBAAAAAJ1nRcEAAAAAhDJEwQAAAAC//krBAAAAgH5OQsEAAAAAqTVGwQAAAICuykjBAAAAgDURUMEAAACATbdLwQAAAIBVcUTBAAAAALTDPsEAAACA+89BwQAAAACjkUPBAAAAgKiuR8EAAACAqFlFwQAAAABoN0rBAAAAACuOOMEAAAAA15o3wQAAAAC2O0HBAAAAACL6QsEAAACAYSNMwQAAAECP9lDBAAAAgJBjQsEAAAAApJpEwQAAAADr1TTBAAAAAJIAPMEAAACA3E5AwQAAAICeUEDBAAAAANKPSMEAAAAAj4pGwQAAAAChMELBAAAAAC/WRsEAAACAxzRDwQAAAIAkZEvBAAAAgOBRScEAAAAA9Go7wQAAAAALZD7BAAAAgJQcQcEAAAAAJcNHwQAAAABbZjzBAAAAgIKsQMEAAAAAi/FJwQAAAAABw0XBAAAAAG3PQ8EAAAAAGglLwQAAAAAOv0PBAAAAAAXWRsEAAAAA/+dFwQAAAACrq0DBAAAAAF06NcEAAAAAqy86wQAAAAA+hEDBAAAAAH6dRsEAAAAAJKVLwQAAAADSlEPBAAAAAJeFO8EAAAAANjU5wQAAAAAfK0bBAAAAAO1CRcEAAAAACxRFwQAAAIDk2EHBAAAAAMguQsEAAACAgzJGwQAAAIA3x0bBAAAAAPZ8RcEAAAAAwthDwQAAAICMikfBAAAAgAATRcEAAAAAAlg3wQAAAAA8PjnBAAAAAI82PsEAAACAwh1LwQAAAABt30HBAAAAAMRuQMEAAAAAqKVDwQAAAAAUxUDBAAAAAD5uQME=",
        "encoding": "base64",
        "path": [
         "_data",
         2,
         "y",
         "value"
        ]
       },
       {
        "data": "AAAAAAAA+H8AAAAAAAD4fwAAAAAAAPh/AAAAAAAA+H8AAAAAAAD4fwAAAAAAAPh/AAAAAAAA+H8AAAAAAAD4fwAAAAAAAPh/AAAAAAAA+H8AAAAAAAD4fwAAAAAAAPh/AAAAAAAA+H+FASJZpGJBQAdxciMJ00FA0htGKirlQkAaRRBYJ0hEQL2LGsB+Q0NA5BIaOQeMQEAHtSgWvL08QNujgP4Y5TxA6X6kgtIeP0BOEhqXPTxBQHvPzlgnOUJAWN+yte8RQ0BGK/OxKzVDQE4GxgLGuENAgBLXdFctQUANgxRk8f09QAlF4p5Q3j1Ag/pfGleCP0BfsuF8cYc+QHtd7kNapUBA/oeNmzIvQ0CaROxfW9tFQMKNAF72fkhAzyWnQmuZSkAA6e8GyVBKQB0deF+auElAAV+SpYJsR0AOvF9PbnRFQGn/yShh2ENAAfDbUDF3QkDxSLJGbjNAQB+N0le2wD5AeYpMuSJmPkDH9FJsThs7QFkedEnRGDxAlwrzHDsRPUAOsbN2/TI8QEdSBSHBqzhAkc94ytpXNUCfa1tm8OcyQIY6Qn4n0TBAHrIJT/PYLEBWOy7zG60tQG4PtS38uDJAgpWFo1oNNkCC6scqn8g5QLARPASzED9A8gZb4B28QkALZTMi5sRFQDDK2I9Yz0VAqJnooBs+REB3s+YyQ+VBQPsO6fwzez9AU5YXIOi0O0AxLW8aqw47QL56fstXSDxAQRebmNWOPEByUzpapg05QE76WJwuTjZAQfHzWkVPNECCnAm/7hE3QAXlyXGRqDpA2Ax2kQZlO0BabI6s6Gs6QDPbTX37XzdA/iWdrqo0NkAAJFIEJp40QN6bLln5GjRAL23UfVHdMkCAl6q+/2wzQAUh4dKrdzRAEGq+IgW5NkBhKd1id6w4QG1uULEETz1AIWGPZFwvQUDXtTgempVAQMD2WK+g9j9Ab178MsBQPEAFJfbsSDA5QE4NTkbchjZAGWUxMlppNUASHquOoXQ0QJ66le8h1zJA7d/CPkymMUAQ1YsowvQwQIUJvOO4lTJAP2YbFFgbMkDNWNgL7D4zQLTL5lKsLjFARToI5D8mMUCZpNTVMpYzQA7QaCZ4BTZALkLA23LXOUBl6FqhG6E7QGDtlFJkID5Aoae0sjtHQUCKahwn+ZdDQDUNPUtcvEVAmnqBqdSkR0Coak76hEdJQJg2Lc61/0hAaBeboMjcSEDNr3MHEFdJQCg8A5J72UZAGXvPtdEbREAiuv0I1U9CQDsoKMvJ2kFAy+YOKbmPQkCiHzavfeZAQD1eSGRnTT9AM3HKdt0FO0A+mDe7Jkk7QOezjI6nkzxA2BomXDYQOkDK4DvDsOg3QPIrZUDwTTVAyqHn/NmpM0A=",
        "encoding": "base64",
        "path": [
         "_data",
         5,
         "y",
         "value"
        ]
       }
      ],
      "model_module": "jupyterlab-plotly",
      "model_module_version": "^5.6.0",
      "model_name": "FigureModel",
      "state": {
       "_config": {
        "plotlyServerURL": "https://plot.ly"
       },
       "_data": [
        {
         "close": {
          "dtype": "float64",
          "shape": [
           130
          ],
          "value": {}
         },
         "high": {
          "dtype": "float64",
          "shape": [
           130
          ],
          "value": {}
         },
         "low": {
          "dtype": "float64",
          "shape": [
           130
          ],
          "value": {}
         },
         "name": "OHLC",
         "opacity": 0.5,
         "open": {
          "dtype": "float64",
          "shape": [
           130
          ],
          "value": {}
         },
         "type": "candlestick",
         "uid": "c8ed0eb0-d5ee-4541-bee1-e345796eefee",
         "xaxis": "x"
        },
        {
         "marker": {
          "color": "green"
         },
         "name": "Buy",
         "offsetgroup": "0",
         "opacity": 0.5,
         "type": "bar",
         "uid": "3b302a16-158e-4c63-b70f-98b5322d50e0",
         "xaxis": "x",
         "y": {
          "dtype": "float64",
          "shape": [
           130
          ],
          "value": {}
         },
         "yaxis": "y3"
        },
        {
         "marker": {
          "color": "red"
         },
         "name": "Sell",
         "offsetgroup": "0",
         "opacity": 0.5,
         "type": "bar",
         "uid": "b344585c-bbf5-484d-bfc6-aa1bb7d28738",
         "xaxis": "x",
         "y": {
          "dtype": "float64",
          "shape": [
           130
          ],
          "value": {}
         },
         "yaxis": "y3"
        },
        {
         "marker": {
          "color": "green"
         },
         "name": "BuyCount",
         "offsetgroup": "0",
         "opacity": 0.5,
         "type": "bar",
         "uid": "0c8f9afb-6da9-427d-8416-98e1caad3288",
         "xaxis": "x",
         "y": [
          3321,
          6300,
          4789,
          3715,
          2940,
          4283,
          5431,
          5938,
          4141,
          3281,
          2589,
          5455,
          3879,
          4049,
          2084,
          2195,
          2656,
          4969,
          4804,
          5300,
          3371,
          2767,
          1696,
          2735,
          3804,
          1739,
          1367,
          2319,
          1142,
          2203,
          2250,
          3434,
          1802,
          1107,
          1451,
          769,
          2526,
          2557,
          2447,
          4040,
          3926,
          3051,
          3663,
          2991,
          2664,
          2618,
          2296,
          2052,
          1929,
          3356,
          3639,
          2174,
          3835,
          3566,
          2560,
          3043,
          1524,
          3477,
          2514,
          1539,
          972,
          1804,
          2712,
          3860,
          3679,
          3881,
          2405,
          3332,
          2178,
          2916,
          3605,
          3589,
          4780,
          2029,
          630,
          3278,
          2609,
          3486,
          3270,
          3487,
          3396,
          3508,
          3074,
          4182,
          2800,
          3703,
          1715,
          1960,
          2922,
          2829,
          2963,
          2875,
          3526,
          4219,
          3012,
          3339,
          3925,
          2571,
          3770,
          5066,
          3687,
          4872,
          2714,
          3273,
          3201,
          2952,
          2847,
          4532,
          4276,
          3841,
          3677,
          3053,
          3508,
          4376,
          4399,
          4065,
          2459,
          3847,
          3886,
          3328,
          3742,
          5184,
          3275,
          6294,
          3112,
          4353,
          5896,
          3517,
          4802,
          3288
         ],
         "yaxis": "y4"
        },
        {
         "marker": {
          "color": "red"
         },
         "name": "SellCount",
         "offsetgroup": "0",
         "opacity": 0.5,
         "type": "bar",
         "uid": "db6e753d-f787-4715-a674-08cd6e97f800",
         "xaxis": "x",
         "y": [
          3963,
          4618,
          6601,
          4493,
          2655,
          5425,
          4786,
          4596,
          4825,
          3515,
          3865,
          5414,
          5187,
          5839,
          3470,
          3907,
          3352,
          6921,
          4401,
          5735,
          4915,
          4163,
          3589,
          2635,
          3044,
          1692,
          1659,
          1415,
          1387,
          3124,
          2882,
          2919,
          4654,
          5536,
          4415,
          4180,
          2251,
          1791,
          2421,
          2813,
          4372,
          2943,
          2827,
          2100,
          3439,
          2446,
          669,
          3905,
          1575,
          2568,
          2760,
          2950,
          2922,
          4051,
          3089,
          3389,
          3292,
          3601,
          3267,
          3465,
          4087,
          2890,
          2667,
          2942,
          3656,
          4299,
          4131,
          4514,
          3919,
          2148,
          3047,
          3872,
          5047,
          4941,
          2550,
          2209,
          2396,
          2111,
          2666,
          3257,
          3279,
          4573,
          3960,
          3968,
          3127,
          3755,
          4078,
          3436,
          1797,
          2608,
          2125,
          3082,
          2694,
          3919,
          4314,
          4406,
          4556,
          2970,
          5638,
          6202,
          4778,
          6097,
          4164,
          3117,
          2575,
          2094,
          4651,
          4465,
          2423,
          2514,
          3833,
          3461,
          4056,
          4145,
          5806,
          5200,
          3537,
          5226,
          4023,
          4830,
          5482,
          3001,
          2488,
          6247,
          5069,
          4494,
          5303,
          3919,
          4858,
          4757
         ],
         "yaxis": "y4"
        },
        {
         "name": "ADX",
         "type": "scattergl",
         "uid": "6cd45e65-a428-414f-8d8e-864b5c417add",
         "xaxis": "x",
         "y": {
          "dtype": "float64",
          "shape": [
           130
          ],
          "value": {}
         },
         "yaxis": "y5"
        }
       ],
       "_js2py_pointsCallback": {},
       "_js2py_relayout": {},
       "_js2py_restyle": {},
       "_js2py_update": {},
       "_last_layout_edit_id": 17,
       "_last_trace_edit_id": 17,
       "_layout": {
        "autosize": true,
        "height": 600,
        "legend": {
         "orientation": "h",
         "x": 0.4,
         "y": 1.01
        },
        "margin": {
         "b": 10,
         "l": 45,
         "pad": 3,
         "r": 5,
         "t": 10
        },
        "template": {
         "data": {
          "bar": [
           {
            "error_x": {
             "color": "#2a3f5f"
            },
            "error_y": {
             "color": "#2a3f5f"
            },
            "marker": {
             "line": {
              "color": "white",
              "width": 0.5
             },
             "pattern": {
              "fillmode": "overlay",
              "size": 10,
              "solidity": 0.2
             }
            },
            "type": "bar"
           }
          ],
          "barpolar": [
           {
            "marker": {
             "line": {
              "color": "white",
              "width": 0.5
             },
             "pattern": {
              "fillmode": "overlay",
              "size": 10,
              "solidity": 0.2
             }
            },
            "type": "barpolar"
           }
          ],
          "carpet": [
           {
            "aaxis": {
             "endlinecolor": "#2a3f5f",
             "gridcolor": "#C8D4E3",
             "linecolor": "#C8D4E3",
             "minorgridcolor": "#C8D4E3",
             "startlinecolor": "#2a3f5f"
            },
            "baxis": {
             "endlinecolor": "#2a3f5f",
             "gridcolor": "#C8D4E3",
             "linecolor": "#C8D4E3",
             "minorgridcolor": "#C8D4E3",
             "startlinecolor": "#2a3f5f"
            },
            "type": "carpet"
           }
          ],
          "choropleth": [
           {
            "colorbar": {
             "outlinewidth": 0,
             "ticks": ""
            },
            "type": "choropleth"
           }
          ],
          "contour": [
           {
            "colorbar": {
             "outlinewidth": 0,
             "ticks": ""
            },
            "colorscale": [
             [
              0,
              "#0d0887"
             ],
             [
              0.1111111111111111,
              "#46039f"
             ],
             [
              0.2222222222222222,
              "#7201a8"
             ],
             [
              0.3333333333333333,
              "#9c179e"
             ],
             [
              0.4444444444444444,
              "#bd3786"
             ],
             [
              0.5555555555555556,
              "#d8576b"
             ],
             [
              0.6666666666666666,
              "#ed7953"
             ],
             [
              0.7777777777777778,
              "#fb9f3a"
             ],
             [
              0.8888888888888888,
              "#fdca26"
             ],
             [
              1,
              "#f0f921"
             ]
            ],
            "type": "contour"
           }
          ],
          "contourcarpet": [
           {
            "colorbar": {
             "outlinewidth": 0,
             "ticks": ""
            },
            "type": "contourcarpet"
           }
          ],
          "heatmap": [
           {
            "colorbar": {
             "outlinewidth": 0,
             "ticks": ""
            },
            "colorscale": [
             [
              0,
              "#0d0887"
             ],
             [
              0.1111111111111111,
              "#46039f"
             ],
             [
              0.2222222222222222,
              "#7201a8"
             ],
             [
              0.3333333333333333,
              "#9c179e"
             ],
             [
              0.4444444444444444,
              "#bd3786"
             ],
             [
              0.5555555555555556,
              "#d8576b"
             ],
             [
              0.6666666666666666,
              "#ed7953"
             ],
             [
              0.7777777777777778,
              "#fb9f3a"
             ],
             [
              0.8888888888888888,
              "#fdca26"
             ],
             [
              1,
              "#f0f921"
             ]
            ],
            "type": "heatmap"
           }
          ],
          "heatmapgl": [
           {
            "colorbar": {
             "outlinewidth": 0,
             "ticks": ""
            },
            "colorscale": [
             [
              0,
              "#0d0887"
             ],
             [
              0.1111111111111111,
              "#46039f"
             ],
             [
              0.2222222222222222,
              "#7201a8"
             ],
             [
              0.3333333333333333,
              "#9c179e"
             ],
             [
              0.4444444444444444,
              "#bd3786"
             ],
             [
              0.5555555555555556,
              "#d8576b"
             ],
             [
              0.6666666666666666,
              "#ed7953"
             ],
             [
              0.7777777777777778,
              "#fb9f3a"
             ],
             [
              0.8888888888888888,
              "#fdca26"
             ],
             [
              1,
              "#f0f921"
             ]
            ],
            "type": "heatmapgl"
           }
          ],
          "histogram": [
           {
            "marker": {
             "pattern": {
              "fillmode": "overlay",
              "size": 10,
              "solidity": 0.2
             }
            },
            "type": "histogram"
           }
          ],
          "histogram2d": [
           {
            "colorbar": {
             "outlinewidth": 0,
             "ticks": ""
            },
            "colorscale": [
             [
              0,
              "#0d0887"
             ],
             [
              0.1111111111111111,
              "#46039f"
             ],
             [
              0.2222222222222222,
              "#7201a8"
             ],
             [
              0.3333333333333333,
              "#9c179e"
             ],
             [
              0.4444444444444444,
              "#bd3786"
             ],
             [
              0.5555555555555556,
              "#d8576b"
             ],
             [
              0.6666666666666666,
              "#ed7953"
             ],
             [
              0.7777777777777778,
              "#fb9f3a"
             ],
             [
              0.8888888888888888,
              "#fdca26"
             ],
             [
              1,
              "#f0f921"
             ]
            ],
            "type": "histogram2d"
           }
          ],
          "histogram2dcontour": [
           {
            "colorbar": {
             "outlinewidth": 0,
             "ticks": ""
            },
            "colorscale": [
             [
              0,
              "#0d0887"
             ],
             [
              0.1111111111111111,
              "#46039f"
             ],
             [
              0.2222222222222222,
              "#7201a8"
             ],
             [
              0.3333333333333333,
              "#9c179e"
             ],
             [
              0.4444444444444444,
              "#bd3786"
             ],
             [
              0.5555555555555556,
              "#d8576b"
             ],
             [
              0.6666666666666666,
              "#ed7953"
             ],
             [
              0.7777777777777778,
              "#fb9f3a"
             ],
             [
              0.8888888888888888,
              "#fdca26"
             ],
             [
              1,
              "#f0f921"
             ]
            ],
            "type": "histogram2dcontour"
           }
          ],
          "mesh3d": [
           {
            "colorbar": {
             "outlinewidth": 0,
             "ticks": ""
            },
            "type": "mesh3d"
           }
          ],
          "parcoords": [
           {
            "line": {
             "colorbar": {
              "outlinewidth": 0,
              "ticks": ""
             }
            },
            "type": "parcoords"
           }
          ],
          "pie": [
           {
            "automargin": true,
            "type": "pie"
           }
          ],
          "scatter": [
           {
            "marker": {
             "colorbar": {
              "outlinewidth": 0,
              "ticks": ""
             }
            },
            "type": "scatter"
           }
          ],
          "scatter3d": [
           {
            "line": {
             "colorbar": {
              "outlinewidth": 0,
              "ticks": ""
             }
            },
            "marker": {
             "colorbar": {
              "outlinewidth": 0,
              "ticks": ""
             }
            },
            "type": "scatter3d"
           }
          ],
          "scattercarpet": [
           {
            "marker": {
             "colorbar": {
              "outlinewidth": 0,
              "ticks": ""
             }
            },
            "type": "scattercarpet"
           }
          ],
          "scattergeo": [
           {
            "marker": {
             "colorbar": {
              "outlinewidth": 0,
              "ticks": ""
             }
            },
            "type": "scattergeo"
           }
          ],
          "scattergl": [
           {
            "marker": {
             "colorbar": {
              "outlinewidth": 0,
              "ticks": ""
             }
            },
            "type": "scattergl"
           }
          ],
          "scattermapbox": [
           {
            "marker": {
             "colorbar": {
              "outlinewidth": 0,
              "ticks": ""
             }
            },
            "type": "scattermapbox"
           }
          ],
          "scatterpolar": [
           {
            "marker": {
             "colorbar": {
              "outlinewidth": 0,
              "ticks": ""
             }
            },
            "type": "scatterpolar"
           }
          ],
          "scatterpolargl": [
           {
            "marker": {
             "colorbar": {
              "outlinewidth": 0,
              "ticks": ""
             }
            },
            "type": "scatterpolargl"
           }
          ],
          "scatterternary": [
           {
            "marker": {
             "colorbar": {
              "outlinewidth": 0,
              "ticks": ""
             }
            },
            "type": "scatterternary"
           }
          ],
          "surface": [
           {
            "colorbar": {
             "outlinewidth": 0,
             "ticks": ""
            },
            "colorscale": [
             [
              0,
              "#0d0887"
             ],
             [
              0.1111111111111111,
              "#46039f"
             ],
             [
              0.2222222222222222,
              "#7201a8"
             ],
             [
              0.3333333333333333,
              "#9c179e"
             ],
             [
              0.4444444444444444,
              "#bd3786"
             ],
             [
              0.5555555555555556,
              "#d8576b"
             ],
             [
              0.6666666666666666,
              "#ed7953"
             ],
             [
              0.7777777777777778,
              "#fb9f3a"
             ],
             [
              0.8888888888888888,
              "#fdca26"
             ],
             [
              1,
              "#f0f921"
             ]
            ],
            "type": "surface"
           }
          ],
          "table": [
           {
            "cells": {
             "fill": {
              "color": "#EBF0F8"
             },
             "line": {
              "color": "white"
             }
            },
            "header": {
             "fill": {
              "color": "#C8D4E3"
             },
             "line": {
              "color": "white"
             }
            },
            "type": "table"
           }
          ]
         },
         "layout": {
          "annotationdefaults": {
           "arrowcolor": "#2a3f5f",
           "arrowhead": 0,
           "arrowwidth": 1
          },
          "autotypenumbers": "strict",
          "coloraxis": {
           "colorbar": {
            "outlinewidth": 0,
            "ticks": ""
           }
          },
          "colorscale": {
           "diverging": [
            [
             0,
             "#8e0152"
            ],
            [
             0.1,
             "#c51b7d"
            ],
            [
             0.2,
             "#de77ae"
            ],
            [
             0.3,
             "#f1b6da"
            ],
            [
             0.4,
             "#fde0ef"
            ],
            [
             0.5,
             "#f7f7f7"
            ],
            [
             0.6,
             "#e6f5d0"
            ],
            [
             0.7,
             "#b8e186"
            ],
            [
             0.8,
             "#7fbc41"
            ],
            [
             0.9,
             "#4d9221"
            ],
            [
             1,
             "#276419"
            ]
           ],
           "sequential": [
            [
             0,
             "#0d0887"
            ],
            [
             0.1111111111111111,
             "#46039f"
            ],
            [
             0.2222222222222222,
             "#7201a8"
            ],
            [
             0.3333333333333333,
             "#9c179e"
            ],
            [
             0.4444444444444444,
             "#bd3786"
            ],
            [
             0.5555555555555556,
             "#d8576b"
            ],
            [
             0.6666666666666666,
             "#ed7953"
            ],
            [
             0.7777777777777778,
             "#fb9f3a"
            ],
            [
             0.8888888888888888,
             "#fdca26"
            ],
            [
             1,
             "#f0f921"
            ]
           ],
           "sequentialminus": [
            [
             0,
             "#0d0887"
            ],
            [
             0.1111111111111111,
             "#46039f"
            ],
            [
             0.2222222222222222,
             "#7201a8"
            ],
            [
             0.3333333333333333,
             "#9c179e"
            ],
            [
             0.4444444444444444,
             "#bd3786"
            ],
            [
             0.5555555555555556,
             "#d8576b"
            ],
            [
             0.6666666666666666,
             "#ed7953"
            ],
            [
             0.7777777777777778,
             "#fb9f3a"
            ],
            [
             0.8888888888888888,
             "#fdca26"
            ],
            [
             1,
             "#f0f921"
            ]
           ]
          },
          "colorway": [
           "#636efa",
           "#EF553B",
           "#00cc96",
           "#ab63fa",
           "#FFA15A",
           "#19d3f3",
           "#FF6692",
           "#B6E880",
           "#FF97FF",
           "#FECB52"
          ],
          "font": {
           "color": "#2a3f5f"
          },
          "geo": {
           "bgcolor": "white",
           "lakecolor": "white",
           "landcolor": "white",
           "showlakes": true,
           "showland": true,
           "subunitcolor": "#C8D4E3"
          },
          "hoverlabel": {
           "align": "left"
          },
          "hovermode": "closest",
          "mapbox": {
           "style": "light"
          },
          "paper_bgcolor": "white",
          "plot_bgcolor": "white",
          "polar": {
           "angularaxis": {
            "gridcolor": "#EBF0F8",
            "linecolor": "#EBF0F8",
            "ticks": ""
           },
           "bgcolor": "white",
           "radialaxis": {
            "gridcolor": "#EBF0F8",
            "linecolor": "#EBF0F8",
            "ticks": ""
           }
          },
          "scene": {
           "xaxis": {
            "backgroundcolor": "white",
            "gridcolor": "#DFE8F3",
            "gridwidth": 2,
            "linecolor": "#EBF0F8",
            "showbackground": true,
            "ticks": "",
            "zerolinecolor": "#EBF0F8"
           },
           "yaxis": {
            "backgroundcolor": "white",
            "gridcolor": "#DFE8F3",
            "gridwidth": 2,
            "linecolor": "#EBF0F8",
            "showbackground": true,
            "ticks": "",
            "zerolinecolor": "#EBF0F8"
           },
           "zaxis": {
            "backgroundcolor": "white",
            "gridcolor": "#DFE8F3",
            "gridwidth": 2,
            "linecolor": "#EBF0F8",
            "showbackground": true,
            "ticks": "",
            "zerolinecolor": "#EBF0F8"
           }
          },
          "shapedefaults": {
           "line": {
            "color": "#2a3f5f"
           }
          },
          "ternary": {
           "aaxis": {
            "gridcolor": "#DFE8F3",
            "linecolor": "#A2B1C6",
            "ticks": ""
           },
           "baxis": {
            "gridcolor": "#DFE8F3",
            "linecolor": "#A2B1C6",
            "ticks": ""
           },
           "bgcolor": "white",
           "caxis": {
            "gridcolor": "#DFE8F3",
            "linecolor": "#A2B1C6",
            "ticks": ""
           }
          },
          "title": {
           "x": 0.05
          },
          "xaxis": {
           "automargin": true,
           "gridcolor": "#EBF0F8",
           "linecolor": "#EBF0F8",
           "ticks": "",
           "title": {
            "standoff": 15
           },
           "zerolinecolor": "#EBF0F8",
           "zerolinewidth": 2
          },
          "yaxis": {
           "automargin": true,
           "gridcolor": "#EBF0F8",
           "linecolor": "#EBF0F8",
           "ticks": "",
           "title": {
            "standoff": 15
           },
           "zerolinecolor": "#EBF0F8",
           "zerolinewidth": 2
          }
         }
        },
        "xaxis": {
         "anchor": "y",
         "domain": [
          0,
          0.94
         ],
         "matches": "x4",
         "rangeslider": {
          "visible": false
         },
         "showticklabels": false,
         "spikedash": "dot",
         "spikemode": "across+marker",
         "spikesnap": "cursor",
         "spikethickness": 2
        },
        "xaxis2": {
         "anchor": "y3",
         "domain": [
          0,
          0.94
         ],
         "matches": "x4",
         "showticklabels": false,
         "spikedash": "dot",
         "spikemode": "across+marker",
         "spikesnap": "cursor",
         "spikethickness": 2
        },
        "xaxis3": {
         "anchor": "y4",
         "domain": [
          0,
          0.94
         ],
         "matches": "x4",
         "showticklabels": false,
         "spikedash": "dot",
         "spikemode": "across+marker",
         "spikesnap": "cursor",
         "spikethickness": 2
        },
        "xaxis4": {
         "anchor": "y5",
         "domain": [
          0,
          0.94
         ],
         "spikedash": "dot",
         "spikemode": "across+marker",
         "spikesnap": "cursor",
         "spikethickness": 2
        },
        "yaxis": {
         "anchor": "x",
         "domain": [
          0.30000000000000004,
          1
         ]
        },
        "yaxis2": {
         "anchor": "x",
         "overlaying": "y",
         "showgrid": false,
         "side": "right"
        },
        "yaxis3": {
         "anchor": "x2",
         "domain": [
          0.20000000000000004,
          0.30000000000000004
         ]
        },
        "yaxis4": {
         "anchor": "x3",
         "domain": [
          0.10000000000000002,
          0.20000000000000004
         ]
        },
        "yaxis5": {
         "anchor": "x4",
         "domain": [
          0,
          0.10000000000000002
         ]
        }
       },
       "_py2js_animate": {},
       "_py2js_deleteTraces": {},
       "_py2js_moveTraces": {},
       "_py2js_relayout": {},
       "_py2js_removeLayoutProps": {},
       "_py2js_removeTraceProps": {},
       "_py2js_restyle": {},
       "_view_count": 0
      }
     },
     "f82c2dcc4acd4ee39ee489936cd81cfe": {
      "buffers": [
       {
        "data": "pHA9CteOpEC4HoXrUaGkQB+F61E4jaRAUrgehWuLpEAUrkfheoukQM3MzMzMgqRAPQrXo/CIpEAzMzMzs4ukQI/C9SjceKRAzczMzEx2pEAzMzMzs3akQD0K16NwgKRAMzMzM7N4pECamZmZmXOkQB+F61E4aaRAAAAAAABipECuR+F6lGCkQOxRuB4FbKRASOF6FK52pEApXI/C9W+kQD0K16NwXaRAZmZmZuZSpEDsUbgeBUqkQK5H4XoUT6RAXI/C9ShNpEAAAAAAAFCkQAAAAAAAUKRAFK5H4XpYpEC4HoXrUVWkQFyPwvWoSaRArkfhepRKpEDhehSuR0+kQLgehetRNKRAhetRuJ4UpEA9CtejcAGkQClcj8L1AqRASOF6FK4NpEAzMzMzMxakQMP1KFwPE6RArkfhehQopEBcj8L1KB2kQNejcD2KFaRA16NwPYocpEDXo3A9iiCkQM3MzMxME6RA9ihcj8IRpEBI4XoUriCkQClcj8L1+6NAZmZmZmYEpEDsUbgehRGkQKRwPQrXHaRApHA9CtcQpEB7FK5H4RmkQBSuR+F6GKRAXI/C9SgVpEAzMzMzMwmkQHE9CtcjAqRA9ihcj8ICpEBI4XoUrv+jQAAAAAAA7KNA16NwPYrWo0D2KFyPwtijQBSuR+H656NAPQrXo/D0o0DNzMzMzPqjQJqZmZkZ8qNAexSuR2Hpo0DhehSuR+KjQB+F61G41aNAzczMzMzko0AzMzMzs+yjQK5H4XqU6aNAuB6F69Hko0AAAAAAAMejQFK4HoVrvqNAexSuR2HTo0AfhetRONmjQHsUrkfh6aNAAAAAAADso0AzMzMzM+yjQBSuR+H676NAw/UoXI/Yo0DhehSuR9SjQHE9Ctcj0aNA16NwPQrSo0Bcj8L1KMijQAAAAAAAsKNAXI/C9ai4o0D2KFyPQsajQK5H4XqUx6NAPQrXo3DUo0A9Ctej8NOjQClcj8J126NAPQrXo3DXo0AAAAAAANijQGZmZmZm0KNA7FG4HoXSo0ApXI/C9cejQD0K16Nwy6NAmpmZmZm+o0DNzMzMzMOjQI/C9SjcyqNArkfhehTTo0CkcD0KV9mjQEjhehQu26NAAAAAAADio0BI4XoULtqjQAAAAAAA5KNA16NwPQrso0DsUbgeBfSjQBSuR+F6+6NAzczMzEz2o0DNzMzMzPCjQNejcD2K8aNAZmZmZub1o0CPwvUo3OujQNejcD2K46NAPQrXo/Deo0BI4XoULuCjQFK4HoXr1KNAZmZmZmbQo0BSuB6F696jQIXrUbge3aNA7FG4HoXXo0DXo3A9isajQHsUrkdhz6NAFK5H4frTo0AzMzMzs9WjQOxRuB4F1qNAAAAAAAAAAAA=",
        "encoding": "base64",
        "path": [
         "_data",
         0,
         "close",
         "value"
        ]
       },
       {
        "data": "cT0K1yOfpEAfhetROKKkQKRwPQrXoaRAAAAAAICOpEAfhetRuJSkQMP1KFwPj6RAH4XrUTiOpEC4HoXr0Y+kQDMzMzOzi6RAH4XrUTh7pEAzMzMzs3akQD0K16NwgKRAAAAAAACEpECPwvUoXH6kQFK4HoXrdKRAexSuR2FupEB7FK5H4WWkQOxRuB6FbqRAMzMzMzN4pEAAAAAAgHmkQB+F61E4daRAFK5H4XpmpEC4HoXr0VekQBSuR+H6WaRASOF6FC5YpEAUrkfhelqkQAAAAAAAUKRAAAAAAIBdpEApXI/C9VqkQLgehetRVaRArkfhehRMpEBcj8L1qFGkQM3MzMxMT6RAPQrXo3A3pEDsUbgeBSekQK5H4XqUDKRAcT0K16MNpECamZmZGRykQEjhehSuHqRA9ihcj8IspEAfhetROCmkQGZmZmZmJKRAhetRuJ4fpECF61G4niukQFyPwvWoI6RA7FG4HoUWpEBI4XoUriCkQArXo3A9JaRA16NwPYoOpEA9Ctej8BOkQLgehevRHaRAPQrXo/AepEDNzMzMTBukQK5H4XoUG6RAhetRuJ4cpECamZmZGRmkQOF6FK7HDKRAH4XrUTgIpEDsUbgehQikQFyPwvWoA6RA9ihcj0L1o0DNzMzMTN6jQFyPwvWo66NA9ihcj0L2o0B7FK5H4f2jQLgehevRBaRAZmZmZubzo0BmZmZmZuqjQAAAAAAA46NAexSuR2Hlo0AfhetROPKjQD0K16Pw96NAKVyPwvXuo0ApXI/C9eSjQKRwPQpXy6NAhetRuJ7To0CamZmZmdmjQHsUrkfh6aNASOF6FK7xo0A9Ctej8O2jQD0K16Pw8aNAH4XrUTjxo0AUrkfh+t2jQGZmZmZm4KNASOF6FK7Vo0ApXI/CddSjQEjhehQuy6NAXI/C9ai4o0AUrkfhesqjQIXrUbgey6NA4XoUrsfUo0AK16NwvdSjQClcj8J126NAFK5H4frfo0CF61G4ntujQEjhehQu3aNAMzMzMzPZo0CamZmZGdijQAAAAAAAzKNACtejcL3Po0AAAAAAAMSjQAAAAAAAzqNAhetRuB7To0BxPQrXI9yjQMP1KFyP3aNAZmZmZmblo0DsUbgeBeKjQAAAAAAA5qNApHA9Ctfyo0AAAAAAgPmjQB+F61E4/KNAZmZmZmb9o0AUrkfh+vmjQBSuR+H69aNAH4XrUbj2o0Bcj8L1KPujQNejcD2K7aNAFK5H4Xrpo0AAAAAAAOKjQFyPwvUo4aNAhetRuB7Wo0BSuB6F696jQGZmZmZm66NAmpmZmZnmo0ApXI/CddujQI/C9Shcz6NAKVyPwvXZo0AAAAAAANajQGZmZmZm3aNAAAAAAADao0A=",
        "encoding": "base64",
        "path": [
         "_data",
         0,
         "high",
         "value"
        ]
       },
       {
        "data": "16NwPQqOpEAzMzMzM46kQIXrUbiejKRAuB6F69GDpEAK16NwPYmkQJqZmZkZf6RAzczMzEx+pECPwvUoXH+kQHsUrkfheKRAhetRuB5zpEAAAAAAAG6kQGZmZmZmc6RA16NwPYp3pECamZmZmXOkQMP1KFyPaKRAMzMzM7NhpEAfhetROFykQEjhehQuXaRAcT0K1yNipECamZmZGW2kQAAAAACAXKRAhetRuJ5QpEDhehSux0WkQB+F61E4SaRAAAAAAABMpEAAAAAAAEykQHsUrkdhSKRASOF6FC5OpEBcj8L1qFSkQLgehetRSKRAPQrXo/A/pEAfhetRuEikQI/C9ShcNKRAcT0K16MUpEAAAAAAAACkQAAAAAAA7KNAXI/C9Sjuo0CkcD0K1wikQArXo3A9D6RACtejcL0QpEC4HoXr0RSkQAAAAAAAFKRAMzMzMzMUpEDXo3A9ihykQJqZmZmZDKRAZmZmZuYGpEDD9ShcjxGkQClcj8L1+6NAhetRuB77o0DhehSuRwGkQFK4HoVrDaRACtejcL0PpEC4HoXrUQ6kQDMzMzMzEaRAexSuR+EPpEAfhetROAmkQB+F61E4+6NAAAAAAAD9o0BSuB6F6/ijQAAAAAAA7KNA16NwPYrWo0AAAAAAAMyjQLgehevR1qNAUrgehevfo0Bcj8L1KPCjQClcj8J176NACtejcD3po0C4HoXr0dyjQAAAAAAA0qNAMzMzMzPUo0CamZmZmd6jQJqZmZmZ6aNAmpmZmZnho0DsUbgeBcejQAAAAAAAvKNAAAAAAAC8o0BxPQrXI8OjQIXrUbge16NAXI/C9ajjo0CkcD0KV+GjQNejcD0K6aNAw/UoXI/Yo0AAAAAAANCjQD0K16PwzKNAH4XrUTjFo0CF61G4HsWjQAAAAAAAsKNAAAAAAACko0AUrkfh+rSjQI/C9SjcvKNA4XoUrkfFo0CuR+F6lMmjQK5H4XqUz6NAAAAAAADSo0CPwvUoXNKjQFK4HoVr0KNAZmZmZubIo0ApXI/C9cejQIXrUbgewaNAmpmZmZm+o0AAAAAAALqjQI/C9ShcwqNAH4XrUbjIo0CamZmZmdGjQK5H4XoU1qNASOF6FC7bo0DXo3A9itijQIXrUbie2aNAAAAAAADko0BSuB6Fa+ujQAAAAAAA7KNAFK5H4Xrvo0DXo3A9ivCjQOF6FK5H7KNAAAAAAADso0CPwvUo3OujQNejcD2K46NASOF6FK7co0AAAAAAANqjQOxRuB4F1KNAZmZmZubLo0AfhetRuMyjQFK4HoXr3KNAKVyPwvXWo0CamZmZGcajQFK4HoVrwKNASOF6FK7Eo0ApXI/CdcejQK5H4XqU06NAuB6F61HMo0A=",
        "encoding": "base64",
        "path": [
         "_data",
         0,
         "low",
         "value"
        ]
       },
       {
        "data": "AAAAAACYpECkcD0K146kQLgehetRoaRAH4XrUTiNpEBSuB6Fa4ukQBSuR+F6i6RAzczMzMyCpEA9Ctej8IikQDMzMzOzi6RAj8L1KNx4pEDNzMzMTHakQDMzMzOzdqRAPQrXo3CApEAzMzMzs3ikQJqZmZmZc6RAH4XrUThppEAAAAAAAGKkQK5H4XqUYKRA7FG4HgVspEBI4XoUrnakQClcj8L1b6RAPQrXo3BdpEBmZmZm5lKkQOxRuB4FSqRArkfhehRPpEBcj8L1KE2kQAAAAAAAUKRAAAAAAABQpEAUrkfhelikQLgehetRVaRAXI/C9ahJpECuR+F6lEqkQOF6FK5HT6RAuB6F61E0pECF61G4nhSkQD0K16NwAaRAKVyPwvUCpEBI4XoUrg2kQDMzMzMzFqRAw/UoXA8TpECuR+F6FCikQFyPwvUoHaRA16NwPYoVpEDXo3A9ihykQNejcD2KIKRAzczMzEwTpED2KFyPwhGkQEjhehSuIKRAKVyPwvX7o0BmZmZmZgSkQOxRuB6FEaRApHA9CtcdpECkcD0K1xCkQHsUrkfhGaRAFK5H4XoYpEBcj8L1KBWkQDMzMzMzCaRAcT0K1yMCpED2KFyPwgKkQEjhehSu/6NAAAAAAADso0DXo3A9itajQPYoXI/C2KNAFK5H4frno0A9Ctej8PSjQM3MzMzM+qNAmpmZmRnyo0B7FK5HYemjQOF6FK5H4qNAH4XrUbjVo0DNzMzMzOSjQDMzMzOz7KNArkfhepTpo0C4HoXr0eSjQAAAAAAAx6NAUrgehWu+o0B7FK5HYdOjQB+F61E42aNAexSuR+Hpo0AAAAAAAOyjQDMzMzMz7KNAFK5H4frvo0DD9Shcj9ijQOF6FK5H1KNAcT0K1yPRo0DXo3A9CtKjQFyPwvUoyKNAAAAAAACwo0Bcj8L1qLijQPYoXI9CxqNArkfhepTHo0A9CtejcNSjQD0K16Pw06NAKVyPwnXbo0A9CtejcNejQAAAAAAA2KNAZmZmZmbQo0DsUbgehdKjQClcj8L1x6NAPQrXo3DLo0CamZmZmb6jQM3MzMzMw6NAj8L1KNzKo0CuR+F6FNOjQKRwPQpX2aNASOF6FC7bo0AAAAAAAOKjQEjhehQu2qNAAAAAAADko0DXo3A9CuyjQOxRuB4F9KNAFK5H4Xr7o0DNzMzMTPajQM3MzMzM8KNA16NwPYrxo0BmZmZm5vWjQI/C9Sjc66NA16NwPYrjo0A9Ctej8N6jQEjhehQu4KNAUrgehevUo0BmZmZmZtCjQFK4HoXr3qNAhetRuB7do0DsUbgehdejQNejcD2KxqNAexSuR2HPo0AUrkfh+tOjQDMzMzOz1aNA7FG4HgXWo0A=",
        "encoding": "base64",
        "path": [
         "_data",
         0,
         "open",
         "value"
        ]
       },
       {
        "data": "AAAAgPMcQEEAAAAAuLtFQQAAAIAfCUFBAAAAgPZxQ0EAAAAAlvtBQQAAAAABSkBBAAAAgFDZQkEAAAAAhw1EQQAAAAC8dzlBAAAAAHc1QEEAAAAAcnQ4QQAAAIBh+0VBAAAAgMvlQUEAAAAAYKpBQQAAAADpMjdBAAAAAP+QPUEAAACADkNBQQAAAAAKkEVBAAAAACDoR0EAAACAPu1DQQAAAABAE0BBAAAAAMAGPUEAAAAAlAk5QQAAAACgNUdBAAAAADbXQkEAAACAKJ1DQQAAAIAmyUpBAAAAAJHuREEAAAAArilHQQAAAAC2y0FBAAAAAFBpQ0EAAACAMBNJQQAAAABXwjJBAAAAAGwuKUEAAAAAyAYjQQAAAACMhRRBAAAAgBg1REEAAAAAP89GQQAAAIA/y0JBAAAAAGq2REEAAAAASftCQQAAAABp2kNBAAAAADGFQkEAAACAawBJQQAAAAAF8T1BAAAAgBjDR0EAAABAGKRQQQAAAAAqijpBAAAAgCJGR0EAAACAEslHQQAAAABPo0ZBAAAAgJiXQEEAAACABXFDQQAAAABnW0FBAAAAAFa/QEEAAACA9/dBQQAAAABZXzZBAAAAAFXSQ0EAAAAArApAQQAAAACGMztBAAAAAChHKEEAAAAAS2c1QQAAAAAeukFBAAAAgBDKRkEAAACAbWBEQQAAAABklUJBAAAAADMWPUEAAACA5t9AQQAAAADWAThBAAAAANzSSUEAAACAnWBKQQAAAAAr7kRBAAAAAJcrQ0EAAAAAoDY0QQAAAACm9CBBAAAAgIzHQ0EAAAAA6oZBQQAAAIBEvktBAAAAACcpSEEAAACAC9lFQQAAAADK40VBAAAAAKUXO0EAAAAAEkU/QQAAAICzBkRBAAAAAMqiPkEAAACAeO5CQQAAAAAzijVBAAAAAM7jOUEAAAAAv3BIQQAAAIB+80ZBAAAAAOoLRUEAAAAACMc8QQAAAABM9EdBAAAAgCy5RUEAAAAA9Tw4QQAAAIBXUkBBAAAAAOpWQkEAAAAAQ2k2QQAAAIATZkJBAAAAABqiPkEAAACAgEFAQQAAAICSd0VBAAAAAMSPS0EAAAAARg1JQQAAAAAbqEVBAAAAAA4bP0EAAAAAue80QQAAAIAhkUJBAAAAgHllSEEAAAAAGJVJQQAAAAAh9z9BAAAAABjlQEEAAACAbBhBQQAAAIDFVkRBAAAAAFDxQ0EAAAAAj/E/QQAAAAAtwj5BAAAAgGWpQEEAAAAAi1hCQQAAAAB+JT1BAAAAADkZQUEAAACAo4BKQQAAAIBThElBAAAAgEgMR0EAAAAATxY2QQAAAIDIfURBAAAAgCyQRUEAAACA5IlCQQAAAAA8YUVBAAAAAI2kN0E=",
        "encoding": "base64",
        "path": [
         "_data",
         1,
         "y",
         "value"
        ]
       },
       {
        "data": "AAAAgIETRsEAAAAAsGZAwQAAAICDOkXBAAAAgKekQsEAAACAMjBEwQAAAIAF6UXBAAAAAC1LQ8EAAACAYShCwQAAAIB6a0nBAAAAgMNARsEAAAAA//FJwQAAAICVMEDBAAAAAHpCRMEAAACADpBEwQAAAICgeUrBAAAAgMWgR8EAAACAAc9EwQAAAICglUDBAAAAAJGXPMEAAACAVzxCwQAAAIB0G0bBAAAAAJmhR8EAAACAFKFJwQAAAAAC4D3BAAAAgLRPQ8EAAAAAI29DwQAAAABVzjbBAAAAAFBRQcEAAAAAWA4+wQAAAICndkTBAAAAgCLFQsEAAAAAxyE6wQAAAIAS2EzBAAAAwJcEUMEAAAAA29ZQwQAAAICV4VHBAAAAgIfrQcEAAAAAjrk+wQAAAACveEPBAAAAAGFnQcEAAACAui9DwQAAAIAgW0LBAAAAAA+hQ8EAAAAACE06wQAAAAAVL0fBAAAAAFjIPMEAAAAAaHgjwQAAAADZ4EjBAAAAACnBPcEAAAAApMs8wQAAAAAqDj/BAAAAgICQRcEAAAAADrtCwQAAAADe0UTBAAAAAJ1nRcEAAAAAhDJEwQAAAAC//krBAAAAgH5OQsEAAAAAqTVGwQAAAICuykjBAAAAgDURUMEAAACATbdLwQAAAIBVcUTBAAAAALTDPsEAAACA+89BwQAAAACjkUPBAAAAgKiuR8EAAACAqFlFwQAAAABoN0rBAAAAACuOOMEAAAAA15o3wQAAAAC2O0HBAAAAACL6QsEAAACAYSNMwQAAAECP9lDBAAAAgJBjQsEAAAAApJpEwQAAAADr1TTBAAAAAJIAPMEAAACA3E5AwQAAAICeUEDBAAAAANKPSMEAAAAAj4pGwQAAAAChMELBAAAAAC/WRsEAAACAxzRDwQAAAIAkZEvBAAAAgOBRScEAAAAA9Go7wQAAAAALZD7BAAAAgJQcQcEAAAAAJcNHwQAAAABbZjzBAAAAgIKsQMEAAAAAi/FJwQAAAAABw0XBAAAAAG3PQ8EAAAAAGglLwQAAAAAOv0PBAAAAAAXWRsEAAAAA/+dFwQAAAACrq0DBAAAAAF06NcEAAAAAqy86wQAAAAA+hEDBAAAAAH6dRsEAAAAAJKVLwQAAAADSlEPBAAAAAJeFO8EAAAAANjU5wQAAAAAfK0bBAAAAAO1CRcEAAAAACxRFwQAAAIDk2EHBAAAAAMguQsEAAACAgzJGwQAAAIA3x0bBAAAAAPZ8RcEAAAAAwthDwQAAAICMikfBAAAAgAATRcEAAAAAAlg3wQAAAAA8PjnBAAAAAI82PsEAAACAwh1LwQAAAABt30HBAAAAAMRuQMEAAAAAqKVDwQAAAAAUxUDBAAAAAD5uQME=",
        "encoding": "base64",
        "path": [
         "_data",
         2,
         "y",
         "value"
        ]
       },
       {
        "data": "AAAAAAAA+H8AAAAAAAD4fwAAAAAAAPh/AAAAAAAA+H8AAAAAAAD4fwAAAAAAAPh/AAAAAAAA+H8AAAAAAAD4fwAAAAAAAPh/AAAAAAAA+H8AAAAAAAD4fwAAAAAAAPh/AAAAAAAA+H+FASJZpGJBQAdxciMJ00FA0htGKirlQkAaRRBYJ0hEQL2LGsB+Q0NA5BIaOQeMQEAHtSgWvL08QNujgP4Y5TxA6X6kgtIeP0BOEhqXPTxBQHvPzlgnOUJAWN+yte8RQ0BGK/OxKzVDQE4GxgLGuENAgBLXdFctQUANgxRk8f09QAlF4p5Q3j1Ag/pfGleCP0BfsuF8cYc+QHtd7kNapUBA/oeNmzIvQ0CaROxfW9tFQMKNAF72fkhAzyWnQmuZSkAA6e8GyVBKQB0deF+auElAAV+SpYJsR0AOvF9PbnRFQGn/yShh2ENAAfDbUDF3QkDxSLJGbjNAQB+N0le2wD5AeYpMuSJmPkDH9FJsThs7QFkedEnRGDxAlwrzHDsRPUAOsbN2/TI8QEdSBSHBqzhAkc94ytpXNUCfa1tm8OcyQIY6Qn4n0TBAHrIJT/PYLEBWOy7zG60tQG4PtS38uDJAgpWFo1oNNkCC6scqn8g5QLARPASzED9A8gZb4B28QkALZTMi5sRFQDDK2I9Yz0VAqJnooBs+REB3s+YyQ+VBQPsO6fwzez9AU5YXIOi0O0AxLW8aqw47QL56fstXSDxAQRebmNWOPEByUzpapg05QE76WJwuTjZAQfHzWkVPNECCnAm/7hE3QAXlyXGRqDpA2Ax2kQZlO0BabI6s6Gs6QDPbTX37XzdA/iWdrqo0NkAAJFIEJp40QN6bLln5GjRAL23UfVHdMkCAl6q+/2wzQAUh4dKrdzRAEGq+IgW5NkBhKd1id6w4QG1uULEETz1AIWGPZFwvQUDXtTgempVAQMD2WK+g9j9Ab178MsBQPEAFJfbsSDA5QE4NTkbchjZAGWUxMlppNUASHquOoXQ0QJ66le8h1zJA7d/CPkymMUAQ1YsowvQwQIUJvOO4lTJAP2YbFFgbMkDNWNgL7D4zQLTL5lKsLjFARToI5D8mMUCZpNTVMpYzQA7QaCZ4BTZALkLA23LXOUBl6FqhG6E7QGDtlFJkID5Aoae0sjtHQUCKahwn+ZdDQDUNPUtcvEVAmnqBqdSkR0Coak76hEdJQJg2Lc61/0hAaBeboMjcSEDNr3MHEFdJQCg8A5J72UZAGXvPtdEbREAiuv0I1U9CQDsoKMvJ2kFAy+YOKbmPQkCiHzavfeZAQD1eSGRnTT9AM3HKdt0FO0A+mDe7Jkk7QOezjI6nkzxA2BomXDYQOkDK4DvDsOg3QPIrZUDwTTVAyqHn/NmpM0A=",
        "encoding": "base64",
        "path": [
         "_data",
         5,
         "y",
         "value"
        ]
       }
      ],
      "model_module": "jupyterlab-plotly",
      "model_module_version": "^5.6.0",
      "model_name": "FigureModel",
      "state": {
       "_config": {
        "plotlyServerURL": "https://plot.ly"
       },
       "_data": [
        {
         "close": {
          "dtype": "float64",
          "shape": [
           130
          ],
          "value": {}
         },
         "high": {
          "dtype": "float64",
          "shape": [
           130
          ],
          "value": {}
         },
         "low": {
          "dtype": "float64",
          "shape": [
           130
          ],
          "value": {}
         },
         "name": "OHLC",
         "opacity": 0.5,
         "open": {
          "dtype": "float64",
          "shape": [
           130
          ],
          "value": {}
         },
         "type": "candlestick",
         "uid": "e333d4ed-7e12-4d48-a57a-02f4bfc99814",
         "xaxis": "x"
        },
        {
         "marker": {
          "color": "green"
         },
         "name": "Buy",
         "offsetgroup": "0",
         "opacity": 0.5,
         "type": "bar",
         "uid": "7df00fda-3c22-4564-83c0-565a894a5b7d",
         "xaxis": "x",
         "y": {
          "dtype": "float64",
          "shape": [
           130
          ],
          "value": {}
         },
         "yaxis": "y3"
        },
        {
         "marker": {
          "color": "red"
         },
         "name": "Sell",
         "offsetgroup": "0",
         "opacity": 0.5,
         "type": "bar",
         "uid": "648fab36-41dd-4e28-8f46-d3e9a7c0cbda",
         "xaxis": "x",
         "y": {
          "dtype": "float64",
          "shape": [
           130
          ],
          "value": {}
         },
         "yaxis": "y3"
        },
        {
         "marker": {
          "color": "green"
         },
         "name": "BuyCount",
         "offsetgroup": "0",
         "opacity": 0.5,
         "type": "bar",
         "uid": "65bd8a19-405a-489f-a115-9cc593e1cbbe",
         "xaxis": "x",
         "y": [
          3321,
          6300,
          4789,
          3715,
          2940,
          4283,
          5431,
          5938,
          4141,
          3281,
          2589,
          5455,
          3879,
          4049,
          2084,
          2195,
          2656,
          4969,
          4804,
          5300,
          3371,
          2767,
          1696,
          2735,
          3804,
          1739,
          1367,
          2319,
          1142,
          2203,
          2250,
          3434,
          1802,
          1107,
          1451,
          769,
          2526,
          2557,
          2447,
          4040,
          3926,
          3051,
          3663,
          2991,
          2664,
          2618,
          2296,
          2052,
          1929,
          3356,
          3639,
          2174,
          3835,
          3566,
          2560,
          3043,
          1524,
          3477,
          2514,
          1539,
          972,
          1804,
          2712,
          3860,
          3679,
          3881,
          2405,
          3332,
          2178,
          2916,
          3605,
          3589,
          4780,
          2029,
          630,
          3278,
          2609,
          3486,
          3270,
          3487,
          3396,
          3508,
          3074,
          4182,
          2800,
          3703,
          1715,
          1960,
          2922,
          2829,
          2963,
          2875,
          3526,
          4219,
          3012,
          3339,
          3925,
          2571,
          3770,
          5066,
          3687,
          4872,
          2714,
          3273,
          3201,
          2952,
          2847,
          4532,
          4276,
          3841,
          3677,
          3053,
          3508,
          4376,
          4399,
          4065,
          2459,
          3847,
          3886,
          3328,
          3742,
          5184,
          3275,
          6294,
          3112,
          4353,
          5896,
          3517,
          4802,
          3288
         ],
         "yaxis": "y4"
        },
        {
         "marker": {
          "color": "red"
         },
         "name": "SellCount",
         "offsetgroup": "0",
         "opacity": 0.5,
         "type": "bar",
         "uid": "b462dd07-a750-4f7f-a0dc-a0552b324ca5",
         "xaxis": "x",
         "y": [
          -3963,
          -4618,
          -6601,
          -4493,
          -2655,
          -5425,
          -4786,
          -4596,
          -4825,
          -3515,
          -3865,
          -5414,
          -5187,
          -5839,
          -3470,
          -3907,
          -3352,
          -6921,
          -4401,
          -5735,
          -4915,
          -4163,
          -3589,
          -2635,
          -3044,
          -1692,
          -1659,
          -1415,
          -1387,
          -3124,
          -2882,
          -2919,
          -4654,
          -5536,
          -4415,
          -4180,
          -2251,
          -1791,
          -2421,
          -2813,
          -4372,
          -2943,
          -2827,
          -2100,
          -3439,
          -2446,
          -669,
          -3905,
          -1575,
          -2568,
          -2760,
          -2950,
          -2922,
          -4051,
          -3089,
          -3389,
          -3292,
          -3601,
          -3267,
          -3465,
          -4087,
          -2890,
          -2667,
          -2942,
          -3656,
          -4299,
          -4131,
          -4514,
          -3919,
          -2148,
          -3047,
          -3872,
          -5047,
          -4941,
          -2550,
          -2209,
          -2396,
          -2111,
          -2666,
          -3257,
          -3279,
          -4573,
          -3960,
          -3968,
          -3127,
          -3755,
          -4078,
          -3436,
          -1797,
          -2608,
          -2125,
          -3082,
          -2694,
          -3919,
          -4314,
          -4406,
          -4556,
          -2970,
          -5638,
          -6202,
          -4778,
          -6097,
          -4164,
          -3117,
          -2575,
          -2094,
          -4651,
          -4465,
          -2423,
          -2514,
          -3833,
          -3461,
          -4056,
          -4145,
          -5806,
          -5200,
          -3537,
          -5226,
          -4023,
          -4830,
          -5482,
          -3001,
          -2488,
          -6247,
          -5069,
          -4494,
          -5303,
          -3919,
          -4858,
          -4757
         ],
         "yaxis": "y4"
        },
        {
         "name": "ADX",
         "type": "scattergl",
         "uid": "12875164-4124-48e1-9f28-4f2757610e3a",
         "xaxis": "x",
         "y": {
          "dtype": "float64",
          "shape": [
           130
          ],
          "value": {}
         },
         "yaxis": "y5"
        }
       ],
       "_js2py_relayout": {},
       "_js2py_restyle": {},
       "_js2py_update": {},
       "_last_layout_edit_id": 17,
       "_last_trace_edit_id": 17,
       "_layout": {
        "autosize": true,
        "height": 600,
        "legend": {
         "orientation": "h",
         "x": 0.4,
         "y": 1.01
        },
        "margin": {
         "b": 10,
         "l": 45,
         "pad": 3,
         "r": 5,
         "t": 10
        },
        "template": {
         "data": {
          "bar": [
           {
            "error_x": {
             "color": "#2a3f5f"
            },
            "error_y": {
             "color": "#2a3f5f"
            },
            "marker": {
             "line": {
              "color": "white",
              "width": 0.5
             },
             "pattern": {
              "fillmode": "overlay",
              "size": 10,
              "solidity": 0.2
             }
            },
            "type": "bar"
           }
          ],
          "barpolar": [
           {
            "marker": {
             "line": {
              "color": "white",
              "width": 0.5
             },
             "pattern": {
              "fillmode": "overlay",
              "size": 10,
              "solidity": 0.2
             }
            },
            "type": "barpolar"
           }
          ],
          "carpet": [
           {
            "aaxis": {
             "endlinecolor": "#2a3f5f",
             "gridcolor": "#C8D4E3",
             "linecolor": "#C8D4E3",
             "minorgridcolor": "#C8D4E3",
             "startlinecolor": "#2a3f5f"
            },
            "baxis": {
             "endlinecolor": "#2a3f5f",
             "gridcolor": "#C8D4E3",
             "linecolor": "#C8D4E3",
             "minorgridcolor": "#C8D4E3",
             "startlinecolor": "#2a3f5f"
            },
            "type": "carpet"
           }
          ],
          "choropleth": [
           {
            "colorbar": {
             "outlinewidth": 0,
             "ticks": ""
            },
            "type": "choropleth"
           }
          ],
          "contour": [
           {
            "colorbar": {
             "outlinewidth": 0,
             "ticks": ""
            },
            "colorscale": [
             [
              0,
              "#0d0887"
             ],
             [
              0.1111111111111111,
              "#46039f"
             ],
             [
              0.2222222222222222,
              "#7201a8"
             ],
             [
              0.3333333333333333,
              "#9c179e"
             ],
             [
              0.4444444444444444,
              "#bd3786"
             ],
             [
              0.5555555555555556,
              "#d8576b"
             ],
             [
              0.6666666666666666,
              "#ed7953"
             ],
             [
              0.7777777777777778,
              "#fb9f3a"
             ],
             [
              0.8888888888888888,
              "#fdca26"
             ],
             [
              1,
              "#f0f921"
             ]
            ],
            "type": "contour"
           }
          ],
          "contourcarpet": [
           {
            "colorbar": {
             "outlinewidth": 0,
             "ticks": ""
            },
            "type": "contourcarpet"
           }
          ],
          "heatmap": [
           {
            "colorbar": {
             "outlinewidth": 0,
             "ticks": ""
            },
            "colorscale": [
             [
              0,
              "#0d0887"
             ],
             [
              0.1111111111111111,
              "#46039f"
             ],
             [
              0.2222222222222222,
              "#7201a8"
             ],
             [
              0.3333333333333333,
              "#9c179e"
             ],
             [
              0.4444444444444444,
              "#bd3786"
             ],
             [
              0.5555555555555556,
              "#d8576b"
             ],
             [
              0.6666666666666666,
              "#ed7953"
             ],
             [
              0.7777777777777778,
              "#fb9f3a"
             ],
             [
              0.8888888888888888,
              "#fdca26"
             ],
             [
              1,
              "#f0f921"
             ]
            ],
            "type": "heatmap"
           }
          ],
          "heatmapgl": [
           {
            "colorbar": {
             "outlinewidth": 0,
             "ticks": ""
            },
            "colorscale": [
             [
              0,
              "#0d0887"
             ],
             [
              0.1111111111111111,
              "#46039f"
             ],
             [
              0.2222222222222222,
              "#7201a8"
             ],
             [
              0.3333333333333333,
              "#9c179e"
             ],
             [
              0.4444444444444444,
              "#bd3786"
             ],
             [
              0.5555555555555556,
              "#d8576b"
             ],
             [
              0.6666666666666666,
              "#ed7953"
             ],
             [
              0.7777777777777778,
              "#fb9f3a"
             ],
             [
              0.8888888888888888,
              "#fdca26"
             ],
             [
              1,
              "#f0f921"
             ]
            ],
            "type": "heatmapgl"
           }
          ],
          "histogram": [
           {
            "marker": {
             "pattern": {
              "fillmode": "overlay",
              "size": 10,
              "solidity": 0.2
             }
            },
            "type": "histogram"
           }
          ],
          "histogram2d": [
           {
            "colorbar": {
             "outlinewidth": 0,
             "ticks": ""
            },
            "colorscale": [
             [
              0,
              "#0d0887"
             ],
             [
              0.1111111111111111,
              "#46039f"
             ],
             [
              0.2222222222222222,
              "#7201a8"
             ],
             [
              0.3333333333333333,
              "#9c179e"
             ],
             [
              0.4444444444444444,
              "#bd3786"
             ],
             [
              0.5555555555555556,
              "#d8576b"
             ],
             [
              0.6666666666666666,
              "#ed7953"
             ],
             [
              0.7777777777777778,
              "#fb9f3a"
             ],
             [
              0.8888888888888888,
              "#fdca26"
             ],
             [
              1,
              "#f0f921"
             ]
            ],
            "type": "histogram2d"
           }
          ],
          "histogram2dcontour": [
           {
            "colorbar": {
             "outlinewidth": 0,
             "ticks": ""
            },
            "colorscale": [
             [
              0,
              "#0d0887"
             ],
             [
              0.1111111111111111,
              "#46039f"
             ],
             [
              0.2222222222222222,
              "#7201a8"
             ],
             [
              0.3333333333333333,
              "#9c179e"
             ],
             [
              0.4444444444444444,
              "#bd3786"
             ],
             [
              0.5555555555555556,
              "#d8576b"
             ],
             [
              0.6666666666666666,
              "#ed7953"
             ],
             [
              0.7777777777777778,
              "#fb9f3a"
             ],
             [
              0.8888888888888888,
              "#fdca26"
             ],
             [
              1,
              "#f0f921"
             ]
            ],
            "type": "histogram2dcontour"
           }
          ],
          "mesh3d": [
           {
            "colorbar": {
             "outlinewidth": 0,
             "ticks": ""
            },
            "type": "mesh3d"
           }
          ],
          "parcoords": [
           {
            "line": {
             "colorbar": {
              "outlinewidth": 0,
              "ticks": ""
             }
            },
            "type": "parcoords"
           }
          ],
          "pie": [
           {
            "automargin": true,
            "type": "pie"
           }
          ],
          "scatter": [
           {
            "marker": {
             "colorbar": {
              "outlinewidth": 0,
              "ticks": ""
             }
            },
            "type": "scatter"
           }
          ],
          "scatter3d": [
           {
            "line": {
             "colorbar": {
              "outlinewidth": 0,
              "ticks": ""
             }
            },
            "marker": {
             "colorbar": {
              "outlinewidth": 0,
              "ticks": ""
             }
            },
            "type": "scatter3d"
           }
          ],
          "scattercarpet": [
           {
            "marker": {
             "colorbar": {
              "outlinewidth": 0,
              "ticks": ""
             }
            },
            "type": "scattercarpet"
           }
          ],
          "scattergeo": [
           {
            "marker": {
             "colorbar": {
              "outlinewidth": 0,
              "ticks": ""
             }
            },
            "type": "scattergeo"
           }
          ],
          "scattergl": [
           {
            "marker": {
             "colorbar": {
              "outlinewidth": 0,
              "ticks": ""
             }
            },
            "type": "scattergl"
           }
          ],
          "scattermapbox": [
           {
            "marker": {
             "colorbar": {
              "outlinewidth": 0,
              "ticks": ""
             }
            },
            "type": "scattermapbox"
           }
          ],
          "scatterpolar": [
           {
            "marker": {
             "colorbar": {
              "outlinewidth": 0,
              "ticks": ""
             }
            },
            "type": "scatterpolar"
           }
          ],
          "scatterpolargl": [
           {
            "marker": {
             "colorbar": {
              "outlinewidth": 0,
              "ticks": ""
             }
            },
            "type": "scatterpolargl"
           }
          ],
          "scatterternary": [
           {
            "marker": {
             "colorbar": {
              "outlinewidth": 0,
              "ticks": ""
             }
            },
            "type": "scatterternary"
           }
          ],
          "surface": [
           {
            "colorbar": {
             "outlinewidth": 0,
             "ticks": ""
            },
            "colorscale": [
             [
              0,
              "#0d0887"
             ],
             [
              0.1111111111111111,
              "#46039f"
             ],
             [
              0.2222222222222222,
              "#7201a8"
             ],
             [
              0.3333333333333333,
              "#9c179e"
             ],
             [
              0.4444444444444444,
              "#bd3786"
             ],
             [
              0.5555555555555556,
              "#d8576b"
             ],
             [
              0.6666666666666666,
              "#ed7953"
             ],
             [
              0.7777777777777778,
              "#fb9f3a"
             ],
             [
              0.8888888888888888,
              "#fdca26"
             ],
             [
              1,
              "#f0f921"
             ]
            ],
            "type": "surface"
           }
          ],
          "table": [
           {
            "cells": {
             "fill": {
              "color": "#EBF0F8"
             },
             "line": {
              "color": "white"
             }
            },
            "header": {
             "fill": {
              "color": "#C8D4E3"
             },
             "line": {
              "color": "white"
             }
            },
            "type": "table"
           }
          ]
         },
         "layout": {
          "annotationdefaults": {
           "arrowcolor": "#2a3f5f",
           "arrowhead": 0,
           "arrowwidth": 1
          },
          "autotypenumbers": "strict",
          "coloraxis": {
           "colorbar": {
            "outlinewidth": 0,
            "ticks": ""
           }
          },
          "colorscale": {
           "diverging": [
            [
             0,
             "#8e0152"
            ],
            [
             0.1,
             "#c51b7d"
            ],
            [
             0.2,
             "#de77ae"
            ],
            [
             0.3,
             "#f1b6da"
            ],
            [
             0.4,
             "#fde0ef"
            ],
            [
             0.5,
             "#f7f7f7"
            ],
            [
             0.6,
             "#e6f5d0"
            ],
            [
             0.7,
             "#b8e186"
            ],
            [
             0.8,
             "#7fbc41"
            ],
            [
             0.9,
             "#4d9221"
            ],
            [
             1,
             "#276419"
            ]
           ],
           "sequential": [
            [
             0,
             "#0d0887"
            ],
            [
             0.1111111111111111,
             "#46039f"
            ],
            [
             0.2222222222222222,
             "#7201a8"
            ],
            [
             0.3333333333333333,
             "#9c179e"
            ],
            [
             0.4444444444444444,
             "#bd3786"
            ],
            [
             0.5555555555555556,
             "#d8576b"
            ],
            [
             0.6666666666666666,
             "#ed7953"
            ],
            [
             0.7777777777777778,
             "#fb9f3a"
            ],
            [
             0.8888888888888888,
             "#fdca26"
            ],
            [
             1,
             "#f0f921"
            ]
           ],
           "sequentialminus": [
            [
             0,
             "#0d0887"
            ],
            [
             0.1111111111111111,
             "#46039f"
            ],
            [
             0.2222222222222222,
             "#7201a8"
            ],
            [
             0.3333333333333333,
             "#9c179e"
            ],
            [
             0.4444444444444444,
             "#bd3786"
            ],
            [
             0.5555555555555556,
             "#d8576b"
            ],
            [
             0.6666666666666666,
             "#ed7953"
            ],
            [
             0.7777777777777778,
             "#fb9f3a"
            ],
            [
             0.8888888888888888,
             "#fdca26"
            ],
            [
             1,
             "#f0f921"
            ]
           ]
          },
          "colorway": [
           "#636efa",
           "#EF553B",
           "#00cc96",
           "#ab63fa",
           "#FFA15A",
           "#19d3f3",
           "#FF6692",
           "#B6E880",
           "#FF97FF",
           "#FECB52"
          ],
          "font": {
           "color": "#2a3f5f"
          },
          "geo": {
           "bgcolor": "white",
           "lakecolor": "white",
           "landcolor": "white",
           "showlakes": true,
           "showland": true,
           "subunitcolor": "#C8D4E3"
          },
          "hoverlabel": {
           "align": "left"
          },
          "hovermode": "closest",
          "mapbox": {
           "style": "light"
          },
          "paper_bgcolor": "white",
          "plot_bgcolor": "white",
          "polar": {
           "angularaxis": {
            "gridcolor": "#EBF0F8",
            "linecolor": "#EBF0F8",
            "ticks": ""
           },
           "bgcolor": "white",
           "radialaxis": {
            "gridcolor": "#EBF0F8",
            "linecolor": "#EBF0F8",
            "ticks": ""
           }
          },
          "scene": {
           "xaxis": {
            "backgroundcolor": "white",
            "gridcolor": "#DFE8F3",
            "gridwidth": 2,
            "linecolor": "#EBF0F8",
            "showbackground": true,
            "ticks": "",
            "zerolinecolor": "#EBF0F8"
           },
           "yaxis": {
            "backgroundcolor": "white",
            "gridcolor": "#DFE8F3",
            "gridwidth": 2,
            "linecolor": "#EBF0F8",
            "showbackground": true,
            "ticks": "",
            "zerolinecolor": "#EBF0F8"
           },
           "zaxis": {
            "backgroundcolor": "white",
            "gridcolor": "#DFE8F3",
            "gridwidth": 2,
            "linecolor": "#EBF0F8",
            "showbackground": true,
            "ticks": "",
            "zerolinecolor": "#EBF0F8"
           }
          },
          "shapedefaults": {
           "line": {
            "color": "#2a3f5f"
           }
          },
          "ternary": {
           "aaxis": {
            "gridcolor": "#DFE8F3",
            "linecolor": "#A2B1C6",
            "ticks": ""
           },
           "baxis": {
            "gridcolor": "#DFE8F3",
            "linecolor": "#A2B1C6",
            "ticks": ""
           },
           "bgcolor": "white",
           "caxis": {
            "gridcolor": "#DFE8F3",
            "linecolor": "#A2B1C6",
            "ticks": ""
           }
          },
          "title": {
           "x": 0.05
          },
          "xaxis": {
           "automargin": true,
           "gridcolor": "#EBF0F8",
           "linecolor": "#EBF0F8",
           "ticks": "",
           "title": {
            "standoff": 15
           },
           "zerolinecolor": "#EBF0F8",
           "zerolinewidth": 2
          },
          "yaxis": {
           "automargin": true,
           "gridcolor": "#EBF0F8",
           "linecolor": "#EBF0F8",
           "ticks": "",
           "title": {
            "standoff": 15
           },
           "zerolinecolor": "#EBF0F8",
           "zerolinewidth": 2
          }
         }
        },
        "xaxis": {
         "anchor": "y",
         "domain": [
          0,
          0.94
         ],
         "matches": "x4",
         "rangeslider": {
          "visible": false
         },
         "showticklabels": false,
         "spikedash": "dot",
         "spikemode": "across+marker",
         "spikesnap": "cursor",
         "spikethickness": 2
        },
        "xaxis2": {
         "anchor": "y3",
         "domain": [
          0,
          0.94
         ],
         "matches": "x4",
         "showticklabels": false,
         "spikedash": "dot",
         "spikemode": "across+marker",
         "spikesnap": "cursor",
         "spikethickness": 2
        },
        "xaxis3": {
         "anchor": "y4",
         "domain": [
          0,
          0.94
         ],
         "matches": "x4",
         "showticklabels": false,
         "spikedash": "dot",
         "spikemode": "across+marker",
         "spikesnap": "cursor",
         "spikethickness": 2
        },
        "xaxis4": {
         "anchor": "y5",
         "domain": [
          0,
          0.94
         ],
         "spikedash": "dot",
         "spikemode": "across+marker",
         "spikesnap": "cursor",
         "spikethickness": 2
        },
        "yaxis": {
         "anchor": "x",
         "domain": [
          0.30000000000000004,
          1
         ]
        },
        "yaxis2": {
         "anchor": "x",
         "overlaying": "y",
         "showgrid": false,
         "side": "right"
        },
        "yaxis3": {
         "anchor": "x2",
         "domain": [
          0.20000000000000004,
          0.30000000000000004
         ]
        },
        "yaxis4": {
         "anchor": "x3",
         "domain": [
          0.10000000000000002,
          0.20000000000000004
         ]
        },
        "yaxis5": {
         "anchor": "x4",
         "domain": [
          0,
          0.10000000000000002
         ]
        }
       },
       "_py2js_animate": {},
       "_py2js_deleteTraces": {},
       "_py2js_moveTraces": {},
       "_py2js_relayout": {},
       "_py2js_removeLayoutProps": {},
       "_py2js_removeTraceProps": {},
       "_py2js_restyle": {},
       "_view_count": 1
      }
     }
    },
    "version_major": 2,
    "version_minor": 0
   }
  }
 },
 "nbformat": 4,
 "nbformat_minor": 5
}
