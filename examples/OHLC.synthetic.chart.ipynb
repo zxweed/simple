{
 "cells": [
  {
   "cell_type": "code",
   "execution_count": null,
   "id": "0",
   "metadata": {
    "tags": []
   },
   "outputs": [],
   "source": [
    "import numpy as np\n",
    "import pandas as pd\n",
    "from simple.chart import chartFigure\n",
    "from simple.types import TOHLC\n",
    "from datetime import date\n",
    "from talib import ADX\n",
    "from simple.jurik import JCFB\n",
    "from simple.hurst import HurstDSOD\n",
    "from simple.funcs import varIndex"
   ]
  },
  {
   "cell_type": "code",
   "execution_count": null,
   "id": "1",
   "metadata": {
    "tags": []
   },
   "outputs": [],
   "source": [
    "period = 1024"
   ]
  },
  {
   "cell_type": "code",
   "execution_count": null,
   "id": "2",
   "metadata": {
    "tags": []
   },
   "outputs": [],
   "source": [
    "A = (np.random.rand(period*4)-0.05).cumsum()\n",
    "B = np.random.rand(period*8) + A[-1]\n",
    "T = np.hstack((A, B))/100\n",
    "len(T)"
   ]
  },
  {
   "cell_type": "code",
   "execution_count": null,
   "id": "3",
   "metadata": {
    "tags": []
   },
   "outputs": [],
   "source": [
    "C = pd.DataFrame(T, index=pd.date_range(date.today(), freq='1min', periods=len(T))).resample('15min').ohlc()[0].reset_index()\n",
    "del C['index']\n",
    "C"
   ]
  },
  {
   "cell_type": "code",
   "execution_count": null,
   "id": "4",
   "metadata": {
    "tags": []
   },
   "outputs": [],
   "source": [
    "c = np.zeros(len(C), dtype=TOHLC).view(np.recarray)\n",
    "c.DateTime = C.index\n",
    "c.Open = C.open\n",
    "c.High = C.high\n",
    "c.Low = C.low\n",
    "c.Close = C.close\n",
    "c[-5:]"
   ]
  },
  {
   "cell_type": "code",
   "execution_count": null,
   "id": "5",
   "metadata": {
    "tags": []
   },
   "outputs": [],
   "source": [
    "chartFigure(rows=5,\n",
    "    OHLC=dict(mode='candlestick', x=C.index, open=C.open, high=C.high, low=C.low, close=C.close),\n",
    "    ADX=dict(x=C.index, y=ADX(C.high, C.low, C.close, 7), row=2),\n",
    "    CFB=dict(x=C.index, y=JCFB(C.close.values, 5, 3), row=3),\n",
    "    HurstDSOD=dict(x=C.index, y=HurstDSOD(C.close.values, 64), row=4),\n",
    "    varIndex=dict(x=C.index, y=varIndex(c, 6), row=5)\n",
    ")"
   ]
  },
  {
   "cell_type": "code",
   "execution_count": null,
   "id": "6",
   "metadata": {},
   "outputs": [],
   "source": []
  }
 ],
 "metadata": {
  "kernelspec": {
   "display_name": "Python 3 (ipykernel)",
   "language": "python",
   "name": "python3"
  },
  "language_info": {
   "codemirror_mode": {
    "name": "ipython",
    "version": 3
   },
   "file_extension": ".py",
   "mimetype": "text/x-python",
   "name": "python",
   "nbconvert_exporter": "python",
   "pygments_lexer": "ipython3",
   "version": "3.12.8"
  }
 },
 "nbformat": 4,
 "nbformat_minor": 5
}
